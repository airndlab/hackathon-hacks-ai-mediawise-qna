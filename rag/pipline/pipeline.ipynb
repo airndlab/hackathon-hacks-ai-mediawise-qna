{
  "cells": [
    {
      "cell_type": "markdown",
      "metadata": {
        "id": "SJq5s2UuhhkW"
      },
      "source": [
        "## Установим необходимые зависимости\n",
        "Перед этим, для дальнейшего удобства переноса, удалим начальные зависимости Google Colab'а\n",
        "\n",
        "А нужные зависимости сохраним, чтобы можно было удобно использовать их на ВМ"
      ]
    },
    {
      "cell_type": "code",
      "source": [
        "import subprocess\n",
        "import os\n",
        "from google.colab import drive\n",
        "from tqdm import tqdm\n",
        "\n",
        "# Подключаем Google Drive\n",
        "drive.mount('/content/drive')\n",
        "\n",
        "not_to_delete_packages = [\"ipython\", \"ipykernel\", \"tornado\", \"prompt-toolkit\", \"pyzmq\", \"tqdm\", \"IPython\", \"pillow\", \"certifi\", \"dateutil\", \"decorator\", \"google\", \"matplotlib_inline\" ,\"pexpect\", \"psutil\", \"wcwidth\", \"pdf2image\"]\n",
        "\n",
        "# Указываем путь для дублирования requirements.txt в Google Drive\n",
        "backup_path = '/content/drive/MyDrive/HacksAI/СЗФО24/requirements.txt'  # Измените путь по необходимости\n",
        "\n",
        "# Проверяем, существует ли requirements.txt\n",
        "if not os.path.exists('requirements.txt'):\n",
        "    # Сохраняем текущие зависимости в old_requirements.txt\n",
        "    !pip freeze > old_requirements.txt\n",
        "\n",
        "    # Считываем old_requirements.txt\n",
        "    with open('old_requirements.txt') as f:\n",
        "        packages = f.read().splitlines()\n",
        "\n",
        "    # Пытаемся удалить каждый пакет по очереди\n",
        "    for package in tqdm(packages):\n",
        "        # Если хотя бы одно имя из списка not_to_delete_packages входит в package, пропускаем этот пакет\n",
        "        if any(n_package in package for n_package in not_to_delete_packages):\n",
        "            continue\n",
        "        try:\n",
        "            if \"google\" in package:\n",
        "              print(\"Скрипт не работает\")\n",
        "\n",
        "            subprocess.run(['pip', 'uninstall', '-y', package], check=True)\n",
        "        except subprocess.CalledProcessError:\n",
        "            print(f\"Не удалось удалить {package}. Пропускаем...\")\n",
        "\n",
        "\n",
        "# Устанавливаем необходимые пакеты\n",
        "!pip install markdown-it-py mdit_plain pypdf openpyxl python-docx python-pptx haystack-ai ragas-haystack vllm chroma-haystack boto3 PyPDF2\n",
        "!pip install \"datasets>=2.6.1\" \"sentence-transformers>=3.0.0\"\n",
        "\n",
        "# Сохраняем текущие зависимости в requirements.txt\n",
        "!pip freeze > requirements.txt\n",
        "\n",
        "#Дублируем файл requirements.txt в Google Drive\n",
        "!cp requirements.txt {backup_path}\n",
        "\n",
        "print(f\"Файл requirements.txt успешно сохранен и скопирован в Google Drive по пути: {backup_path}\")"
      ],
      "metadata": {
        "id": "i97TdzZ_Mo5Z",
        "collapsed": true,
        "colab": {
          "base_uri": "https://localhost:8080/"
        },
        "outputId": "a2dd7776-d19d-4528-e0d2-8246fdd12f1e"
      },
      "execution_count": null,
      "outputs": [
        {
          "output_type": "stream",
          "name": "stdout",
          "text": [
            "Mounted at /content/drive\n"
          ]
        },
        {
          "output_type": "stream",
          "name": "stderr",
          "text": [
            "  6%|▌         | 30/538 [00:19<05:12,  1.63it/s]"
          ]
        },
        {
          "output_type": "stream",
          "name": "stdout",
          "text": [
            "Не удалось удалить blinker==1.4. Пропускаем...\n"
          ]
        },
        {
          "output_type": "stream",
          "name": "stderr",
          "text": [
            "100%|██████████| 538/538 [07:04<00:00,  1.27it/s]\n"
          ]
        },
        {
          "output_type": "stream",
          "name": "stdout",
          "text": [
            "Collecting markdown-it-py\n",
            "  Downloading markdown_it_py-3.0.0-py3-none-any.whl.metadata (6.9 kB)\n",
            "Collecting mdit_plain\n",
            "  Downloading mdit_plain-1.0.1-py3-none-any.whl.metadata (1.2 kB)\n",
            "Collecting pypdf\n",
            "  Downloading pypdf-5.1.0-py3-none-any.whl.metadata (7.2 kB)\n",
            "Collecting openpyxl\n",
            "  Downloading openpyxl-3.1.5-py2.py3-none-any.whl.metadata (2.5 kB)\n",
            "Collecting python-docx\n",
            "  Downloading python_docx-1.1.2-py3-none-any.whl.metadata (2.0 kB)\n",
            "Collecting python-pptx\n",
            "  Downloading python_pptx-1.0.2-py3-none-any.whl.metadata (2.5 kB)\n",
            "Collecting haystack-ai\n",
            "  Downloading haystack_ai-2.6.1-py3-none-any.whl.metadata (13 kB)\n",
            "Collecting ragas-haystack\n",
            "  Downloading ragas_haystack-1.0.1-py3-none-any.whl.metadata (2.1 kB)\n",
            "Collecting vllm\n",
            "  Downloading vllm-0.6.3.post1-cp38-abi3-manylinux1_x86_64.whl.metadata (10 kB)\n",
            "Collecting chroma-haystack\n",
            "  Downloading chroma_haystack-1.0.0-py3-none-any.whl.metadata (2.2 kB)\n",
            "Collecting boto3\n",
            "  Downloading boto3-1.35.57-py3-none-any.whl.metadata (6.7 kB)\n",
            "Collecting PyPDF2\n",
            "  Downloading pypdf2-3.0.1-py3-none-any.whl.metadata (6.8 kB)\n",
            "Collecting mdurl~=0.1 (from markdown-it-py)\n",
            "  Downloading mdurl-0.1.2-py3-none-any.whl.metadata (1.6 kB)\n",
            "Collecting typing_extensions>=4.0 (from pypdf)\n",
            "  Downloading typing_extensions-4.12.2-py3-none-any.whl.metadata (3.0 kB)\n",
            "Collecting et-xmlfile (from openpyxl)\n",
            "  Downloading et_xmlfile-2.0.0-py3-none-any.whl.metadata (2.7 kB)\n",
            "Collecting lxml>=3.1.0 (from python-docx)\n",
            "  Downloading lxml-5.3.0-cp310-cp310-manylinux_2_28_x86_64.whl.metadata (3.8 kB)\n",
            "Requirement already satisfied: Pillow>=3.3.2 in /usr/local/lib/python3.10/dist-packages (from python-pptx) (10.4.0)\n",
            "Collecting XlsxWriter>=0.5.7 (from python-pptx)\n",
            "  Downloading XlsxWriter-3.2.0-py3-none-any.whl.metadata (2.6 kB)\n",
            "Collecting haystack-experimental (from haystack-ai)\n",
            "  Downloading haystack_experimental-0.3.0-py3-none-any.whl.metadata (11 kB)\n",
            "Collecting jinja2 (from haystack-ai)\n",
            "  Downloading jinja2-3.1.4-py3-none-any.whl.metadata (2.6 kB)\n",
            "Collecting lazy-imports (from haystack-ai)\n",
            "  Downloading lazy_imports-0.3.1-py3-none-any.whl.metadata (10 kB)\n",
            "Requirement already satisfied: more-itertools in /usr/lib/python3/dist-packages (from haystack-ai) (8.10.0)\n",
            "Collecting networkx (from haystack-ai)\n",
            "  Downloading networkx-3.4.2-py3-none-any.whl.metadata (6.3 kB)\n",
            "Collecting numpy<2 (from haystack-ai)\n",
            "  Downloading numpy-1.26.4-cp310-cp310-manylinux_2_17_x86_64.manylinux2014_x86_64.whl.metadata (61 kB)\n",
            "\u001b[2K     \u001b[90m━━━━━━━━━━━━━━━━━━━━━━━━━━━━━━━━━━━━━━━━\u001b[0m \u001b[32m61.0/61.0 kB\u001b[0m \u001b[31m3.2 MB/s\u001b[0m eta \u001b[36m0:00:00\u001b[0m\n",
            "\u001b[?25hCollecting openai>=1.1.0 (from haystack-ai)\n",
            "  Downloading openai-1.54.3-py3-none-any.whl.metadata (24 kB)\n",
            "Collecting pandas (from haystack-ai)\n",
            "  Downloading pandas-2.2.3-cp310-cp310-manylinux_2_17_x86_64.manylinux2014_x86_64.whl.metadata (89 kB)\n",
            "\u001b[2K     \u001b[90m━━━━━━━━━━━━━━━━━━━━━━━━━━━━━━━━━━━━━━━━\u001b[0m \u001b[32m89.9/89.9 kB\u001b[0m \u001b[31m7.1 MB/s\u001b[0m eta \u001b[36m0:00:00\u001b[0m\n",
            "\u001b[?25hCollecting posthog (from haystack-ai)\n",
            "  Downloading posthog-3.7.0-py2.py3-none-any.whl.metadata (2.0 kB)\n",
            "Requirement already satisfied: python-dateutil in /usr/local/lib/python3.10/dist-packages (from haystack-ai) (2.8.2)\n",
            "Collecting pyyaml (from haystack-ai)\n",
            "  Downloading PyYAML-6.0.2-cp310-cp310-manylinux_2_17_x86_64.manylinux2014_x86_64.whl.metadata (2.1 kB)\n",
            "Collecting requests (from haystack-ai)\n",
            "  Downloading requests-2.32.3-py3-none-any.whl.metadata (4.6 kB)\n",
            "Collecting tenacity!=8.4.0 (from haystack-ai)\n",
            "  Downloading tenacity-9.0.0-py3-none-any.whl.metadata (1.2 kB)\n",
            "Requirement already satisfied: tqdm in /usr/local/lib/python3.10/dist-packages (from haystack-ai) (4.66.6)\n",
            "Collecting ragas<=0.1.16,>=0.1.11 (from ragas-haystack)\n",
            "  Downloading ragas-0.1.16-py3-none-any.whl.metadata (5.3 kB)\n",
            "Requirement already satisfied: psutil in /usr/local/lib/python3.10/dist-packages (from vllm) (5.9.5)\n",
            "Collecting sentencepiece (from vllm)\n",
            "  Downloading sentencepiece-0.2.0-cp310-cp310-manylinux_2_17_x86_64.manylinux2014_x86_64.whl.metadata (7.7 kB)\n",
            "Collecting py-cpuinfo (from vllm)\n",
            "  Downloading py_cpuinfo-9.0.0-py3-none-any.whl.metadata (794 bytes)\n",
            "Collecting transformers>=4.45.2 (from vllm)\n",
            "  Downloading transformers-4.46.2-py3-none-any.whl.metadata (44 kB)\n",
            "\u001b[2K     \u001b[90m━━━━━━━━━━━━━━━━━━━━━━━━━━━━━━━━━━━━━━━━\u001b[0m \u001b[32m44.1/44.1 kB\u001b[0m \u001b[31m4.1 MB/s\u001b[0m eta \u001b[36m0:00:00\u001b[0m\n",
            "\u001b[?25hCollecting tokenizers>=0.19.1 (from vllm)\n",
            "  Downloading tokenizers-0.20.3-cp310-cp310-manylinux_2_17_x86_64.manylinux2014_x86_64.whl.metadata (6.7 kB)\n",
            "Collecting protobuf (from vllm)\n",
            "  Downloading protobuf-5.28.3-cp38-abi3-manylinux2014_x86_64.whl.metadata (592 bytes)\n",
            "Collecting aiohttp (from vllm)\n",
            "  Downloading aiohttp-3.10.10-cp310-cp310-manylinux_2_17_x86_64.manylinux2014_x86_64.whl.metadata (7.6 kB)\n",
            "Collecting uvicorn[standard] (from vllm)\n",
            "  Downloading uvicorn-0.32.0-py3-none-any.whl.metadata (6.6 kB)\n",
            "Collecting pydantic>=2.9 (from vllm)\n",
            "  Downloading pydantic-2.9.2-py3-none-any.whl.metadata (149 kB)\n",
            "\u001b[2K     \u001b[90m━━━━━━━━━━━━━━━━━━━━━━━━━━━━━━━━━━━━━━━━\u001b[0m \u001b[32m149.4/149.4 kB\u001b[0m \u001b[31m15.4 MB/s\u001b[0m eta \u001b[36m0:00:00\u001b[0m\n",
            "\u001b[?25hCollecting prometheus-client>=0.18.0 (from vllm)\n",
            "  Downloading prometheus_client-0.21.0-py3-none-any.whl.metadata (1.8 kB)\n",
            "Collecting prometheus-fastapi-instrumentator>=7.0.0 (from vllm)\n",
            "  Downloading prometheus_fastapi_instrumentator-7.0.0-py3-none-any.whl.metadata (13 kB)\n",
            "Collecting tiktoken>=0.6.0 (from vllm)\n",
            "  Downloading tiktoken-0.8.0-cp310-cp310-manylinux_2_17_x86_64.manylinux2014_x86_64.whl.metadata (6.6 kB)\n",
            "Collecting lm-format-enforcer==0.10.6 (from vllm)\n",
            "  Downloading lm_format_enforcer-0.10.6-py3-none-any.whl.metadata (16 kB)\n",
            "Collecting outlines<0.1,>=0.0.43 (from vllm)\n",
            "  Downloading outlines-0.0.46-py3-none-any.whl.metadata (15 kB)\n",
            "Collecting filelock>=3.10.4 (from vllm)\n",
            "  Downloading filelock-3.16.1-py3-none-any.whl.metadata (2.9 kB)\n",
            "Collecting partial-json-parser (from vllm)\n",
            "  Downloading partial_json_parser-0.2.1.1.post4-py3-none-any.whl.metadata (6.2 kB)\n",
            "Requirement already satisfied: pyzmq in /usr/local/lib/python3.10/dist-packages (from vllm) (24.0.1)\n",
            "Collecting msgspec (from vllm)\n",
            "  Downloading msgspec-0.18.6-cp310-cp310-manylinux_2_17_x86_64.manylinux2014_x86_64.whl.metadata (6.9 kB)\n",
            "Collecting gguf==0.10.0 (from vllm)\n",
            "  Downloading gguf-0.10.0-py3-none-any.whl.metadata (3.5 kB)\n",
            "Requirement already satisfied: importlib-metadata in /usr/lib/python3/dist-packages (from vllm) (4.6.4)\n",
            "Collecting mistral-common>=1.4.4 (from mistral-common[opencv]>=1.4.4->vllm)\n",
            "  Downloading mistral_common-1.4.4-py3-none-any.whl.metadata (4.6 kB)\n",
            "Collecting einops (from vllm)\n",
            "  Downloading einops-0.8.0-py3-none-any.whl.metadata (12 kB)\n",
            "Collecting compressed-tensors==0.6.0 (from vllm)\n",
            "  Downloading compressed_tensors-0.6.0-py3-none-any.whl.metadata (6.8 kB)\n",
            "Collecting ray>=2.9 (from vllm)\n",
            "  Downloading ray-2.38.0-cp310-cp310-manylinux2014_x86_64.whl.metadata (17 kB)\n",
            "Collecting nvidia-ml-py (from vllm)\n",
            "  Downloading nvidia_ml_py-12.560.30-py3-none-any.whl.metadata (8.6 kB)\n",
            "Collecting torch==2.4.0 (from vllm)\n",
            "  Downloading torch-2.4.0-cp310-cp310-manylinux1_x86_64.whl.metadata (26 kB)\n",
            "Collecting torchvision==0.19 (from vllm)\n",
            "  Downloading torchvision-0.19.0-cp310-cp310-manylinux1_x86_64.whl.metadata (6.0 kB)\n",
            "Collecting xformers==0.0.27.post2 (from vllm)\n",
            "  Downloading xformers-0.0.27.post2-cp310-cp310-manylinux2014_x86_64.whl.metadata (1.0 kB)\n",
            "Collecting fastapi!=0.113.*,!=0.114.0,>=0.107.0 (from vllm)\n",
            "  Downloading fastapi-0.115.4-py3-none-any.whl.metadata (27 kB)\n",
            "Collecting interegular>=0.3.2 (from lm-format-enforcer==0.10.6->vllm)\n",
            "  Downloading interegular-0.3.3-py37-none-any.whl.metadata (3.0 kB)\n",
            "Collecting packaging (from lm-format-enforcer==0.10.6->vllm)\n",
            "  Downloading packaging-24.2-py3-none-any.whl.metadata (3.2 kB)\n",
            "Collecting sympy (from torch==2.4.0->vllm)\n",
            "  Downloading sympy-1.13.3-py3-none-any.whl.metadata (12 kB)\n",
            "Collecting fsspec (from torch==2.4.0->vllm)\n",
            "  Downloading fsspec-2024.10.0-py3-none-any.whl.metadata (11 kB)\n",
            "Collecting nvidia-cuda-nvrtc-cu12==12.1.105 (from torch==2.4.0->vllm)\n",
            "  Downloading nvidia_cuda_nvrtc_cu12-12.1.105-py3-none-manylinux1_x86_64.whl.metadata (1.5 kB)\n",
            "Collecting nvidia-cuda-runtime-cu12==12.1.105 (from torch==2.4.0->vllm)\n",
            "  Downloading nvidia_cuda_runtime_cu12-12.1.105-py3-none-manylinux1_x86_64.whl.metadata (1.5 kB)\n",
            "Collecting nvidia-cuda-cupti-cu12==12.1.105 (from torch==2.4.0->vllm)\n",
            "  Downloading nvidia_cuda_cupti_cu12-12.1.105-py3-none-manylinux1_x86_64.whl.metadata (1.6 kB)\n",
            "Collecting nvidia-cudnn-cu12==9.1.0.70 (from torch==2.4.0->vllm)\n",
            "  Downloading nvidia_cudnn_cu12-9.1.0.70-py3-none-manylinux2014_x86_64.whl.metadata (1.6 kB)\n",
            "Collecting nvidia-cublas-cu12==12.1.3.1 (from torch==2.4.0->vllm)\n",
            "  Downloading nvidia_cublas_cu12-12.1.3.1-py3-none-manylinux1_x86_64.whl.metadata (1.5 kB)\n",
            "Collecting nvidia-cufft-cu12==11.0.2.54 (from torch==2.4.0->vllm)\n",
            "  Downloading nvidia_cufft_cu12-11.0.2.54-py3-none-manylinux1_x86_64.whl.metadata (1.5 kB)\n",
            "Collecting nvidia-curand-cu12==10.3.2.106 (from torch==2.4.0->vllm)\n",
            "  Downloading nvidia_curand_cu12-10.3.2.106-py3-none-manylinux1_x86_64.whl.metadata (1.5 kB)\n",
            "Collecting nvidia-cusolver-cu12==11.4.5.107 (from torch==2.4.0->vllm)\n",
            "  Downloading nvidia_cusolver_cu12-11.4.5.107-py3-none-manylinux1_x86_64.whl.metadata (1.6 kB)\n",
            "Collecting nvidia-cusparse-cu12==12.1.0.106 (from torch==2.4.0->vllm)\n",
            "  Downloading nvidia_cusparse_cu12-12.1.0.106-py3-none-manylinux1_x86_64.whl.metadata (1.6 kB)\n",
            "Collecting nvidia-nccl-cu12==2.20.5 (from torch==2.4.0->vllm)\n",
            "  Downloading nvidia_nccl_cu12-2.20.5-py3-none-manylinux2014_x86_64.whl.metadata (1.8 kB)\n",
            "Collecting nvidia-nvtx-cu12==12.1.105 (from torch==2.4.0->vllm)\n",
            "  Downloading nvidia_nvtx_cu12-12.1.105-py3-none-manylinux1_x86_64.whl.metadata (1.7 kB)\n",
            "Collecting triton==3.0.0 (from torch==2.4.0->vllm)\n",
            "  Downloading triton-3.0.0-1-cp310-cp310-manylinux2014_x86_64.manylinux_2_17_x86_64.whl.metadata (1.3 kB)\n",
            "Collecting nvidia-nvjitlink-cu12 (from nvidia-cusolver-cu12==11.4.5.107->torch==2.4.0->vllm)\n",
            "  Downloading nvidia_nvjitlink_cu12-12.6.77-py3-none-manylinux2014_x86_64.whl.metadata (1.5 kB)\n",
            "Collecting chromadb>=0.5.17 (from chroma-haystack)\n",
            "  Downloading chromadb-0.5.18-py3-none-any.whl.metadata (6.8 kB)\n",
            "Collecting botocore<1.36.0,>=1.35.57 (from boto3)\n",
            "  Downloading botocore-1.35.57-py3-none-any.whl.metadata (5.7 kB)\n",
            "Collecting jmespath<2.0.0,>=0.7.1 (from boto3)\n",
            "  Downloading jmespath-1.0.1-py3-none-any.whl.metadata (7.6 kB)\n",
            "Collecting s3transfer<0.11.0,>=0.10.0 (from boto3)\n",
            "  Downloading s3transfer-0.10.3-py3-none-any.whl.metadata (1.7 kB)\n",
            "Collecting urllib3!=2.2.0,<3,>=1.25.4 (from botocore<1.36.0,>=1.35.57->boto3)\n",
            "  Downloading urllib3-2.2.3-py3-none-any.whl.metadata (6.5 kB)\n",
            "Collecting build>=1.0.3 (from chromadb>=0.5.17->chroma-haystack)\n",
            "  Downloading build-1.2.2.post1-py3-none-any.whl.metadata (6.5 kB)\n",
            "Collecting chroma-hnswlib==0.7.6 (from chromadb>=0.5.17->chroma-haystack)\n",
            "  Downloading chroma_hnswlib-0.7.6-cp310-cp310-manylinux_2_17_x86_64.manylinux2014_x86_64.whl.metadata (252 bytes)\n",
            "Collecting onnxruntime>=1.14.1 (from chromadb>=0.5.17->chroma-haystack)\n",
            "  Downloading onnxruntime-1.20.0-cp310-cp310-manylinux_2_27_x86_64.manylinux_2_28_x86_64.whl.metadata (4.4 kB)\n",
            "Collecting opentelemetry-api>=1.2.0 (from chromadb>=0.5.17->chroma-haystack)\n",
            "  Downloading opentelemetry_api-1.28.1-py3-none-any.whl.metadata (1.4 kB)\n",
            "Collecting opentelemetry-exporter-otlp-proto-grpc>=1.2.0 (from chromadb>=0.5.17->chroma-haystack)\n",
            "  Downloading opentelemetry_exporter_otlp_proto_grpc-1.28.1-py3-none-any.whl.metadata (2.3 kB)\n",
            "Collecting opentelemetry-instrumentation-fastapi>=0.41b0 (from chromadb>=0.5.17->chroma-haystack)\n",
            "  Downloading opentelemetry_instrumentation_fastapi-0.49b1-py3-none-any.whl.metadata (2.1 kB)\n",
            "Collecting opentelemetry-sdk>=1.2.0 (from chromadb>=0.5.17->chroma-haystack)\n",
            "  Downloading opentelemetry_sdk-1.28.1-py3-none-any.whl.metadata (1.5 kB)\n",
            "Collecting pypika>=0.48.9 (from chromadb>=0.5.17->chroma-haystack)\n",
            "  Downloading PyPika-0.48.9.tar.gz (67 kB)\n",
            "\u001b[2K     \u001b[90m━━━━━━━━━━━━━━━━━━━━━━━━━━━━━━━━━━━━━━━━\u001b[0m \u001b[32m67.3/67.3 kB\u001b[0m \u001b[31m6.6 MB/s\u001b[0m eta \u001b[36m0:00:00\u001b[0m\n",
            "\u001b[?25h  Installing build dependencies ... \u001b[?25l\u001b[?25hdone\n",
            "  Getting requirements to build wheel ... \u001b[?25l\u001b[?25hdone\n",
            "  Preparing metadata (pyproject.toml) ... \u001b[?25l\u001b[?25hdone\n",
            "Collecting overrides>=7.3.1 (from chromadb>=0.5.17->chroma-haystack)\n",
            "  Downloading overrides-7.7.0-py3-none-any.whl.metadata (5.8 kB)\n",
            "Collecting importlib-resources (from chromadb>=0.5.17->chroma-haystack)\n",
            "  Downloading importlib_resources-6.4.5-py3-none-any.whl.metadata (4.0 kB)\n",
            "Collecting grpcio>=1.58.0 (from chromadb>=0.5.17->chroma-haystack)\n",
            "  Downloading grpcio-1.67.1-cp310-cp310-manylinux_2_17_x86_64.manylinux2014_x86_64.whl.metadata (3.9 kB)\n",
            "Collecting bcrypt>=4.0.1 (from chromadb>=0.5.17->chroma-haystack)\n",
            "  Downloading bcrypt-4.2.0-cp39-abi3-manylinux_2_28_x86_64.whl.metadata (9.6 kB)\n",
            "Collecting typer>=0.9.0 (from chromadb>=0.5.17->chroma-haystack)\n",
            "  Downloading typer-0.13.0-py3-none-any.whl.metadata (15 kB)\n",
            "Collecting kubernetes>=28.1.0 (from chromadb>=0.5.17->chroma-haystack)\n",
            "  Downloading kubernetes-31.0.0-py2.py3-none-any.whl.metadata (1.5 kB)\n",
            "Collecting mmh3>=4.0.1 (from chromadb>=0.5.17->chroma-haystack)\n",
            "  Downloading mmh3-5.0.1-cp310-cp310-manylinux_2_5_x86_64.manylinux1_x86_64.manylinux_2_17_x86_64.manylinux2014_x86_64.whl.metadata (14 kB)\n",
            "Collecting orjson>=3.9.12 (from chromadb>=0.5.17->chroma-haystack)\n",
            "  Downloading orjson-3.10.11-cp310-cp310-manylinux_2_17_x86_64.manylinux2014_x86_64.whl.metadata (50 kB)\n",
            "\u001b[2K     \u001b[90m━━━━━━━━━━━━━━━━━━━━━━━━━━━━━━━━━━━━━━━━\u001b[0m \u001b[32m50.8/50.8 kB\u001b[0m \u001b[31m3.7 MB/s\u001b[0m eta \u001b[36m0:00:00\u001b[0m\n",
            "\u001b[?25hCollecting httpx>=0.27.0 (from chromadb>=0.5.17->chroma-haystack)\n",
            "  Downloading httpx-0.27.2-py3-none-any.whl.metadata (7.1 kB)\n",
            "Collecting rich>=10.11.0 (from chromadb>=0.5.17->chroma-haystack)\n",
            "  Downloading rich-13.9.4-py3-none-any.whl.metadata (18 kB)\n",
            "Collecting starlette<0.42.0,>=0.40.0 (from fastapi!=0.113.*,!=0.114.0,>=0.107.0->vllm)\n",
            "  Downloading starlette-0.41.2-py3-none-any.whl.metadata (6.0 kB)\n",
            "Collecting jsonschema<5.0.0,>=4.21.1 (from mistral-common>=1.4.4->mistral-common[opencv]>=1.4.4->vllm)\n",
            "  Downloading jsonschema-4.23.0-py3-none-any.whl.metadata (7.9 kB)\n",
            "Collecting tiktoken>=0.6.0 (from vllm)\n",
            "  Downloading tiktoken-0.7.0-cp310-cp310-manylinux_2_17_x86_64.manylinux2014_x86_64.whl.metadata (6.6 kB)\n",
            "Collecting opencv-python-headless<5.0.0,>=4.0.0 (from mistral-common[opencv]>=1.4.4->vllm)\n",
            "  Downloading opencv_python_headless-4.10.0.84-cp37-abi3-manylinux_2_17_x86_64.manylinux2014_x86_64.whl.metadata (20 kB)\n",
            "Collecting anyio<5,>=3.5.0 (from openai>=1.1.0->haystack-ai)\n",
            "  Downloading anyio-4.6.2.post1-py3-none-any.whl.metadata (4.7 kB)\n",
            "Requirement already satisfied: distro<2,>=1.7.0 in /usr/lib/python3/dist-packages (from openai>=1.1.0->haystack-ai) (1.7.0)\n",
            "Collecting jiter<1,>=0.4.0 (from openai>=1.1.0->haystack-ai)\n",
            "  Downloading jiter-0.7.0-cp310-cp310-manylinux_2_17_x86_64.manylinux2014_x86_64.whl.metadata (5.2 kB)\n",
            "Collecting sniffio (from openai>=1.1.0->haystack-ai)\n",
            "  Downloading sniffio-1.3.1-py3-none-any.whl.metadata (3.9 kB)\n",
            "Collecting lark (from outlines<0.1,>=0.0.43->vllm)\n",
            "  Downloading lark-1.2.2-py3-none-any.whl.metadata (1.8 kB)\n",
            "Collecting nest-asyncio (from outlines<0.1,>=0.0.43->vllm)\n",
            "  Downloading nest_asyncio-1.6.0-py3-none-any.whl.metadata (2.8 kB)\n",
            "Collecting cloudpickle (from outlines<0.1,>=0.0.43->vllm)\n",
            "  Downloading cloudpickle-3.1.0-py3-none-any.whl.metadata (7.0 kB)\n",
            "Collecting diskcache (from outlines<0.1,>=0.0.43->vllm)\n",
            "  Downloading diskcache-5.6.3-py3-none-any.whl.metadata (20 kB)\n",
            "Collecting numba (from outlines<0.1,>=0.0.43->vllm)\n",
            "  Downloading numba-0.60.0-cp310-cp310-manylinux2014_x86_64.manylinux_2_17_x86_64.whl.metadata (2.7 kB)\n",
            "Collecting referencing (from outlines<0.1,>=0.0.43->vllm)\n",
            "  Downloading referencing-0.35.1-py3-none-any.whl.metadata (2.8 kB)\n",
            "Collecting datasets (from outlines<0.1,>=0.0.43->vllm)\n",
            "  Downloading datasets-3.1.0-py3-none-any.whl.metadata (20 kB)\n",
            "Collecting pycountry (from outlines<0.1,>=0.0.43->vllm)\n",
            "  Downloading pycountry-24.6.1-py3-none-any.whl.metadata (12 kB)\n",
            "Collecting pyairports (from outlines<0.1,>=0.0.43->vllm)\n",
            "  Downloading pyairports-2.1.1-py3-none-any.whl.metadata (1.7 kB)\n",
            "Requirement already satisfied: six>=1.5 in /usr/lib/python3/dist-packages (from posthog->haystack-ai) (1.16.0)\n",
            "Collecting monotonic>=1.5 (from posthog->haystack-ai)\n",
            "  Downloading monotonic-1.6-py2.py3-none-any.whl.metadata (1.5 kB)\n",
            "Collecting backoff>=1.10.0 (from posthog->haystack-ai)\n",
            "  Downloading backoff-2.2.1-py3-none-any.whl.metadata (14 kB)\n",
            "Collecting annotated-types>=0.6.0 (from pydantic>=2.9->vllm)\n",
            "  Downloading annotated_types-0.7.0-py3-none-any.whl.metadata (15 kB)\n",
            "Collecting pydantic-core==2.23.4 (from pydantic>=2.9->vllm)\n",
            "  Downloading pydantic_core-2.23.4-cp310-cp310-manylinux_2_17_x86_64.manylinux2014_x86_64.whl.metadata (6.6 kB)\n",
            "Collecting langchain (from ragas<=0.1.16,>=0.1.11->ragas-haystack)\n",
            "  Downloading langchain-0.3.7-py3-none-any.whl.metadata (7.1 kB)\n",
            "Collecting langchain-core (from ragas<=0.1.16,>=0.1.11->ragas-haystack)\n",
            "  Downloading langchain_core-0.3.15-py3-none-any.whl.metadata (6.3 kB)\n",
            "Collecting langchain-community (from ragas<=0.1.16,>=0.1.11->ragas-haystack)\n",
            "  Downloading langchain_community-0.3.5-py3-none-any.whl.metadata (2.9 kB)\n",
            "Collecting langchain-openai (from ragas<=0.1.16,>=0.1.11->ragas-haystack)\n",
            "  Downloading langchain_openai-0.2.6-py3-none-any.whl.metadata (2.6 kB)\n",
            "Collecting pysbd>=0.3.4 (from ragas<=0.1.16,>=0.1.11->ragas-haystack)\n",
            "  Downloading pysbd-0.3.4-py3-none-any.whl.metadata (6.1 kB)\n",
            "Collecting appdirs (from ragas<=0.1.16,>=0.1.11->ragas-haystack)\n",
            "  Downloading appdirs-1.4.4-py2.py3-none-any.whl.metadata (9.0 kB)\n",
            "Collecting click>=7.0 (from ray>=2.9->vllm)\n",
            "  Downloading click-8.1.7-py3-none-any.whl.metadata (3.0 kB)\n",
            "Collecting msgpack<2.0.0,>=1.0.0 (from ray>=2.9->vllm)\n",
            "  Downloading msgpack-1.1.0-cp310-cp310-manylinux_2_17_x86_64.manylinux2014_x86_64.whl.metadata (8.4 kB)\n",
            "Collecting aiosignal (from ray>=2.9->vllm)\n",
            "  Downloading aiosignal-1.3.1-py3-none-any.whl.metadata (4.0 kB)\n",
            "Collecting frozenlist (from ray>=2.9->vllm)\n",
            "  Downloading frozenlist-1.5.0-cp310-cp310-manylinux_2_5_x86_64.manylinux1_x86_64.manylinux_2_17_x86_64.manylinux2014_x86_64.whl.metadata (13 kB)\n",
            "Collecting charset-normalizer<4,>=2 (from requests->haystack-ai)\n",
            "  Downloading charset_normalizer-3.4.0-cp310-cp310-manylinux_2_17_x86_64.manylinux2014_x86_64.whl.metadata (34 kB)\n",
            "Collecting idna<4,>=2.5 (from requests->haystack-ai)\n",
            "  Downloading idna-3.10-py3-none-any.whl.metadata (10 kB)\n",
            "Requirement already satisfied: certifi>=2017.4.17 in /usr/local/lib/python3.10/dist-packages (from requests->haystack-ai) (2024.8.30)\n",
            "Collecting regex>=2022.1.18 (from tiktoken>=0.6.0->vllm)\n",
            "  Downloading regex-2024.11.6-cp310-cp310-manylinux_2_17_x86_64.manylinux2014_x86_64.whl.metadata (40 kB)\n",
            "\u001b[2K     \u001b[90m━━━━━━━━━━━━━━━━━━━━━━━━━━━━━━━━━━━━━━━━\u001b[0m \u001b[32m40.5/40.5 kB\u001b[0m \u001b[31m3.2 MB/s\u001b[0m eta \u001b[36m0:00:00\u001b[0m\n",
            "\u001b[?25hCollecting huggingface-hub<1.0,>=0.16.4 (from tokenizers>=0.19.1->vllm)\n",
            "  Downloading huggingface_hub-0.26.2-py3-none-any.whl.metadata (13 kB)\n",
            "Collecting safetensors>=0.4.1 (from transformers>=4.45.2->vllm)\n",
            "  Downloading safetensors-0.4.5-cp310-cp310-manylinux_2_17_x86_64.manylinux2014_x86_64.whl.metadata (3.8 kB)\n",
            "Collecting h11>=0.8 (from uvicorn[standard]->vllm)\n",
            "  Downloading h11-0.14.0-py3-none-any.whl.metadata (8.2 kB)\n",
            "Collecting httptools>=0.5.0 (from uvicorn[standard]->vllm)\n",
            "  Downloading httptools-0.6.4-cp310-cp310-manylinux_2_5_x86_64.manylinux1_x86_64.manylinux_2_17_x86_64.manylinux2014_x86_64.whl.metadata (3.6 kB)\n",
            "Collecting python-dotenv>=0.13 (from uvicorn[standard]->vllm)\n",
            "  Downloading python_dotenv-1.0.1-py3-none-any.whl.metadata (23 kB)\n",
            "Collecting uvloop!=0.15.0,!=0.15.1,>=0.14.0 (from uvicorn[standard]->vllm)\n",
            "  Downloading uvloop-0.21.0-cp310-cp310-manylinux_2_17_x86_64.manylinux2014_x86_64.whl.metadata (4.9 kB)\n",
            "Collecting watchfiles>=0.13 (from uvicorn[standard]->vllm)\n",
            "  Downloading watchfiles-0.24.0-cp310-cp310-manylinux_2_17_x86_64.manylinux2014_x86_64.whl.metadata (4.9 kB)\n",
            "Collecting websockets>=10.4 (from uvicorn[standard]->vllm)\n",
            "  Downloading websockets-14.0-cp310-cp310-manylinux_2_5_x86_64.manylinux1_x86_64.manylinux_2_17_x86_64.manylinux2014_x86_64.whl.metadata (6.7 kB)\n",
            "Collecting aiohappyeyeballs>=2.3.0 (from aiohttp->vllm)\n",
            "  Downloading aiohappyeyeballs-2.4.3-py3-none-any.whl.metadata (6.1 kB)\n",
            "Collecting attrs>=17.3.0 (from aiohttp->vllm)\n",
            "  Downloading attrs-24.2.0-py3-none-any.whl.metadata (11 kB)\n",
            "Collecting multidict<7.0,>=4.5 (from aiohttp->vllm)\n",
            "  Downloading multidict-6.1.0-cp310-cp310-manylinux_2_17_x86_64.manylinux2014_x86_64.whl.metadata (5.0 kB)\n",
            "Collecting yarl<2.0,>=1.12.0 (from aiohttp->vllm)\n",
            "  Downloading yarl-1.17.1-cp310-cp310-manylinux_2_17_x86_64.manylinux2014_x86_64.whl.metadata (64 kB)\n",
            "\u001b[2K     \u001b[90m━━━━━━━━━━━━━━━━━━━━━━━━━━━━━━━━━━━━━━━━\u001b[0m \u001b[32m64.8/64.8 kB\u001b[0m \u001b[31m6.3 MB/s\u001b[0m eta \u001b[36m0:00:00\u001b[0m\n",
            "\u001b[?25hCollecting async-timeout<5.0,>=4.0 (from aiohttp->vllm)\n",
            "  Downloading async_timeout-4.0.3-py3-none-any.whl.metadata (4.2 kB)\n",
            "Collecting MarkupSafe>=2.0 (from jinja2->haystack-ai)\n",
            "  Downloading MarkupSafe-3.0.2-cp310-cp310-manylinux_2_17_x86_64.manylinux2014_x86_64.whl.metadata (4.0 kB)\n",
            "Collecting pytz>=2020.1 (from pandas->haystack-ai)\n",
            "  Downloading pytz-2024.2-py2.py3-none-any.whl.metadata (22 kB)\n",
            "Collecting tzdata>=2022.7 (from pandas->haystack-ai)\n",
            "  Downloading tzdata-2024.2-py2.py3-none-any.whl.metadata (1.4 kB)\n",
            "Collecting exceptiongroup>=1.0.2 (from anyio<5,>=3.5.0->openai>=1.1.0->haystack-ai)\n",
            "  Downloading exceptiongroup-1.2.2-py3-none-any.whl.metadata (6.6 kB)\n",
            "Collecting pyproject_hooks (from build>=1.0.3->chromadb>=0.5.17->chroma-haystack)\n",
            "  Downloading pyproject_hooks-1.2.0-py3-none-any.whl.metadata (1.3 kB)\n",
            "Collecting tomli>=1.1.0 (from build>=1.0.3->chromadb>=0.5.17->chroma-haystack)\n",
            "  Downloading tomli-2.0.2-py3-none-any.whl.metadata (10.0 kB)\n",
            "Collecting httpcore==1.* (from httpx>=0.27.0->chromadb>=0.5.17->chroma-haystack)\n",
            "  Downloading httpcore-1.0.6-py3-none-any.whl.metadata (21 kB)\n",
            "Collecting jsonschema-specifications>=2023.03.6 (from jsonschema<5.0.0,>=4.21.1->mistral-common>=1.4.4->mistral-common[opencv]>=1.4.4->vllm)\n",
            "  Downloading jsonschema_specifications-2024.10.1-py3-none-any.whl.metadata (3.0 kB)\n",
            "Collecting rpds-py>=0.7.1 (from jsonschema<5.0.0,>=4.21.1->mistral-common>=1.4.4->mistral-common[opencv]>=1.4.4->vllm)\n",
            "  Downloading rpds_py-0.21.0-cp310-cp310-manylinux_2_17_x86_64.manylinux2014_x86_64.whl.metadata (4.2 kB)\n",
            "Requirement already satisfied: google-auth>=1.0.1 in /usr/local/lib/python3.10/dist-packages (from kubernetes>=28.1.0->chromadb>=0.5.17->chroma-haystack) (2.27.0)\n",
            "Collecting websocket-client!=0.40.0,!=0.41.*,!=0.42.*,>=0.32.0 (from kubernetes>=28.1.0->chromadb>=0.5.17->chroma-haystack)\n",
            "  Downloading websocket_client-1.8.0-py3-none-any.whl.metadata (8.0 kB)\n",
            "Collecting requests-oauthlib (from kubernetes>=28.1.0->chromadb>=0.5.17->chroma-haystack)\n",
            "  Downloading requests_oauthlib-2.0.0-py2.py3-none-any.whl.metadata (11 kB)\n",
            "Collecting oauthlib>=3.2.2 (from kubernetes>=28.1.0->chromadb>=0.5.17->chroma-haystack)\n",
            "  Downloading oauthlib-3.2.2-py3-none-any.whl.metadata (7.5 kB)\n",
            "Collecting durationpy>=0.7 (from kubernetes>=28.1.0->chromadb>=0.5.17->chroma-haystack)\n",
            "  Downloading durationpy-0.9-py3-none-any.whl.metadata (338 bytes)\n",
            "Collecting coloredlogs (from onnxruntime>=1.14.1->chromadb>=0.5.17->chroma-haystack)\n",
            "  Downloading coloredlogs-15.0.1-py2.py3-none-any.whl.metadata (12 kB)\n",
            "Collecting flatbuffers (from onnxruntime>=1.14.1->chromadb>=0.5.17->chroma-haystack)\n",
            "  Downloading flatbuffers-24.3.25-py2.py3-none-any.whl.metadata (850 bytes)\n",
            "Collecting deprecated>=1.2.6 (from opentelemetry-api>=1.2.0->chromadb>=0.5.17->chroma-haystack)\n",
            "  Downloading Deprecated-1.2.14-py2.py3-none-any.whl.metadata (5.4 kB)\n",
            "Collecting importlib-metadata (from vllm)\n",
            "  Downloading importlib_metadata-8.5.0-py3-none-any.whl.metadata (4.8 kB)\n",
            "Collecting zipp>=3.20 (from importlib-metadata->vllm)\n",
            "  Downloading zipp-3.20.2-py3-none-any.whl.metadata (3.7 kB)\n",
            "Requirement already satisfied: googleapis-common-protos~=1.52 in /usr/local/lib/python3.10/dist-packages (from opentelemetry-exporter-otlp-proto-grpc>=1.2.0->chromadb>=0.5.17->chroma-haystack) (1.65.0)\n",
            "Collecting opentelemetry-exporter-otlp-proto-common==1.28.1 (from opentelemetry-exporter-otlp-proto-grpc>=1.2.0->chromadb>=0.5.17->chroma-haystack)\n",
            "  Downloading opentelemetry_exporter_otlp_proto_common-1.28.1-py3-none-any.whl.metadata (1.8 kB)\n",
            "Collecting opentelemetry-proto==1.28.1 (from opentelemetry-exporter-otlp-proto-grpc>=1.2.0->chromadb>=0.5.17->chroma-haystack)\n",
            "  Downloading opentelemetry_proto-1.28.1-py3-none-any.whl.metadata (2.3 kB)\n",
            "Collecting opentelemetry-instrumentation-asgi==0.49b1 (from opentelemetry-instrumentation-fastapi>=0.41b0->chromadb>=0.5.17->chroma-haystack)\n",
            "  Downloading opentelemetry_instrumentation_asgi-0.49b1-py3-none-any.whl.metadata (2.0 kB)\n",
            "Collecting opentelemetry-instrumentation==0.49b1 (from opentelemetry-instrumentation-fastapi>=0.41b0->chromadb>=0.5.17->chroma-haystack)\n",
            "  Downloading opentelemetry_instrumentation-0.49b1-py3-none-any.whl.metadata (6.2 kB)\n",
            "Collecting opentelemetry-semantic-conventions==0.49b1 (from opentelemetry-instrumentation-fastapi>=0.41b0->chromadb>=0.5.17->chroma-haystack)\n",
            "  Downloading opentelemetry_semantic_conventions-0.49b1-py3-none-any.whl.metadata (2.4 kB)\n",
            "Collecting opentelemetry-util-http==0.49b1 (from opentelemetry-instrumentation-fastapi>=0.41b0->chromadb>=0.5.17->chroma-haystack)\n",
            "  Downloading opentelemetry_util_http-0.49b1-py3-none-any.whl.metadata (2.5 kB)\n",
            "Collecting wrapt<2.0.0,>=1.0.0 (from opentelemetry-instrumentation==0.49b1->opentelemetry-instrumentation-fastapi>=0.41b0->chromadb>=0.5.17->chroma-haystack)\n",
            "  Downloading wrapt-1.16.0-cp310-cp310-manylinux_2_5_x86_64.manylinux1_x86_64.manylinux_2_17_x86_64.manylinux2014_x86_64.whl.metadata (6.6 kB)\n",
            "Collecting asgiref~=3.0 (from opentelemetry-instrumentation-asgi==0.49b1->opentelemetry-instrumentation-fastapi>=0.41b0->chromadb>=0.5.17->chroma-haystack)\n",
            "  Downloading asgiref-3.8.1-py3-none-any.whl.metadata (9.3 kB)\n",
            "Collecting pygments<3.0.0,>=2.13.0 (from rich>=10.11.0->chromadb>=0.5.17->chroma-haystack)\n",
            "  Downloading pygments-2.18.0-py3-none-any.whl.metadata (2.5 kB)\n",
            "Collecting shellingham>=1.3.0 (from typer>=0.9.0->chromadb>=0.5.17->chroma-haystack)\n",
            "  Downloading shellingham-1.5.4-py2.py3-none-any.whl.metadata (3.5 kB)\n",
            "Collecting propcache>=0.2.0 (from yarl<2.0,>=1.12.0->aiohttp->vllm)\n",
            "  Downloading propcache-0.2.0-cp310-cp310-manylinux_2_17_x86_64.manylinux2014_x86_64.whl.metadata (7.7 kB)\n",
            "Collecting pyarrow>=15.0.0 (from datasets->outlines<0.1,>=0.0.43->vllm)\n",
            "  Downloading pyarrow-18.0.0-cp310-cp310-manylinux_2_28_x86_64.whl.metadata (3.3 kB)\n",
            "Collecting dill<0.3.9,>=0.3.0 (from datasets->outlines<0.1,>=0.0.43->vllm)\n",
            "  Downloading dill-0.3.8-py3-none-any.whl.metadata (10 kB)\n",
            "Collecting xxhash (from datasets->outlines<0.1,>=0.0.43->vllm)\n",
            "  Downloading xxhash-3.5.0-cp310-cp310-manylinux_2_17_x86_64.manylinux2014_x86_64.whl.metadata (12 kB)\n",
            "Collecting multiprocess<0.70.17 (from datasets->outlines<0.1,>=0.0.43->vllm)\n",
            "  Downloading multiprocess-0.70.16-py310-none-any.whl.metadata (7.2 kB)\n",
            "Collecting fsspec (from torch==2.4.0->vllm)\n",
            "  Downloading fsspec-2024.9.0-py3-none-any.whl.metadata (11 kB)\n",
            "Collecting SQLAlchemy<3,>=1.4 (from langchain->ragas<=0.1.16,>=0.1.11->ragas-haystack)\n",
            "  Downloading SQLAlchemy-2.0.36-cp310-cp310-manylinux_2_17_x86_64.manylinux2014_x86_64.whl.metadata (9.7 kB)\n",
            "Collecting langchain-text-splitters<0.4.0,>=0.3.0 (from langchain->ragas<=0.1.16,>=0.1.11->ragas-haystack)\n",
            "  Downloading langchain_text_splitters-0.3.2-py3-none-any.whl.metadata (2.3 kB)\n",
            "Collecting langsmith<0.2.0,>=0.1.17 (from langchain->ragas<=0.1.16,>=0.1.11->ragas-haystack)\n",
            "  Downloading langsmith-0.1.142-py3-none-any.whl.metadata (13 kB)\n",
            "Collecting jsonpatch<2.0,>=1.33 (from langchain-core->ragas<=0.1.16,>=0.1.11->ragas-haystack)\n",
            "  Downloading jsonpatch-1.33-py2.py3-none-any.whl.metadata (3.0 kB)\n",
            "Collecting SQLAlchemy<3,>=1.4 (from langchain->ragas<=0.1.16,>=0.1.11->ragas-haystack)\n",
            "  Downloading SQLAlchemy-2.0.35-cp310-cp310-manylinux_2_17_x86_64.manylinux2014_x86_64.whl.metadata (9.6 kB)\n",
            "Collecting dataclasses-json<0.7,>=0.5.7 (from langchain-community->ragas<=0.1.16,>=0.1.11->ragas-haystack)\n",
            "  Downloading dataclasses_json-0.6.7-py3-none-any.whl.metadata (25 kB)\n",
            "Collecting httpx-sse<0.5.0,>=0.4.0 (from langchain-community->ragas<=0.1.16,>=0.1.11->ragas-haystack)\n",
            "  Downloading httpx_sse-0.4.0-py3-none-any.whl.metadata (9.0 kB)\n",
            "Collecting pydantic-settings<3.0.0,>=2.4.0 (from langchain-community->ragas<=0.1.16,>=0.1.11->ragas-haystack)\n",
            "  Downloading pydantic_settings-2.6.1-py3-none-any.whl.metadata (3.5 kB)\n",
            "Collecting llvmlite<0.44,>=0.43.0dev0 (from numba->outlines<0.1,>=0.0.43->vllm)\n",
            "  Downloading llvmlite-0.43.0-cp310-cp310-manylinux_2_17_x86_64.manylinux2014_x86_64.whl.metadata (4.8 kB)\n",
            "Collecting mpmath<1.4,>=1.1.0 (from sympy->torch==2.4.0->vllm)\n",
            "  Downloading mpmath-1.3.0-py3-none-any.whl.metadata (8.6 kB)\n",
            "Collecting marshmallow<4.0.0,>=3.18.0 (from dataclasses-json<0.7,>=0.5.7->langchain-community->ragas<=0.1.16,>=0.1.11->ragas-haystack)\n",
            "  Downloading marshmallow-3.23.1-py3-none-any.whl.metadata (7.5 kB)\n",
            "Collecting typing-inspect<1,>=0.4.0 (from dataclasses-json<0.7,>=0.5.7->langchain-community->ragas<=0.1.16,>=0.1.11->ragas-haystack)\n",
            "  Downloading typing_inspect-0.9.0-py3-none-any.whl.metadata (1.5 kB)\n",
            "Collecting cachetools<6.0,>=2.0.0 (from google-auth>=1.0.1->kubernetes>=28.1.0->chromadb>=0.5.17->chroma-haystack)\n",
            "  Downloading cachetools-5.5.0-py3-none-any.whl.metadata (5.3 kB)\n",
            "Collecting pyasn1-modules>=0.2.1 (from google-auth>=1.0.1->kubernetes>=28.1.0->chromadb>=0.5.17->chroma-haystack)\n",
            "  Downloading pyasn1_modules-0.4.1-py3-none-any.whl.metadata (3.5 kB)\n",
            "Collecting rsa<5,>=3.1.4 (from google-auth>=1.0.1->kubernetes>=28.1.0->chromadb>=0.5.17->chroma-haystack)\n",
            "  Downloading rsa-4.9-py3-none-any.whl.metadata (4.2 kB)\n",
            "Collecting jsonpointer>=1.9 (from jsonpatch<2.0,>=1.33->langchain-core->ragas<=0.1.16,>=0.1.11->ragas-haystack)\n",
            "  Downloading jsonpointer-3.0.0-py2.py3-none-any.whl.metadata (2.3 kB)\n",
            "Collecting requests-toolbelt<2.0.0,>=1.0.0 (from langsmith<0.2.0,>=0.1.17->langchain->ragas<=0.1.16,>=0.1.11->ragas-haystack)\n",
            "  Downloading requests_toolbelt-1.0.0-py2.py3-none-any.whl.metadata (14 kB)\n",
            "Collecting greenlet!=0.4.17 (from SQLAlchemy<3,>=1.4->langchain->ragas<=0.1.16,>=0.1.11->ragas-haystack)\n",
            "  Downloading greenlet-3.1.1-cp310-cp310-manylinux_2_24_x86_64.manylinux_2_28_x86_64.whl.metadata (3.8 kB)\n",
            "Collecting humanfriendly>=9.1 (from coloredlogs->onnxruntime>=1.14.1->chromadb>=0.5.17->chroma-haystack)\n",
            "  Downloading humanfriendly-10.0-py2.py3-none-any.whl.metadata (9.2 kB)\n",
            "Collecting pyasn1<0.7.0,>=0.4.6 (from pyasn1-modules>=0.2.1->google-auth>=1.0.1->kubernetes>=28.1.0->chromadb>=0.5.17->chroma-haystack)\n",
            "  Downloading pyasn1-0.6.1-py3-none-any.whl.metadata (8.4 kB)\n",
            "Collecting mypy-extensions>=0.3.0 (from typing-inspect<1,>=0.4.0->dataclasses-json<0.7,>=0.5.7->langchain-community->ragas<=0.1.16,>=0.1.11->ragas-haystack)\n",
            "  Downloading mypy_extensions-1.0.0-py3-none-any.whl.metadata (1.1 kB)\n",
            "Downloading markdown_it_py-3.0.0-py3-none-any.whl (87 kB)\n",
            "\u001b[2K   \u001b[90m━━━━━━━━━━━━━━━━━━━━━━━━━━━━━━━━━━━━━━━━\u001b[0m \u001b[32m87.5/87.5 kB\u001b[0m \u001b[31m8.3 MB/s\u001b[0m eta \u001b[36m0:00:00\u001b[0m\n",
            "\u001b[?25hDownloading mdit_plain-1.0.1-py3-none-any.whl (3.1 kB)\n",
            "Downloading pypdf-5.1.0-py3-none-any.whl (297 kB)\n",
            "\u001b[2K   \u001b[90m━━━━━━━━━━━━━━━━━━━━━━━━━━━━━━━━━━━━━━━━\u001b[0m \u001b[32m298.0/298.0 kB\u001b[0m \u001b[31m27.9 MB/s\u001b[0m eta \u001b[36m0:00:00\u001b[0m\n",
            "\u001b[?25hDownloading openpyxl-3.1.5-py2.py3-none-any.whl (250 kB)\n",
            "\u001b[2K   \u001b[90m━━━━━━━━━━━━━━━━━━━━━━━━━━━━━━━━━━━━━━━━\u001b[0m \u001b[32m250.9/250.9 kB\u001b[0m \u001b[31m22.2 MB/s\u001b[0m eta \u001b[36m0:00:00\u001b[0m\n",
            "\u001b[?25hDownloading python_docx-1.1.2-py3-none-any.whl (244 kB)\n",
            "\u001b[2K   \u001b[90m━━━━━━━━━━━━━━━━━━━━━━━━━━━━━━━━━━━━━━━━\u001b[0m \u001b[32m244.3/244.3 kB\u001b[0m \u001b[31m22.0 MB/s\u001b[0m eta \u001b[36m0:00:00\u001b[0m\n",
            "\u001b[?25hDownloading python_pptx-1.0.2-py3-none-any.whl (472 kB)\n",
            "\u001b[2K   \u001b[90m━━━━━━━━━━━━━━━━━━━━━━━━━━━━━━━━━━━━━━━━\u001b[0m \u001b[32m472.8/472.8 kB\u001b[0m \u001b[31m38.7 MB/s\u001b[0m eta \u001b[36m0:00:00\u001b[0m\n",
            "\u001b[?25hDownloading haystack_ai-2.6.1-py3-none-any.whl (372 kB)\n",
            "\u001b[2K   \u001b[90m━━━━━━━━━━━━━━━━━━━━━━━━━━━━━━━━━━━━━━━━\u001b[0m \u001b[32m372.1/372.1 kB\u001b[0m \u001b[31m28.8 MB/s\u001b[0m eta \u001b[36m0:00:00\u001b[0m\n",
            "\u001b[?25hDownloading ragas_haystack-1.0.1-py3-none-any.whl (11 kB)\n",
            "Downloading vllm-0.6.3.post1-cp38-abi3-manylinux1_x86_64.whl (194.8 MB)\n",
            "\u001b[2K   \u001b[90m━━━━━━━━━━━━━━━━━━━━━━━━━━━━━━━━━━━━━━━━\u001b[0m \u001b[32m194.8/194.8 MB\u001b[0m \u001b[31m11.2 MB/s\u001b[0m eta \u001b[36m0:00:00\u001b[0m\n",
            "\u001b[?25hDownloading compressed_tensors-0.6.0-py3-none-any.whl (92 kB)\n",
            "\u001b[2K   \u001b[90m━━━━━━━━━━━━━━━━━━━━━━━━━━━━━━━━━━━━━━━━\u001b[0m \u001b[32m92.0/92.0 kB\u001b[0m \u001b[31m8.6 MB/s\u001b[0m eta \u001b[36m0:00:00\u001b[0m\n",
            "\u001b[?25hDownloading gguf-0.10.0-py3-none-any.whl (71 kB)\n",
            "\u001b[2K   \u001b[90m━━━━━━━━━━━━━━━━━━━━━━━━━━━━━━━━━━━━━━━━\u001b[0m \u001b[32m71.6/71.6 kB\u001b[0m \u001b[31m6.7 MB/s\u001b[0m eta \u001b[36m0:00:00\u001b[0m\n",
            "\u001b[?25hDownloading lm_format_enforcer-0.10.6-py3-none-any.whl (43 kB)\n",
            "\u001b[2K   \u001b[90m━━━━━━━━━━━━━━━━━━━━━━━━━━━━━━━━━━━━━━━━\u001b[0m \u001b[32m43.7/43.7 kB\u001b[0m \u001b[31m4.1 MB/s\u001b[0m eta \u001b[36m0:00:00\u001b[0m\n",
            "\u001b[?25hDownloading torch-2.4.0-cp310-cp310-manylinux1_x86_64.whl (797.2 MB)\n",
            "\u001b[2K   \u001b[90m━━━━━━━━━━━━━━━━━━━━━━━━━━━━━━━━━━━━━━━━\u001b[0m \u001b[32m797.2/797.2 MB\u001b[0m \u001b[31m1.5 MB/s\u001b[0m eta \u001b[36m0:00:00\u001b[0m\n",
            "\u001b[?25hDownloading torchvision-0.19.0-cp310-cp310-manylinux1_x86_64.whl (7.0 MB)\n",
            "\u001b[2K   \u001b[90m━━━━━━━━━━━━━━━━━━━━━━━━━━━━━━━━━━━━━━━━\u001b[0m \u001b[32m7.0/7.0 MB\u001b[0m \u001b[31m116.3 MB/s\u001b[0m eta \u001b[36m0:00:00\u001b[0m\n",
            "\u001b[?25hDownloading xformers-0.0.27.post2-cp310-cp310-manylinux2014_x86_64.whl (20.8 MB)\n",
            "\u001b[2K   \u001b[90m━━━━━━━━━━━━━━━━━━━━━━━━━━━━━━━━━━━━━━━━\u001b[0m \u001b[32m20.8/20.8 MB\u001b[0m \u001b[31m33.2 MB/s\u001b[0m eta \u001b[36m0:00:00\u001b[0m\n",
            "\u001b[?25hDownloading nvidia_cublas_cu12-12.1.3.1-py3-none-manylinux1_x86_64.whl (410.6 MB)\n",
            "\u001b[2K   \u001b[90m━━━━━━━━━━━━━━━━━━━━━━━━━━━━━━━━━━━━━━━━\u001b[0m \u001b[32m410.6/410.6 MB\u001b[0m \u001b[31m2.5 MB/s\u001b[0m eta \u001b[36m0:00:00\u001b[0m\n",
            "\u001b[?25hDownloading nvidia_cuda_cupti_cu12-12.1.105-py3-none-manylinux1_x86_64.whl (14.1 MB)\n",
            "\u001b[2K   \u001b[90m━━━━━━━━━━━━━━━━━━━━━━━━━━━━━━━━━━━━━━━━\u001b[0m \u001b[32m14.1/14.1 MB\u001b[0m \u001b[31m107.3 MB/s\u001b[0m eta \u001b[36m0:00:00\u001b[0m\n",
            "\u001b[?25hDownloading nvidia_cuda_nvrtc_cu12-12.1.105-py3-none-manylinux1_x86_64.whl (23.7 MB)\n",
            "\u001b[2K   \u001b[90m━━━━━━━━━━━━━━━━━━━━━━━━━━━━━━━━━━━━━━━━\u001b[0m \u001b[32m23.7/23.7 MB\u001b[0m \u001b[31m87.8 MB/s\u001b[0m eta \u001b[36m0:00:00\u001b[0m\n",
            "\u001b[?25hDownloading nvidia_cuda_runtime_cu12-12.1.105-py3-none-manylinux1_x86_64.whl (823 kB)\n",
            "\u001b[2K   \u001b[90m━━━━━━━━━━━━━━━━━━━━━━━━━━━━━━━━━━━━━━━━\u001b[0m \u001b[32m823.6/823.6 kB\u001b[0m \u001b[31m49.2 MB/s\u001b[0m eta \u001b[36m0:00:00\u001b[0m\n",
            "\u001b[?25hDownloading nvidia_cudnn_cu12-9.1.0.70-py3-none-manylinux2014_x86_64.whl (664.8 MB)\n",
            "\u001b[2K   \u001b[90m━━━━━━━━━━━━━━━━━━━━━━━━━━━━━━━━━━━━━━━━\u001b[0m \u001b[32m664.8/664.8 MB\u001b[0m \u001b[31m1.6 MB/s\u001b[0m eta \u001b[36m0:00:00\u001b[0m\n",
            "\u001b[?25hDownloading nvidia_cufft_cu12-11.0.2.54-py3-none-manylinux1_x86_64.whl (121.6 MB)\n",
            "\u001b[2K   \u001b[90m━━━━━━━━━━━━━━━━━━━━━━━━━━━━━━━━━━━━━━━━\u001b[0m \u001b[32m121.6/121.6 MB\u001b[0m \u001b[31m17.6 MB/s\u001b[0m eta \u001b[36m0:00:00\u001b[0m\n",
            "\u001b[?25hDownloading nvidia_curand_cu12-10.3.2.106-py3-none-manylinux1_x86_64.whl (56.5 MB)\n",
            "\u001b[2K   \u001b[90m━━━━━━━━━━━━━━━━━━━━━━━━━━━━━━━━━━━━━━━━\u001b[0m \u001b[32m56.5/56.5 MB\u001b[0m \u001b[31m37.2 MB/s\u001b[0m eta \u001b[36m0:00:00\u001b[0m\n",
            "\u001b[?25hDownloading nvidia_cusolver_cu12-11.4.5.107-py3-none-manylinux1_x86_64.whl (124.2 MB)\n",
            "\u001b[2K   \u001b[90m━━━━━━━━━━━━━━━━━━━━━━━━━━━━━━━━━━━━━━━━\u001b[0m \u001b[32m124.2/124.2 MB\u001b[0m \u001b[31m19.5 MB/s\u001b[0m eta \u001b[36m0:00:00\u001b[0m\n",
            "\u001b[?25hDownloading nvidia_cusparse_cu12-12.1.0.106-py3-none-manylinux1_x86_64.whl (196.0 MB)\n",
            "\u001b[2K   \u001b[90m━━━━━━━━━━━━━━━━━━━━━━━━━━━━━━━━━━━━━━━━\u001b[0m \u001b[32m196.0/196.0 MB\u001b[0m \u001b[31m4.6 MB/s\u001b[0m eta \u001b[36m0:00:00\u001b[0m\n",
            "\u001b[?25hDownloading nvidia_nccl_cu12-2.20.5-py3-none-manylinux2014_x86_64.whl (176.2 MB)\n",
            "\u001b[2K   \u001b[90m━━━━━━━━━━━━━━━━━━━━━━━━━━━━━━━━━━━━━━━━\u001b[0m \u001b[32m176.2/176.2 MB\u001b[0m \u001b[31m13.3 MB/s\u001b[0m eta \u001b[36m0:00:00\u001b[0m\n",
            "\u001b[?25hDownloading nvidia_nvtx_cu12-12.1.105-py3-none-manylinux1_x86_64.whl (99 kB)\n",
            "\u001b[2K   \u001b[90m━━━━━━━━━━━━━━━━━━━━━━━━━━━━━━━━━━━━━━━━\u001b[0m \u001b[32m99.1/99.1 kB\u001b[0m \u001b[31m9.7 MB/s\u001b[0m eta \u001b[36m0:00:00\u001b[0m\n",
            "\u001b[?25hDownloading triton-3.0.0-1-cp310-cp310-manylinux2014_x86_64.manylinux_2_17_x86_64.whl (209.4 MB)\n",
            "\u001b[2K   \u001b[90m━━━━━━━━━━━━━━━━━━━━━━━━━━━━━━━━━━━━━━━━\u001b[0m \u001b[32m209.4/209.4 MB\u001b[0m \u001b[31m3.9 MB/s\u001b[0m eta \u001b[36m0:00:00\u001b[0m\n",
            "\u001b[?25hDownloading chroma_haystack-1.0.0-py3-none-any.whl (16 kB)\n",
            "Downloading boto3-1.35.57-py3-none-any.whl (139 kB)\n",
            "\u001b[2K   \u001b[90m━━━━━━━━━━━━━━━━━━━━━━━━━━━━━━━━━━━━━━━━\u001b[0m \u001b[32m139.2/139.2 kB\u001b[0m \u001b[31m14.4 MB/s\u001b[0m eta \u001b[36m0:00:00\u001b[0m\n",
            "\u001b[?25hDownloading pypdf2-3.0.1-py3-none-any.whl (232 kB)\n",
            "\u001b[2K   \u001b[90m━━━━━━━━━━━━━━━━━━━━━━━━━━━━━━━━━━━━━━━━\u001b[0m \u001b[32m232.6/232.6 kB\u001b[0m \u001b[31m20.4 MB/s\u001b[0m eta \u001b[36m0:00:00\u001b[0m\n",
            "\u001b[?25hDownloading botocore-1.35.57-py3-none-any.whl (12.7 MB)\n",
            "\u001b[2K   \u001b[90m━━━━━━━━━━━━━━━━━━━━━━━━━━━━━━━━━━━━━━━━\u001b[0m \u001b[32m12.7/12.7 MB\u001b[0m \u001b[31m100.4 MB/s\u001b[0m eta \u001b[36m0:00:00\u001b[0m\n",
            "\u001b[?25hDownloading chromadb-0.5.18-py3-none-any.whl (615 kB)\n",
            "\u001b[2K   \u001b[90m━━━━━━━━━━━━━━━━━━━━━━━━━━━━━━━━━━━━━━━━\u001b[0m \u001b[32m615.5/615.5 kB\u001b[0m \u001b[31m41.8 MB/s\u001b[0m eta \u001b[36m0:00:00\u001b[0m\n",
            "\u001b[?25hDownloading chroma_hnswlib-0.7.6-cp310-cp310-manylinux_2_17_x86_64.manylinux2014_x86_64.whl (2.4 MB)\n",
            "\u001b[2K   \u001b[90m━━━━━━━━━━━━━━━━━━━━━━━━━━━━━━━━━━━━━━━━\u001b[0m \u001b[32m2.4/2.4 MB\u001b[0m \u001b[31m85.5 MB/s\u001b[0m eta \u001b[36m0:00:00\u001b[0m\n",
            "\u001b[?25hDownloading fastapi-0.115.4-py3-none-any.whl (94 kB)\n",
            "\u001b[2K   \u001b[90m━━━━━━━━━━━━━━━━━━━━━━━━━━━━━━━━━━━━━━━━\u001b[0m \u001b[32m94.7/94.7 kB\u001b[0m \u001b[31m10.5 MB/s\u001b[0m eta \u001b[36m0:00:00\u001b[0m\n",
            "\u001b[?25hDownloading filelock-3.16.1-py3-none-any.whl (16 kB)\n",
            "Downloading jmespath-1.0.1-py3-none-any.whl (20 kB)\n",
            "Downloading lxml-5.3.0-cp310-cp310-manylinux_2_28_x86_64.whl (5.0 MB)\n",
            "\u001b[2K   \u001b[90m━━━━━━━━━━━━━━━━━━━━━━━━━━━━━━━━━━━━━━━━\u001b[0m \u001b[32m5.0/5.0 MB\u001b[0m \u001b[31m99.0 MB/s\u001b[0m eta \u001b[36m0:00:00\u001b[0m\n",
            "\u001b[?25hDownloading mdurl-0.1.2-py3-none-any.whl (10.0 kB)\n",
            "Downloading mistral_common-1.4.4-py3-none-any.whl (6.0 MB)\n",
            "\u001b[2K   \u001b[90m━━━━━━━━━━━━━━━━━━━━━━━━━━━━━━━━━━━━━━━━\u001b[0m \u001b[32m6.0/6.0 MB\u001b[0m \u001b[31m105.3 MB/s\u001b[0m eta \u001b[36m0:00:00\u001b[0m\n",
            "\u001b[?25hDownloading sentencepiece-0.2.0-cp310-cp310-manylinux_2_17_x86_64.manylinux2014_x86_64.whl (1.3 MB)\n",
            "\u001b[2K   \u001b[90m━━━━━━━━━━━━━━━━━━━━━━━━━━━━━━━━━━━━━━━━\u001b[0m \u001b[32m1.3/1.3 MB\u001b[0m \u001b[31m67.7 MB/s\u001b[0m eta \u001b[36m0:00:00\u001b[0m\n",
            "\u001b[?25hDownloading numpy-1.26.4-cp310-cp310-manylinux_2_17_x86_64.manylinux2014_x86_64.whl (18.2 MB)\n",
            "\u001b[2K   \u001b[90m━━━━━━━━━━━━━━━━━━━━━━━━━━━━━━━━━━━━━━━━\u001b[0m \u001b[32m18.2/18.2 MB\u001b[0m \u001b[31m94.6 MB/s\u001b[0m eta \u001b[36m0:00:00\u001b[0m\n",
            "\u001b[?25hDownloading openai-1.54.3-py3-none-any.whl (389 kB)\n",
            "\u001b[2K   \u001b[90m━━━━━━━━━━━━━━━━━━━━━━━━━━━━━━━━━━━━━━━━\u001b[0m \u001b[32m389.6/389.6 kB\u001b[0m \u001b[31m34.2 MB/s\u001b[0m eta \u001b[36m0:00:00\u001b[0m\n",
            "\u001b[?25hDownloading outlines-0.0.46-py3-none-any.whl (101 kB)\n",
            "\u001b[2K   \u001b[90m━━━━━━━━━━━━━━━━━━━━━━━━━━━━━━━━━━━━━━━━\u001b[0m \u001b[32m101.9/101.9 kB\u001b[0m \u001b[31m10.1 MB/s\u001b[0m eta \u001b[36m0:00:00\u001b[0m\n",
            "\u001b[?25hDownloading posthog-3.7.0-py2.py3-none-any.whl (54 kB)\n",
            "\u001b[2K   \u001b[90m━━━━━━━━━━━━━━━━━━━━━━━━━━━━━━━━━━━━━━━━\u001b[0m \u001b[32m54.4/54.4 kB\u001b[0m \u001b[31m5.2 MB/s\u001b[0m eta \u001b[36m0:00:00\u001b[0m\n",
            "\u001b[?25hDownloading prometheus_client-0.21.0-py3-none-any.whl (54 kB)\n",
            "\u001b[2K   \u001b[90m━━━━━━━━━━━━━━━━━━━━━━━━━━━━━━━━━━━━━━━━\u001b[0m \u001b[32m54.7/54.7 kB\u001b[0m \u001b[31m6.2 MB/s\u001b[0m eta \u001b[36m0:00:00\u001b[0m\n",
            "\u001b[?25hDownloading prometheus_fastapi_instrumentator-7.0.0-py3-none-any.whl (19 kB)\n",
            "Downloading pydantic-2.9.2-py3-none-any.whl (434 kB)\n",
            "\u001b[2K   \u001b[90m━━━━━━━━━━━━━━━━━━━━━━━━━━━━━━━━━━━━━━━━\u001b[0m \u001b[32m434.9/434.9 kB\u001b[0m \u001b[31m36.1 MB/s\u001b[0m eta \u001b[36m0:00:00\u001b[0m\n",
            "\u001b[?25hDownloading pydantic_core-2.23.4-cp310-cp310-manylinux_2_17_x86_64.manylinux2014_x86_64.whl (2.1 MB)\n",
            "\u001b[2K   \u001b[90m━━━━━━━━━━━━━━━━━━━━━━━━━━━━━━━━━━━━━━━━\u001b[0m \u001b[32m2.1/2.1 MB\u001b[0m \u001b[31m78.4 MB/s\u001b[0m eta \u001b[36m0:00:00\u001b[0m\n",
            "\u001b[?25hDownloading PyYAML-6.0.2-cp310-cp310-manylinux_2_17_x86_64.manylinux2014_x86_64.whl (751 kB)\n",
            "\u001b[2K   \u001b[90m━━━━━━━━━━━━━━━━━━━━━━━━━━━━━━━━━━━━━━━━\u001b[0m \u001b[32m751.2/751.2 kB\u001b[0m \u001b[31m52.5 MB/s\u001b[0m eta \u001b[36m0:00:00\u001b[0m\n",
            "\u001b[?25hDownloading ragas-0.1.16-py3-none-any.whl (174 kB)\n",
            "\u001b[2K   \u001b[90m━━━━━━━━━━━━━━━━━━━━━━━━━━━━━━━━━━━━━━━━\u001b[0m \u001b[32m174.5/174.5 kB\u001b[0m \u001b[31m17.9 MB/s\u001b[0m eta \u001b[36m0:00:00\u001b[0m\n",
            "\u001b[?25hDownloading ray-2.38.0-cp310-cp310-manylinux2014_x86_64.whl (66.0 MB)\n",
            "\u001b[2K   \u001b[90m━━━━━━━━━━━━━━━━━━━━━━━━━━━━━━━━━━━━━━━━\u001b[0m \u001b[32m66.0/66.0 MB\u001b[0m \u001b[31m34.1 MB/s\u001b[0m eta \u001b[36m0:00:00\u001b[0m\n",
            "\u001b[?25hDownloading protobuf-5.28.3-cp38-abi3-manylinux2014_x86_64.whl (316 kB)\n",
            "\u001b[2K   \u001b[90m━━━━━━━━━━━━━━━━━━━━━━━━━━━━━━━━━━━━━━━━\u001b[0m \u001b[32m316.6/316.6 kB\u001b[0m \u001b[31m28.2 MB/s\u001b[0m eta \u001b[36m0:00:00\u001b[0m\n",
            "\u001b[?25hDownloading requests-2.32.3-py3-none-any.whl (64 kB)\n",
            "\u001b[2K   \u001b[90m━━━━━━━━━━━━━━━━━━━━━━━━━━━━━━━━━━━━━━━━\u001b[0m \u001b[32m64.9/64.9 kB\u001b[0m \u001b[31m7.0 MB/s\u001b[0m eta \u001b[36m0:00:00\u001b[0m\n",
            "\u001b[?25hDownloading s3transfer-0.10.3-py3-none-any.whl (82 kB)\n",
            "\u001b[2K   \u001b[90m━━━━━━━━━━━━━━━━━━━━━━━━━━━━━━━━━━━━━━━━\u001b[0m \u001b[32m82.6/82.6 kB\u001b[0m \u001b[31m8.9 MB/s\u001b[0m eta \u001b[36m0:00:00\u001b[0m\n",
            "\u001b[?25hDownloading tenacity-9.0.0-py3-none-any.whl (28 kB)\n",
            "Downloading tiktoken-0.7.0-cp310-cp310-manylinux_2_17_x86_64.manylinux2014_x86_64.whl (1.1 MB)\n",
            "\u001b[2K   \u001b[90m━━━━━━━━━━━━━━━━━━━━━━━━━━━━━━━━━━━━━━━━\u001b[0m \u001b[32m1.1/1.1 MB\u001b[0m \u001b[31m60.6 MB/s\u001b[0m eta \u001b[36m0:00:00\u001b[0m\n",
            "\u001b[?25hDownloading tokenizers-0.20.3-cp310-cp310-manylinux_2_17_x86_64.manylinux2014_x86_64.whl (3.0 MB)\n",
            "\u001b[2K   \u001b[90m━━━━━━━━━━━━━━━━━━━━━━━━━━━━━━━━━━━━━━━━\u001b[0m \u001b[32m3.0/3.0 MB\u001b[0m \u001b[31m90.3 MB/s\u001b[0m eta \u001b[36m0:00:00\u001b[0m\n",
            "\u001b[?25hDownloading transformers-4.46.2-py3-none-any.whl (10.0 MB)\n",
            "\u001b[2K   \u001b[90m━━━━━━━━━━━━━━━━━━━━━━━━━━━━━━━━━━━━━━━━\u001b[0m \u001b[32m10.0/10.0 MB\u001b[0m \u001b[31m110.5 MB/s\u001b[0m eta \u001b[36m0:00:00\u001b[0m\n",
            "\u001b[?25hDownloading typing_extensions-4.12.2-py3-none-any.whl (37 kB)\n",
            "Downloading XlsxWriter-3.2.0-py3-none-any.whl (159 kB)\n",
            "\u001b[2K   \u001b[90m━━━━━━━━━━━━━━━━━━━━━━━━━━━━━━━━━━━━━━━━\u001b[0m \u001b[32m159.9/159.9 kB\u001b[0m \u001b[31m16.5 MB/s\u001b[0m eta \u001b[36m0:00:00\u001b[0m\n",
            "\u001b[?25hDownloading aiohttp-3.10.10-cp310-cp310-manylinux_2_17_x86_64.manylinux2014_x86_64.whl (1.2 MB)\n",
            "\u001b[2K   \u001b[90m━━━━━━━━━━━━━━━━━━━━━━━━━━━━━━━━━━━━━━━━\u001b[0m \u001b[32m1.2/1.2 MB\u001b[0m \u001b[31m60.5 MB/s\u001b[0m eta \u001b[36m0:00:00\u001b[0m\n",
            "\u001b[?25hDownloading einops-0.8.0-py3-none-any.whl (43 kB)\n",
            "\u001b[2K   \u001b[90m━━━━━━━━━━━━━━━━━━━━━━━━━━━━━━━━━━━━━━━━\u001b[0m \u001b[32m43.2/43.2 kB\u001b[0m \u001b[31m4.3 MB/s\u001b[0m eta \u001b[36m0:00:00\u001b[0m\n",
            "\u001b[?25hDownloading et_xmlfile-2.0.0-py3-none-any.whl (18 kB)\n",
            "Downloading haystack_experimental-0.3.0-py3-none-any.whl (89 kB)\n",
            "\u001b[2K   \u001b[90m━━━━━━━━━━━━━━━━━━━━━━━━━━━━━━━━━━━━━━━━\u001b[0m \u001b[32m89.4/89.4 kB\u001b[0m \u001b[31m9.4 MB/s\u001b[0m eta \u001b[36m0:00:00\u001b[0m\n",
            "\u001b[?25hDownloading jinja2-3.1.4-py3-none-any.whl (133 kB)\n",
            "\u001b[2K   \u001b[90m━━━━━━━━━━━━━━━━━━━━━━━━━━━━━━━━━━━━━━━━\u001b[0m \u001b[32m133.3/133.3 kB\u001b[0m \u001b[31m14.3 MB/s\u001b[0m eta \u001b[36m0:00:00\u001b[0m\n",
            "\u001b[?25hDownloading lazy_imports-0.3.1-py3-none-any.whl (12 kB)\n",
            "Downloading msgspec-0.18.6-cp310-cp310-manylinux_2_17_x86_64.manylinux2014_x86_64.whl (210 kB)\n",
            "\u001b[2K   \u001b[90m━━━━━━━━━━━━━━━━━━━━━━━━━━━━━━━━━━━━━━━━\u001b[0m \u001b[32m210.3/210.3 kB\u001b[0m \u001b[31m18.3 MB/s\u001b[0m eta \u001b[36m0:00:00\u001b[0m\n",
            "\u001b[?25hDownloading networkx-3.4.2-py3-none-any.whl (1.7 MB)\n",
            "\u001b[2K   \u001b[90m━━━━━━━━━━━━━━━━━━━━━━━━━━━━━━━━━━━━━━━━\u001b[0m \u001b[32m1.7/1.7 MB\u001b[0m \u001b[31m76.3 MB/s\u001b[0m eta \u001b[36m0:00:00\u001b[0m\n",
            "\u001b[?25hDownloading nvidia_ml_py-12.560.30-py3-none-any.whl (40 kB)\n",
            "\u001b[2K   \u001b[90m━━━━━━━━━━━━━━━━━━━━━━━━━━━━━━━━━━━━━━━━\u001b[0m \u001b[32m40.5/40.5 kB\u001b[0m \u001b[31m3.7 MB/s\u001b[0m eta \u001b[36m0:00:00\u001b[0m\n",
            "\u001b[?25hDownloading pandas-2.2.3-cp310-cp310-manylinux_2_17_x86_64.manylinux2014_x86_64.whl (13.1 MB)\n",
            "\u001b[2K   \u001b[90m━━━━━━━━━━━━━━━━━━━━━━━━━━━━━━━━━━━━━━━━\u001b[0m \u001b[32m13.1/13.1 MB\u001b[0m \u001b[31m102.1 MB/s\u001b[0m eta \u001b[36m0:00:00\u001b[0m\n",
            "\u001b[?25hDownloading partial_json_parser-0.2.1.1.post4-py3-none-any.whl (9.9 kB)\n",
            "Downloading py_cpuinfo-9.0.0-py3-none-any.whl (22 kB)\n",
            "Downloading aiohappyeyeballs-2.4.3-py3-none-any.whl (14 kB)\n",
            "Downloading aiosignal-1.3.1-py3-none-any.whl (7.6 kB)\n",
            "Downloading annotated_types-0.7.0-py3-none-any.whl (13 kB)\n",
            "Downloading anyio-4.6.2.post1-py3-none-any.whl (90 kB)\n",
            "\u001b[2K   \u001b[90m━━━━━━━━━━━━━━━━━━━━━━━━━━━━━━━━━━━━━━━━\u001b[0m \u001b[32m90.4/90.4 kB\u001b[0m \u001b[31m8.5 MB/s\u001b[0m eta \u001b[36m0:00:00\u001b[0m\n",
            "\u001b[?25hDownloading async_timeout-4.0.3-py3-none-any.whl (5.7 kB)\n",
            "Downloading attrs-24.2.0-py3-none-any.whl (63 kB)\n",
            "\u001b[2K   \u001b[90m━━━━━━━━━━━━━━━━━━━━━━━━━━━━━━━━━━━━━━━━\u001b[0m \u001b[32m63.0/63.0 kB\u001b[0m \u001b[31m6.6 MB/s\u001b[0m eta \u001b[36m0:00:00\u001b[0m\n",
            "\u001b[?25hDownloading backoff-2.2.1-py3-none-any.whl (15 kB)\n",
            "Downloading bcrypt-4.2.0-cp39-abi3-manylinux_2_28_x86_64.whl (273 kB)\n",
            "\u001b[2K   \u001b[90m━━━━━━━━━━━━━━━━━━━━━━━━━━━━━━━━━━━━━━━━\u001b[0m \u001b[32m273.8/273.8 kB\u001b[0m \u001b[31m26.3 MB/s\u001b[0m eta \u001b[36m0:00:00\u001b[0m\n",
            "\u001b[?25hDownloading build-1.2.2.post1-py3-none-any.whl (22 kB)\n",
            "Downloading charset_normalizer-3.4.0-cp310-cp310-manylinux_2_17_x86_64.manylinux2014_x86_64.whl (144 kB)\n",
            "\u001b[2K   \u001b[90m━━━━━━━━━━━━━━━━━━━━━━━━━━━━━━━━━━━━━━━━\u001b[0m \u001b[32m144.8/144.8 kB\u001b[0m \u001b[31m15.0 MB/s\u001b[0m eta \u001b[36m0:00:00\u001b[0m\n",
            "\u001b[?25hDownloading click-8.1.7-py3-none-any.whl (97 kB)\n",
            "\u001b[2K   \u001b[90m━━━━━━━━━━━━━━━━━━━━━━━━━━━━━━━━━━━━━━━━\u001b[0m \u001b[32m97.9/97.9 kB\u001b[0m \u001b[31m10.0 MB/s\u001b[0m eta \u001b[36m0:00:00\u001b[0m\n",
            "\u001b[?25hDownloading frozenlist-1.5.0-cp310-cp310-manylinux_2_5_x86_64.manylinux1_x86_64.manylinux_2_17_x86_64.manylinux2014_x86_64.whl (241 kB)\n",
            "\u001b[2K   \u001b[90m━━━━━━━━━━━━━━━━━━━━━━━━━━━━━━━━━━━━━━━━\u001b[0m \u001b[32m241.9/241.9 kB\u001b[0m \u001b[31m22.4 MB/s\u001b[0m eta \u001b[36m0:00:00\u001b[0m\n",
            "\u001b[?25hDownloading grpcio-1.67.1-cp310-cp310-manylinux_2_17_x86_64.manylinux2014_x86_64.whl (5.9 MB)\n",
            "\u001b[2K   \u001b[90m━━━━━━━━━━━━━━━━━━━━━━━━━━━━━━━━━━━━━━━━\u001b[0m \u001b[32m5.9/5.9 MB\u001b[0m \u001b[31m102.2 MB/s\u001b[0m eta \u001b[36m0:00:00\u001b[0m\n",
            "\u001b[?25hDownloading h11-0.14.0-py3-none-any.whl (58 kB)\n",
            "\u001b[2K   \u001b[90m━━━━━━━━━━━━━━━━━━━━━━━━━━━━━━━━━━━━━━━━\u001b[0m \u001b[32m58.3/58.3 kB\u001b[0m \u001b[31m5.3 MB/s\u001b[0m eta \u001b[36m0:00:00\u001b[0m\n",
            "\u001b[?25hDownloading httptools-0.6.4-cp310-cp310-manylinux_2_5_x86_64.manylinux1_x86_64.manylinux_2_17_x86_64.manylinux2014_x86_64.whl (442 kB)\n",
            "\u001b[2K   \u001b[90m━━━━━━━━━━━━━━━━━━━━━━━━━━━━━━━━━━━━━━━━\u001b[0m \u001b[32m442.1/442.1 kB\u001b[0m \u001b[31m37.5 MB/s\u001b[0m eta \u001b[36m0:00:00\u001b[0m\n",
            "\u001b[?25hDownloading httpx-0.27.2-py3-none-any.whl (76 kB)\n",
            "\u001b[2K   \u001b[90m━━━━━━━━━━━━━━━━━━━━━━━━━━━━━━━━━━━━━━━━\u001b[0m \u001b[32m76.4/76.4 kB\u001b[0m \u001b[31m7.4 MB/s\u001b[0m eta \u001b[36m0:00:00\u001b[0m\n",
            "\u001b[?25hDownloading httpcore-1.0.6-py3-none-any.whl (78 kB)\n",
            "\u001b[2K   \u001b[90m━━━━━━━━━━━━━━━━━━━━━━━━━━━━━━━━━━━━━━━━\u001b[0m \u001b[32m78.0/78.0 kB\u001b[0m \u001b[31m8.4 MB/s\u001b[0m eta \u001b[36m0:00:00\u001b[0m\n",
            "\u001b[?25hDownloading huggingface_hub-0.26.2-py3-none-any.whl (447 kB)\n",
            "\u001b[2K   \u001b[90m━━━━━━━━━━━━━━━━━━━━━━━━━━━━━━━━━━━━━━━━\u001b[0m \u001b[32m447.5/447.5 kB\u001b[0m \u001b[31m39.0 MB/s\u001b[0m eta \u001b[36m0:00:00\u001b[0m\n",
            "\u001b[?25hDownloading idna-3.10-py3-none-any.whl (70 kB)\n",
            "\u001b[2K   \u001b[90m━━━━━━━━━━━━━━━━━━━━━━━━━━━━━━━━━━━━━━━━\u001b[0m \u001b[32m70.4/70.4 kB\u001b[0m \u001b[31m7.0 MB/s\u001b[0m eta \u001b[36m0:00:00\u001b[0m\n",
            "\u001b[?25hDownloading interegular-0.3.3-py37-none-any.whl (23 kB)\n",
            "Downloading jiter-0.7.0-cp310-cp310-manylinux_2_17_x86_64.manylinux2014_x86_64.whl (327 kB)\n",
            "\u001b[2K   \u001b[90m━━━━━━━━━━━━━━━━━━━━━━━━━━━━━━━━━━━━━━━━\u001b[0m \u001b[32m327.5/327.5 kB\u001b[0m \u001b[31m26.8 MB/s\u001b[0m eta \u001b[36m0:00:00\u001b[0m\n",
            "\u001b[?25hDownloading jsonschema-4.23.0-py3-none-any.whl (88 kB)\n",
            "\u001b[2K   \u001b[90m━━━━━━━━━━━━━━━━━━━━━━━━━━━━━━━━━━━━━━━━\u001b[0m \u001b[32m88.5/88.5 kB\u001b[0m \u001b[31m8.9 MB/s\u001b[0m eta \u001b[36m0:00:00\u001b[0m\n",
            "\u001b[?25hDownloading kubernetes-31.0.0-py2.py3-none-any.whl (1.9 MB)\n",
            "\u001b[2K   \u001b[90m━━━━━━━━━━━━━━━━━━━━━━━━━━━━━━━━━━━━━━━━\u001b[0m \u001b[32m1.9/1.9 MB\u001b[0m \u001b[31m70.6 MB/s\u001b[0m eta \u001b[36m0:00:00\u001b[0m\n",
            "\u001b[?25hDownloading MarkupSafe-3.0.2-cp310-cp310-manylinux_2_17_x86_64.manylinux2014_x86_64.whl (20 kB)\n",
            "Downloading mmh3-5.0.1-cp310-cp310-manylinux_2_5_x86_64.manylinux1_x86_64.manylinux_2_17_x86_64.manylinux2014_x86_64.whl (93 kB)\n",
            "\u001b[2K   \u001b[90m━━━━━━━━━━━━━━━━━━━━━━━━━━━━━━━━━━━━━━━━\u001b[0m \u001b[32m93.2/93.2 kB\u001b[0m \u001b[31m9.6 MB/s\u001b[0m eta \u001b[36m0:00:00\u001b[0m\n",
            "\u001b[?25hDownloading monotonic-1.6-py2.py3-none-any.whl (8.2 kB)\n",
            "Downloading msgpack-1.1.0-cp310-cp310-manylinux_2_17_x86_64.manylinux2014_x86_64.whl (378 kB)\n",
            "\u001b[2K   \u001b[90m━━━━━━━━━━━━━━━━━━━━━━━━━━━━━━━━━━━━━━━━\u001b[0m \u001b[32m378.0/378.0 kB\u001b[0m \u001b[31m31.7 MB/s\u001b[0m eta \u001b[36m0:00:00\u001b[0m\n",
            "\u001b[?25hDownloading multidict-6.1.0-cp310-cp310-manylinux_2_17_x86_64.manylinux2014_x86_64.whl (124 kB)\n",
            "\u001b[2K   \u001b[90m━━━━━━━━━━━━━━━━━━━━━━━━━━━━━━━━━━━━━━━━\u001b[0m \u001b[32m124.6/124.6 kB\u001b[0m \u001b[31m10.8 MB/s\u001b[0m eta \u001b[36m0:00:00\u001b[0m\n",
            "\u001b[?25hDownloading onnxruntime-1.20.0-cp310-cp310-manylinux_2_27_x86_64.manylinux_2_28_x86_64.whl (13.3 MB)\n",
            "\u001b[2K   \u001b[90m━━━━━━━━━━━━━━━━━━━━━━━━━━━━━━━━━━━━━━━━\u001b[0m \u001b[32m13.3/13.3 MB\u001b[0m \u001b[31m98.5 MB/s\u001b[0m eta \u001b[36m0:00:00\u001b[0m\n",
            "\u001b[?25hDownloading opencv_python_headless-4.10.0.84-cp37-abi3-manylinux_2_17_x86_64.manylinux2014_x86_64.whl (49.9 MB)\n",
            "\u001b[2K   \u001b[90m━━━━━━━━━━━━━━━━━━━━━━━━━━━━━━━━━━━━━━━━\u001b[0m \u001b[32m49.9/49.9 MB\u001b[0m \u001b[31m13.7 MB/s\u001b[0m eta \u001b[36m0:00:00\u001b[0m\n",
            "\u001b[?25hDownloading opentelemetry_api-1.28.1-py3-none-any.whl (64 kB)\n",
            "\u001b[2K   \u001b[90m━━━━━━━━━━━━━━━━━━━━━━━━━━━━━━━━━━━━━━━━\u001b[0m \u001b[32m64.3/64.3 kB\u001b[0m \u001b[31m5.9 MB/s\u001b[0m eta \u001b[36m0:00:00\u001b[0m\n",
            "\u001b[?25hDownloading importlib_metadata-8.5.0-py3-none-any.whl (26 kB)\n",
            "Downloading opentelemetry_exporter_otlp_proto_grpc-1.28.1-py3-none-any.whl (18 kB)\n",
            "Downloading opentelemetry_exporter_otlp_proto_common-1.28.1-py3-none-any.whl (18 kB)\n",
            "Downloading opentelemetry_proto-1.28.1-py3-none-any.whl (55 kB)\n",
            "\u001b[2K   \u001b[90m━━━━━━━━━━━━━━━━━━━━━━━━━━━━━━━━━━━━━━━━\u001b[0m \u001b[32m55.8/55.8 kB\u001b[0m \u001b[31m5.7 MB/s\u001b[0m eta \u001b[36m0:00:00\u001b[0m\n",
            "\u001b[?25hDownloading opentelemetry_instrumentation_fastapi-0.49b1-py3-none-any.whl (12 kB)\n",
            "Downloading opentelemetry_instrumentation-0.49b1-py3-none-any.whl (30 kB)\n",
            "Downloading opentelemetry_instrumentation_asgi-0.49b1-py3-none-any.whl (16 kB)\n",
            "Downloading opentelemetry_semantic_conventions-0.49b1-py3-none-any.whl (159 kB)\n",
            "\u001b[2K   \u001b[90m━━━━━━━━━━━━━━━━━━━━━━━━━━━━━━━━━━━━━━━━\u001b[0m \u001b[32m159.2/159.2 kB\u001b[0m \u001b[31m16.3 MB/s\u001b[0m eta \u001b[36m0:00:00\u001b[0m\n",
            "\u001b[?25hDownloading opentelemetry_util_http-0.49b1-py3-none-any.whl (6.9 kB)\n",
            "Downloading opentelemetry_sdk-1.28.1-py3-none-any.whl (118 kB)\n",
            "\u001b[2K   \u001b[90m━━━━━━━━━━━━━━━━━━━━━━━━━━━━━━━━━━━━━━━━\u001b[0m \u001b[32m118.7/118.7 kB\u001b[0m \u001b[31m12.2 MB/s\u001b[0m eta \u001b[36m0:00:00\u001b[0m\n",
            "\u001b[?25hDownloading orjson-3.10.11-cp310-cp310-manylinux_2_17_x86_64.manylinux2014_x86_64.whl (142 kB)\n",
            "\u001b[2K   \u001b[90m━━━━━━━━━━━━━━━━━━━━━━━━━━━━━━━━━━━━━━━━\u001b[0m \u001b[32m142.5/142.5 kB\u001b[0m \u001b[31m14.5 MB/s\u001b[0m eta \u001b[36m0:00:00\u001b[0m\n",
            "\u001b[?25hDownloading overrides-7.7.0-py3-none-any.whl (17 kB)\n",
            "Downloading packaging-24.2-py3-none-any.whl (65 kB)\n",
            "\u001b[2K   \u001b[90m━━━━━━━━━━━━━━━━━━━━━━━━━━━━━━━━━━━━━━━━\u001b[0m \u001b[32m65.5/65.5 kB\u001b[0m \u001b[31m6.9 MB/s\u001b[0m eta \u001b[36m0:00:00\u001b[0m\n",
            "\u001b[?25hDownloading pysbd-0.3.4-py3-none-any.whl (71 kB)\n",
            "\u001b[2K   \u001b[90m━━━━━━━━━━━━━━━━━━━━━━━━━━━━━━━━━━━━━━━━\u001b[0m \u001b[32m71.1/71.1 kB\u001b[0m \u001b[31m7.6 MB/s\u001b[0m eta \u001b[36m0:00:00\u001b[0m\n",
            "\u001b[?25hDownloading python_dotenv-1.0.1-py3-none-any.whl (19 kB)\n",
            "Downloading pytz-2024.2-py2.py3-none-any.whl (508 kB)\n",
            "\u001b[2K   \u001b[90m━━━━━━━━━━━━━━━━━━━━━━━━━━━━━━━━━━━━━━━━\u001b[0m \u001b[32m508.0/508.0 kB\u001b[0m \u001b[31m40.7 MB/s\u001b[0m eta \u001b[36m0:00:00\u001b[0m\n",
            "\u001b[?25hDownloading referencing-0.35.1-py3-none-any.whl (26 kB)\n",
            "Downloading regex-2024.11.6-cp310-cp310-manylinux_2_17_x86_64.manylinux2014_x86_64.whl (781 kB)\n",
            "\u001b[2K   \u001b[90m━━━━━━━━━━━━━━━━━━━━━━━━━━━━━━━━━━━━━━━━\u001b[0m \u001b[32m781.7/781.7 kB\u001b[0m \u001b[31m54.7 MB/s\u001b[0m eta \u001b[36m0:00:00\u001b[0m\n",
            "\u001b[?25hDownloading rich-13.9.4-py3-none-any.whl (242 kB)\n",
            "\u001b[2K   \u001b[90m━━━━━━━━━━━━━━━━━━━━━━━━━━━━━━━━━━━━━━━━\u001b[0m \u001b[32m242.4/242.4 kB\u001b[0m \u001b[31m24.2 MB/s\u001b[0m eta \u001b[36m0:00:00\u001b[0m\n",
            "\u001b[?25hDownloading safetensors-0.4.5-cp310-cp310-manylinux_2_17_x86_64.manylinux2014_x86_64.whl (435 kB)\n",
            "\u001b[2K   \u001b[90m━━━━━━━━━━━━━━━━━━━━━━━━━━━━━━━━━━━━━━━━\u001b[0m \u001b[32m435.0/435.0 kB\u001b[0m \u001b[31m35.1 MB/s\u001b[0m eta \u001b[36m0:00:00\u001b[0m\n",
            "\u001b[?25hDownloading sniffio-1.3.1-py3-none-any.whl (10 kB)\n",
            "Downloading starlette-0.41.2-py3-none-any.whl (73 kB)\n",
            "\u001b[2K   \u001b[90m━━━━━━━━━━━━━━━━━━━━━━━━━━━━━━━━━━━━━━━━\u001b[0m \u001b[32m73.3/73.3 kB\u001b[0m \u001b[31m8.2 MB/s\u001b[0m eta \u001b[36m0:00:00\u001b[0m\n",
            "\u001b[?25hDownloading typer-0.13.0-py3-none-any.whl (44 kB)\n",
            "\u001b[2K   \u001b[90m━━━━━━━━━━━━━━━━━━━━━━━━━━━━━━━━━━━━━━━━\u001b[0m \u001b[32m44.2/44.2 kB\u001b[0m \u001b[31m4.2 MB/s\u001b[0m eta \u001b[36m0:00:00\u001b[0m\n",
            "\u001b[?25hDownloading tzdata-2024.2-py2.py3-none-any.whl (346 kB)\n",
            "\u001b[2K   \u001b[90m━━━━━━━━━━━━━━━━━━━━━━━━━━━━━━━━━━━━━━━━\u001b[0m \u001b[32m346.6/346.6 kB\u001b[0m \u001b[31m31.6 MB/s\u001b[0m eta \u001b[36m0:00:00\u001b[0m\n",
            "\u001b[?25hDownloading urllib3-2.2.3-py3-none-any.whl (126 kB)\n",
            "\u001b[2K   \u001b[90m━━━━━━━━━━━━━━━━━━━━━━━━━━━━━━━━━━━━━━━━\u001b[0m \u001b[32m126.3/126.3 kB\u001b[0m \u001b[31m13.5 MB/s\u001b[0m eta \u001b[36m0:00:00\u001b[0m\n",
            "\u001b[?25hDownloading uvicorn-0.32.0-py3-none-any.whl (63 kB)\n",
            "\u001b[2K   \u001b[90m━━━━━━━━━━━━━━━━━━━━━━━━━━━━━━━━━━━━━━━━\u001b[0m \u001b[32m63.7/63.7 kB\u001b[0m \u001b[31m6.9 MB/s\u001b[0m eta \u001b[36m0:00:00\u001b[0m\n",
            "\u001b[?25hDownloading uvloop-0.21.0-cp310-cp310-manylinux_2_17_x86_64.manylinux2014_x86_64.whl (3.8 MB)\n",
            "\u001b[2K   \u001b[90m━━━━━━━━━━━━━━━━━━━━━━━━━━━━━━━━━━━━━━━━\u001b[0m \u001b[32m3.8/3.8 MB\u001b[0m \u001b[31m92.4 MB/s\u001b[0m eta \u001b[36m0:00:00\u001b[0m\n",
            "\u001b[?25hDownloading watchfiles-0.24.0-cp310-cp310-manylinux_2_17_x86_64.manylinux2014_x86_64.whl (425 kB)\n",
            "\u001b[2K   \u001b[90m━━━━━━━━━━━━━━━━━━━━━━━━━━━━━━━━━━━━━━━━\u001b[0m \u001b[32m425.7/425.7 kB\u001b[0m \u001b[31m36.4 MB/s\u001b[0m eta \u001b[36m0:00:00\u001b[0m\n",
            "\u001b[?25hDownloading websockets-14.0-cp310-cp310-manylinux_2_5_x86_64.manylinux1_x86_64.manylinux_2_17_x86_64.manylinux2014_x86_64.whl (167 kB)\n",
            "\u001b[2K   \u001b[90m━━━━━━━━━━━━━━━━━━━━━━━━━━━━━━━━━━━━━━━━\u001b[0m \u001b[32m167.5/167.5 kB\u001b[0m \u001b[31m17.0 MB/s\u001b[0m eta \u001b[36m0:00:00\u001b[0m\n",
            "\u001b[?25hDownloading yarl-1.17.1-cp310-cp310-manylinux_2_17_x86_64.manylinux2014_x86_64.whl (318 kB)\n",
            "\u001b[2K   \u001b[90m━━━━━━━━━━━━━━━━━━━━━━━━━━━━━━━━━━━━━━━━\u001b[0m \u001b[32m318.7/318.7 kB\u001b[0m \u001b[31m27.9 MB/s\u001b[0m eta \u001b[36m0:00:00\u001b[0m\n",
            "\u001b[?25hDownloading zipp-3.20.2-py3-none-any.whl (9.2 kB)\n",
            "Downloading appdirs-1.4.4-py2.py3-none-any.whl (9.6 kB)\n",
            "Downloading cloudpickle-3.1.0-py3-none-any.whl (22 kB)\n",
            "Downloading datasets-3.1.0-py3-none-any.whl (480 kB)\n",
            "\u001b[2K   \u001b[90m━━━━━━━━━━━━━━━━━━━━━━━━━━━━━━━━━━━━━━━━\u001b[0m \u001b[32m480.6/480.6 kB\u001b[0m \u001b[31m32.7 MB/s\u001b[0m eta \u001b[36m0:00:00\u001b[0m\n",
            "\u001b[?25hDownloading fsspec-2024.9.0-py3-none-any.whl (179 kB)\n",
            "\u001b[2K   \u001b[90m━━━━━━━━━━━━━━━━━━━━━━━━━━━━━━━━━━━━━━━━\u001b[0m \u001b[32m179.3/179.3 kB\u001b[0m \u001b[31m18.6 MB/s\u001b[0m eta \u001b[36m0:00:00\u001b[0m\n",
            "\u001b[?25hDownloading diskcache-5.6.3-py3-none-any.whl (45 kB)\n",
            "\u001b[2K   \u001b[90m━━━━━━━━━━━━━━━━━━━━━━━━━━━━━━━━━━━━━━━━\u001b[0m \u001b[32m45.5/45.5 kB\u001b[0m \u001b[31m4.2 MB/s\u001b[0m eta \u001b[36m0:00:00\u001b[0m\n",
            "\u001b[?25hDownloading importlib_resources-6.4.5-py3-none-any.whl (36 kB)\n",
            "Downloading langchain-0.3.7-py3-none-any.whl (1.0 MB)\n",
            "\u001b[2K   \u001b[90m━━━━━━━━━━━━━━━━━━━━━━━━━━━━━━━━━━━━━━━━\u001b[0m \u001b[32m1.0/1.0 MB\u001b[0m \u001b[31m59.1 MB/s\u001b[0m eta \u001b[36m0:00:00\u001b[0m\n",
            "\u001b[?25hDownloading langchain_core-0.3.15-py3-none-any.whl (408 kB)\n",
            "\u001b[2K   \u001b[90m━━━━━━━━━━━━━━━━━━━━━━━━━━━━━━━━━━━━━━━━\u001b[0m \u001b[32m408.7/408.7 kB\u001b[0m \u001b[31m36.1 MB/s\u001b[0m eta \u001b[36m0:00:00\u001b[0m\n",
            "\u001b[?25hDownloading langchain_community-0.3.5-py3-none-any.whl (2.4 MB)\n",
            "\u001b[2K   \u001b[90m━━━━━━━━━━━━━━━━━━━━━━━━━━━━━━━━━━━━━━━━\u001b[0m \u001b[32m2.4/2.4 MB\u001b[0m \u001b[31m85.2 MB/s\u001b[0m eta \u001b[36m0:00:00\u001b[0m\n",
            "\u001b[?25hDownloading langchain_openai-0.2.6-py3-none-any.whl (50 kB)\n",
            "\u001b[2K   \u001b[90m━━━━━━━━━━━━━━━━━━━━━━━━━━━━━━━━━━━━━━━━\u001b[0m \u001b[32m50.4/50.4 kB\u001b[0m \u001b[31m4.8 MB/s\u001b[0m eta \u001b[36m0:00:00\u001b[0m\n",
            "\u001b[?25hDownloading lark-1.2.2-py3-none-any.whl (111 kB)\n",
            "\u001b[2K   \u001b[90m━━━━━━━━━━━━━━━━━━━━━━━━━━━━━━━━━━━━━━━━\u001b[0m \u001b[32m111.0/111.0 kB\u001b[0m \u001b[31m12.1 MB/s\u001b[0m eta \u001b[36m0:00:00\u001b[0m\n",
            "\u001b[?25hDownloading nest_asyncio-1.6.0-py3-none-any.whl (5.2 kB)\n",
            "Downloading numba-0.60.0-cp310-cp310-manylinux2014_x86_64.manylinux_2_17_x86_64.whl (3.7 MB)\n",
            "\u001b[2K   \u001b[90m━━━━━━━━━━━━━━━━━━━━━━━━━━━━━━━━━━━━━━━━\u001b[0m \u001b[32m3.7/3.7 MB\u001b[0m \u001b[31m97.6 MB/s\u001b[0m eta \u001b[36m0:00:00\u001b[0m\n",
            "\u001b[?25hDownloading pyairports-2.1.1-py3-none-any.whl (371 kB)\n",
            "\u001b[2K   \u001b[90m━━━━━━━━━━━━━━━━━━━━━━━━━━━━━━━━━━━━━━━━\u001b[0m \u001b[32m371.7/371.7 kB\u001b[0m \u001b[31m34.8 MB/s\u001b[0m eta \u001b[36m0:00:00\u001b[0m\n",
            "\u001b[?25hDownloading pycountry-24.6.1-py3-none-any.whl (6.3 MB)\n",
            "\u001b[2K   \u001b[90m━━━━━━━━━━━━━━━━━━━━━━━━━━━━━━━━━━━━━━━━\u001b[0m \u001b[32m6.3/6.3 MB\u001b[0m \u001b[31m111.1 MB/s\u001b[0m eta \u001b[36m0:00:00\u001b[0m\n",
            "\u001b[?25hDownloading sympy-1.13.3-py3-none-any.whl (6.2 MB)\n",
            "\u001b[2K   \u001b[90m━━━━━━━━━━━━━━━━━━━━━━━━━━━━━━━━━━━━━━━━\u001b[0m \u001b[32m6.2/6.2 MB\u001b[0m \u001b[31m104.8 MB/s\u001b[0m eta \u001b[36m0:00:00\u001b[0m\n",
            "\u001b[?25hDownloading dataclasses_json-0.6.7-py3-none-any.whl (28 kB)\n",
            "Downloading Deprecated-1.2.14-py2.py3-none-any.whl (9.6 kB)\n",
            "Downloading dill-0.3.8-py3-none-any.whl (116 kB)\n",
            "\u001b[2K   \u001b[90m━━━━━━━━━━━━━━━━━━━━━━━━━━━━━━━━━━━━━━━━\u001b[0m \u001b[32m116.3/116.3 kB\u001b[0m \u001b[31m12.1 MB/s\u001b[0m eta \u001b[36m0:00:00\u001b[0m\n",
            "\u001b[?25hDownloading durationpy-0.9-py3-none-any.whl (3.5 kB)\n",
            "Downloading exceptiongroup-1.2.2-py3-none-any.whl (16 kB)\n",
            "Downloading httpx_sse-0.4.0-py3-none-any.whl (7.8 kB)\n",
            "Downloading jsonpatch-1.33-py2.py3-none-any.whl (12 kB)\n",
            "Downloading jsonschema_specifications-2024.10.1-py3-none-any.whl (18 kB)\n",
            "Downloading langchain_text_splitters-0.3.2-py3-none-any.whl (25 kB)\n",
            "Downloading langsmith-0.1.142-py3-none-any.whl (306 kB)\n",
            "\u001b[2K   \u001b[90m━━━━━━━━━━━━━━━━━━━━━━━━━━━━━━━━━━━━━━━━\u001b[0m \u001b[32m306.7/306.7 kB\u001b[0m \u001b[31m28.0 MB/s\u001b[0m eta \u001b[36m0:00:00\u001b[0m\n",
            "\u001b[?25hDownloading llvmlite-0.43.0-cp310-cp310-manylinux_2_17_x86_64.manylinux2014_x86_64.whl (43.9 MB)\n",
            "\u001b[2K   \u001b[90m━━━━━━━━━━━━━━━━━━━━━━━━━━━━━━━━━━━━━━━━\u001b[0m \u001b[32m43.9/43.9 MB\u001b[0m \u001b[31m49.7 MB/s\u001b[0m eta \u001b[36m0:00:00\u001b[0m\n",
            "\u001b[?25hDownloading mpmath-1.3.0-py3-none-any.whl (536 kB)\n",
            "\u001b[2K   \u001b[90m━━━━━━━━━━━━━━━━━━━━━━━━━━━━━━━━━━━━━━━━\u001b[0m \u001b[32m536.2/536.2 kB\u001b[0m \u001b[31m38.8 MB/s\u001b[0m eta \u001b[36m0:00:00\u001b[0m\n",
            "\u001b[?25hDownloading multiprocess-0.70.16-py310-none-any.whl (134 kB)\n",
            "\u001b[2K   \u001b[90m━━━━━━━━━━━━━━━━━━━━━━━━━━━━━━━━━━━━━━━━\u001b[0m \u001b[32m134.8/134.8 kB\u001b[0m \u001b[31m14.4 MB/s\u001b[0m eta \u001b[36m0:00:00\u001b[0m\n",
            "\u001b[?25hDownloading oauthlib-3.2.2-py3-none-any.whl (151 kB)\n",
            "\u001b[2K   \u001b[90m━━━━━━━━━━━━━━━━━━━━━━━━━━━━━━━━━━━━━━━━\u001b[0m \u001b[32m151.7/151.7 kB\u001b[0m \u001b[31m15.9 MB/s\u001b[0m eta \u001b[36m0:00:00\u001b[0m\n",
            "\u001b[?25hDownloading propcache-0.2.0-cp310-cp310-manylinux_2_17_x86_64.manylinux2014_x86_64.whl (208 kB)\n",
            "\u001b[2K   \u001b[90m━━━━━━━━━━━━━━━━━━━━━━━━━━━━━━━━━━━━━━━━\u001b[0m \u001b[32m208.9/208.9 kB\u001b[0m \u001b[31m18.4 MB/s\u001b[0m eta \u001b[36m0:00:00\u001b[0m\n",
            "\u001b[?25hDownloading pyarrow-18.0.0-cp310-cp310-manylinux_2_28_x86_64.whl (40.0 MB)\n",
            "\u001b[2K   \u001b[90m━━━━━━━━━━━━━━━━━━━━━━━━━━━━━━━━━━━━━━━━\u001b[0m \u001b[32m40.0/40.0 MB\u001b[0m \u001b[31m55.7 MB/s\u001b[0m eta \u001b[36m0:00:00\u001b[0m\n",
            "\u001b[?25hDownloading pydantic_settings-2.6.1-py3-none-any.whl (28 kB)\n",
            "Downloading pygments-2.18.0-py3-none-any.whl (1.2 MB)\n",
            "\u001b[2K   \u001b[90m━━━━━━━━━━━━━━━━━━━━━━━━━━━━━━━━━━━━━━━━\u001b[0m \u001b[32m1.2/1.2 MB\u001b[0m \u001b[31m63.7 MB/s\u001b[0m eta \u001b[36m0:00:00\u001b[0m\n",
            "\u001b[?25hDownloading rpds_py-0.21.0-cp310-cp310-manylinux_2_17_x86_64.manylinux2014_x86_64.whl (360 kB)\n",
            "\u001b[2K   \u001b[90m━━━━━━━━━━━━━━━━━━━━━━━━━━━━━━━━━━━━━━━━\u001b[0m \u001b[32m360.8/360.8 kB\u001b[0m \u001b[31m31.2 MB/s\u001b[0m eta \u001b[36m0:00:00\u001b[0m\n",
            "\u001b[?25hDownloading shellingham-1.5.4-py2.py3-none-any.whl (9.8 kB)\n",
            "Downloading SQLAlchemy-2.0.35-cp310-cp310-manylinux_2_17_x86_64.manylinux2014_x86_64.whl (3.1 MB)\n",
            "\u001b[2K   \u001b[90m━━━━━━━━━━━━━━━━━━━━━━━━━━━━━━━━━━━━━━━━\u001b[0m \u001b[32m3.1/3.1 MB\u001b[0m \u001b[31m88.1 MB/s\u001b[0m eta \u001b[36m0:00:00\u001b[0m\n",
            "\u001b[?25hDownloading tomli-2.0.2-py3-none-any.whl (13 kB)\n",
            "Downloading websocket_client-1.8.0-py3-none-any.whl (58 kB)\n",
            "\u001b[2K   \u001b[90m━━━━━━━━━━━━━━━━━━━━━━━━━━━━━━━━━━━━━━━━\u001b[0m \u001b[32m58.8/58.8 kB\u001b[0m \u001b[31m5.8 MB/s\u001b[0m eta \u001b[36m0:00:00\u001b[0m\n",
            "\u001b[?25hDownloading coloredlogs-15.0.1-py2.py3-none-any.whl (46 kB)\n",
            "\u001b[2K   \u001b[90m━━━━━━━━━━━━━━━━━━━━━━━━━━━━━━━━━━━━━━━━\u001b[0m \u001b[32m46.0/46.0 kB\u001b[0m \u001b[31m3.8 MB/s\u001b[0m eta \u001b[36m0:00:00\u001b[0m\n",
            "\u001b[?25hDownloading flatbuffers-24.3.25-py2.py3-none-any.whl (26 kB)\n",
            "Downloading nvidia_nvjitlink_cu12-12.6.77-py3-none-manylinux2014_x86_64.whl (19.7 MB)\n",
            "\u001b[2K   \u001b[90m━━━━━━━━━━━━━━━━━━━━━━━━━━━━━━━━━━━━━━━━\u001b[0m \u001b[32m19.7/19.7 MB\u001b[0m \u001b[31m90.7 MB/s\u001b[0m eta \u001b[36m0:00:00\u001b[0m\n",
            "\u001b[?25hDownloading pyproject_hooks-1.2.0-py3-none-any.whl (10 kB)\n",
            "Downloading requests_oauthlib-2.0.0-py2.py3-none-any.whl (24 kB)\n",
            "Downloading xxhash-3.5.0-cp310-cp310-manylinux_2_17_x86_64.manylinux2014_x86_64.whl (194 kB)\n",
            "\u001b[2K   \u001b[90m━━━━━━━━━━━━━━━━━━━━━━━━━━━━━━━━━━━━━━━━\u001b[0m \u001b[32m194.1/194.1 kB\u001b[0m \u001b[31m18.8 MB/s\u001b[0m eta \u001b[36m0:00:00\u001b[0m\n",
            "\u001b[?25hDownloading asgiref-3.8.1-py3-none-any.whl (23 kB)\n",
            "Downloading cachetools-5.5.0-py3-none-any.whl (9.5 kB)\n",
            "Downloading greenlet-3.1.1-cp310-cp310-manylinux_2_24_x86_64.manylinux_2_28_x86_64.whl (599 kB)\n",
            "\u001b[2K   \u001b[90m━━━━━━━━━━━━━━━━━━━━━━━━━━━━━━━━━━━━━━━━\u001b[0m \u001b[32m599.5/599.5 kB\u001b[0m \u001b[31m42.2 MB/s\u001b[0m eta \u001b[36m0:00:00\u001b[0m\n",
            "\u001b[?25hDownloading humanfriendly-10.0-py2.py3-none-any.whl (86 kB)\n",
            "\u001b[2K   \u001b[90m━━━━━━━━━━━━━━━━━━━━━━━━━━━━━━━━━━━━━━━━\u001b[0m \u001b[32m86.8/86.8 kB\u001b[0m \u001b[31m8.5 MB/s\u001b[0m eta \u001b[36m0:00:00\u001b[0m\n",
            "\u001b[?25hDownloading jsonpointer-3.0.0-py2.py3-none-any.whl (7.6 kB)\n",
            "Downloading marshmallow-3.23.1-py3-none-any.whl (49 kB)\n",
            "\u001b[2K   \u001b[90m━━━━━━━━━━━━━━━━━━━━━━━━━━━━━━━━━━━━━━━━\u001b[0m \u001b[32m49.5/49.5 kB\u001b[0m \u001b[31m5.0 MB/s\u001b[0m eta \u001b[36m0:00:00\u001b[0m\n",
            "\u001b[?25hDownloading pyasn1_modules-0.4.1-py3-none-any.whl (181 kB)\n",
            "\u001b[2K   \u001b[90m━━━━━━━━━━━━━━━━━━━━━━━━━━━━━━━━━━━━━━━━\u001b[0m \u001b[32m181.5/181.5 kB\u001b[0m \u001b[31m17.5 MB/s\u001b[0m eta \u001b[36m0:00:00\u001b[0m\n",
            "\u001b[?25hDownloading requests_toolbelt-1.0.0-py2.py3-none-any.whl (54 kB)\n",
            "\u001b[2K   \u001b[90m━━━━━━━━━━━━━━━━━━━━━━━━━━━━━━━━━━━━━━━━\u001b[0m \u001b[32m54.5/54.5 kB\u001b[0m \u001b[31m5.6 MB/s\u001b[0m eta \u001b[36m0:00:00\u001b[0m\n",
            "\u001b[?25hDownloading rsa-4.9-py3-none-any.whl (34 kB)\n",
            "Downloading typing_inspect-0.9.0-py3-none-any.whl (8.8 kB)\n",
            "Downloading wrapt-1.16.0-cp310-cp310-manylinux_2_5_x86_64.manylinux1_x86_64.manylinux_2_17_x86_64.manylinux2014_x86_64.whl (80 kB)\n",
            "\u001b[2K   \u001b[90m━━━━━━━━━━━━━━━━━━━━━━━━━━━━━━━━━━━━━━━━\u001b[0m \u001b[32m80.3/80.3 kB\u001b[0m \u001b[31m7.4 MB/s\u001b[0m eta \u001b[36m0:00:00\u001b[0m\n",
            "\u001b[?25hDownloading mypy_extensions-1.0.0-py3-none-any.whl (4.7 kB)\n",
            "Downloading pyasn1-0.6.1-py3-none-any.whl (83 kB)\n",
            "\u001b[2K   \u001b[90m━━━━━━━━━━━━━━━━━━━━━━━━━━━━━━━━━━━━━━━━\u001b[0m \u001b[32m83.1/83.1 kB\u001b[0m \u001b[31m9.2 MB/s\u001b[0m eta \u001b[36m0:00:00\u001b[0m\n",
            "\u001b[?25hBuilding wheels for collected packages: pypika\n",
            "  Building wheel for pypika (pyproject.toml) ... \u001b[?25l\u001b[?25hdone\n",
            "  Created wheel for pypika: filename=PyPika-0.48.9-py2.py3-none-any.whl size=53725 sha256=7b3e5aba428b6394e431bb98deec4e146562eb736723d14bd3fa531046c40221\n",
            "  Stored in directory: /root/.cache/pip/wheels/e1/26/51/d0bffb3d2fd82256676d7ad3003faea3bd6dddc9577af665f4\n",
            "Successfully built pypika\n",
            "Installing collected packages: sentencepiece, pytz, pypika, pyairports, py-cpuinfo, nvidia-ml-py, mpmath, monotonic, flatbuffers, durationpy, appdirs, zipp, xxhash, XlsxWriter, wrapt, websockets, websocket-client, uvloop, urllib3, tzdata, typing_extensions, tomli, tenacity, sympy, sniffio, shellingham, safetensors, rpds-py, regex, pyyaml, python-dotenv, pysbd, pyproject_hooks, PyPDF2, pygments, pycountry, pyasn1, pyarrow, protobuf, propcache, prometheus-client, partial-json-parser, packaging, overrides, orjson, opentelemetry-util-http, oauthlib, nvidia-nvtx-cu12, nvidia-nvjitlink-cu12, nvidia-nccl-cu12, nvidia-curand-cu12, nvidia-cufft-cu12, nvidia-cuda-runtime-cu12, nvidia-cuda-nvrtc-cu12, nvidia-cuda-cupti-cu12, nvidia-cublas-cu12, numpy, networkx, nest-asyncio, mypy-extensions, msgspec, msgpack, mmh3, mdurl, mdit_plain, MarkupSafe, lxml, llvmlite, lazy-imports, lark, jsonpointer, jmespath, jiter, interegular, importlib-resources, idna, humanfriendly, httpx-sse, httptools, h11, grpcio, greenlet, fsspec, frozenlist, filelock, exceptiongroup, et-xmlfile, einops, diskcache, dill, cloudpickle, click, charset-normalizer, cachetools, bcrypt, backoff, attrs, async-timeout, annotated-types, aiohappyeyeballs, uvicorn, typing-inspect, triton, SQLAlchemy, rsa, requests, referencing, python-pptx, python-docx, pypdf, pydantic-core, pyasn1-modules, pandas, opentelemetry-proto, openpyxl, opencv-python-headless, nvidia-cusparse-cu12, nvidia-cudnn-cu12, numba, multiprocess, multidict, marshmallow, markdown-it-py, jsonpatch, jinja2, importlib-metadata, httpcore, gguf, deprecated, coloredlogs, chroma-hnswlib, build, botocore, asgiref, anyio, aiosignal, yarl, watchfiles, tiktoken, starlette, s3transfer, rich, requests-toolbelt, requests-oauthlib, pydantic, posthog, opentelemetry-exporter-otlp-proto-common, opentelemetry-api, onnxruntime, nvidia-cusolver-cu12, jsonschema-specifications, huggingface-hub, httpx, dataclasses-json, typer, torch, tokenizers, pydantic-settings, prometheus-fastapi-instrumentator, opentelemetry-semantic-conventions, openai, lm-format-enforcer, langsmith, kubernetes, jsonschema, fastapi, boto3, aiohttp, xformers, transformers, torchvision, ray, opentelemetry-sdk, opentelemetry-instrumentation, mistral-common, langchain-core, opentelemetry-instrumentation-asgi, opentelemetry-exporter-otlp-proto-grpc, langchain-text-splitters, langchain-openai, datasets, compressed-tensors, outlines, opentelemetry-instrumentation-fastapi, langchain, vllm, langchain-community, chromadb, ragas, haystack-experimental, haystack-ai, ragas-haystack, chroma-haystack\n",
            "  Attempting uninstall: zipp\n",
            "    Found existing installation: zipp 1.0.0\n",
            "    Uninstalling zipp-1.0.0:\n",
            "      Successfully uninstalled zipp-1.0.0\n",
            "  Attempting uninstall: oauthlib\n",
            "    Found existing installation: oauthlib 3.2.0\n",
            "    Uninstalling oauthlib-3.2.0:\n",
            "      Successfully uninstalled oauthlib-3.2.0\n",
            "  Attempting uninstall: importlib-metadata\n",
            "    Found existing installation: importlib-metadata 4.6.4\n",
            "    Uninstalling importlib-metadata-4.6.4:\n",
            "      Successfully uninstalled importlib-metadata-4.6.4\n",
            "\u001b[31mERROR: pip's dependency resolver does not currently take into account all the packages that are installed. This behaviour is the source of the following dependency conflicts.\n",
            "google-ai-generativelanguage 0.6.10 requires proto-plus<2.0.0dev,>=1.22.3, which is not installed.\n",
            "google-api-core 2.19.2 requires proto-plus<2.0.0dev,>=1.22.3, which is not installed.\n",
            "google-api-python-client 2.137.0 requires uritemplate<5,>=3.0.1, which is not installed.\n",
            "google-cloud-aiplatform 1.70.0 requires docstring-parser<1, which is not installed.\n",
            "google-cloud-aiplatform 1.70.0 requires proto-plus<2.0.0dev,>=1.22.3, which is not installed.\n",
            "google-cloud-aiplatform 1.70.0 requires shapely<3.0.0dev, which is not installed.\n",
            "google-cloud-bigquery-connection 1.15.5 requires proto-plus<2.0.0dev,>=1.22.3, which is not installed.\n",
            "google-cloud-bigquery-storage 2.27.0 requires proto-plus<2.0.0dev,>=1.22.0, which is not installed.\n",
            "google-cloud-bigtable 2.26.0 requires proto-plus<2.0.0dev,>=1.22.3, which is not installed.\n",
            "google-cloud-datastore 2.19.0 requires proto-plus<2.0.0dev,>=1.22.0, which is not installed.\n",
            "google-cloud-firestore 2.16.1 requires proto-plus<2.0.0dev,>=1.22.0, which is not installed.\n",
            "google-cloud-functions 1.16.5 requires proto-plus<2.0.0dev,>=1.22.3, which is not installed.\n",
            "google-cloud-iam 2.16.0 requires proto-plus<2.0.0dev,>=1.22.3, which is not installed.\n",
            "google-cloud-language 2.13.4 requires proto-plus<2.0.0dev,>=1.22.3, which is not installed.\n",
            "google-cloud-pubsub 2.25.0 requires grpcio-status>=1.33.2, which is not installed.\n",
            "google-cloud-pubsub 2.25.0 requires proto-plus<2.0.0dev,>=1.22.0, which is not installed.\n",
            "google-cloud-resource-manager 1.13.0 requires proto-plus<2.0.0dev,>=1.22.3, which is not installed.\n",
            "google-cloud-translate 3.15.5 requires proto-plus<2.0.0dev,>=1.22.3, which is not installed.\n",
            "google-colab 1.0.0 requires ipyparallel==8.8.0, which is not installed.\n",
            "google-colab 1.0.0 requires notebook==6.5.5, which is not installed.\n",
            "google-colab 1.0.0 requires portpicker==1.5.2, which is not installed.\n",
            "ipython 7.34.0 requires backcall, which is not installed.\n",
            "ipython 7.34.0 requires jedi>=0.16, which is not installed.\n",
            "ipython 7.34.0 requires matplotlib-inline, which is not installed.\n",
            "ipython 7.34.0 requires pickleshare, which is not installed.\n",
            "ipython 7.34.0 requires prompt-toolkit!=3.0.0,!=3.0.1,<3.1.0,>=2.0.0, which is not installed.\n",
            "ipython 7.34.0 requires traitlets>=4.2, which is not installed.\n",
            "ipython-sql 0.5.0 requires prettytable, which is not installed.\n",
            "ipython-sql 0.5.0 requires sqlparse, which is not installed.\n",
            "google-cloud-datastore 2.19.0 requires protobuf!=3.20.0,!=3.20.1,!=4.21.0,!=4.21.1,!=4.21.2,!=4.21.3,!=4.21.4,!=4.21.5,<5.0.0dev,>=3.19.5, but you have protobuf 5.28.3 which is incompatible.\n",
            "google-cloud-firestore 2.16.1 requires protobuf!=3.20.0,!=3.20.1,!=4.21.0,!=4.21.1,!=4.21.2,!=4.21.3,!=4.21.4,!=4.21.5,<5.0.0dev,>=3.19.5, but you have protobuf 5.28.3 which is incompatible.\n",
            "google-colab 1.0.0 requires pandas==2.2.2, but you have pandas 2.2.3 which is incompatible.\u001b[0m\u001b[31m\n",
            "\u001b[0mSuccessfully installed MarkupSafe-3.0.2 PyPDF2-3.0.1 SQLAlchemy-2.0.35 XlsxWriter-3.2.0 aiohappyeyeballs-2.4.3 aiohttp-3.10.10 aiosignal-1.3.1 annotated-types-0.7.0 anyio-4.6.2.post1 appdirs-1.4.4 asgiref-3.8.1 async-timeout-4.0.3 attrs-24.2.0 backoff-2.2.1 bcrypt-4.2.0 boto3-1.35.57 botocore-1.35.57 build-1.2.2.post1 cachetools-5.5.0 charset-normalizer-3.4.0 chroma-haystack-1.0.0 chroma-hnswlib-0.7.6 chromadb-0.5.18 click-8.1.7 cloudpickle-3.1.0 coloredlogs-15.0.1 compressed-tensors-0.6.0 dataclasses-json-0.6.7 datasets-3.1.0 deprecated-1.2.14 dill-0.3.8 diskcache-5.6.3 durationpy-0.9 einops-0.8.0 et-xmlfile-2.0.0 exceptiongroup-1.2.2 fastapi-0.115.4 filelock-3.16.1 flatbuffers-24.3.25 frozenlist-1.5.0 fsspec-2024.9.0 gguf-0.10.0 greenlet-3.1.1 grpcio-1.67.1 h11-0.14.0 haystack-ai-2.6.1 haystack-experimental-0.3.0 httpcore-1.0.6 httptools-0.6.4 httpx-0.27.2 httpx-sse-0.4.0 huggingface-hub-0.26.2 humanfriendly-10.0 idna-3.10 importlib-metadata-8.5.0 importlib-resources-6.4.5 interegular-0.3.3 jinja2-3.1.4 jiter-0.7.0 jmespath-1.0.1 jsonpatch-1.33 jsonpointer-3.0.0 jsonschema-4.23.0 jsonschema-specifications-2024.10.1 kubernetes-31.0.0 langchain-0.3.7 langchain-community-0.3.5 langchain-core-0.3.15 langchain-openai-0.2.6 langchain-text-splitters-0.3.2 langsmith-0.1.142 lark-1.2.2 lazy-imports-0.3.1 llvmlite-0.43.0 lm-format-enforcer-0.10.6 lxml-5.3.0 markdown-it-py-3.0.0 marshmallow-3.23.1 mdit_plain-1.0.1 mdurl-0.1.2 mistral-common-1.4.4 mmh3-5.0.1 monotonic-1.6 mpmath-1.3.0 msgpack-1.1.0 msgspec-0.18.6 multidict-6.1.0 multiprocess-0.70.16 mypy-extensions-1.0.0 nest-asyncio-1.6.0 networkx-3.4.2 numba-0.60.0 numpy-1.26.4 nvidia-cublas-cu12-12.1.3.1 nvidia-cuda-cupti-cu12-12.1.105 nvidia-cuda-nvrtc-cu12-12.1.105 nvidia-cuda-runtime-cu12-12.1.105 nvidia-cudnn-cu12-9.1.0.70 nvidia-cufft-cu12-11.0.2.54 nvidia-curand-cu12-10.3.2.106 nvidia-cusolver-cu12-11.4.5.107 nvidia-cusparse-cu12-12.1.0.106 nvidia-ml-py-12.560.30 nvidia-nccl-cu12-2.20.5 nvidia-nvjitlink-cu12-12.6.77 nvidia-nvtx-cu12-12.1.105 oauthlib-3.2.2 onnxruntime-1.20.0 openai-1.54.3 opencv-python-headless-4.10.0.84 openpyxl-3.1.5 opentelemetry-api-1.28.1 opentelemetry-exporter-otlp-proto-common-1.28.1 opentelemetry-exporter-otlp-proto-grpc-1.28.1 opentelemetry-instrumentation-0.49b1 opentelemetry-instrumentation-asgi-0.49b1 opentelemetry-instrumentation-fastapi-0.49b1 opentelemetry-proto-1.28.1 opentelemetry-sdk-1.28.1 opentelemetry-semantic-conventions-0.49b1 opentelemetry-util-http-0.49b1 orjson-3.10.11 outlines-0.0.46 overrides-7.7.0 packaging-24.2 pandas-2.2.3 partial-json-parser-0.2.1.1.post4 posthog-3.7.0 prometheus-client-0.21.0 prometheus-fastapi-instrumentator-7.0.0 propcache-0.2.0 protobuf-5.28.3 py-cpuinfo-9.0.0 pyairports-2.1.1 pyarrow-18.0.0 pyasn1-0.6.1 pyasn1-modules-0.4.1 pycountry-24.6.1 pydantic-2.9.2 pydantic-core-2.23.4 pydantic-settings-2.6.1 pygments-2.18.0 pypdf-5.1.0 pypika-0.48.9 pyproject_hooks-1.2.0 pysbd-0.3.4 python-docx-1.1.2 python-dotenv-1.0.1 python-pptx-1.0.2 pytz-2024.2 pyyaml-6.0.2 ragas-0.1.16 ragas-haystack-1.0.1 ray-2.38.0 referencing-0.35.1 regex-2024.11.6 requests-2.32.3 requests-oauthlib-2.0.0 requests-toolbelt-1.0.0 rich-13.9.4 rpds-py-0.21.0 rsa-4.9 s3transfer-0.10.3 safetensors-0.4.5 sentencepiece-0.2.0 shellingham-1.5.4 sniffio-1.3.1 starlette-0.41.2 sympy-1.13.3 tenacity-9.0.0 tiktoken-0.7.0 tokenizers-0.20.3 tomli-2.0.2 torch-2.4.0 torchvision-0.19.0 transformers-4.46.2 triton-3.0.0 typer-0.13.0 typing-inspect-0.9.0 typing_extensions-4.12.2 tzdata-2024.2 urllib3-2.2.3 uvicorn-0.32.0 uvloop-0.21.0 vllm-0.6.3.post1 watchfiles-0.24.0 websocket-client-1.8.0 websockets-14.0 wrapt-1.16.0 xformers-0.0.27.post2 xxhash-3.5.0 yarl-1.17.1 zipp-3.20.2\n",
            "Requirement already satisfied: datasets>=2.6.1 in /usr/local/lib/python3.10/dist-packages (3.1.0)\n",
            "Collecting sentence-transformers>=3.0.0\n",
            "  Downloading sentence_transformers-3.2.1-py3-none-any.whl.metadata (10 kB)\n",
            "Requirement already satisfied: filelock in /usr/local/lib/python3.10/dist-packages (from datasets>=2.6.1) (3.16.1)\n",
            "Requirement already satisfied: numpy>=1.17 in /usr/local/lib/python3.10/dist-packages (from datasets>=2.6.1) (1.26.4)\n",
            "Requirement already satisfied: pyarrow>=15.0.0 in /usr/local/lib/python3.10/dist-packages (from datasets>=2.6.1) (18.0.0)\n",
            "Requirement already satisfied: dill<0.3.9,>=0.3.0 in /usr/local/lib/python3.10/dist-packages (from datasets>=2.6.1) (0.3.8)\n",
            "Requirement already satisfied: pandas in /usr/local/lib/python3.10/dist-packages (from datasets>=2.6.1) (2.2.3)\n",
            "Requirement already satisfied: requests>=2.32.2 in /usr/local/lib/python3.10/dist-packages (from datasets>=2.6.1) (2.32.3)\n",
            "Requirement already satisfied: tqdm>=4.66.3 in /usr/local/lib/python3.10/dist-packages (from datasets>=2.6.1) (4.66.6)\n",
            "Requirement already satisfied: xxhash in /usr/local/lib/python3.10/dist-packages (from datasets>=2.6.1) (3.5.0)\n",
            "Requirement already satisfied: multiprocess<0.70.17 in /usr/local/lib/python3.10/dist-packages (from datasets>=2.6.1) (0.70.16)\n",
            "Requirement already satisfied: fsspec<=2024.9.0,>=2023.1.0 in /usr/local/lib/python3.10/dist-packages (from fsspec[http]<=2024.9.0,>=2023.1.0->datasets>=2.6.1) (2024.9.0)\n",
            "Requirement already satisfied: aiohttp in /usr/local/lib/python3.10/dist-packages (from datasets>=2.6.1) (3.10.10)\n",
            "Requirement already satisfied: huggingface-hub>=0.23.0 in /usr/local/lib/python3.10/dist-packages (from datasets>=2.6.1) (0.26.2)\n",
            "Requirement already satisfied: packaging in /usr/local/lib/python3.10/dist-packages (from datasets>=2.6.1) (24.2)\n",
            "Requirement already satisfied: pyyaml>=5.1 in /usr/local/lib/python3.10/dist-packages (from datasets>=2.6.1) (6.0.2)\n",
            "Requirement already satisfied: transformers<5.0.0,>=4.41.0 in /usr/local/lib/python3.10/dist-packages (from sentence-transformers>=3.0.0) (4.46.2)\n",
            "Requirement already satisfied: torch>=1.11.0 in /usr/local/lib/python3.10/dist-packages (from sentence-transformers>=3.0.0) (2.4.0)\n",
            "Collecting scikit-learn (from sentence-transformers>=3.0.0)\n",
            "  Downloading scikit_learn-1.5.2-cp310-cp310-manylinux_2_17_x86_64.manylinux2014_x86_64.whl.metadata (13 kB)\n",
            "Collecting scipy (from sentence-transformers>=3.0.0)\n",
            "  Downloading scipy-1.14.1-cp310-cp310-manylinux_2_17_x86_64.manylinux2014_x86_64.whl.metadata (60 kB)\n",
            "\u001b[2K     \u001b[90m━━━━━━━━━━━━━━━━━━━━━━━━━━━━━━━━━━━━━━━━\u001b[0m \u001b[32m60.8/60.8 kB\u001b[0m \u001b[31m3.5 MB/s\u001b[0m eta \u001b[36m0:00:00\u001b[0m\n",
            "\u001b[?25hRequirement already satisfied: Pillow in /usr/local/lib/python3.10/dist-packages (from sentence-transformers>=3.0.0) (10.4.0)\n",
            "Requirement already satisfied: aiohappyeyeballs>=2.3.0 in /usr/local/lib/python3.10/dist-packages (from aiohttp->datasets>=2.6.1) (2.4.3)\n",
            "Requirement already satisfied: aiosignal>=1.1.2 in /usr/local/lib/python3.10/dist-packages (from aiohttp->datasets>=2.6.1) (1.3.1)\n",
            "Requirement already satisfied: attrs>=17.3.0 in /usr/local/lib/python3.10/dist-packages (from aiohttp->datasets>=2.6.1) (24.2.0)\n",
            "Requirement already satisfied: frozenlist>=1.1.1 in /usr/local/lib/python3.10/dist-packages (from aiohttp->datasets>=2.6.1) (1.5.0)\n",
            "Requirement already satisfied: multidict<7.0,>=4.5 in /usr/local/lib/python3.10/dist-packages (from aiohttp->datasets>=2.6.1) (6.1.0)\n",
            "Requirement already satisfied: yarl<2.0,>=1.12.0 in /usr/local/lib/python3.10/dist-packages (from aiohttp->datasets>=2.6.1) (1.17.1)\n",
            "Requirement already satisfied: async-timeout<5.0,>=4.0 in /usr/local/lib/python3.10/dist-packages (from aiohttp->datasets>=2.6.1) (4.0.3)\n",
            "Requirement already satisfied: typing-extensions>=3.7.4.3 in /usr/local/lib/python3.10/dist-packages (from huggingface-hub>=0.23.0->datasets>=2.6.1) (4.12.2)\n",
            "Requirement already satisfied: charset-normalizer<4,>=2 in /usr/local/lib/python3.10/dist-packages (from requests>=2.32.2->datasets>=2.6.1) (3.4.0)\n",
            "Requirement already satisfied: idna<4,>=2.5 in /usr/local/lib/python3.10/dist-packages (from requests>=2.32.2->datasets>=2.6.1) (3.10)\n",
            "Requirement already satisfied: urllib3<3,>=1.21.1 in /usr/local/lib/python3.10/dist-packages (from requests>=2.32.2->datasets>=2.6.1) (2.2.3)\n",
            "Requirement already satisfied: certifi>=2017.4.17 in /usr/local/lib/python3.10/dist-packages (from requests>=2.32.2->datasets>=2.6.1) (2024.8.30)\n",
            "Requirement already satisfied: sympy in /usr/local/lib/python3.10/dist-packages (from torch>=1.11.0->sentence-transformers>=3.0.0) (1.13.3)\n",
            "Requirement already satisfied: networkx in /usr/local/lib/python3.10/dist-packages (from torch>=1.11.0->sentence-transformers>=3.0.0) (3.4.2)\n",
            "Requirement already satisfied: jinja2 in /usr/local/lib/python3.10/dist-packages (from torch>=1.11.0->sentence-transformers>=3.0.0) (3.1.4)\n",
            "Requirement already satisfied: nvidia-cuda-nvrtc-cu12==12.1.105 in /usr/local/lib/python3.10/dist-packages (from torch>=1.11.0->sentence-transformers>=3.0.0) (12.1.105)\n",
            "Requirement already satisfied: nvidia-cuda-runtime-cu12==12.1.105 in /usr/local/lib/python3.10/dist-packages (from torch>=1.11.0->sentence-transformers>=3.0.0) (12.1.105)\n",
            "Requirement already satisfied: nvidia-cuda-cupti-cu12==12.1.105 in /usr/local/lib/python3.10/dist-packages (from torch>=1.11.0->sentence-transformers>=3.0.0) (12.1.105)\n",
            "Requirement already satisfied: nvidia-cudnn-cu12==9.1.0.70 in /usr/local/lib/python3.10/dist-packages (from torch>=1.11.0->sentence-transformers>=3.0.0) (9.1.0.70)\n",
            "Requirement already satisfied: nvidia-cublas-cu12==12.1.3.1 in /usr/local/lib/python3.10/dist-packages (from torch>=1.11.0->sentence-transformers>=3.0.0) (12.1.3.1)\n",
            "Requirement already satisfied: nvidia-cufft-cu12==11.0.2.54 in /usr/local/lib/python3.10/dist-packages (from torch>=1.11.0->sentence-transformers>=3.0.0) (11.0.2.54)\n",
            "Requirement already satisfied: nvidia-curand-cu12==10.3.2.106 in /usr/local/lib/python3.10/dist-packages (from torch>=1.11.0->sentence-transformers>=3.0.0) (10.3.2.106)\n",
            "Requirement already satisfied: nvidia-cusolver-cu12==11.4.5.107 in /usr/local/lib/python3.10/dist-packages (from torch>=1.11.0->sentence-transformers>=3.0.0) (11.4.5.107)\n",
            "Requirement already satisfied: nvidia-cusparse-cu12==12.1.0.106 in /usr/local/lib/python3.10/dist-packages (from torch>=1.11.0->sentence-transformers>=3.0.0) (12.1.0.106)\n",
            "Requirement already satisfied: nvidia-nccl-cu12==2.20.5 in /usr/local/lib/python3.10/dist-packages (from torch>=1.11.0->sentence-transformers>=3.0.0) (2.20.5)\n",
            "Requirement already satisfied: nvidia-nvtx-cu12==12.1.105 in /usr/local/lib/python3.10/dist-packages (from torch>=1.11.0->sentence-transformers>=3.0.0) (12.1.105)\n",
            "Requirement already satisfied: triton==3.0.0 in /usr/local/lib/python3.10/dist-packages (from torch>=1.11.0->sentence-transformers>=3.0.0) (3.0.0)\n",
            "Requirement already satisfied: nvidia-nvjitlink-cu12 in /usr/local/lib/python3.10/dist-packages (from nvidia-cusolver-cu12==11.4.5.107->torch>=1.11.0->sentence-transformers>=3.0.0) (12.6.77)\n",
            "Requirement already satisfied: regex!=2019.12.17 in /usr/local/lib/python3.10/dist-packages (from transformers<5.0.0,>=4.41.0->sentence-transformers>=3.0.0) (2024.11.6)\n",
            "Requirement already satisfied: safetensors>=0.4.1 in /usr/local/lib/python3.10/dist-packages (from transformers<5.0.0,>=4.41.0->sentence-transformers>=3.0.0) (0.4.5)\n",
            "Requirement already satisfied: tokenizers<0.21,>=0.20 in /usr/local/lib/python3.10/dist-packages (from transformers<5.0.0,>=4.41.0->sentence-transformers>=3.0.0) (0.20.3)\n",
            "Requirement already satisfied: python-dateutil>=2.8.2 in /usr/local/lib/python3.10/dist-packages (from pandas->datasets>=2.6.1) (2.8.2)\n",
            "Requirement already satisfied: pytz>=2020.1 in /usr/local/lib/python3.10/dist-packages (from pandas->datasets>=2.6.1) (2024.2)\n",
            "Requirement already satisfied: tzdata>=2022.7 in /usr/local/lib/python3.10/dist-packages (from pandas->datasets>=2.6.1) (2024.2)\n",
            "Collecting joblib>=1.2.0 (from scikit-learn->sentence-transformers>=3.0.0)\n",
            "  Downloading joblib-1.4.2-py3-none-any.whl.metadata (5.4 kB)\n",
            "Collecting threadpoolctl>=3.1.0 (from scikit-learn->sentence-transformers>=3.0.0)\n",
            "  Downloading threadpoolctl-3.5.0-py3-none-any.whl.metadata (13 kB)\n",
            "Requirement already satisfied: six>=1.5 in /usr/lib/python3/dist-packages (from python-dateutil>=2.8.2->pandas->datasets>=2.6.1) (1.16.0)\n",
            "Requirement already satisfied: propcache>=0.2.0 in /usr/local/lib/python3.10/dist-packages (from yarl<2.0,>=1.12.0->aiohttp->datasets>=2.6.1) (0.2.0)\n",
            "Requirement already satisfied: MarkupSafe>=2.0 in /usr/local/lib/python3.10/dist-packages (from jinja2->torch>=1.11.0->sentence-transformers>=3.0.0) (3.0.2)\n",
            "Requirement already satisfied: mpmath<1.4,>=1.1.0 in /usr/local/lib/python3.10/dist-packages (from sympy->torch>=1.11.0->sentence-transformers>=3.0.0) (1.3.0)\n",
            "Downloading sentence_transformers-3.2.1-py3-none-any.whl (255 kB)\n",
            "\u001b[2K   \u001b[90m━━━━━━━━━━━━━━━━━━━━━━━━━━━━━━━━━━━━━━━━\u001b[0m \u001b[32m255.8/255.8 kB\u001b[0m \u001b[31m6.5 MB/s\u001b[0m eta \u001b[36m0:00:00\u001b[0m\n",
            "\u001b[?25hDownloading scikit_learn-1.5.2-cp310-cp310-manylinux_2_17_x86_64.manylinux2014_x86_64.whl (13.3 MB)\n",
            "\u001b[2K   \u001b[90m━━━━━━━━━━━━━━━━━━━━━━━━━━━━━━━━━━━━━━━━\u001b[0m \u001b[32m13.3/13.3 MB\u001b[0m \u001b[31m88.9 MB/s\u001b[0m eta \u001b[36m0:00:00\u001b[0m\n",
            "\u001b[?25hDownloading scipy-1.14.1-cp310-cp310-manylinux_2_17_x86_64.manylinux2014_x86_64.whl (41.2 MB)\n",
            "\u001b[2K   \u001b[90m━━━━━━━━━━━━━━━━━━━━━━━━━━━━━━━━━━━━━━━━\u001b[0m \u001b[32m41.2/41.2 MB\u001b[0m \u001b[31m52.9 MB/s\u001b[0m eta \u001b[36m0:00:00\u001b[0m\n",
            "\u001b[?25hDownloading joblib-1.4.2-py3-none-any.whl (301 kB)\n",
            "\u001b[2K   \u001b[90m━━━━━━━━━━━━━━━━━━━━━━━━━━━━━━━━━━━━━━━━\u001b[0m \u001b[32m301.8/301.8 kB\u001b[0m \u001b[31m18.8 MB/s\u001b[0m eta \u001b[36m0:00:00\u001b[0m\n",
            "\u001b[?25hDownloading threadpoolctl-3.5.0-py3-none-any.whl (18 kB)\n",
            "Installing collected packages: threadpoolctl, scipy, joblib, scikit-learn, sentence-transformers\n",
            "Successfully installed joblib-1.4.2 scikit-learn-1.5.2 scipy-1.14.1 sentence-transformers-3.2.1 threadpoolctl-3.5.0\n",
            "Файл requirements.txt успешно сохранен и скопирован в Google Drive по пути: /content/drive/MyDrive/HacksAI/СЗФО24/requirements.txt\n"
          ]
        }
      ]
    },
    {
      "cell_type": "markdown",
      "source": [
        "### Импорты"
      ],
      "metadata": {
        "id": "ItSEVc-bIWBq"
      }
    },
    {
      "cell_type": "code",
      "source": [
        "from haystack import Pipeline, Document, component\n",
        "from haystack.components.converters import PyPDFToDocument, DOCXToDocument, PPTXToDocument\n",
        "from haystack.components.converters.csv import CSVToDocument\n",
        "from haystack.components.preprocessors import DocumentSplitter, DocumentCleaner\n",
        "from haystack.components.routers import FileTypeRouter\n",
        "from haystack.components.joiners import DocumentJoiner\n",
        "from haystack_integrations.document_stores.chroma import ChromaDocumentStore\n",
        "from haystack.document_stores.in_memory import InMemoryDocumentStore\n",
        "from haystack_integrations.components.retrievers.chroma import ChromaEmbeddingRetriever\n",
        "from haystack.components.embedders import SentenceTransformersDocumentEmbedder\n",
        "from haystack.components.writers import DocumentWriter\n",
        "from haystack.utils import ComponentDevice, Device, Secret\n",
        "from haystack.components.retrievers.in_memory import InMemoryEmbeddingRetriever, InMemoryBM25Retriever\n",
        "from haystack.components.embedders import SentenceTransformersTextEmbedder\n",
        "from haystack.components.generators.chat import OpenAIChatGenerator\n",
        "from haystack.dataclasses import ChatMessage, ChatRole\n",
        "from haystack.components.builders import ChatPromptBuilder"
      ],
      "metadata": {
        "id": "xl9spM6VIbDL",
        "colab": {
          "base_uri": "https://localhost:8080/"
        },
        "outputId": "aded4af7-c233-43f4-ed6f-2367f1c911b1"
      },
      "execution_count": null,
      "outputs": [
        {
          "output_type": "stream",
          "name": "stderr",
          "text": [
            "/usr/local/lib/python3.10/dist-packages/haystack/core/errors.py:34: DeprecationWarning: PipelineMaxLoops is deprecated and will be remove in version '2.7.0'; use PipelineMaxComponentRuns instead.\n",
            "  warnings.warn(\n",
            "/usr/local/lib/python3.10/dist-packages/tqdm/auto.py:21: TqdmWarning: IProgress not found. Please update jupyter and ipywidgets. See https://ipywidgets.readthedocs.io/en/stable/user_install.html\n",
            "  from .autonotebook import tqdm as notebook_tqdm\n"
          ]
        }
      ]
    },
    {
      "cell_type": "code",
      "source": [
        "from pathlib import Path\n",
        "from pprint import pprint\n",
        "\n",
        "import yaml\n",
        "import requests\n",
        "from datetime import datetime, timezone\n",
        "from PyPDF2 import PdfReader\n",
        "\n",
        "import gc\n",
        "import torch\n",
        "import re\n",
        "import json\n",
        "from pydantic import BaseModel\n",
        "from typing import List, Optional, Dict, Any, Union\n",
        "from jinja2 import Template\n",
        "\n",
        "import os\n",
        "import time\n",
        "import pandas as pd\n",
        "\n",
        "# s3 client\n",
        "import boto3\n",
        "from botocore.exceptions import ClientError, NoCredentialsError\n",
        "\n",
        "# pdf2image converter\n",
        "# from pdf2image import convert_from_path\n",
        "from PIL import Image\n",
        "import logging\n",
        "\n",
        "from google.colab import userdata"
      ],
      "metadata": {
        "id": "vUNhKhFZInyr"
      },
      "execution_count": null,
      "outputs": []
    },
    {
      "cell_type": "code",
      "source": [
        "if torch.cuda.is_available():\n",
        "    device = ComponentDevice.from_single(Device.gpu(id=0))\n",
        "else:\n",
        "    device = ComponentDevice.from_single(Device.cpu())"
      ],
      "metadata": {
        "id": "TNxOQpmxIlCH"
      },
      "execution_count": null,
      "outputs": []
    },
    {
      "cell_type": "markdown",
      "source": [
        "### Переменные окружения"
      ],
      "metadata": {
        "id": "0CSt1sl4IY8O"
      }
    },
    {
      "cell_type": "code",
      "source": [
        "base_congif_dir = '/content/drive/MyDrive/HacksAI/international24/config'\n",
        "\n",
        "os.environ['PROMPTS_CONFIG_PATH'] = os.path.join(base_congif_dir, 'prompts.yaml')\n",
        "os.environ['DICTS_CONFIG_PATH'] = os.path.join(base_congif_dir, 'dicts.yaml')\n",
        "os.environ['RAG_CONFIG_PATH'] = os.path.join(base_congif_dir, 'rag.yaml')\n",
        "os.environ['API_CONFIG_PATH'] = os.path.join(base_congif_dir, 'api.yaml')\n",
        "\n",
        "os.environ['VLLM_URL'] = \"http://localhost:8000/v1\"\n",
        "os.environ['CHROMA_HOSTNAME'] = \"localhost\"\n",
        "os.environ['CHROMA_PORT'] = \"8081\""
      ],
      "metadata": {
        "id": "oNozecFoIq4Y"
      },
      "execution_count": null,
      "outputs": []
    },
    {
      "cell_type": "code",
      "source": [
        "from google.colab import userdata\n",
        "\n",
        "os.environ['MAIN_DOCS_DIR'] = \"/content/drive/MyDrive/HacksAI/international24/dataset\"\n",
        "os.environ['API_KEY'] = userdata.get('OPENAI_API_KEY')\n",
        "os.environ['YANDEX_API_TOKEN'] = userdata.get('YANDEX_API_TOKEN')"
      ],
      "metadata": {
        "id": "d6uaKUWoDFWe"
      },
      "execution_count": null,
      "outputs": []
    },
    {
      "cell_type": "code",
      "source": [
        "VLLM_URL = os.getenv(\"VLLM_URL\")\n",
        "CHROMA_HOSTNAME = os.getenv(\"CHROMA_HOSTNAME\")\n",
        "CHROMA_PORT = os.getenv(\"CHROMA_PORT\")\n",
        "\n",
        "YANDEX_API_TOKEN = os.getenv(\"YANDEX_API_TOKEN\")"
      ],
      "metadata": {
        "id": "vZQaG8BpKPWI"
      },
      "execution_count": null,
      "outputs": []
    },
    {
      "cell_type": "markdown",
      "source": [
        "### Конфиги"
      ],
      "metadata": {
        "id": "Z87AqdnWIsak"
      }
    },
    {
      "cell_type": "code",
      "source": [
        "MAIN_DOCS_DIR = os.getenv('MAIN_DOCS_DIR')\n",
        "\n",
        "# PROMPT CONFIG\n",
        "PROMPTS_CONFIG_PATH = os.getenv(\"PROMPTS_CONFIG_PATH\")\n",
        "with open(PROMPTS_CONFIG_PATH, 'r', encoding='utf-8') as file:\n",
        "    prompt_config = yaml.safe_load(file)"
      ],
      "metadata": {
        "id": "ebnnQTejIwXt"
      },
      "execution_count": null,
      "outputs": []
    },
    {
      "cell_type": "code",
      "source": [
        "# DICTS CONFIG\n",
        "DICTS_CONFIG_PATH = os.getenv(\"DICTS_CONFIG_PATH\")\n",
        "with open(DICTS_CONFIG_PATH, 'r') as file:\n",
        "    dicts_config = yaml.safe_load(file)"
      ],
      "metadata": {
        "id": "f8jjwF9TKtYE"
      },
      "execution_count": null,
      "outputs": []
    },
    {
      "cell_type": "code",
      "source": [
        "# RAG CONFIG\n",
        "RAG_CONFIG_PATH = os.getenv(\"RAG_CONFIG_PATH\")\n",
        "with open(RAG_CONFIG_PATH, \"r\") as file:\n",
        "    rag_config = yaml.safe_load(file)\n",
        "\n",
        "model = rag_config.get(\"model\")\n",
        "embedding_model = rag_config.get(\"embedding_model\")\n",
        "\n",
        "split_function_config = rag_config.get(\"split_function\", {})\n",
        "max_chunk_size = split_function_config.get(\"max_chunk_size\", 300)\n",
        "overlap = split_function_config.get(\"overlap\", 0)\n",
        "\n",
        "rag_gen_kwargs = rag_config.get(\"rag_gen_kwargs\", {})\n",
        "json_gen_kwargs = rag_config.get(\"json_gen_kwargs\", {})"
      ],
      "metadata": {
        "id": "sCIjf6n5LR1W"
      },
      "execution_count": null,
      "outputs": []
    },
    {
      "cell_type": "code",
      "source": [
        "# API CONFIG\n",
        "API_CONFIG_PATH = os.getenv(\"API_CONFIG_PATH\")\n",
        "with open(API_CONFIG_PATH, \"r\", encoding='utf-8') as config_file:\n",
        "  api_config = yaml.safe_load(config_file)\n",
        "\n",
        "# Извлечение URL и эндпоинтов из конфигурации\n",
        "BASE_URL = api_config[\"api\"][\"base_url\"]\n",
        "POLL_ENDPOINT = f\"{BASE_URL}{api_config['api']['endpoints']['poll']}\"\n",
        "COMPLETE_ENDPOINT = f\"{BASE_URL}{api_config['api']['endpoints']['complete']}\""
      ],
      "metadata": {
        "id": "1vBJJTfQwU6i"
      },
      "execution_count": null,
      "outputs": []
    },
    {
      "cell_type": "markdown",
      "source": [
        "### Кастомные обёртки компонент\n",
        "#### Query Expander, который поможет расширить вопросы для поиска по Базе знаний"
      ],
      "metadata": {
        "id": "hqlTZ_yrCKQj"
      }
    },
    {
      "cell_type": "code",
      "execution_count": null,
      "metadata": {
        "id": "5iFkV-2Lf57b"
      },
      "outputs": [],
      "source": [
        "@component\n",
        "class QueryExpander:\n",
        "    def __init__(\n",
        "            self,\n",
        "            system_prompt: str,\n",
        "            user_prompt_template: str,\n",
        "            json_gen_kwargs,\n",
        "    ):\n",
        "        self.system_prompt = system_prompt\n",
        "        self.user_prompt_template = user_prompt_template\n",
        "\n",
        "        builder = ChatPromptBuilder(variables=[\"query\", \"user_info\"])\n",
        "        llm = create_generator(json_gen_kwargs)\n",
        "\n",
        "        self.pipeline = Pipeline()\n",
        "        self.pipeline.add_component(name=\"builder\", instance=builder)\n",
        "        self.pipeline.add_component(name=\"llm\", instance=llm)\n",
        "        self.pipeline.connect(\"builder\", \"llm\")\n",
        "\n",
        "\n",
        "    @component.output_types(queries=List[str])\n",
        "    def run(\n",
        "        self,\n",
        "        query: str,\n",
        "        ):\n",
        "        messages = [\n",
        "            ChatMessage.from_system(self.system_prompt),\n",
        "            ChatMessage.from_user(self.user_prompt_template)\n",
        "        ]\n",
        "\n",
        "        result = self.pipeline.run({\n",
        "            'builder': {\n",
        "                'template': messages,\n",
        "                'query': query,\n",
        "            }\n",
        "        })\n",
        "\n",
        "        response_text = result['llm']['replies'][0].content\n",
        "\n",
        "        def extract_json_array(text):\n",
        "            last_bracket_idx = text.rfind(']')\n",
        "            if last_bracket_idx == -1:\n",
        "                return None, text\n",
        "            first_bracket_idx = text.rfind('[', 0, last_bracket_idx)\n",
        "            if first_bracket_idx == -1:\n",
        "                return None, text\n",
        "            json_str = text[first_bracket_idx:last_bracket_idx+1]\n",
        "            remaining_text = text[:first_bracket_idx].strip()\n",
        "            return json_str, remaining_text\n",
        "\n",
        "        json_str, remaining_text = extract_json_array(response_text)\n",
        "\n",
        "        expanded_queries = []\n",
        "\n",
        "        if json_str:\n",
        "            try:\n",
        "                expanded_queries = json.loads(json_str)\n",
        "\n",
        "            except Exception as e:\n",
        "              print(e)\n",
        "              return {\"queries\": [query]}\n",
        "\n",
        "        expanded_queries.append(query)\n",
        "\n",
        "        return {\"queries\": expanded_queries}"
      ]
    },
    {
      "cell_type": "markdown",
      "source": [
        "#### Класс для Text Embedder'а, способный работать сразу с несколькими запросами (которые приходят после Query Expander'a)"
      ],
      "metadata": {
        "id": "a7PvJ5pet7zy"
      }
    },
    {
      "cell_type": "code",
      "execution_count": null,
      "metadata": {
        "id": "0lz-COjB-Qls"
      },
      "outputs": [],
      "source": [
        "@component\n",
        "class MultiQueryTextEmbedder:\n",
        "    def __init__(self, embedder: SentenceTransformersTextEmbedder, top_k: int = 1):\n",
        "        self.embedder = embedder\n",
        "        self.embedder.warm_up()\n",
        "        self.results = []\n",
        "        self.ids = set()\n",
        "        self.top_k = top_k\n",
        "\n",
        "    @component.output_types(embeddings=List[List[str]])\n",
        "    def run(self, queries: List[str]):\n",
        "      self.results = []\n",
        "      for query in queries:\n",
        "        self.results.append(self.embedder.run(query))\n",
        "\n",
        "      return {\"embeddings\": self.results}"
      ]
    },
    {
      "cell_type": "markdown",
      "source": [
        "#### Embedding Retriever, способный к векторному поиску по сразу нескольким эмбеддингам"
      ],
      "metadata": {
        "id": "pA5mJ4ytuK1s"
      }
    },
    {
      "cell_type": "code",
      "source": [
        "@component\n",
        "class MultiQueryInMemoryRetriever:\n",
        "    def __init__(self, retriever: InMemoryEmbeddingRetriever, filters=None, top_k: int = 3, score_threshold: float = 0.0):\n",
        "\n",
        "        self.retriever = retriever\n",
        "        self.results = []\n",
        "        self.ids = set()\n",
        "        self.top_k = top_k\n",
        "        self.filters=filters\n",
        "        self.score_threshold = score_threshold\n",
        "\n",
        "    def add_document(self, document: Document):\n",
        "        if (document.id not in self.ids) and (document.score > self.score_threshold):\n",
        "            self.results.append(document)\n",
        "            self.ids.add(document.id)\n",
        "\n",
        "    @component.output_types(documents=List[Document])\n",
        "    def run(self, emdeddings: List[List[str]], filters=None):\n",
        "        self.results = []\n",
        "        self.ids = set()\n",
        "\n",
        "        for emdedding in emdeddings:\n",
        "          result = self.retriever.run(query_embedding=emdedding['embedding'], filters=filters, top_k = self.top_k)\n",
        "          for doc in result['documents']:\n",
        "            self.add_document(doc)\n",
        "\n",
        "        self.results.sort(key=lambda x: x.score, reverse=True)\n",
        "\n",
        "        return {\"documents\": self.results}"
      ],
      "metadata": {
        "id": "QLdty87ACXU6"
      },
      "execution_count": null,
      "outputs": []
    },
    {
      "cell_type": "markdown",
      "source": [
        "#### BM25 Retriever, который делает поиск по ключевым словам сразу по нескольким вопросам"
      ],
      "metadata": {
        "id": "4fI3r9NJuSzo"
      }
    },
    {
      "cell_type": "code",
      "source": [
        "@component\n",
        "class MultiQueryInMemoryBM25Retriever:\n",
        "    def __init__(self, retriever: InMemoryBM25Retriever, top_k: int = 3, filters=None):\n",
        "\n",
        "        self.retriever = retriever\n",
        "        self.results = []\n",
        "        self.ids = set()\n",
        "        self.filters=filters\n",
        "        self.top_k = top_k\n",
        "\n",
        "    def add_document(self, document: Document):\n",
        "        if document.id not in self.ids:\n",
        "            self.results.append(document)\n",
        "            self.ids.add(document.id)\n",
        "\n",
        "    @component.output_types(documents=List[Document])\n",
        "    def run(self, queries: List[str], top_k: int = None, filters=None):\n",
        "        self.results = []\n",
        "        self.ids = set()\n",
        "        if top_k != None:\n",
        "          self.top_k = top_k\n",
        "        for query in queries:\n",
        "          result = self.retriever.run(query = query, filters = filters, top_k = self.top_k)\n",
        "          for doc in result['documents']:\n",
        "            self.add_document(doc)\n",
        "        self.results.sort(key=lambda x: x.score, reverse=True)\n",
        "        return {\"documents\": self.results}"
      ],
      "metadata": {
        "id": "gcC78PkZCbN9"
      },
      "execution_count": null,
      "outputs": []
    },
    {
      "cell_type": "markdown",
      "metadata": {
        "id": "DH8HEymp6XFZ"
      },
      "source": [
        "## Создадим пайплайн для индексации документов"
      ]
    },
    {
      "cell_type": "code",
      "execution_count": null,
      "metadata": {
        "id": "vBcVKbs1_V1F"
      },
      "outputs": [],
      "source": [
        "def create_in_memory_document_store():\n",
        "  document_store = InMemoryDocumentStore()\n",
        "\n",
        "  return document_store\n",
        "\n",
        "def create_chroma_document_store():\n",
        "  document_store = ChromaDocumentStore(\n",
        "      host = CHROMA_HOSTNAME,\n",
        "      port = CHROMA_PORT\n",
        "  )\n",
        "\n",
        "  return document_store\n",
        "\n",
        "def create_indexing_pipeline(document_store):\n",
        "\n",
        "  file_type_router = FileTypeRouter(mime_types=[\n",
        "      \"application/pdf\",\n",
        "      \"text/csv\",\n",
        "      \"application/vnd.openxmlformats-officedocument.wordprocessingml.document\",\n",
        "      \"application/vnd.openxmlformats-officedocument.presentationml.presentation\",\n",
        "      ])\n",
        "\n",
        "  pdf_converter = PyPDFToDocument()\n",
        "  docx_converter = DOCXToDocument()\n",
        "  csv_converter = CSVToDocument()\n",
        "  pptx_converter = PPTXToDocument()\n",
        "\n",
        "  document_joiner = DocumentJoiner()\n",
        "  document_cleaner = DocumentCleaner()\n",
        "  document_splitter = DocumentSplitter(split_by=\"page\", split_length=1, split_overlap=0)\n",
        "  document_writer = DocumentWriter(document_store)\n",
        "  document_embedder = SentenceTransformersDocumentEmbedder(model = embedding_model, device = device)\n",
        "\n",
        "  indexing_pipeline = Pipeline()\n",
        "\n",
        "  indexing_pipeline.add_component(instance=file_type_router, name=\"file_type_router\")\n",
        "  indexing_pipeline.add_component(instance=pdf_converter, name=\"pypdf_converter\")\n",
        "  indexing_pipeline.add_component(instance=docx_converter, name=\"docx_converter\")\n",
        "  indexing_pipeline.add_component(instance=csv_converter, name=\"csv_converter\")\n",
        "  indexing_pipeline.add_component(instance=pptx_converter, name=\"pptx_converter\")\n",
        "\n",
        "  indexing_pipeline.add_component(instance=document_joiner, name=\"document_joiner\")\n",
        "  indexing_pipeline.add_component(instance=document_cleaner, name=\"document_cleaner\")\n",
        "  indexing_pipeline.add_component(instance=document_splitter, name=\"document_splitter\")\n",
        "  indexing_pipeline.add_component(instance=document_embedder, name=\"document_embedder\")\n",
        "  indexing_pipeline.add_component(instance=document_writer, name=\"document_writer\")\n",
        "\n",
        "  indexing_pipeline.connect(\"file_type_router.application/pdf\", \"pypdf_converter.sources\")\n",
        "  indexing_pipeline.connect(\n",
        "      \"file_type_router.application/vnd.openxmlformats-officedocument.wordprocessingml.document\",\n",
        "      \"docx_converter.sources\")\n",
        "  indexing_pipeline.connect(\n",
        "      \"file_type_router.application/vnd.openxmlformats-officedocument.presentationml.presentation\",\n",
        "      \"pptx_converter.sources\"\n",
        "  )\n",
        "  indexing_pipeline.connect(\"file_type_router.text/csv\", \"csv_converter.sources\")\n",
        "\n",
        "  indexing_pipeline.connect(\"pypdf_converter\", \"document_joiner\")\n",
        "  indexing_pipeline.connect(\"docx_converter\", \"document_joiner\")\n",
        "  indexing_pipeline.connect(\"csv_converter\", \"document_joiner\")\n",
        "  indexing_pipeline.connect(\"pptx_converter\", \"document_joiner\")\n",
        "\n",
        "  indexing_pipeline.connect(\"document_joiner\", \"document_splitter\")\n",
        "  indexing_pipeline.connect(\"document_splitter\", \"document_cleaner\")\n",
        "  indexing_pipeline.connect(\"document_cleaner\", \"document_embedder\")\n",
        "  indexing_pipeline.connect(\"document_embedder\", \"document_writer\")\n",
        "\n",
        "  return indexing_pipeline\n",
        "\n",
        "\n",
        "document_store = create_in_memory_document_store()\n",
        "\n",
        "indexing_pipeline = create_indexing_pipeline(document_store = document_store)"
      ]
    },
    {
      "cell_type": "markdown",
      "source": [
        "### Запустит VLLM Сервер, с OpenAI Like API"
      ],
      "metadata": {
        "id": "pSDv2yFlucOH"
      }
    },
    {
      "cell_type": "code",
      "source": [
        "def create_generator(gen_kwargs = None):\n",
        "  return OpenAIChatGenerator(\n",
        "          api_key = Secret.from_token(\"VLLM-PLACEHOLDER-API-KEY\"),\n",
        "          model = model,\n",
        "          api_base_url = VLLM_URL,\n",
        "          generation_kwargs = gen_kwargs,\n",
        "          timeout = 600,\n",
        "        )"
      ],
      "metadata": {
        "id": "pU_cjPnaww2w"
      },
      "execution_count": null,
      "outputs": []
    },
    {
      "cell_type": "code",
      "execution_count": null,
      "metadata": {
        "id": "wqceUZ4yj2IT",
        "colab": {
          "base_uri": "https://localhost:8080/"
        },
        "outputId": "d8a6d183-47dc-4411-dbfc-11b0466c6906"
      },
      "outputs": [
        {
          "output_type": "stream",
          "name": "stdout",
          "text": [
            "nohup: redirecting stderr to stdout\n"
          ]
        }
      ],
      "source": [
        "! nohup python -m vllm.entrypoints.openai.api_server \\\n",
        "                  --model {model} \\\n",
        "                  --max-model-len 32000 \\\n",
        "                  --dtype half \\\n",
        "                  --quantization gptq \\\n",
        "                  --gpu_memory_utilization 0.75 \\\n",
        "                  > vllm.log &"
      ]
    },
    {
      "cell_type": "code",
      "execution_count": null,
      "metadata": {
        "id": "RLGdWeXPsB9r",
        "colab": {
          "base_uri": "https://localhost:8080/"
        },
        "outputId": "e7e2e39f-b45f-44c2-f583-1ab96715289b",
        "collapsed": true
      },
      "outputs": [
        {
          "output_type": "stream",
          "name": "stdout",
          "text": [
            "INFO 11-10 05:39:44 api_server.py:179] Started engine process with PID 10108\n",
            "WARNING 11-10 05:39:50 arg_utils.py:1019] [DEPRECATED] Block manager v1 has been removed, and setting --use-v2-block-manager to True or False has no effect on vLLM behavior. Please remove --use-v2-block-manager in your engine argument. If your use case is not supported by SelfAttnBlockSpaceManager (i.e. block manager v2), please file an issue with detailed information.\n",
            "INFO 11-10 05:39:54 llm_engine.py:237] Initializing an LLM engine (v0.6.3.post1) with config: model='Qwen/Qwen2.5-14B-Instruct-GPTQ-Int4', speculative_config=None, tokenizer='Qwen/Qwen2.5-14B-Instruct-GPTQ-Int4', skip_tokenizer_init=False, tokenizer_mode=auto, revision=None, override_neuron_config=None, rope_scaling=None, rope_theta=None, tokenizer_revision=None, trust_remote_code=False, dtype=torch.float16, max_seq_len=32000, download_dir=None, load_format=LoadFormat.AUTO, tensor_parallel_size=1, pipeline_parallel_size=1, disable_custom_all_reduce=False, quantization=gptq, enforce_eager=False, kv_cache_dtype=auto, quantization_param_path=None, device_config=cuda, decoding_config=DecodingConfig(guided_decoding_backend='outlines'), observability_config=ObservabilityConfig(otlp_traces_endpoint=None, collect_model_forward_time=False, collect_model_execute_time=False), seed=0, served_model_name=Qwen/Qwen2.5-14B-Instruct-GPTQ-Int4, num_scheduler_steps=1, chunked_prefill_enabled=False multi_step_stream_outputs=True, enable_prefix_caching=False, use_async_output_proc=True, use_cached_outputs=True, mm_processor_kwargs=None)\n",
            "INFO 11-10 05:39:56 weight_utils.py:243] Using model weights format ['*.safetensors']\n",
            "INFO 11-10 05:39:56 weight_utils.py:243] Using model weights format ['*.safetensors']\n",
            "INFO 11-10 05:39:56 weight_utils.py:243] Using model weights format ['*.safetensors']\n",
            "INFO 11-10 05:39:56 weight_utils.py:243] Using model weights format ['*.safetensors']\n",
            "INFO 11-10 05:39:56 weight_utils.py:243] Using model weights format ['*.safetensors']\n",
            "INFO 11-10 05:39:56 weight_utils.py:243] Using model weights format ['*.safetensors']\n",
            "INFO 11-10 05:39:56 weight_utils.py:243] Using model weights format ['*.safetensors']\n",
            "INFO 11-10 05:39:56 weight_utils.py:243] Using model weights format ['*.safetensors']\n",
            "INFO 11-10 05:39:56 weight_utils.py:243] Using model weights format ['*.safetensors']\n",
            "INFO 11-10 05:39:56 weight_utils.py:243] Using model weights format ['*.safetensors']\n",
            "INFO 11-10 05:39:56 weight_utils.py:243] Using model weights format ['*.safetensors']\n",
            "INFO 11-10 05:39:56 weight_utils.py:243] Using model weights format ['*.safetensors']\n",
            "INFO 11-10 05:39:56 weight_utils.py:243] Using model weights format ['*.safetensors']\n",
            "INFO 11-10 05:39:56 weight_utils.py:243] Using model weights format ['*.safetensors']\n",
            "INFO 11-10 05:39:56 weight_utils.py:243] Using model weights format ['*.safetensors']\n",
            "INFO 11-10 05:39:56 weight_utils.py:243] Using model weights format ['*.safetensors']\n",
            "INFO 11-10 05:39:56 weight_utils.py:243] Using model weights format ['*.safetensors']\n",
            "INFO 11-10 05:39:56 weight_utils.py:243] Using model weights format ['*.safetensors']\n",
            "INFO 11-10 05:39:56 weight_utils.py:243] Using model weights format ['*.safetensors']\n",
            "Loading safetensors checkpoint shards:   0% Completed | 0/3 [00:00<?, ?it/s]\n",
            "INFO 11-10 05:41:37 model_runner.py:1067] Loading model weights took 9.3793 GB\n",
            "INFO 11-10 05:41:41 gpu_executor.py:126] Maximum concurrency for 32000 tokens per request: 2.73x\n",
            "INFO 11-10 05:41:45 model_runner.py:1399] CUDA graphs can take additional 1~3 GiB memory per GPU. If you are running out of memory, consider decreasing `gpu_memory_utilization` or enforcing eager mode. You can also reduce the `max_num_seqs` as needed to decrease memory usage.\n",
            "INFO 11-10 05:41:45 model_runner.py:1399] CUDA graphs can take additional 1~3 GiB memory per GPU. If you are running out of memory, consider decreasing `gpu_memory_utilization` or enforcing eager mode. You can also reduce the `max_num_seqs` as needed to decrease memory usage.\n",
            "INFO 11-10 05:41:45 model_runner.py:1399] CUDA graphs can take additional 1~3 GiB memory per GPU. If you are running out of memory, consider decreasing `gpu_memory_utilization` or enforcing eager mode. You can also reduce the `max_num_seqs` as needed to decrease memory usage.\n"
          ]
        }
      ],
      "source": [
        "!while ! grep -q \"Application startup complete\" vllm.log; do tail -n 1 vllm.log; sleep 5; done"
      ]
    },
    {
      "cell_type": "markdown",
      "source": [
        "### Индексация\n",
        "#### Пайплайн, который при индексации делает суммаризацию (заголовок, summary и категории)"
      ],
      "metadata": {
        "id": "fueDG5Jstrrb"
      }
    },
    {
      "cell_type": "code",
      "source": [
        "def create_summarize_pipeline():\n",
        "  pipeline = Pipeline()\n",
        "\n",
        "  prompt_builder = ChatPromptBuilder(variables = ['document_fragment'])\n",
        "\n",
        "  generator = create_generator(rag_gen_kwargs)\n",
        "\n",
        "  pipeline.add_component(\"prompt_builder\", prompt_builder)\n",
        "  pipeline.add_component(\"generator\", generator)\n",
        "\n",
        "  pipeline.connect(\"prompt_builder\", \"generator\")\n",
        "\n",
        "  return pipeline"
      ],
      "metadata": {
        "id": "2ecmidgt4P8u"
      },
      "execution_count": null,
      "outputs": []
    },
    {
      "cell_type": "code",
      "source": [
        "summarize_pipeline = create_summarize_pipeline()\n",
        "\n",
        "gen_questions_system_message = ChatMessage.from_system(prompt_config['summarize_system_prompt'])\n",
        "summarize_messages = [gen_questions_system_message]"
      ],
      "metadata": {
        "id": "BvhCNJ_R5NRZ"
      },
      "execution_count": null,
      "outputs": []
    },
    {
      "cell_type": "code",
      "source": [
        "def generate_summarization(document_content):\n",
        "    # Выполняем запрос к пайплайну суммаризации\n",
        "    response = summarize_pipeline.run({\"prompt_builder\": {\"template\": summarize_messages, \"document_fragment\": document_content}})\n",
        "\n",
        "    # Извлекаем текст ответа\n",
        "    response_text = response['generator']['replies'][0].content\n",
        "\n",
        "    # Поиск первого и последнего вхождения фигурных скобок для выделения JSON\n",
        "    json_str = None\n",
        "    try:\n",
        "        first_brace = response_text.find('{')\n",
        "        last_brace = response_text.rfind('}')\n",
        "\n",
        "        # Если фигурные скобки найдены, извлекаем текст между ними\n",
        "        if first_brace != -1 and last_brace != -1:\n",
        "            json_str = response_text[first_brace:last_brace + 1]\n",
        "            response_dict = json.loads(json_str)\n",
        "        else:\n",
        "            print(\"Error: JSON structure not found in response.\")\n",
        "            return {}\n",
        "\n",
        "    except json.JSONDecodeError as e:\n",
        "        print(f\"Error parsing JSON response: {e}\")\n",
        "        print(f\"Attempted JSON string: {json_str}\")\n",
        "        return {}\n",
        "\n",
        "    return response_dict"
      ],
      "metadata": {
        "id": "9s2cXcVk7cOV"
      },
      "execution_count": null,
      "outputs": []
    },
    {
      "cell_type": "markdown",
      "source": [
        "Для суммаризации берём несколько первых страниц"
      ],
      "metadata": {
        "id": "ymtmXD4svKWq"
      }
    },
    {
      "cell_type": "code",
      "source": [
        "def extract_context_from_pdf(pdf_path: str) -> str:\n",
        "    context = \"\"\n",
        "    try:\n",
        "        # Read PDF content using PyPDF2\n",
        "        with open(pdf_path, 'rb') as f:\n",
        "            reader = PdfReader(f)\n",
        "            # Set the number of pages to extract (up to 3)\n",
        "            num_pages_to_extract = min(7, len(reader.pages))\n",
        "\n",
        "            # Extract text from each page up to the third page\n",
        "            for page_num in range(num_pages_to_extract):\n",
        "                page = reader.pages[page_num]\n",
        "                text = page.extract_text()\n",
        "                if text:\n",
        "                    context += text\n",
        "\n",
        "            # Return the extracted context or a fallback if empty\n",
        "            return context.strip() if context else \"No text extracted from the first three pages.\"\n",
        "\n",
        "    except Exception as e:\n",
        "        print(f\"An error occurred while extracting context from '{pdf_path}': {e}\")\n",
        "        return 'Error extracting context'"
      ],
      "metadata": {
        "id": "SvSzaxcP6NE9"
      },
      "execution_count": null,
      "outputs": []
    },
    {
      "cell_type": "code",
      "source": [
        "# test_extracted_pdf = extract_context_from_pdf(\"drive/MyDrive/HacksAI/international24/dataset/Media_Digital/presentations/1.pdf\")\n",
        "# test_summ = generate_summarization(test_extracted_pdf)\n",
        "# print(test_summ)"
      ],
      "metadata": {
        "id": "aVPhjSb_-efH"
      },
      "execution_count": null,
      "outputs": []
    },
    {
      "cell_type": "markdown",
      "source": [
        "#### Функции для полной переиндексации и добавления какого-то одного документа"
      ],
      "metadata": {
        "id": "9n2LkR-7vQSd"
      }
    },
    {
      "cell_type": "code",
      "source": [
        "def do_reindex():\n",
        "    orgs_dirs = Path(MAIN_DOCS_DIR)\n",
        "    for org_dir in orgs_dirs.iterdir():\n",
        "        if org_dir.is_dir():\n",
        "            source_docs = list(org_dir.glob(\"**/*\"))\n",
        "            for doc in source_docs:\n",
        "                # Проверка типа файла и обработка PDF\n",
        "                if doc.suffix.lower() == \".pdf\":\n",
        "                    # Извлечение контекста из PDF и генерация суммаризации\n",
        "                    context = extract_context_from_pdf(doc)\n",
        "                    summarization = generate_summarization(context)\n",
        "\n",
        "                    # Заполнение метаданных из суммаризации\n",
        "                    meta_data = {\n",
        "                        \"space\": org_dir.name,\n",
        "                        \"filename\": os.path.basename(doc),\n",
        "                        \"title\": summarization.get(\"title\", \"\"),\n",
        "                        \"summary\": summarization.get(\"summary\", \"\"),\n",
        "                        \"categories\": summarization.get(\"categories\", [])\n",
        "                    }\n",
        "                else:\n",
        "                    # Для других типов файлов - заполняем метаданные пустыми значениями\n",
        "                    meta_data = {\n",
        "                        \"space\": org_dir.name,\n",
        "                        \"filename\": os.path.basename(doc),\n",
        "                        \"title\": \"\",\n",
        "                        \"summary\": \"\",\n",
        "                        \"categories\": []\n",
        "                    }\n",
        "\n",
        "                # Запуск пайплайна индексации с заполненными метаданными\n",
        "                indexing_pipeline.run({\n",
        "                    \"file_type_router\": {\"sources\": [doc]},\n",
        "                    \"pypdf_converter\": {\"meta\": meta_data},\n",
        "                    \"csv_converter\": {\"meta\": meta_data},\n",
        "                    \"docx_converter\": {\"meta\": meta_data},\n",
        "                    \"pptx_converter\": {\"meta\": meta_data},\n",
        "                })\n",
        "\n",
        "                # Очистка памяти\n",
        "                gc.collect()\n",
        "                torch.cuda.empty_cache()\n",
        "\n",
        "\n",
        "def do_index_single_file(file_path):\n",
        "    # Преобразуем путь к файлу в объект Path\n",
        "    file_path = Path(file_path)\n",
        "\n",
        "    # Проверяем, что файл существует\n",
        "    if not file_path.exists() or not file_path.is_file():\n",
        "        raise ValueError(f\"The file {file_path} does not exist or is not a valid file.\")\n",
        "\n",
        "    # Извлекаем директорию, в которой находится файл, для использования в метаданных\n",
        "    space = file_path.parent.name\n",
        "    filename = os.path.basename(file_path)\n",
        "\n",
        "    # Проверка типа файла и обработка PDF\n",
        "    if file_path.suffix.lower() == \".pdf\":\n",
        "        # Извлечение контекста из PDF и генерация суммаризации\n",
        "        context = extract_context_from_pdf(file_path)\n",
        "        summarization = generate_summarization(context)\n",
        "\n",
        "        # Заполнение метаданных из суммаризации\n",
        "        meta_data = {\n",
        "            \"space\": space,\n",
        "            \"filename\": filename,\n",
        "            \"title\": summarization.get(\"title\", \"\"),\n",
        "            \"summary\": summarization.get(\"summary\", \"\"),\n",
        "            \"categories\": summarization.get(\"categories\", [])\n",
        "        }\n",
        "    else:\n",
        "        # Для других типов файлов - заполняем метаданные пустыми значениями\n",
        "        meta_data = {\n",
        "            \"space\": space,\n",
        "            \"filename\": filename,\n",
        "            \"title\": \"\",\n",
        "            \"summary\": \"\",\n",
        "            \"categories\": []\n",
        "        }\n",
        "\n",
        "    # Запуск пайплайна индексации для одного файла с заполненными метаданными\n",
        "    indexing_pipeline.run({\n",
        "        \"file_type_router\": {\"sources\": [file_path]},\n",
        "        \"pypdf_converter\": {\"meta\": meta_data},\n",
        "        \"csv_converter\": {\"meta\": meta_data},\n",
        "        \"docx_converter\": {\"meta\": meta_data},\n",
        "        \"pptx_converter\": {\"meta\": meta_data},\n",
        "    })"
      ],
      "metadata": {
        "id": "93f_H-MFEpss"
      },
      "execution_count": null,
      "outputs": []
    },
    {
      "cell_type": "code",
      "source": [
        "# do_reindex()"
      ],
      "metadata": {
        "colab": {
          "base_uri": "https://localhost:8080/"
        },
        "id": "YoMQqHBxFuD-",
        "outputId": "1b1ab646-e919-41f3-9c4f-a94b6fc09cd6"
      },
      "execution_count": null,
      "outputs": [
        {
          "output_type": "stream",
          "name": "stderr",
          "text": [
            "Batches: 100%|██████████| 1/1 [00:00<00:00,  1.02it/s]\n",
            "Batches: 100%|██████████| 18/18 [00:08<00:00,  2.15it/s]\n",
            "Batches: 100%|██████████| 2/2 [00:00<00:00,  2.78it/s]\n",
            "WARNING:pypdf.generic._base:could not convert string to float: b'0.00-10' : FloatObject (b'0.00-10') invalid; use 0.0 instead\n",
            "WARNING:pypdf.generic._base:could not convert string to float: b'0.00-10' : FloatObject (b'0.00-10') invalid; use 0.0 instead\n",
            "WARNING:pypdf.generic._base:could not convert string to float: b'0.00-10' : FloatObject (b'0.00-10') invalid; use 0.0 instead\n",
            "WARNING:pypdf.generic._base:could not convert string to float: b'0.00-10' : FloatObject (b'0.00-10') invalid; use 0.0 instead\n",
            "WARNING:pypdf.generic._base:could not convert string to float: b'0.00-90' : FloatObject (b'0.00-90') invalid; use 0.0 instead\n",
            "WARNING:pypdf.generic._base:could not convert string to float: b'0.00-90' : FloatObject (b'0.00-90') invalid; use 0.0 instead\n",
            "WARNING:pypdf.generic._base:could not convert string to float: b'0.00-90' : FloatObject (b'0.00-90') invalid; use 0.0 instead\n",
            "WARNING:pypdf.generic._base:could not convert string to float: b'0.00-90' : FloatObject (b'0.00-90') invalid; use 0.0 instead\n",
            "Batches: 100%|██████████| 2/2 [00:00<00:00,  6.34it/s]\n",
            "Batches: 100%|██████████| 1/1 [00:00<00:00,  3.13it/s]\n",
            "Batches: 100%|██████████| 1/1 [00:00<00:00,  2.85it/s]\n",
            "Batches: 100%|██████████| 1/1 [00:00<00:00,  3.81it/s]\n",
            "WARNING:PyPDF2._cmap:unknown widths : \n",
            "[0, IndirectObject(7279, 0, 138400495375728), 1, 2, 0, 3, 5, 249, 6, IndirectObject(7280, 0, 138400495375728), 21, 30, 574, 31, IndirectObject(7281, 0, 138400495375728), 116, 117, 373, 118, IndirectObject(7282, 0, 138400495375728), 203, 204, 653, 205, IndirectObject(7283, 0, 138400495375728), 262, 263, 587, 264, IndirectObject(7284, 0, 138400495375728), 267, 268, 623, 269, IndirectObject(7285, 0, 138400495375728), 282, 284, 560, 285, IndirectObject(7286, 0, 138400495375728), 292, 294, 866, 295, IndirectObject(7287, 0, 138400495375728), 301, 302, 365, 303, IndirectObject(7288, 0, 138400495375728), 304, 305, 365, 306, 307, 324, 308, 309, 560, 310, IndirectObject(7289, 0, 138400495375728), 311, 312, 413, 313, IndirectObject(7290, 0, 138400495375728), 328, 331, 521, 332, IndirectObject(7291, 0, 138400495375728), 354, 355, 432, 356, IndirectObject(7292, 0, 138400495375728), 357, 358, 287, 359, IndirectObject(7293, 0, 138400495375728), 365, 366, 237, 367, 368, 170, 369, 370, 372, 371, 372, 441, 373, 374, 431, 375, IndirectObject(7294, 0, 138400495375728), 385, 386, 274, 387, 388, 170, 389, 391, 310, 392, IndirectObject(7295, 0, 138400495375728), 406, 410, 348, 411, IndirectObject(7296, 0, 138400495375728), 418, 419, 330, 420, IndirectObject(7297, 0, 138400495375728), 426, 429, 279, 430, IndirectObject(7298, 0, 138400495375728), 433, 520, 0, 521, IndirectObject(7299, 0, 138400495375728), 522, 544, 0, 545, IndirectObject(7300, 0, 138400495375728), 549, 550, 255, 551, IndirectObject(7301, 0, 138400495375728), 554, 555, 521, 556, IndirectObject(7302, 0, 138400495375728), 609, 610, 443, 611, IndirectObject(7303, 0, 138400495375728), 613, 615, 654, 616, IndirectObject(7304, 0, 138400495375728), 650, 651, 567, 652, IndirectObject(7305, 0, 138400495375728), 698, 704, 0, 705, IndirectObject(7306, 0, 138400495375728), 800, 814, 0, 815, IndirectObject(7307, 0, 138400495375728), 832, 833, 613, 834, IndirectObject(7308, 0, 138400495375728), 837, 838, 573, 839, IndirectObject(7309, 0, 138400495375728), 840, 841, 563, 842, IndirectObject(7310, 0, 138400495375728), 864, 865, 420, 866, IndirectObject(7311, 0, 138400495375728), 873, 874, 521, 875, IndirectObject(7312, 0, 138400495375728), 882, 883, 411, 884, IndirectObject(7313, 0, 138400495375728), 886, 887, 431, 888, 889, 418, 890, 891, 409, 892, IndirectObject(7314, 0, 138400495375728), 899, 900, 412, 901, IndirectObject(7315, 0, 138400495375728), 981, 982, 294, 983, IndirectObject(7316, 0, 138400495375728), 987, 988, 660, 989, IndirectObject(7317, 0, 138400495375728), 1007, 1064, 0, 1065, IndirectObject(7318, 0, 138400495375728), 1091, 1092, 390, 1093, 1094, 476, 1095, 1096, 249, 1097, IndirectObject(7319, 0, 138400495375728), 1110, 1114, 0, 1115, 1116, 388, 1117, IndirectObject(7320, 0, 138400495375728), 1150, 1151, 775, 1152, IndirectObject(7321, 0, 138400495375728), 1156, 1157, 324, 1158, IndirectObject(7322, 0, 138400495375728), 1160, 1161, 624, 1162, IndirectObject(7323, 0, 138400495375728), 1177, 1178, 236, 1179, IndirectObject(7324, 0, 138400495375728), 1181, 1186, 373, 1187, IndirectObject(7325, 0, 138400495375728), 1188, 1189, 368, 1190, 1191, 258, 1192, IndirectObject(7326, 0, 138400495375728), 1193, 1202, 373, 1203, IndirectObject(7327, 0, 138400495375728), 1204, 1205, 368, 1206, 1207, 258, 1208, IndirectObject(7328, 0, 138400495375728), 1222, 1223, 654, 1224, IndirectObject(7329, 0, 138400495375728), 1250, 1251, 0, 1252, IndirectObject(7330, 0, 138400495375728), 1253, 1254, 0, 1255, IndirectObject(7331, 0, 138400495375728), 1336, 1337, 331, 1338, IndirectObject(7332, 0, 138400495375728), 1351, 1352, 518, 1353, 1354, 393, 1355, 1356, 624, 1357, 1358, 495, 1359, 1360, 326, 1361, 1362, 390, 1363, IndirectObject(7333, 0, 138400495375728), 1365, 1366, 619, 1367, 1368, 599, 1369, IndirectObject(7334, 0, 138400495375728), 1401, 1432, 0, 1433, 1434, 416, 1435, 1436, 317, 1437, IndirectObject(7335, 0, 138400495375728), 1442, 1443, 565, 1444, IndirectObject(7336, 0, 138400495375728), 1445, 1446, 484, 1447, IndirectObject(7337, 0, 138400495375728), 1449, 1450, 704, 1451, IndirectObject(7338, 0, 138400495375728), 1453, 1454, 677, 1455, IndirectObject(7339, 0, 138400495375728), 1461, 1462, 426, 1463, 1464, 443, 1465, 1466, 469, 1467, 1470, 289, 1471, 1472, 585, 1473, IndirectObject(7340, 0, 138400495375728), 1475, 1477, 611, 1478, IndirectObject(7341, 0, 138400495375728), 1547, 1550, 0, 1551, IndirectObject(7342, 0, 138400495375728), 1552, 1561, 0, 1562, IndirectObject(7343, 0, 138400495375728), 1595, 1599, 297, 1600, IndirectObject(7344, 0, 138400495375728), 1604, 1607, 393, 1608, 1612, 387, 1613, 1617, 446, 1618, IndirectObject(7345, 0, 138400495375728), 1622, 1623, 373, 1624, 1626, 218, 1627, 1628, 626, 1629, IndirectObject(7346, 0, 138400495375728), 1722, 1723, 542, 1724, IndirectObject(7347, 0, 138400495375728), 1734, 1735, 191, 1736, IndirectObject(7348, 0, 138400495375728), 1797, 1798, 895, 1799, 1800, 838, 1801, IndirectObject(7349, 0, 138400495375728), 1836, 1837, 928, 1838, IndirectObject(7350, 0, 138400495375728), 1840, 1854, 0, 1855, IndirectObject(7351, 0, 138400495375728), 1861, 1863, 372, 1864, 1866, 520, 1867, IndirectObject(7352, 0, 138400495375728), 1868, 1873, 520, 1874, IndirectObject(7353, 0, 138400495375728), 1941, 1942, 583, 1943, IndirectObject(7354, 0, 138400495375728), 1953, 1959, 372, 1960, IndirectObject(7355, 0, 138400495375728), 1976, 1986, 0, 1987, 1988, 503, 1989, IndirectObject(7356, 0, 138400495375728), 1990, 1991, 503, 1992, IndirectObject(7357, 0, 138400495375728), 1994, 1995, 452, 1996, IndirectObject(7358, 0, 138400495375728), 1997, 2003, 373, 2004, IndirectObject(7359, 0, 138400495375728), 2020, 2021, 707, 2022, IndirectObject(7360, 0, 138400495375728), 2027, 2036, 574, 2037, IndirectObject(7361, 0, 138400495375728), 2046, 2047, 274, 2048, IndirectObject(7362, 0, 138400495375728), 2051, 2052, 263, 2053, IndirectObject(7363, 0, 138400495375728), 2056, 2089, 623, 2090, 2091, 476, 2092, IndirectObject(7364, 0, 138400495375728), 2093, 2094, 476, 2095, 2118, 623, 2119, 2122, 476, 2123, 2138, 623, 2139, 2140, 476, 2141, 2142, 623, 2143, IndirectObject(7365, 0, 138400495375728), 2144, 2145, 623, 2146, IndirectObject(7366, 0, 138400495375728), 2147, 2167, 623, 2168, IndirectObject(7367, 0, 138400495375728), 2170, 2172, 476, 2173, 2188, 623, 2189, 2190, 476, 2191, IndirectObject(7368, 0, 138400495375728), 2192, 2193, 476, 2194, IndirectObject(7369, 0, 138400495375728), 2202, 2216, 0, 2217, IndirectObject(7370, 0, 138400495375728), 2218, 2223, 0, 2224, IndirectObject(7371, 0, 138400495375728), 2235, 2236, 574, 2237, IndirectObject(7372, 0, 138400495375728), 2239, 2240, 536, 2241, IndirectObject(7373, 0, 138400495375728), 2257, 2269, 0, 2270, IndirectObject(7374, 0, 138400495375728), 2271, 2272, 0, 2273, IndirectObject(7375, 0, 138400495375728), 2276, 2277, 665, 2278, IndirectObject(7376, 0, 138400495375728), 2281, 2287, 673, 2288, IndirectObject(7377, 0, 138400495375728), 2289, 2292, 563, 2293, 2296, 292, 2297, IndirectObject(7378, 0, 138400495375728), 2298, 2302, 690, 2303, 2306, 658, 2307, IndirectObject(7379, 0, 138400495375728), 2308, 2314, 536, 2315, IndirectObject(7380, 0, 138400495375728), 2316, 2319, 541, 2320, 2323, 274, 2324, IndirectObject(7381, 0, 138400495375728), 2325, 2329, 565, 2330, 2333, 560, 2334, 2335, 502, 2336, IndirectObject(7382, 0, 138400495375728), 2400, 2401, 560, 2402, IndirectObject(7383, 0, 138400495375728), 2457, 2458, 557, 2459, IndirectObject(7384, 0, 138400495375728), 2460, 2466, 584, 2467, IndirectObject(7385, 0, 138400495375728), 2468, 2471, 482, 2472, 2475, 257, 2476, IndirectObject(7386, 0, 138400495375728), 2477, 2481, 594, 2482, 2485, 570, 2486, IndirectObject(7387, 0, 138400495375728), 2487, 2489, 584, 2490, 2493, 564, 2494, IndirectObject(7388, 0, 138400495375728), 2495, 2499, 482, 2500, 2503, 579, 2504, IndirectObject(7389, 0, 138400495375728), 2505, 2509, 257, 2510, IndirectObject(7390, 0, 138400495375728), 2512, 2515, 466, 2516, 2518, 604, 2519, 2522, 594, 2523, 2525, 558, 2526, 2529, 536, 2530, 2532, 540, 2533, 2538, 570, 2539, IndirectObject(7391, 0, 138400495375728), 2540, 2541, 538, 2542, 2544, 524, 2545, IndirectObject(7392, 0, 138400495375728), 2587, 2588, 292, 2589, IndirectObject(7393, 0, 138400495375728), 2668, 2669, 529, 2670, IndirectObject(7394, 0, 138400495375728), 2682, 2683, 688, 2684, IndirectObject(7395, 0, 138400495375728), 2796, 2797, 625, 2798, IndirectObject(7396, 0, 138400495375728), 2809, 2812, 574, 2813, IndirectObject(7397, 0, 138400495375728), 2938, 2939, 563, 2940, IndirectObject(7398, 0, 138400495375728), 3060, 3067, 563, 3068, 3075, 673, 3076, 3081, 556, 3082, 3087, 563, 3088, 3095, 564, 3096, 3103, 707, 3104, 3111, 337, 3112, 3119, 292, 3120, 3125, 565, 3126, 3127, 700, 3128, 3131, 725, 3132, 3139, 546, 3140, 3143, 618, 3144, 3151, 821, 3152, 3153, 682, 3154, 3159, 706, 3160, 3161, 563, 3162, 3163, 556, 3164, 3165, 564, 3166, 3167, 337, 3168, 3169, 565, 3170, 3171, 546, 3172, 3173, 821, 3174, 3181, 563, 3182, 3189, 673, 3190, 3197, 564, 3198, 3205, 707, 3206, 3213, 821, 3214, 3215, 682, 3216, 3221, 706, 3222, 3228, 563, 3229, 3233, 673, 3234, 3238, 564, 3239, 3240, 563, 3241, 3243, 707, 3244, 3249, 337, 3250, 3253, 292, 3254, 3257, 546, 3258, 3259, 564, 3260, 3261, 546, 3262, 3265, 618, 3266, IndirectObject(7399, 0, 138400495375728), 3267, 3271, 821, 3272, 3273, 700, 3274, 3275, 682, 3276, IndirectObject(7400, 0, 138400495375728), 3279, 3280, 770, 3281, IndirectObject(7401, 0, 138400495375728), 3309, 3310, 257, 3311, IndirectObject(7402, 0, 138400495375728), 3340, 3342, 749, 3343, IndirectObject(7403, 0, 138400495375728), 3353, 3362, 678, 3363, 3371, 698, 3372, 3384, 707, 3385, 3386, 274]\n",
            "WARNING:PyPDF2._cmap:unknown widths : \n",
            "[0, IndirectObject(13344, 0, 138400495375728), 1, 2, 0, 3, 5, 245, 6, IndirectObject(13345, 0, 138400495375728), 21, 30, 550, 31, IndirectObject(13346, 0, 138400495375728), 116, 117, 360, 118, IndirectObject(13347, 0, 138400495375728), 203, 204, 629, 205, IndirectObject(13348, 0, 138400495375728), 262, 263, 576, 264, IndirectObject(13349, 0, 138400495375728), 267, 268, 578, 269, IndirectObject(13350, 0, 138400495375728), 272, 273, 528, 274, IndirectObject(13351, 0, 138400495375728), 282, 284, 539, 285, IndirectObject(13352, 0, 138400495375728), 292, 294, 855, 295, 296, 570, 297, IndirectObject(13353, 0, 138400495375728), 301, 302, 333, 303, IndirectObject(13354, 0, 138400495375728), 304, 305, 333, 306, 307, 275, 308, 309, 536, 310, IndirectObject(13355, 0, 138400495375728), 311, 313, 403, 314, IndirectObject(13356, 0, 138400495375728), 328, 331, 512, 332, IndirectObject(13357, 0, 138400495375728), 354, 355, 404, 356, IndirectObject(13358, 0, 138400495375728), 357, 358, 267, 359, IndirectObject(13359, 0, 138400495375728), 365, 366, 213, 367, 368, 140, 369, 370, 367, 371, IndirectObject(13360, 0, 138400495375728), 385, 386, 211, 387, IndirectObject(13361, 0, 138400495375728), 389, 391, 274, 392, IndirectObject(13362, 0, 138400495375728), 406, 410, 330, 411, IndirectObject(13363, 0, 138400495375728), 416, 417, 298, 418, 419, 296, 420, IndirectObject(13364, 0, 138400495375728), 426, 429, 269, 430, IndirectObject(13365, 0, 138400495375728), 433, 520, 0, 521, IndirectObject(13366, 0, 138400495375728), 522, 544, 0, 545, IndirectObject(13367, 0, 138400495375728), 549, 550, 221, 551, IndirectObject(13368, 0, 138400495375728), 553, 555, 513, 556, IndirectObject(13369, 0, 138400495375728), 609, 610, 440, 611, IndirectObject(13370, 0, 138400495375728), 613, 615, 636, 616, IndirectObject(13371, 0, 138400495375728), 698, 704, 0, 705, IndirectObject(13372, 0, 138400495375728), 752, 753, 569, 754, IndirectObject(13373, 0, 138400495375728), 800, 814, 0, 815, IndirectObject(13374, 0, 138400495375728), 829, 830, 565, 831, IndirectObject(13375, 0, 138400495375728), 832, 833, 624, 834, IndirectObject(13376, 0, 138400495375728), 837, 838, 562, 839, IndirectObject(13377, 0, 138400495375728), 840, 841, 540, 842, IndirectObject(13378, 0, 138400495375728), 864, 865, 417, 866, IndirectObject(13379, 0, 138400495375728), 873, 874, 521, 875, IndirectObject(13380, 0, 138400495375728), 882, 883, 412, 884, IndirectObject(13381, 0, 138400495375728), 886, 887, 425, 888, 889, 402, 890, 891, 371, 892, IndirectObject(13382, 0, 138400495375728), 899, 900, 396, 901, IndirectObject(13383, 0, 138400495375728), 956, 957, 486, 958, IndirectObject(13384, 0, 138400495375728), 981, 982, 294, 983, IndirectObject(13385, 0, 138400495375728), 987, 988, 627, 989, IndirectObject(13386, 0, 138400495375728), 1007, 1064, 0, 1065, IndirectObject(13387, 0, 138400495375728), 1093, 1094, 430, 1095, 1096, 241, 1097, IndirectObject(13388, 0, 138400495375728), 1110, 1114, 0, 1115, 1116, 272, 1117, IndirectObject(13389, 0, 138400495375728), 1122, 1123, 199, 1124, IndirectObject(13390, 0, 138400495375728), 1145, 1146, 296, 1147, IndirectObject(13391, 0, 138400495375728), 1150, 1151, 734, 1152, IndirectObject(13392, 0, 138400495375728), 1160, 1161, 591, 1162, IndirectObject(13393, 0, 138400495375728), 1177, 1178, 185, 1179, IndirectObject(13394, 0, 138400495375728), 1181, 1186, 360, 1187, IndirectObject(13395, 0, 138400495375728), 1188, 1189, 364, 1190, 1191, 240, 1192, IndirectObject(13396, 0, 138400495375728), 1193, 1202, 360, 1203, IndirectObject(13397, 0, 138400495375728), 1204, 1205, 365, 1206, 1207, 240, 1208, IndirectObject(13398, 0, 138400495375728), 1222, 1223, 636, 1224, IndirectObject(13399, 0, 138400495375728), 1250, 1251, 0, 1252, IndirectObject(13400, 0, 138400495375728), 1253, 1254, 0, 1255, IndirectObject(13401, 0, 138400495375728), 1335, IndirectObject(13402, 0, 138400495375728), 1336, 1337, 308, 1338, IndirectObject(13403, 0, 138400495375728), 1351, 1352, 459, 1353, 1354, 348, 1355, IndirectObject(13404, 0, 138400495375728), 1357, 1358, 424, 1359, 1360, 310, 1361, 1362, 376, 1363, IndirectObject(13405, 0, 138400495375728), 1365, 1366, 570, 1367, 1368, 571, 1369, IndirectObject(13406, 0, 138400495375728), 1401, 1432, 0, 1433, 1434, 392, 1435, 1436, 301, 1437, IndirectObject(13407, 0, 138400495375728), 1439, 1440, 624, 1441, IndirectObject(13408, 0, 138400495375728), 1445, 1446, 476, 1447, IndirectObject(13409, 0, 138400495375728), 1448, 1450, 703, 1451, IndirectObject(13410, 0, 138400495375728), 1453, 1454, 635, 1455, IndirectObject(13411, 0, 138400495375728), 1461, 1462, 403, 1463, 1464, 407, 1465, 1466, 452, 1467, 1470, 263, 1471, 1472, 571, 1473, 1474, 520, 1475, 1477, 538, 1478, IndirectObject(13412, 0, 138400495375728), 1547, 1550, 0, 1551, IndirectObject(13413, 0, 138400495375728), 1552, 1561, 0, 1562, IndirectObject(13414, 0, 138400495375728), 1595, 1597, 284, 1598, IndirectObject(13415, 0, 138400495375728), 1603, 1607, 354, 1608, 1612, 334, 1613, 1617, 433, 1618, IndirectObject(13416, 0, 138400495375728), 1622, 1623, 367, 1624, 1626, 191, 1627, 1628, 607, 1629, IndirectObject(13417, 0, 138400495375728), 1687, 1688, 611, 1689, IndirectObject(13418, 0, 138400495375728), 1720, 1721, 598, 1722, IndirectObject(13419, 0, 138400495375728), 1734, 1735, 147, 1736, IndirectObject(13420, 0, 138400495375728), 1791, 1792, 574, 1793, IndirectObject(13421, 0, 138400495375728), 1797, 1798, 897, 1799, 1800, 830, 1801, IndirectObject(13422, 0, 138400495375728), 1836, 1837, 833, 1838, IndirectObject(13423, 0, 138400495375728), 1840, 1854, 0, 1855, IndirectObject(13424, 0, 138400495375728), 1861, 1863, 360, 1864, 1873, 497, 1874, IndirectObject(13425, 0, 138400495375728), 1941, 1942, 540, 1943, IndirectObject(13426, 0, 138400495375728), 1953, 1959, 360, 1960, IndirectObject(13427, 0, 138400495375728), 1976, 1986, 0, 1987, IndirectObject(13428, 0, 138400495375728), 1997, 2003, 360, 2004, IndirectObject(13429, 0, 138400495375728), 2020, 2021, 696, 2022, IndirectObject(13430, 0, 138400495375728), 2027, 2036, 550, 2037, IndirectObject(13431, 0, 138400495375728), 2046, 2047, 245, 2048, IndirectObject(13432, 0, 138400495375728), 2051, 2052, 221, 2053, IndirectObject(13433, 0, 138400495375728), 2056, 2089, 589, 2090, 2091, 443, 2092, IndirectObject(13434, 0, 138400495375728), 2093, 2094, 443, 2095, 2118, 589, 2119, 2122, 443, 2123, 2138, 589, 2139, 2140, 443, 2141, 2142, 589, 2143, IndirectObject(13435, 0, 138400495375728), 2144, 2145, 589, 2146, IndirectObject(13436, 0, 138400495375728), 2147, 2167, 589, 2168, IndirectObject(13437, 0, 138400495375728), 2170, 2172, 443, 2173, 2188, 589, 2189, 2190, 443, 2191, IndirectObject(13438, 0, 138400495375728), 2192, 2193, 443, 2194, IndirectObject(13439, 0, 138400495375728), 2202, 2216, 0, 2217, IndirectObject(13440, 0, 138400495375728), 2218, 2223, 0, 2224, IndirectObject(13441, 0, 138400495375728), 2235, 2236, 550, 2237, IndirectObject(13442, 0, 138400495375728), 2255, 2256, 597, 2257, 2269, 0, 2270, IndirectObject(13443, 0, 138400495375728), 2271, 2272, 0, 2273, IndirectObject(13444, 0, 138400495375728), 2276, 2277, 656, 2278, IndirectObject(13445, 0, 138400495375728), 2281, 2287, 638, 2288, IndirectObject(13446, 0, 138400495375728), 2289, 2292, 556, 2293, 2296, 269, 2297, IndirectObject(13447, 0, 138400495375728), 2298, 2302, 672, 2303, 2306, 634, 2307, IndirectObject(13448, 0, 138400495375728), 2308, 2314, 533, 2315, IndirectObject(13449, 0, 138400495375728), 2316, 2319, 519, 2320, 2323, 245, 2324, IndirectObject(13450, 0, 138400495375728), 2325, 2329, 558, 2330, 2333, 540, 2334, 2335, 464, 2336, IndirectObject(13451, 0, 138400495375728), 2400, 2401, 540, 2402, IndirectObject(13452, 0, 138400495375728), 2457, 2458, 550, 2459, IndirectObject(13453, 0, 138400495375728), 2460, 2466, 553, 2467, IndirectObject(13454, 0, 138400495375728), 2468, 2471, 478, 2472, 2475, 236, 2476, IndirectObject(13455, 0, 138400495375728), 2477, 2481, 579, 2482, 2485, 549, 2486, IndirectObject(13456, 0, 138400495375728), 2487, 2489, 553, 2490, 2493, 549, 2494, IndirectObject(13457, 0, 138400495375728), 2495, 2499, 478, 2500, 2503, 571, 2504, IndirectObject(13458, 0, 138400495375728), 2505, 2509, 236, 2510, IndirectObject(13459, 0, 138400495375728), 2512, 2515, 454, 2516, 2518, 597, 2519, 2522, 579, 2523, 2525, 525, 2526, 2529, 505, 2530, 2532, 508, 2533, 2538, 549, 2539, IndirectObject(13460, 0, 138400495375728), 2540, 2541, 510, 2542, 2544, 506, 2545, IndirectObject(13461, 0, 138400495375728), 2587, 2588, 269, 2589, IndirectObject(13462, 0, 138400495375728), 2668, 2669, 516, 2670, IndirectObject(13463, 0, 138400495375728), 2682, 2683, 665, 2684, IndirectObject(13464, 0, 138400495375728), 2796, 2797, 613, 2798, IndirectObject(13465, 0, 138400495375728), 2809, 2812, 550, 2813, IndirectObject(13466, 0, 138400495375728), 3060, 3067, 553, 3068, 3075, 638, 3076, 3081, 528, 3082, 3087, 556, 3088, 3095, 554, 3096, 3103, 696, 3104, 3111, 319, 3112, 3119, 269, 3120, 3125, 558, 3126, 3127, 682, 3128, 3131, 706, 3132, 3139, 534, 3140, 3143, 587, 3144, 3151, 804, 3152, 3153, 660, 3154, 3159, 684, 3160, 3161, 553, 3162, 3163, 528, 3164, 3165, 554, 3166, 3167, 319, 3168, 3169, 558, 3170, 3171, 534, 3172, 3173, 804, 3174, 3181, 553, 3182, 3189, 638, 3190, 3197, 554, 3198, 3205, 696, 3206, 3213, 804, 3214, 3215, 660, 3216, 3221, 684, 3222, 3228, 553, 3229, 3233, 638, 3234, 3238, 554, 3239, 3240, 556, 3241, 3243, 696, 3244, 3249, 319, 3250, 3253, 269, 3254, 3257, 534, 3258, 3259, 554, 3260, 3261, 534, 3262, 3265, 587, 3266, IndirectObject(13467, 0, 138400495375728), 3267, 3271, 804, 3272, 3273, 682, 3274, 3275, 660, 3276, IndirectObject(13468, 0, 138400495375728), 3279, 3280, 717, 3281, IndirectObject(13469, 0, 138400495375728), 3309, 3310, 236, 3311, IndirectObject(13470, 0, 138400495375728), 3340, 3342, 742, 3343, IndirectObject(13471, 0, 138400495375728), 3353, 3362, 665, 3363, 3371, 679, 3372, 3384, 696, 3385, 3386, 245]\n",
            "WARNING:PyPDF2._cmap:unknown widths : \n",
            "[0, IndirectObject(13680, 0, 138400495375728), 1, 2, 0, 3, 5, 249, 6, IndirectObject(13681, 0, 138400495375728), 21, 30, 574, 31, IndirectObject(13682, 0, 138400495375728), 116, 117, 373, 118, IndirectObject(13683, 0, 138400495375728), 203, 204, 653, 205, IndirectObject(13684, 0, 138400495375728), 262, 263, 587, 264, IndirectObject(13685, 0, 138400495375728), 267, 268, 623, 269, IndirectObject(13686, 0, 138400495375728), 282, 284, 560, 285, IndirectObject(13687, 0, 138400495375728), 292, 294, 866, 295, IndirectObject(13688, 0, 138400495375728), 301, 302, 365, 303, IndirectObject(13689, 0, 138400495375728), 304, 305, 365, 306, 307, 324, 308, 309, 560, 310, IndirectObject(13690, 0, 138400495375728), 311, 312, 413, 313, IndirectObject(13691, 0, 138400495375728), 328, 331, 521, 332, IndirectObject(13692, 0, 138400495375728), 354, 355, 432, 356, IndirectObject(13693, 0, 138400495375728), 357, 358, 287, 359, IndirectObject(13694, 0, 138400495375728), 365, 366, 237, 367, 368, 170, 369, 370, 372, 371, 372, 441, 373, 374, 431, 375, IndirectObject(13695, 0, 138400495375728), 385, 386, 274, 387, 388, 170, 389, 391, 310, 392, IndirectObject(13696, 0, 138400495375728), 406, 410, 348, 411, IndirectObject(13697, 0, 138400495375728), 418, 419, 330, 420, IndirectObject(13698, 0, 138400495375728), 426, 429, 279, 430, IndirectObject(13699, 0, 138400495375728), 433, 520, 0, 521, IndirectObject(13700, 0, 138400495375728), 522, 544, 0, 545, IndirectObject(13701, 0, 138400495375728), 549, 550, 255, 551, IndirectObject(13702, 0, 138400495375728), 554, 555, 521, 556, IndirectObject(13703, 0, 138400495375728), 609, 610, 443, 611, IndirectObject(13704, 0, 138400495375728), 613, 615, 654, 616, IndirectObject(13705, 0, 138400495375728), 650, 651, 567, 652, IndirectObject(13706, 0, 138400495375728), 698, 704, 0, 705, IndirectObject(13707, 0, 138400495375728), 800, 814, 0, 815, IndirectObject(13708, 0, 138400495375728), 832, 833, 613, 834, IndirectObject(13709, 0, 138400495375728), 837, 838, 573, 839, IndirectObject(13710, 0, 138400495375728), 840, 841, 563, 842, IndirectObject(13711, 0, 138400495375728), 864, 865, 420, 866, IndirectObject(13712, 0, 138400495375728), 873, 874, 521, 875, IndirectObject(13713, 0, 138400495375728), 882, 883, 411, 884, IndirectObject(13714, 0, 138400495375728), 886, 887, 431, 888, 889, 418, 890, 891, 409, 892, IndirectObject(13715, 0, 138400495375728), 899, 900, 412, 901, IndirectObject(13716, 0, 138400495375728), 981, 982, 294, 983, IndirectObject(13717, 0, 138400495375728), 987, 988, 660, 989, IndirectObject(13718, 0, 138400495375728), 1007, 1064, 0, 1065, IndirectObject(13719, 0, 138400495375728), 1091, 1092, 390, 1093, 1094, 476, 1095, 1096, 249, 1097, IndirectObject(13720, 0, 138400495375728), 1110, 1114, 0, 1115, 1116, 388, 1117, IndirectObject(13721, 0, 138400495375728), 1150, 1151, 775, 1152, IndirectObject(13722, 0, 138400495375728), 1156, 1157, 324, 1158, IndirectObject(13723, 0, 138400495375728), 1160, 1161, 624, 1162, IndirectObject(13724, 0, 138400495375728), 1177, 1178, 236, 1179, IndirectObject(13725, 0, 138400495375728), 1181, 1186, 373, 1187, IndirectObject(13726, 0, 138400495375728), 1188, 1189, 368, 1190, 1191, 258, 1192, IndirectObject(13727, 0, 138400495375728), 1193, 1202, 373, 1203, IndirectObject(13728, 0, 138400495375728), 1204, 1205, 368, 1206, 1207, 258, 1208, IndirectObject(13729, 0, 138400495375728), 1222, 1223, 654, 1224, IndirectObject(13730, 0, 138400495375728), 1250, 1251, 0, 1252, IndirectObject(13731, 0, 138400495375728), 1253, 1254, 0, 1255, IndirectObject(13732, 0, 138400495375728), 1336, 1337, 331, 1338, IndirectObject(13733, 0, 138400495375728), 1351, 1352, 518, 1353, 1354, 393, 1355, 1356, 624, 1357, 1358, 495, 1359, 1360, 326, 1361, 1362, 390, 1363, IndirectObject(13734, 0, 138400495375728), 1365, 1366, 619, 1367, 1368, 599, 1369, IndirectObject(13735, 0, 138400495375728), 1401, 1432, 0, 1433, 1434, 416, 1435, 1436, 317, 1437, IndirectObject(13736, 0, 138400495375728), 1442, 1443, 565, 1444, IndirectObject(13737, 0, 138400495375728), 1445, 1446, 484, 1447, IndirectObject(13738, 0, 138400495375728), 1449, 1450, 704, 1451, IndirectObject(13739, 0, 138400495375728), 1453, 1454, 677, 1455, IndirectObject(13740, 0, 138400495375728), 1461, 1462, 426, 1463, 1464, 443, 1465, 1466, 469, 1467, 1470, 289, 1471, 1472, 585, 1473, IndirectObject(13741, 0, 138400495375728), 1475, 1477, 611, 1478, IndirectObject(13742, 0, 138400495375728), 1547, 1550, 0, 1551, IndirectObject(13743, 0, 138400495375728), 1552, 1561, 0, 1562, IndirectObject(13744, 0, 138400495375728), 1595, 1599, 297, 1600, IndirectObject(13745, 0, 138400495375728), 1604, 1607, 393, 1608, 1612, 387, 1613, 1617, 446, 1618, IndirectObject(13746, 0, 138400495375728), 1622, 1623, 373, 1624, 1626, 218, 1627, 1628, 626, 1629, IndirectObject(13747, 0, 138400495375728), 1722, 1723, 542, 1724, IndirectObject(13748, 0, 138400495375728), 1734, 1735, 191, 1736, IndirectObject(13749, 0, 138400495375728), 1797, 1798, 895, 1799, 1800, 838, 1801, IndirectObject(13750, 0, 138400495375728), 1836, 1837, 928, 1838, IndirectObject(13751, 0, 138400495375728), 1840, 1854, 0, 1855, IndirectObject(13752, 0, 138400495375728), 1861, 1863, 372, 1864, 1866, 520, 1867, IndirectObject(13753, 0, 138400495375728), 1868, 1873, 520, 1874, IndirectObject(13754, 0, 138400495375728), 1941, 1942, 583, 1943, IndirectObject(13755, 0, 138400495375728), 1953, 1959, 372, 1960, IndirectObject(13756, 0, 138400495375728), 1976, 1986, 0, 1987, 1988, 503, 1989, IndirectObject(13757, 0, 138400495375728), 1990, 1991, 503, 1992, IndirectObject(13758, 0, 138400495375728), 1994, 1995, 452, 1996, IndirectObject(13759, 0, 138400495375728), 1997, 2003, 373, 2004, IndirectObject(13760, 0, 138400495375728), 2020, 2021, 707, 2022, IndirectObject(13761, 0, 138400495375728), 2027, 2036, 574, 2037, IndirectObject(13762, 0, 138400495375728), 2046, 2047, 274, 2048, IndirectObject(13763, 0, 138400495375728), 2051, 2052, 263, 2053, IndirectObject(13764, 0, 138400495375728), 2056, 2089, 623, 2090, 2091, 476, 2092, IndirectObject(13765, 0, 138400495375728), 2093, 2094, 476, 2095, 2118, 623, 2119, 2122, 476, 2123, 2138, 623, 2139, 2140, 476, 2141, 2142, 623, 2143, IndirectObject(13766, 0, 138400495375728), 2144, 2145, 623, 2146, IndirectObject(13767, 0, 138400495375728), 2147, 2167, 623, 2168, IndirectObject(13768, 0, 138400495375728), 2170, 2172, 476, 2173, 2188, 623, 2189, 2190, 476, 2191, IndirectObject(13769, 0, 138400495375728), 2192, 2193, 476, 2194, IndirectObject(13770, 0, 138400495375728), 2202, 2216, 0, 2217, IndirectObject(13771, 0, 138400495375728), 2218, 2223, 0, 2224, IndirectObject(13772, 0, 138400495375728), 2235, 2236, 574, 2237, IndirectObject(13773, 0, 138400495375728), 2239, 2240, 536, 2241, IndirectObject(13774, 0, 138400495375728), 2257, 2269, 0, 2270, IndirectObject(13775, 0, 138400495375728), 2271, 2272, 0, 2273, IndirectObject(13776, 0, 138400495375728), 2276, 2277, 665, 2278, IndirectObject(13777, 0, 138400495375728), 2281, 2287, 673, 2288, IndirectObject(13778, 0, 138400495375728), 2289, 2292, 563, 2293, 2296, 292, 2297, IndirectObject(13779, 0, 138400495375728), 2298, 2302, 690, 2303, 2306, 658, 2307, IndirectObject(13780, 0, 138400495375728), 2308, 2314, 536, 2315, IndirectObject(13781, 0, 138400495375728), 2316, 2319, 541, 2320, 2323, 274, 2324, IndirectObject(13782, 0, 138400495375728), 2325, 2329, 565, 2330, 2333, 560, 2334, 2335, 502, 2336, IndirectObject(13783, 0, 138400495375728), 2400, 2401, 560, 2402, IndirectObject(13784, 0, 138400495375728), 2457, 2458, 557, 2459, IndirectObject(13785, 0, 138400495375728), 2460, 2466, 584, 2467, IndirectObject(13786, 0, 138400495375728), 2468, 2471, 482, 2472, 2475, 257, 2476, IndirectObject(13787, 0, 138400495375728), 2477, 2481, 594, 2482, 2485, 570, 2486, IndirectObject(13788, 0, 138400495375728), 2487, 2489, 584, 2490, 2493, 564, 2494, IndirectObject(13789, 0, 138400495375728), 2495, 2499, 482, 2500, 2503, 579, 2504, IndirectObject(13790, 0, 138400495375728), 2505, 2509, 257, 2510, IndirectObject(13791, 0, 138400495375728), 2512, 2515, 466, 2516, 2518, 604, 2519, 2522, 594, 2523, 2525, 558, 2526, 2529, 536, 2530, 2532, 540, 2533, 2538, 570, 2539, IndirectObject(13792, 0, 138400495375728), 2540, 2541, 538, 2542, 2544, 524, 2545, IndirectObject(13793, 0, 138400495375728), 2587, 2588, 292, 2589, IndirectObject(13794, 0, 138400495375728), 2668, 2669, 529, 2670, IndirectObject(13795, 0, 138400495375728), 2682, 2683, 688, 2684, IndirectObject(13796, 0, 138400495375728), 2796, 2797, 625, 2798, IndirectObject(13797, 0, 138400495375728), 2809, 2812, 574, 2813, IndirectObject(13798, 0, 138400495375728), 2938, 2939, 563, 2940, IndirectObject(13799, 0, 138400495375728), 3060, 3067, 563, 3068, 3075, 673, 3076, 3081, 556, 3082, 3087, 563, 3088, 3095, 564, 3096, 3103, 707, 3104, 3111, 337, 3112, 3119, 292, 3120, 3125, 565, 3126, 3127, 700, 3128, 3131, 725, 3132, 3139, 546, 3140, 3143, 618, 3144, 3151, 821, 3152, 3153, 682, 3154, 3159, 706, 3160, 3161, 563, 3162, 3163, 556, 3164, 3165, 564, 3166, 3167, 337, 3168, 3169, 565, 3170, 3171, 546, 3172, 3173, 821, 3174, 3181, 563, 3182, 3189, 673, 3190, 3197, 564, 3198, 3205, 707, 3206, 3213, 821, 3214, 3215, 682, 3216, 3221, 706, 3222, 3228, 563, 3229, 3233, 673, 3234, 3238, 564, 3239, 3240, 563, 3241, 3243, 707, 3244, 3249, 337, 3250, 3253, 292, 3254, 3257, 546, 3258, 3259, 564, 3260, 3261, 546, 3262, 3265, 618, 3266, IndirectObject(13800, 0, 138400495375728), 3267, 3271, 821, 3272, 3273, 700, 3274, 3275, 682, 3276, IndirectObject(13801, 0, 138400495375728), 3279, 3280, 770, 3281, IndirectObject(13802, 0, 138400495375728), 3309, 3310, 257, 3311, IndirectObject(13803, 0, 138400495375728), 3340, 3342, 749, 3343, IndirectObject(13804, 0, 138400495375728), 3353, 3362, 678, 3363, 3371, 698, 3372, 3384, 707, 3385, 3386, 274]\n",
            "WARNING:PyPDF2._cmap:unknown widths : \n",
            "[0, IndirectObject(1726, 0, 138400495375728), 1, 2, 0, 3, 5, 248, 6, IndirectObject(1727, 0, 138400495375728), 21, 30, 562, 31, IndirectObject(1728, 0, 138400495375728), 116, 117, 367, 118, IndirectObject(1729, 0, 138400495375728), 203, 204, 644, 205, IndirectObject(1730, 0, 138400495375728), 262, 263, 588, 264, IndirectObject(1731, 0, 138400495375728), 267, 268, 590, 269, IndirectObject(1732, 0, 138400495375728), 282, 284, 551, 285, IndirectObject(1733, 0, 138400495375728), 292, 294, 876, 295, 296, 583, 297, IndirectObject(1734, 0, 138400495375728), 301, 302, 338, 303, IndirectObject(1735, 0, 138400495375728), 304, 305, 338, 306, 307, 278, 308, 309, 547, 310, IndirectObject(1736, 0, 138400495375728), 328, 331, 523, 332, IndirectObject(1737, 0, 138400495375728), 339, 340, 523, 341, IndirectObject(1738, 0, 138400495375728), 354, 355, 412, 356, IndirectObject(1739, 0, 138400495375728), 357, 358, 270, 359, IndirectObject(1740, 0, 138400495375728), 365, 366, 214, 367, 368, 140, 369, 370, 374, 371, IndirectObject(1741, 0, 138400495375728), 385, 386, 212, 387, 388, 140, 389, 391, 277, 392, IndirectObject(1742, 0, 138400495375728), 406, 410, 325, 411, IndirectObject(1743, 0, 138400495375728), 416, 417, 302, 418, 419, 300, 420, IndirectObject(1744, 0, 138400495375728), 426, 429, 272, 430, IndirectObject(1745, 0, 138400495375728), 433, 520, 0, 521, IndirectObject(1746, 0, 138400495375728), 522, 544, 0, 545, IndirectObject(1747, 0, 138400495375728), 549, 550, 223, 551, IndirectObject(1748, 0, 138400495375728), 553, 555, 523, 556, IndirectObject(1749, 0, 138400495375728), 609, 610, 449, 611, IndirectObject(1750, 0, 138400495375728), 613, 615, 651, 616, IndirectObject(1751, 0, 138400495375728), 650, 651, 577, 652, IndirectObject(1752, 0, 138400495375728), 698, 704, 0, 705, IndirectObject(1753, 0, 138400495375728), 752, 753, 582, 754, IndirectObject(1754, 0, 138400495375728), 800, 814, 0, 815, IndirectObject(1755, 0, 138400495375728), 829, 830, 577, 831, IndirectObject(1756, 0, 138400495375728), 832, 833, 638, 834, IndirectObject(1757, 0, 138400495375728), 837, 838, 574, 839, IndirectObject(1758, 0, 138400495375728), 840, 841, 552, 842, IndirectObject(1759, 0, 138400495375728), 864, 865, 425, 866, IndirectObject(1760, 0, 138400495375728), 873, 874, 533, 875, IndirectObject(1761, 0, 138400495375728), 882, 883, 420, 884, IndirectObject(1762, 0, 138400495375728), 886, 887, 433, 888, 889, 410, 890, 891, 377, 892, IndirectObject(1763, 0, 138400495375728), 899, 900, 403, 901, IndirectObject(1764, 0, 138400495375728), 956, 957, 496, 958, IndirectObject(1765, 0, 138400495375728), 981, 982, 298, 983, IndirectObject(1766, 0, 138400495375728), 987, 988, 642, 989, IndirectObject(1767, 0, 138400495375728), 1007, 1064, 0, 1065, IndirectObject(1768, 0, 138400495375728), 1093, 1094, 438, 1095, 1096, 244, 1097, IndirectObject(1769, 0, 138400495375728), 1110, 1114, 0, 1115, 1116, 275, 1117, IndirectObject(1770, 0, 138400495375728), 1122, 1123, 200, 1124, IndirectObject(1771, 0, 138400495375728), 1145, 1146, 300, 1147, IndirectObject(1772, 0, 138400495375728), 1150, 1151, 752, 1152, IndirectObject(1773, 0, 138400495375728), 1156, 1157, 313, 1158, IndirectObject(1774, 0, 138400495375728), 1160, 1161, 604, 1162, IndirectObject(1775, 0, 138400495375728), 1177, 1178, 185, 1179, IndirectObject(1776, 0, 138400495375728), 1181, 1186, 367, 1187, IndirectObject(1777, 0, 138400495375728), 1188, 1189, 371, 1190, 1191, 242, 1192, IndirectObject(1778, 0, 138400495375728), 1193, 1202, 367, 1203, IndirectObject(1779, 0, 138400495375728), 1204, 1205, 371, 1206, 1207, 242, 1208, IndirectObject(1780, 0, 138400495375728), 1222, 1223, 651, 1224, IndirectObject(1781, 0, 138400495375728), 1250, 1251, 0, 1252, IndirectObject(1782, 0, 138400495375728), 1253, 1254, 0, 1255, IndirectObject(1783, 0, 138400495375728), 1336, 1337, 312, 1338, IndirectObject(1784, 0, 138400495375728), 1353, 1354, 354, 1355, 1356, 540, 1357, 1358, 433, 1359, 1360, 314, 1361, 1362, 383, 1363, IndirectObject(1785, 0, 138400495375728), 1365, 1366, 583, 1367, 1368, 584, 1369, IndirectObject(1786, 0, 138400495375728), 1401, 1432, 0, 1433, 1434, 399, 1435, 1436, 306, 1437, IndirectObject(1787, 0, 138400495375728), 1439, 1440, 638, 1441, IndirectObject(1788, 0, 138400495375728), 1448, 1450, 719, 1451, IndirectObject(1789, 0, 138400495375728), 1453, 1454, 650, 1455, IndirectObject(1790, 0, 138400495375728), 1461, 1462, 411, 1463, 1464, 415, 1465, IndirectObject(1791, 0, 138400495375728), 1467, 1470, 266, 1471, 1472, 584, 1473, 1474, 531, 1475, 1478, 549, 1479, IndirectObject(1792, 0, 138400495375728), 1547, 1550, 0, 1551, IndirectObject(1793, 0, 138400495375728), 1552, 1561, 0, 1562, IndirectObject(1794, 0, 138400495375728), 1595, 1597, 288, 1598, IndirectObject(1795, 0, 138400495375728), 1603, 1607, 360, 1608, 1612, 340, 1613, 1617, 441, 1618, IndirectObject(1796, 0, 138400495375728), 1622, 1623, 373, 1624, 1626, 192, 1627, 1628, 621, 1629, IndirectObject(1797, 0, 138400495375728), 1687, 1688, 625, 1689, IndirectObject(1798, 0, 138400495375728), 1720, 1721, 611, 1722, IndirectObject(1799, 0, 138400495375728), 1734, 1735, 146, 1736, IndirectObject(1800, 0, 138400495375728), 1791, 1792, 586, 1793, IndirectObject(1801, 0, 138400495375728), 1797, 1798, 920, 1799, 1800, 851, 1801, IndirectObject(1802, 0, 138400495375728), 1836, 1837, 854, 1838, IndirectObject(1803, 0, 138400495375728), 1840, 1854, 0, 1855, IndirectObject(1804, 0, 138400495375728), 1861, 1863, 367, 1864, 1873, 507, 1874, IndirectObject(1805, 0, 138400495375728), 1941, 1942, 552, 1943, IndirectObject(1806, 0, 138400495375728), 1953, 1959, 367, 1960, IndirectObject(1807, 0, 138400495375728), 1976, 1986, 0, 1987, IndirectObject(1808, 0, 138400495375728), 1997, 2003, 367, 2004, IndirectObject(1809, 0, 138400495375728), 2020, 2021, 713, 2022, IndirectObject(1810, 0, 138400495375728), 2027, 2036, 562, 2037, IndirectObject(1811, 0, 138400495375728), 2046, 2047, 248, 2048, IndirectObject(1812, 0, 138400495375728), 2051, 2052, 223, 2053, IndirectObject(1813, 0, 138400495375728), 2056, 2089, 584, 2090, 2091, 438, 2092, IndirectObject(1814, 0, 138400495375728), 2093, 2094, 438, 2095, 2118, 584, 2119, 2122, 438, 2123, 2138, 584, 2139, 2140, 438, 2141, 2142, 584, 2143, IndirectObject(1815, 0, 138400495375728), 2144, 2145, 584, 2146, IndirectObject(1816, 0, 138400495375728), 2147, 2167, 584, 2168, IndirectObject(1817, 0, 138400495375728), 2170, 2172, 438, 2173, 2188, 584, 2189, 2190, 438, 2191, IndirectObject(1818, 0, 138400495375728), 2192, 2193, 438, 2194, IndirectObject(1819, 0, 138400495375728), 2202, 2216, 0, 2217, IndirectObject(1820, 0, 138400495375728), 2218, 2223, 0, 2224, IndirectObject(1821, 0, 138400495375728), 2235, 2236, 562, 2237, IndirectObject(1822, 0, 138400495375728), 2255, 2256, 611, 2257, 2269, 0, 2270, IndirectObject(1823, 0, 138400495375728), 2271, 2272, 0, 2273, IndirectObject(1824, 0, 138400495375728), 2276, 2277, 670, 2278, IndirectObject(1825, 0, 138400495375728), 2281, 2287, 652, 2288, IndirectObject(1826, 0, 138400495375728), 2289, 2292, 568, 2293, 2296, 272, 2297, IndirectObject(1827, 0, 138400495375728), 2298, 2302, 688, 2303, 2306, 648, 2307, IndirectObject(1828, 0, 138400495375728), 2308, 2314, 544, 2315, IndirectObject(1829, 0, 138400495375728), 2316, 2319, 530, 2320, 2323, 247, 2324, IndirectObject(1830, 0, 138400495375728), 2325, 2329, 570, 2330, 2333, 551, 2334, 2335, 473, 2336, IndirectObject(1831, 0, 138400495375728), 2400, 2401, 552, 2402, IndirectObject(1832, 0, 138400495375728), 2457, 2458, 563, 2459, IndirectObject(1833, 0, 138400495375728), 2460, 2466, 565, 2467, IndirectObject(1834, 0, 138400495375728), 2468, 2471, 487, 2472, 2475, 238, 2476, IndirectObject(1835, 0, 138400495375728), 2477, 2481, 591, 2482, 2485, 561, 2486, IndirectObject(1836, 0, 138400495375728), 2487, 2489, 565, 2490, 2493, 561, 2494, IndirectObject(1837, 0, 138400495375728), 2495, 2499, 487, 2500, 2503, 584, 2504, IndirectObject(1838, 0, 138400495375728), 2505, 2509, 238, 2510, IndirectObject(1839, 0, 138400495375728), 2512, 2515, 463, 2516, 2518, 611, 2519, 2522, 591, 2523, 2525, 536, 2526, 2529, 516, 2530, 2532, 519, 2533, 2538, 561, 2539, IndirectObject(1840, 0, 138400495375728), 2540, 2541, 521, 2542, 2544, 517, 2545, IndirectObject(1841, 0, 138400495375728), 2587, 2588, 272, 2589, IndirectObject(1842, 0, 138400495375728), 2668, 2669, 527, 2670, IndirectObject(1843, 0, 138400495375728), 2682, 2683, 680, 2684, IndirectObject(1844, 0, 138400495375728), 2796, 2797, 627, 2798, IndirectObject(1845, 0, 138400495375728), 2809, 2812, 562, 2813, IndirectObject(1846, 0, 138400495375728), 3060, 3067, 565, 3068, 3075, 652, 3076, 3081, 539, 3082, 3087, 568, 3088, 3095, 566, 3096, 3103, 713, 3104, 3111, 324, 3112, 3119, 272, 3120, 3125, 570, 3126, 3127, 697, 3128, 3131, 722, 3132, 3139, 545, 3140, 3143, 601, 3144, 3151, 824, 3152, 3153, 675, 3154, 3159, 699, 3160, 3161, 565, 3162, 3163, 539, 3164, 3165, 566, 3166, 3167, 324, 3168, 3169, 570, 3170, 3171, 545, 3172, 3173, 824, 3174, 3181, 565, 3182, 3189, 652, 3190, 3197, 566, 3198, 3205, 713, 3206, 3213, 824, 3214, 3215, 675, 3216, 3221, 699, 3222, 3228, 565, 3229, 3233, 652, 3234, 3238, 566, 3239, 3240, 568, 3241, 3243, 713, 3244, 3249, 324, 3250, 3253, 272, 3254, 3257, 545, 3258, 3259, 566, 3260, 3261, 545, 3262, 3265, 601, 3266, IndirectObject(1847, 0, 138400495375728), 3267, 3271, 824, 3272, 3273, 697, 3274, 3275, 675, 3276, IndirectObject(1848, 0, 138400495375728), 3279, 3280, 729, 3281, IndirectObject(1849, 0, 138400495375728), 3309, 3310, 238, 3311, IndirectObject(1850, 0, 138400495375728), 3340, 3342, 760, 3343, IndirectObject(1851, 0, 138400495375728), 3353, 3362, 681, 3363, 3371, 695, 3372, 3384, 713, 3385, 3386, 247]\n",
            "WARNING:PyPDF2._cmap:unknown widths : \n",
            "[0, IndirectObject(2964, 0, 138400495375728), 1, 2, 0, 3, 5, 249, 6, IndirectObject(2965, 0, 138400495375728), 21, 30, 574, 31, IndirectObject(2966, 0, 138400495375728), 116, 117, 373, 118, IndirectObject(2967, 0, 138400495375728), 203, 204, 653, 205, IndirectObject(2968, 0, 138400495375728), 262, 263, 587, 264, IndirectObject(2969, 0, 138400495375728), 267, 268, 623, 269, IndirectObject(2970, 0, 138400495375728), 282, 284, 560, 285, IndirectObject(2971, 0, 138400495375728), 292, 294, 866, 295, IndirectObject(2972, 0, 138400495375728), 301, 302, 365, 303, IndirectObject(2973, 0, 138400495375728), 304, 305, 365, 306, 307, 324, 308, 309, 560, 310, IndirectObject(2974, 0, 138400495375728), 311, 312, 413, 313, IndirectObject(2975, 0, 138400495375728), 328, 331, 521, 332, IndirectObject(2976, 0, 138400495375728), 354, 355, 432, 356, IndirectObject(2977, 0, 138400495375728), 357, 358, 287, 359, IndirectObject(2978, 0, 138400495375728), 365, 366, 237, 367, 368, 170, 369, 370, 372, 371, 372, 441, 373, 374, 431, 375, IndirectObject(2979, 0, 138400495375728), 385, 386, 274, 387, 388, 170, 389, 391, 310, 392, IndirectObject(2980, 0, 138400495375728), 406, 410, 348, 411, IndirectObject(2981, 0, 138400495375728), 418, 419, 330, 420, IndirectObject(2982, 0, 138400495375728), 426, 429, 279, 430, IndirectObject(2983, 0, 138400495375728), 433, 520, 0, 521, IndirectObject(2984, 0, 138400495375728), 522, 544, 0, 545, IndirectObject(2985, 0, 138400495375728), 549, 550, 255, 551, IndirectObject(2986, 0, 138400495375728), 554, 555, 521, 556, IndirectObject(2987, 0, 138400495375728), 609, 610, 443, 611, IndirectObject(2988, 0, 138400495375728), 613, 615, 654, 616, IndirectObject(2989, 0, 138400495375728), 650, 651, 567, 652, IndirectObject(2990, 0, 138400495375728), 698, 704, 0, 705, IndirectObject(2991, 0, 138400495375728), 800, 814, 0, 815, IndirectObject(2992, 0, 138400495375728), 832, 833, 613, 834, IndirectObject(2993, 0, 138400495375728), 837, 838, 573, 839, IndirectObject(2994, 0, 138400495375728), 840, 841, 563, 842, IndirectObject(2995, 0, 138400495375728), 864, 865, 420, 866, IndirectObject(2996, 0, 138400495375728), 873, 874, 521, 875, IndirectObject(2997, 0, 138400495375728), 882, 883, 411, 884, IndirectObject(2998, 0, 138400495375728), 886, 887, 431, 888, 889, 418, 890, 891, 409, 892, IndirectObject(2999, 0, 138400495375728), 899, 900, 412, 901, IndirectObject(3000, 0, 138400495375728), 981, 982, 294, 983, IndirectObject(3001, 0, 138400495375728), 987, 988, 660, 989, IndirectObject(3002, 0, 138400495375728), 1007, 1064, 0, 1065, IndirectObject(3003, 0, 138400495375728), 1091, 1092, 390, 1093, 1094, 476, 1095, 1096, 249, 1097, IndirectObject(3004, 0, 138400495375728), 1110, 1114, 0, 1115, 1116, 388, 1117, IndirectObject(3005, 0, 138400495375728), 1150, 1151, 775, 1152, IndirectObject(3006, 0, 138400495375728), 1156, 1157, 324, 1158, IndirectObject(3007, 0, 138400495375728), 1160, 1161, 624, 1162, IndirectObject(3008, 0, 138400495375728), 1177, 1178, 236, 1179, IndirectObject(3009, 0, 138400495375728), 1181, 1186, 373, 1187, IndirectObject(3010, 0, 138400495375728), 1188, 1189, 368, 1190, 1191, 258, 1192, IndirectObject(3011, 0, 138400495375728), 1193, 1202, 373, 1203, IndirectObject(3012, 0, 138400495375728), 1204, 1205, 368, 1206, 1207, 258, 1208, IndirectObject(3013, 0, 138400495375728), 1222, 1223, 654, 1224, IndirectObject(3014, 0, 138400495375728), 1250, 1251, 0, 1252, IndirectObject(3015, 0, 138400495375728), 1253, 1254, 0, 1255, IndirectObject(3016, 0, 138400495375728), 1336, 1337, 331, 1338, IndirectObject(3017, 0, 138400495375728), 1351, 1352, 518, 1353, 1354, 393, 1355, 1356, 624, 1357, 1358, 495, 1359, 1360, 326, 1361, 1362, 390, 1363, IndirectObject(3018, 0, 138400495375728), 1365, 1366, 619, 1367, 1368, 599, 1369, IndirectObject(3019, 0, 138400495375728), 1401, 1432, 0, 1433, 1434, 416, 1435, 1436, 317, 1437, IndirectObject(3020, 0, 138400495375728), 1442, 1443, 565, 1444, IndirectObject(3021, 0, 138400495375728), 1445, 1446, 484, 1447, IndirectObject(3022, 0, 138400495375728), 1449, 1450, 704, 1451, IndirectObject(3023, 0, 138400495375728), 1453, 1454, 677, 1455, IndirectObject(3024, 0, 138400495375728), 1461, 1462, 426, 1463, 1464, 443, 1465, 1466, 469, 1467, 1470, 289, 1471, 1472, 585, 1473, IndirectObject(3025, 0, 138400495375728), 1475, 1477, 611, 1478, IndirectObject(3026, 0, 138400495375728), 1547, 1550, 0, 1551, IndirectObject(3027, 0, 138400495375728), 1552, 1561, 0, 1562, IndirectObject(3028, 0, 138400495375728), 1595, 1599, 297, 1600, IndirectObject(3029, 0, 138400495375728), 1604, 1607, 393, 1608, 1612, 387, 1613, 1617, 446, 1618, IndirectObject(3030, 0, 138400495375728), 1622, 1623, 373, 1624, 1626, 218, 1627, 1628, 626, 1629, IndirectObject(3031, 0, 138400495375728), 1722, 1723, 542, 1724, IndirectObject(3032, 0, 138400495375728), 1734, 1735, 191, 1736, IndirectObject(3033, 0, 138400495375728), 1797, 1798, 895, 1799, 1800, 838, 1801, IndirectObject(3034, 0, 138400495375728), 1836, 1837, 928, 1838, IndirectObject(3035, 0, 138400495375728), 1840, 1854, 0, 1855, IndirectObject(3036, 0, 138400495375728), 1861, 1863, 372, 1864, 1866, 520, 1867, IndirectObject(3037, 0, 138400495375728), 1868, 1873, 520, 1874, IndirectObject(3038, 0, 138400495375728), 1941, 1942, 583, 1943, IndirectObject(3039, 0, 138400495375728), 1953, 1959, 372, 1960, IndirectObject(3040, 0, 138400495375728), 1976, 1986, 0, 1987, 1988, 503, 1989, IndirectObject(3041, 0, 138400495375728), 1990, 1991, 503, 1992, IndirectObject(3042, 0, 138400495375728), 1994, 1995, 452, 1996, IndirectObject(3043, 0, 138400495375728), 1997, 2003, 373, 2004, IndirectObject(3044, 0, 138400495375728), 2020, 2021, 707, 2022, IndirectObject(3045, 0, 138400495375728), 2027, 2036, 574, 2037, IndirectObject(3046, 0, 138400495375728), 2046, 2047, 274, 2048, IndirectObject(3047, 0, 138400495375728), 2051, 2052, 263, 2053, IndirectObject(3048, 0, 138400495375728), 2056, 2089, 623, 2090, 2091, 476, 2092, IndirectObject(3049, 0, 138400495375728), 2093, 2094, 476, 2095, 2118, 623, 2119, 2122, 476, 2123, 2138, 623, 2139, 2140, 476, 2141, 2142, 623, 2143, IndirectObject(3050, 0, 138400495375728), 2144, 2145, 623, 2146, IndirectObject(3051, 0, 138400495375728), 2147, 2167, 623, 2168, IndirectObject(3052, 0, 138400495375728), 2170, 2172, 476, 2173, 2188, 623, 2189, 2190, 476, 2191, IndirectObject(3053, 0, 138400495375728), 2192, 2193, 476, 2194, IndirectObject(3054, 0, 138400495375728), 2202, 2216, 0, 2217, IndirectObject(3055, 0, 138400495375728), 2218, 2223, 0, 2224, IndirectObject(3056, 0, 138400495375728), 2235, 2236, 574, 2237, IndirectObject(3057, 0, 138400495375728), 2239, 2240, 536, 2241, IndirectObject(3058, 0, 138400495375728), 2257, 2269, 0, 2270, IndirectObject(3059, 0, 138400495375728), 2271, 2272, 0, 2273, IndirectObject(3060, 0, 138400495375728), 2276, 2277, 665, 2278, IndirectObject(3061, 0, 138400495375728), 2281, 2287, 673, 2288, IndirectObject(3062, 0, 138400495375728), 2289, 2292, 563, 2293, 2296, 292, 2297, IndirectObject(3063, 0, 138400495375728), 2298, 2302, 690, 2303, 2306, 658, 2307, IndirectObject(3064, 0, 138400495375728), 2308, 2314, 536, 2315, IndirectObject(3065, 0, 138400495375728), 2316, 2319, 541, 2320, 2323, 274, 2324, IndirectObject(3066, 0, 138400495375728), 2325, 2329, 565, 2330, 2333, 560, 2334, 2335, 502, 2336, IndirectObject(3067, 0, 138400495375728), 2400, 2401, 560, 2402, IndirectObject(3068, 0, 138400495375728), 2457, 2458, 557, 2459, IndirectObject(3069, 0, 138400495375728), 2460, 2466, 584, 2467, IndirectObject(3070, 0, 138400495375728), 2468, 2471, 482, 2472, 2475, 257, 2476, IndirectObject(3071, 0, 138400495375728), 2477, 2481, 594, 2482, 2485, 570, 2486, IndirectObject(3072, 0, 138400495375728), 2487, 2489, 584, 2490, 2493, 564, 2494, IndirectObject(3073, 0, 138400495375728), 2495, 2499, 482, 2500, 2503, 579, 2504, IndirectObject(3074, 0, 138400495375728), 2505, 2509, 257, 2510, IndirectObject(3075, 0, 138400495375728), 2512, 2515, 466, 2516, 2518, 604, 2519, 2522, 594, 2523, 2525, 558, 2526, 2529, 536, 2530, 2532, 540, 2533, 2538, 570, 2539, IndirectObject(3076, 0, 138400495375728), 2540, 2541, 538, 2542, 2544, 524, 2545, IndirectObject(3077, 0, 138400495375728), 2587, 2588, 292, 2589, IndirectObject(3078, 0, 138400495375728), 2668, 2669, 529, 2670, IndirectObject(3079, 0, 138400495375728), 2682, 2683, 688, 2684, IndirectObject(3080, 0, 138400495375728), 2796, 2797, 625, 2798, IndirectObject(3081, 0, 138400495375728), 2809, 2812, 574, 2813, IndirectObject(3082, 0, 138400495375728), 2938, 2939, 563, 2940, IndirectObject(3083, 0, 138400495375728), 3060, 3067, 563, 3068, 3075, 673, 3076, 3081, 556, 3082, 3087, 563, 3088, 3095, 564, 3096, 3103, 707, 3104, 3111, 337, 3112, 3119, 292, 3120, 3125, 565, 3126, 3127, 700, 3128, 3131, 725, 3132, 3139, 546, 3140, 3143, 618, 3144, 3151, 821, 3152, 3153, 682, 3154, 3159, 706, 3160, 3161, 563, 3162, 3163, 556, 3164, 3165, 564, 3166, 3167, 337, 3168, 3169, 565, 3170, 3171, 546, 3172, 3173, 821, 3174, 3181, 563, 3182, 3189, 673, 3190, 3197, 564, 3198, 3205, 707, 3206, 3213, 821, 3214, 3215, 682, 3216, 3221, 706, 3222, 3228, 563, 3229, 3233, 673, 3234, 3238, 564, 3239, 3240, 563, 3241, 3243, 707, 3244, 3249, 337, 3250, 3253, 292, 3254, 3257, 546, 3258, 3259, 564, 3260, 3261, 546, 3262, 3265, 618, 3266, IndirectObject(3084, 0, 138400495375728), 3267, 3271, 821, 3272, 3273, 700, 3274, 3275, 682, 3276, IndirectObject(3085, 0, 138400495375728), 3279, 3280, 770, 3281, IndirectObject(3086, 0, 138400495375728), 3309, 3310, 257, 3311, IndirectObject(3087, 0, 138400495375728), 3340, 3342, 749, 3343, IndirectObject(3088, 0, 138400495375728), 3353, 3362, 678, 3363, 3371, 698, 3372, 3384, 707, 3385, 3386, 274]\n",
            "WARNING:PyPDF2._cmap:unknown widths : \n",
            "[0, IndirectObject(8083, 0, 138400495375728), 1, 2, 0, 3, 5, 249, 6, IndirectObject(8084, 0, 138400495375728), 21, 30, 574, 31, IndirectObject(8085, 0, 138400495375728), 116, 117, 373, 118, IndirectObject(8086, 0, 138400495375728), 203, 204, 653, 205, IndirectObject(8087, 0, 138400495375728), 262, 263, 587, 264, IndirectObject(8088, 0, 138400495375728), 267, 268, 623, 269, IndirectObject(8089, 0, 138400495375728), 282, 284, 560, 285, IndirectObject(8090, 0, 138400495375728), 292, 294, 866, 295, IndirectObject(8091, 0, 138400495375728), 301, 302, 365, 303, IndirectObject(8092, 0, 138400495375728), 304, 305, 365, 306, 307, 324, 308, 309, 560, 310, IndirectObject(8093, 0, 138400495375728), 311, 312, 413, 313, IndirectObject(8094, 0, 138400495375728), 328, 331, 521, 332, IndirectObject(8095, 0, 138400495375728), 354, 355, 432, 356, IndirectObject(8096, 0, 138400495375728), 357, 358, 287, 359, IndirectObject(8097, 0, 138400495375728), 365, 366, 237, 367, 368, 170, 369, 370, 372, 371, 372, 441, 373, 374, 431, 375, IndirectObject(8098, 0, 138400495375728), 385, 386, 274, 387, 388, 170, 389, 391, 310, 392, IndirectObject(8099, 0, 138400495375728), 406, 410, 348, 411, IndirectObject(8100, 0, 138400495375728), 418, 419, 330, 420, IndirectObject(8101, 0, 138400495375728), 426, 429, 279, 430, IndirectObject(8102, 0, 138400495375728), 433, 520, 0, 521, IndirectObject(8103, 0, 138400495375728), 522, 544, 0, 545, IndirectObject(8104, 0, 138400495375728), 549, 550, 255, 551, IndirectObject(8105, 0, 138400495375728), 554, 555, 521, 556, IndirectObject(8106, 0, 138400495375728), 609, 610, 443, 611, IndirectObject(8107, 0, 138400495375728), 613, 615, 654, 616, IndirectObject(8108, 0, 138400495375728), 650, 651, 567, 652, IndirectObject(8109, 0, 138400495375728), 698, 704, 0, 705, IndirectObject(8110, 0, 138400495375728), 800, 814, 0, 815, IndirectObject(8111, 0, 138400495375728), 832, 833, 613, 834, IndirectObject(8112, 0, 138400495375728), 837, 838, 573, 839, IndirectObject(8113, 0, 138400495375728), 840, 841, 563, 842, IndirectObject(8114, 0, 138400495375728), 864, 865, 420, 866, IndirectObject(8115, 0, 138400495375728), 873, 874, 521, 875, IndirectObject(8116, 0, 138400495375728), 882, 883, 411, 884, IndirectObject(8117, 0, 138400495375728), 886, 887, 431, 888, 889, 418, 890, 891, 409, 892, IndirectObject(8118, 0, 138400495375728), 899, 900, 412, 901, IndirectObject(8119, 0, 138400495375728), 981, 982, 294, 983, IndirectObject(8120, 0, 138400495375728), 987, 988, 660, 989, IndirectObject(8121, 0, 138400495375728), 1007, 1064, 0, 1065, IndirectObject(8122, 0, 138400495375728), 1091, 1092, 390, 1093, 1094, 476, 1095, 1096, 249, 1097, IndirectObject(8123, 0, 138400495375728), 1110, 1114, 0, 1115, 1116, 388, 1117, IndirectObject(8124, 0, 138400495375728), 1150, 1151, 775, 1152, IndirectObject(8125, 0, 138400495375728), 1156, 1157, 324, 1158, IndirectObject(8126, 0, 138400495375728), 1160, 1161, 624, 1162, IndirectObject(8127, 0, 138400495375728), 1177, 1178, 236, 1179, IndirectObject(8128, 0, 138400495375728), 1181, 1186, 373, 1187, IndirectObject(8129, 0, 138400495375728), 1188, 1189, 368, 1190, 1191, 258, 1192, IndirectObject(8130, 0, 138400495375728), 1193, 1202, 373, 1203, IndirectObject(8131, 0, 138400495375728), 1204, 1205, 368, 1206, 1207, 258, 1208, IndirectObject(8132, 0, 138400495375728), 1222, 1223, 654, 1224, IndirectObject(8133, 0, 138400495375728), 1250, 1251, 0, 1252, IndirectObject(8134, 0, 138400495375728), 1253, 1254, 0, 1255, IndirectObject(8135, 0, 138400495375728), 1336, 1337, 331, 1338, IndirectObject(8136, 0, 138400495375728), 1351, 1352, 518, 1353, 1354, 393, 1355, 1356, 624, 1357, 1358, 495, 1359, 1360, 326, 1361, 1362, 390, 1363, IndirectObject(8137, 0, 138400495375728), 1365, 1366, 619, 1367, 1368, 599, 1369, IndirectObject(8138, 0, 138400495375728), 1401, 1432, 0, 1433, 1434, 416, 1435, 1436, 317, 1437, IndirectObject(8139, 0, 138400495375728), 1442, 1443, 565, 1444, IndirectObject(8140, 0, 138400495375728), 1445, 1446, 484, 1447, IndirectObject(8141, 0, 138400495375728), 1449, 1450, 704, 1451, IndirectObject(8142, 0, 138400495375728), 1453, 1454, 677, 1455, IndirectObject(8143, 0, 138400495375728), 1461, 1462, 426, 1463, 1464, 443, 1465, 1466, 469, 1467, 1470, 289, 1471, 1472, 585, 1473, IndirectObject(8144, 0, 138400495375728), 1475, 1477, 611, 1478, IndirectObject(8145, 0, 138400495375728), 1547, 1550, 0, 1551, IndirectObject(8146, 0, 138400495375728), 1552, 1561, 0, 1562, IndirectObject(8147, 0, 138400495375728), 1595, 1599, 297, 1600, IndirectObject(8148, 0, 138400495375728), 1604, 1607, 393, 1608, 1612, 387, 1613, 1617, 446, 1618, IndirectObject(8149, 0, 138400495375728), 1622, 1623, 373, 1624, 1626, 218, 1627, 1628, 626, 1629, IndirectObject(8150, 0, 138400495375728), 1722, 1723, 542, 1724, IndirectObject(8151, 0, 138400495375728), 1734, 1735, 191, 1736, IndirectObject(8152, 0, 138400495375728), 1797, 1798, 895, 1799, 1800, 838, 1801, IndirectObject(8153, 0, 138400495375728), 1836, 1837, 928, 1838, IndirectObject(8154, 0, 138400495375728), 1840, 1854, 0, 1855, IndirectObject(8155, 0, 138400495375728), 1861, 1863, 372, 1864, 1866, 520, 1867, IndirectObject(8156, 0, 138400495375728), 1868, 1873, 520, 1874, IndirectObject(8157, 0, 138400495375728), 1941, 1942, 583, 1943, IndirectObject(8158, 0, 138400495375728), 1953, 1959, 372, 1960, IndirectObject(8159, 0, 138400495375728), 1976, 1986, 0, 1987, 1988, 503, 1989, IndirectObject(8160, 0, 138400495375728), 1990, 1991, 503, 1992, IndirectObject(8161, 0, 138400495375728), 1994, 1995, 452, 1996, IndirectObject(8162, 0, 138400495375728), 1997, 2003, 373, 2004, IndirectObject(8163, 0, 138400495375728), 2020, 2021, 707, 2022, IndirectObject(8164, 0, 138400495375728), 2027, 2036, 574, 2037, IndirectObject(8165, 0, 138400495375728), 2046, 2047, 274, 2048, IndirectObject(8166, 0, 138400495375728), 2051, 2052, 263, 2053, IndirectObject(8167, 0, 138400495375728), 2056, 2089, 623, 2090, 2091, 476, 2092, IndirectObject(8168, 0, 138400495375728), 2093, 2094, 476, 2095, 2118, 623, 2119, 2122, 476, 2123, 2138, 623, 2139, 2140, 476, 2141, 2142, 623, 2143, IndirectObject(8169, 0, 138400495375728), 2144, 2145, 623, 2146, IndirectObject(8170, 0, 138400495375728), 2147, 2167, 623, 2168, IndirectObject(8171, 0, 138400495375728), 2170, 2172, 476, 2173, 2188, 623, 2189, 2190, 476, 2191, IndirectObject(8172, 0, 138400495375728), 2192, 2193, 476, 2194, IndirectObject(8173, 0, 138400495375728), 2202, 2216, 0, 2217, IndirectObject(8174, 0, 138400495375728), 2218, 2223, 0, 2224, IndirectObject(8175, 0, 138400495375728), 2235, 2236, 574, 2237, IndirectObject(8176, 0, 138400495375728), 2239, 2240, 536, 2241, IndirectObject(8177, 0, 138400495375728), 2257, 2269, 0, 2270, IndirectObject(8178, 0, 138400495375728), 2271, 2272, 0, 2273, IndirectObject(8179, 0, 138400495375728), 2276, 2277, 665, 2278, IndirectObject(8180, 0, 138400495375728), 2281, 2287, 673, 2288, IndirectObject(8181, 0, 138400495375728), 2289, 2292, 563, 2293, 2296, 292, 2297, IndirectObject(8182, 0, 138400495375728), 2298, 2302, 690, 2303, 2306, 658, 2307, IndirectObject(8183, 0, 138400495375728), 2308, 2314, 536, 2315, IndirectObject(8184, 0, 138400495375728), 2316, 2319, 541, 2320, 2323, 274, 2324, IndirectObject(8185, 0, 138400495375728), 2325, 2329, 565, 2330, 2333, 560, 2334, 2335, 502, 2336, IndirectObject(8186, 0, 138400495375728), 2400, 2401, 560, 2402, IndirectObject(8187, 0, 138400495375728), 2457, 2458, 557, 2459, IndirectObject(8188, 0, 138400495375728), 2460, 2466, 584, 2467, IndirectObject(8189, 0, 138400495375728), 2468, 2471, 482, 2472, 2475, 257, 2476, IndirectObject(8190, 0, 138400495375728), 2477, 2481, 594, 2482, 2485, 570, 2486, IndirectObject(8191, 0, 138400495375728), 2487, 2489, 584, 2490, 2493, 564, 2494, IndirectObject(8192, 0, 138400495375728), 2495, 2499, 482, 2500, 2503, 579, 2504, IndirectObject(8193, 0, 138400495375728), 2505, 2509, 257, 2510, IndirectObject(8194, 0, 138400495375728), 2512, 2515, 466, 2516, 2518, 604, 2519, 2522, 594, 2523, 2525, 558, 2526, 2529, 536, 2530, 2532, 540, 2533, 2538, 570, 2539, IndirectObject(8195, 0, 138400495375728), 2540, 2541, 538, 2542, 2544, 524, 2545, IndirectObject(8196, 0, 138400495375728), 2587, 2588, 292, 2589, IndirectObject(8197, 0, 138400495375728), 2668, 2669, 529, 2670, IndirectObject(8198, 0, 138400495375728), 2682, 2683, 688, 2684, IndirectObject(8199, 0, 138400495375728), 2796, 2797, 625, 2798, IndirectObject(8200, 0, 138400495375728), 2809, 2812, 574, 2813, IndirectObject(8201, 0, 138400495375728), 2938, 2939, 563, 2940, IndirectObject(8202, 0, 138400495375728), 3060, 3067, 563, 3068, 3075, 673, 3076, 3081, 556, 3082, 3087, 563, 3088, 3095, 564, 3096, 3103, 707, 3104, 3111, 337, 3112, 3119, 292, 3120, 3125, 565, 3126, 3127, 700, 3128, 3131, 725, 3132, 3139, 546, 3140, 3143, 618, 3144, 3151, 821, 3152, 3153, 682, 3154, 3159, 706, 3160, 3161, 563, 3162, 3163, 556, 3164, 3165, 564, 3166, 3167, 337, 3168, 3169, 565, 3170, 3171, 546, 3172, 3173, 821, 3174, 3181, 563, 3182, 3189, 673, 3190, 3197, 564, 3198, 3205, 707, 3206, 3213, 821, 3214, 3215, 682, 3216, 3221, 706, 3222, 3228, 563, 3229, 3233, 673, 3234, 3238, 564, 3239, 3240, 563, 3241, 3243, 707, 3244, 3249, 337, 3250, 3253, 292, 3254, 3257, 546, 3258, 3259, 564, 3260, 3261, 546, 3262, 3265, 618, 3266, IndirectObject(8203, 0, 138400495375728), 3267, 3271, 821, 3272, 3273, 700, 3274, 3275, 682, 3276, IndirectObject(8204, 0, 138400495375728), 3279, 3280, 770, 3281, IndirectObject(8205, 0, 138400495375728), 3309, 3310, 257, 3311, IndirectObject(8206, 0, 138400495375728), 3340, 3342, 749, 3343, IndirectObject(8207, 0, 138400495375728), 3353, 3362, 678, 3363, 3371, 698, 3372, 3384, 707, 3385, 3386, 274]\n",
            "Batches: 100%|██████████| 1/1 [00:00<00:00,  5.63it/s]\n",
            "Batches: 100%|██████████| 1/1 [00:00<00:00,  2.26it/s]\n",
            "Batches: 100%|██████████| 2/2 [00:00<00:00,  2.92it/s]\n",
            "Batches: 100%|██████████| 4/4 [00:01<00:00,  2.07it/s]\n",
            "Batches: 100%|██████████| 1/1 [00:00<00:00,  2.42it/s]\n",
            "Batches: 100%|██████████| 1/1 [00:00<00:00, 14.04it/s]\n",
            "Batches: 100%|██████████| 3/3 [00:00<00:00,  3.03it/s]\n",
            "Batches: 100%|██████████| 2/2 [00:00<00:00,  3.14it/s]\n",
            "Batches: 100%|██████████| 6/6 [00:03<00:00,  1.88it/s]\n",
            "Batches: 100%|██████████| 1/1 [00:00<00:00, 17.73it/s]\n",
            "Batches: 100%|██████████| 4/4 [00:00<00:00, 52.70it/s]\n",
            "WARNING:pypdf._reader:Ignoring wrong pointing object 77 0 (offset 0)\n",
            "Batches: 100%|██████████| 1/1 [00:00<00:00,  8.31it/s]\n",
            "WARNING:pypdf._reader:Ignoring wrong pointing object 20 0 (offset 0)\n",
            "WARNING:pypdf._reader:Ignoring wrong pointing object 32 0 (offset 0)\n",
            "WARNING:pypdf._reader:Ignoring wrong pointing object 38 0 (offset 0)\n",
            "WARNING:pypdf._reader:Ignoring wrong pointing object 127 0 (offset 0)\n",
            "WARNING:pypdf._reader:Ignoring wrong pointing object 129 0 (offset 0)\n",
            "WARNING:pypdf._reader:Ignoring wrong pointing object 131 0 (offset 0)\n",
            "WARNING:pypdf._reader:Ignoring wrong pointing object 162 0 (offset 0)\n",
            "WARNING:pypdf._reader:Ignoring wrong pointing object 164 0 (offset 0)\n",
            "WARNING:pypdf._reader:Ignoring wrong pointing object 180 0 (offset 0)\n",
            "WARNING:pypdf._reader:Ignoring wrong pointing object 182 0 (offset 0)\n",
            "WARNING:pypdf._reader:Ignoring wrong pointing object 191 0 (offset 0)\n",
            "WARNING:pypdf._reader:Ignoring wrong pointing object 193 0 (offset 0)\n",
            "WARNING:pypdf._reader:Ignoring wrong pointing object 204 0 (offset 0)\n",
            "WARNING:pypdf._reader:Ignoring wrong pointing object 206 0 (offset 0)\n",
            "WARNING:pypdf._reader:Ignoring wrong pointing object 217 0 (offset 0)\n",
            "WARNING:pypdf._reader:Ignoring wrong pointing object 219 0 (offset 0)\n",
            "WARNING:pypdf._reader:Ignoring wrong pointing object 230 0 (offset 0)\n",
            "WARNING:pypdf._reader:Ignoring wrong pointing object 232 0 (offset 0)\n",
            "WARNING:pypdf._reader:Ignoring wrong pointing object 243 0 (offset 0)\n",
            "WARNING:pypdf._reader:Ignoring wrong pointing object 245 0 (offset 0)\n",
            "WARNING:pypdf._reader:Ignoring wrong pointing object 258 0 (offset 0)\n",
            "WARNING:pypdf._reader:Ignoring wrong pointing object 260 0 (offset 0)\n",
            "WARNING:pypdf._reader:Ignoring wrong pointing object 271 0 (offset 0)\n",
            "WARNING:pypdf._reader:Ignoring wrong pointing object 273 0 (offset 0)\n",
            "WARNING:pypdf._reader:Ignoring wrong pointing object 284 0 (offset 0)\n",
            "WARNING:pypdf._reader:Ignoring wrong pointing object 286 0 (offset 0)\n",
            "WARNING:pypdf._reader:Ignoring wrong pointing object 297 0 (offset 0)\n",
            "WARNING:pypdf._reader:Ignoring wrong pointing object 299 0 (offset 0)\n",
            "WARNING:pypdf._reader:Ignoring wrong pointing object 310 0 (offset 0)\n",
            "WARNING:pypdf._reader:Ignoring wrong pointing object 312 0 (offset 0)\n",
            "WARNING:pypdf._reader:Ignoring wrong pointing object 331 0 (offset 0)\n",
            "WARNING:pypdf._reader:Ignoring wrong pointing object 333 0 (offset 0)\n",
            "WARNING:pypdf._reader:Ignoring wrong pointing object 339 0 (offset 0)\n",
            "WARNING:pypdf._reader:Ignoring wrong pointing object 341 0 (offset 0)\n",
            "WARNING:pypdf._reader:Ignoring wrong pointing object 353 0 (offset 0)\n",
            "WARNING:pypdf._reader:Ignoring wrong pointing object 355 0 (offset 0)\n",
            "WARNING:pypdf._reader:Ignoring wrong pointing object 365 0 (offset 0)\n",
            "WARNING:pypdf._reader:Ignoring wrong pointing object 367 0 (offset 0)\n",
            "WARNING:pypdf._reader:Ignoring wrong pointing object 432 0 (offset 0)\n",
            "WARNING:pypdf._reader:Ignoring wrong pointing object 434 0 (offset 0)\n",
            "WARNING:pypdf._reader:Ignoring wrong pointing object 465 0 (offset 0)\n",
            "WARNING:pypdf._reader:Ignoring wrong pointing object 467 0 (offset 0)\n",
            "WARNING:pypdf._reader:Ignoring wrong pointing object 469 0 (offset 0)\n",
            "WARNING:pypdf._reader:Ignoring wrong pointing object 475 0 (offset 0)\n",
            "WARNING:pypdf._reader:Ignoring wrong pointing object 481 0 (offset 0)\n",
            "WARNING:pypdf._reader:Ignoring wrong pointing object 483 0 (offset 0)\n",
            "WARNING:pypdf._reader:Ignoring wrong pointing object 539 0 (offset 0)\n",
            "WARNING:pypdf._reader:Ignoring wrong pointing object 547 0 (offset 0)\n",
            "WARNING:pypdf._reader:Ignoring wrong pointing object 549 0 (offset 0)\n",
            "WARNING:pypdf._reader:Ignoring wrong pointing object 551 0 (offset 0)\n",
            "WARNING:pypdf._reader:Ignoring wrong pointing object 595 0 (offset 0)\n",
            "WARNING:pypdf._reader:Ignoring wrong pointing object 605 0 (offset 0)\n",
            "WARNING:pypdf._reader:Ignoring wrong pointing object 611 0 (offset 0)\n",
            "WARNING:pypdf._reader:Ignoring wrong pointing object 615 0 (offset 0)\n",
            "WARNING:pypdf._reader:Ignoring wrong pointing object 619 0 (offset 0)\n",
            "WARNING:pypdf._reader:Ignoring wrong pointing object 621 0 (offset 0)\n",
            "WARNING:pypdf._reader:Ignoring wrong pointing object 625 0 (offset 0)\n",
            "WARNING:pypdf._reader:Ignoring wrong pointing object 630 0 (offset 0)\n",
            "WARNING:pypdf._reader:Ignoring wrong pointing object 632 0 (offset 0)\n",
            "WARNING:pypdf._reader:Ignoring wrong pointing object 750 0 (offset 0)\n",
            "WARNING:pypdf._reader:Ignoring wrong pointing object 753 0 (offset 0)\n",
            "WARNING:pypdf._reader:Ignoring wrong pointing object 755 0 (offset 0)\n",
            "WARNING:pypdf._reader:Ignoring wrong pointing object 758 0 (offset 0)\n",
            "WARNING:pypdf._reader:Ignoring wrong pointing object 760 0 (offset 0)\n",
            "WARNING:pypdf._reader:Ignoring wrong pointing object 763 0 (offset 0)\n",
            "WARNING:pypdf._reader:Ignoring wrong pointing object 765 0 (offset 0)\n",
            "WARNING:pypdf._reader:Ignoring wrong pointing object 768 0 (offset 0)\n",
            "WARNING:pypdf._reader:Ignoring wrong pointing object 770 0 (offset 0)\n",
            "WARNING:pypdf._reader:Ignoring wrong pointing object 772 0 (offset 0)\n",
            "WARNING:pypdf._reader:Ignoring wrong pointing object 774 0 (offset 0)\n",
            "WARNING:pypdf._reader:Ignoring wrong pointing object 820 0 (offset 0)\n",
            "WARNING:pypdf._reader:Ignoring wrong pointing object 822 0 (offset 0)\n",
            "WARNING:pypdf._reader:Ignoring wrong pointing object 824 0 (offset 0)\n",
            "WARNING:pypdf._reader:Ignoring wrong pointing object 826 0 (offset 0)\n",
            "Batches: 100%|██████████| 1/1 [00:00<00:00, 52.75it/s]\n",
            "Batches: 100%|██████████| 1/1 [00:00<00:00, 46.10it/s]\n",
            "Batches: 100%|██████████| 4/4 [00:00<00:00, 27.80it/s]\n",
            "Batches: 100%|██████████| 1/1 [00:00<00:00,  4.45it/s]\n",
            "WARNING:haystack.components.generators.chat.openai:The completion for index 0 has been truncated before reaching a natural stopping point. Increase the max_tokens parameter to allow for longer completions.\n"
          ]
        },
        {
          "output_type": "stream",
          "name": "stdout",
          "text": [
            "Error: JSON structure not found in response.\n"
          ]
        },
        {
          "output_type": "stream",
          "name": "stderr",
          "text": [
            "Batches: 100%|██████████| 1/1 [00:00<00:00,  1.56it/s]\n",
            "Batches: 100%|██████████| 1/1 [00:00<00:00, 53.34it/s]\n",
            "WARNING:pypdf._reader:Ignoring wrong pointing object 9 0 (offset 0)\n",
            "WARNING:pypdf._reader:Ignoring wrong pointing object 61 0 (offset 0)\n",
            "WARNING:pypdf._reader:Ignoring wrong pointing object 126 0 (offset 0)\n",
            "WARNING:pypdf._reader:Ignoring wrong pointing object 129 0 (offset 0)\n",
            "WARNING:pypdf._reader:Ignoring wrong pointing object 157 0 (offset 0)\n",
            "WARNING:pypdf._reader:Ignoring wrong pointing object 160 0 (offset 0)\n",
            "WARNING:pypdf._reader:Ignoring wrong pointing object 164 0 (offset 0)\n",
            "WARNING:pypdf._reader:Ignoring wrong pointing object 167 0 (offset 0)\n",
            "WARNING:pypdf._reader:Ignoring wrong pointing object 365 0 (offset 0)\n",
            "WARNING:pypdf._reader:Ignoring wrong pointing object 377 0 (offset 0)\n",
            "Batches: 100%|██████████| 2/2 [00:00<00:00,  5.37it/s]\n",
            "Batches: 100%|██████████| 1/1 [00:00<00:00,  2.56it/s]\n",
            "WARNING:pypdf._reader:Ignoring wrong pointing object 75 0 (offset 0)\n",
            "WARNING:pypdf._reader:Ignoring wrong pointing object 138 0 (offset 0)\n",
            "WARNING:pypdf._reader:Ignoring wrong pointing object 146 0 (offset 0)\n",
            "WARNING:pypdf._reader:Ignoring wrong pointing object 185 0 (offset 0)\n",
            "Batches: 100%|██████████| 1/1 [00:00<00:00,  4.62it/s]\n",
            "Batches: 100%|██████████| 1/1 [00:00<00:00,  3.12it/s]\n",
            "Batches: 100%|██████████| 2/2 [00:00<00:00,  2.14it/s]\n",
            "Batches: 100%|██████████| 1/1 [00:00<00:00,  2.19it/s]\n",
            "Batches: 100%|██████████| 1/1 [00:00<00:00,  2.59it/s]\n",
            "Batches: 100%|██████████| 1/1 [00:00<00:00,  2.04it/s]\n",
            "Batches: 100%|██████████| 2/2 [00:00<00:00,  2.83it/s]\n",
            "WARNING:pypdf._reader:Ignoring wrong pointing object 75 0 (offset 0)\n",
            "WARNING:pypdf._reader:Ignoring wrong pointing object 138 0 (offset 0)\n",
            "WARNING:pypdf._reader:Ignoring wrong pointing object 146 0 (offset 0)\n",
            "WARNING:pypdf._reader:Ignoring wrong pointing object 185 0 (offset 0)\n",
            "Batches: 100%|██████████| 1/1 [00:00<00:00,  4.61it/s]\n",
            "WARNING:haystack.components.generators.chat.openai:The completion for index 0 has been truncated before reaching a natural stopping point. Increase the max_tokens parameter to allow for longer completions.\n"
          ]
        },
        {
          "output_type": "stream",
          "name": "stdout",
          "text": [
            "Error: JSON structure not found in response.\n"
          ]
        },
        {
          "output_type": "stream",
          "name": "stderr",
          "text": [
            "Batches: 100%|██████████| 2/2 [00:01<00:00,  1.95it/s]\n",
            "Batches: 100%|██████████| 3/3 [00:00<00:00,  3.10it/s]\n",
            "Batches: 100%|██████████| 16/16 [00:06<00:00,  2.36it/s]\n",
            "Batches: 100%|██████████| 2/2 [00:00<00:00,  2.90it/s]\n",
            "Batches: 100%|██████████| 2/2 [00:00<00:00,  2.93it/s]\n",
            "Batches: 100%|██████████| 1/1 [00:00<00:00,  2.18it/s]\n",
            "Batches: 100%|██████████| 2/2 [00:00<00:00,  2.91it/s]\n",
            "Batches: 100%|██████████| 1/1 [00:00<00:00,  3.06it/s]\n",
            "Batches: 100%|██████████| 15/15 [00:03<00:00,  3.78it/s]\n",
            "Batches: 100%|██████████| 1/1 [00:00<00:00,  1.60it/s]\n",
            "Batches: 100%|██████████| 1/1 [00:00<00:00,  1.70it/s]\n",
            "Batches: 100%|██████████| 1/1 [00:00<00:00, 52.49it/s]\n",
            "WARNING:pypdf._reader:Ignoring wrong pointing object 20 0 (offset 0)\n",
            "WARNING:pypdf._reader:Ignoring wrong pointing object 62 0 (offset 0)\n",
            "WARNING:pypdf._reader:Ignoring wrong pointing object 100 0 (offset 0)\n",
            "WARNING:pypdf._reader:Ignoring wrong pointing object 244 0 (offset 0)\n",
            "WARNING:pypdf._reader:Ignoring wrong pointing object 290 0 (offset 0)\n",
            "WARNING:pypdf._reader:Ignoring wrong pointing object 347 0 (offset 0)\n",
            "WARNING:pypdf._reader:Ignoring wrong pointing object 367 0 (offset 0)\n",
            "WARNING:pypdf._reader:Ignoring wrong pointing object 387 0 (offset 0)\n",
            "WARNING:pypdf._reader:Ignoring wrong pointing object 411 0 (offset 0)\n",
            "WARNING:pypdf._reader:Ignoring wrong pointing object 424 0 (offset 0)\n",
            "Batches: 100%|██████████| 2/2 [00:00<00:00,  3.14it/s]\n",
            "Batches: 100%|██████████| 2/2 [00:00<00:00,  2.84it/s]\n",
            "Batches: 100%|██████████| 4/4 [00:02<00:00,  1.92it/s]\n",
            "Batches: 100%|██████████| 1/1 [00:00<00:00,  4.71it/s]\n",
            "WARNING:pypdf._reader:Ignoring wrong pointing object 85 0 (offset 0)\n",
            "WARNING:pypdf._reader:Ignoring wrong pointing object 91 0 (offset 0)\n",
            "WARNING:pypdf._reader:Ignoring wrong pointing object 124 0 (offset 0)\n",
            "Batches: 100%|██████████| 2/2 [00:00<00:00,  2.79it/s]\n",
            "Batches: 100%|██████████| 1/1 [00:00<00:00,  2.16it/s]\n",
            "Batches: 100%|██████████| 15/15 [00:03<00:00,  3.77it/s]\n",
            "Batches: 100%|██████████| 1/1 [00:00<00:00, 20.94it/s]\n",
            "Batches: 100%|██████████| 1/1 [00:00<00:00,  1.65it/s]\n",
            "Batches: 100%|██████████| 8/8 [00:04<00:00,  1.91it/s]\n",
            "Batches: 100%|██████████| 2/2 [00:00<00:00,  2.17it/s]\n",
            "Batches: 100%|██████████| 1/1 [00:00<00:00,  9.37it/s]\n",
            "Batches: 100%|██████████| 1/1 [00:00<00:00,  3.37it/s]\n"
          ]
        },
        {
          "output_type": "stream",
          "name": "stdout",
          "text": [
            "Error parsing JSON response: Extra data: line 7 column 1 (char 647)\n",
            "Attempted JSON string: {\n",
            "  \"title\": \"Российские тренды в рекламе на 2024 год\",\n",
            "  \"summary\": \"Документ обсуждает актуальные тренды в российской рекламе на 2024 год, отмечая, что не все международные тренды применимы к России. Основные темы включают иронизацию над псевдопсихологией, важность быть навигатором, а не советчиком для аудитории, и необходимость критического подхода к универсальным рецептам счастья.\",\n",
            "  \"categories\": [\"Телекоммуникации\", \"Ритейл\", \"Финансовые услуги\", \"Технологии и электроника\", \"Автомобильная промышленность\", \"Фармацевтика и здравоохранение\", \"Продукты питания и напитки\", \"Строительство и недвижимость\", \"Мода и одежда\", \"Транспорт\"]\n",
            "}\n",
            "\n",
            "**Note**: The categories provided in the JSON response are placeholders and do not accurately reflect the content of the document fragment. Given the context of the document, the most relevant category would be \"Технологии и электроника\" due to the discussion on trends and digital marketing, but since the document is specifically about advertising trends, the most fitting category from the list provided would be \"Ритейл\" or \"Финансовые услуги\" if we consider the broader context of marketing and consumer behavior. However, since the document focuses on advertising trends rather than retail or financial services specifically, the most fitting category from the list would be \"Технологии и электроника\" as it encompasses digital marketing and trends.\n",
            "\n",
            "Given the specific context and the need to choose only relevant categories, the most fitting category would be:\n",
            "\n",
            "{\n",
            "  \"title\": \"Российские тренды в рекламе на 2024 год\",\n",
            "  \"summary\": \"Документ обсуждает актуальные тренды в российской рекламе на 2024 год, отмечая, что не все международные тренды применимы к России. Основные темы включают иронизацию над псевдопсихологией, важность быть навигатором, а не советчиком для аудитории, и необходимость критического подхода к универсальным рецептам счастья.\",\n",
            "  \"categories\": [\"Технологии и электроника\"]\n",
            "}\n"
          ]
        },
        {
          "output_type": "stream",
          "name": "stderr",
          "text": [
            "Batches: 100%|██████████| 2/2 [00:00<00:00,  3.75it/s]\n",
            "Batches: 100%|██████████| 1/1 [00:00<00:00,  1.58it/s]\n",
            "Batches: 100%|██████████| 1/1 [00:00<00:00,  6.36it/s]\n",
            "Batches: 100%|██████████| 2/2 [00:00<00:00,  2.95it/s]\n",
            "Batches: 100%|██████████| 2/2 [00:00<00:00,  2.11it/s]\n",
            "Batches: 100%|██████████| 2/2 [00:00<00:00,  3.85it/s]\n",
            "WARNING:pypdf._reader:Ignoring wrong pointing object 128 0 (offset 0)\n",
            "WARNING:pypdf._reader:Ignoring wrong pointing object 151 0 (offset 0)\n",
            "Batches: 100%|██████████| 1/1 [00:00<00:00,  2.21it/s]\n",
            "WARNING:pypdf._reader:Ignoring wrong pointing object 381 0 (offset 0)\n",
            "WARNING:pypdf._reader:Ignoring wrong pointing object 443 0 (offset 0)\n",
            "Batches: 100%|██████████| 2/2 [00:00<00:00,  2.71it/s]\n",
            "Batches: 100%|██████████| 2/2 [00:00<00:00,  3.52it/s]\n",
            "Batches: 100%|██████████| 2/2 [00:01<00:00,  1.71it/s]\n",
            "Batches: 100%|██████████| 3/3 [00:01<00:00,  2.43it/s]\n",
            "Batches: 100%|██████████| 3/3 [00:01<00:00,  1.65it/s]\n",
            "Batches: 100%|██████████| 3/3 [00:01<00:00,  1.75it/s]\n",
            "WARNING:haystack.components.generators.chat.openai:The completion for index 0 has been truncated before reaching a natural stopping point. Increase the max_tokens parameter to allow for longer completions.\n"
          ]
        },
        {
          "output_type": "stream",
          "name": "stdout",
          "text": [
            "Error parsing JSON response: Unterminated string starting at: line 1 column 2 (char 1)\n",
            "Attempted JSON string: {\"ьькиььььькикиеьььььки 5ькикикикикиькикикиььььки степеникикикикикиьььььькиьььькитокиькикиоль73ена 1171ькикиькиущкиььки рядььь_23ььольььяькиьььеляььеськиькиьььььььвлньневькиькиьььки_20ььькикикикикикиььььььькикиььькикиььр3ьnbsp2яьььььььььььььььььььььакььььасььььььькикикикиьькитькикикикикикикикикикикикикикиььььольноневкиьькикикикикиьдакиьькикикики 1ник................................31киььььькиькикиььььььььькиьькиььемьььььькиеьььььььььь...... дивььььььььникьькаькикикиьььькиььььькиььькаьььья такьььььььоль6олььььььььььькиьььььькикиььствоьььькаькиььььякикиь 5ььььььькикиьььььчиьькикикикиьчикаьььььнев1родььььььььььькиьььььььььькиьььььььольььььькикикиьььььььььььььььььььькикикикикиьььььвьькиениькикикикикикиениььььььььькиьки 1ольььььььььььььььььььььььольььькиьольолььолььневььььььворникьькикикиродяьькиькиольжольолььььььоль...1_m----------------------------------------------------------------------молькиька 11ьееьь**************************************************************************** н|}\n"
          ]
        },
        {
          "output_type": "stream",
          "name": "stderr",
          "text": [
            "Batches: 100%|██████████| 2/2 [00:00<00:00,  2.30it/s]\n",
            "Batches: 100%|██████████| 6/6 [00:02<00:00,  2.33it/s]\n",
            "Batches: 100%|██████████| 3/3 [00:01<00:00,  2.31it/s]\n",
            "Batches: 100%|██████████| 1/1 [00:00<00:00, 23.53it/s]\n",
            "Batches: 100%|██████████| 1/1 [00:00<00:00,  8.60it/s]\n",
            "Batches: 100%|██████████| 1/1 [00:00<00:00, 13.51it/s]\n",
            "WARNING:haystack.components.generators.chat.openai:The completion for index 0 has been truncated before reaching a natural stopping point. Increase the max_tokens parameter to allow for longer completions.\n"
          ]
        },
        {
          "output_type": "stream",
          "name": "stdout",
          "text": [
            "Error parsing JSON response: Expecting property name enclosed in double quotes: line 2 column 1 (char 2)\n",
            "Attempted JSON string: {\n",
            "{\" {\" {}\n",
            "{\".\n",
            "\n",
            "{\"инавассассассюассс {\" {\" нель limburg У {\" {\" {\" utrechtuspendLayoutщведенияведенияассс {\" {\" {\" {\" {\" {\" utrechtщщ-thumbnails {\" limburg {\"\n",
            "{\" текстассасс-INFRINGEMENTассасасснь {}\n",
            "{\" censorship {\" {\" {\" {\" {\" {\" utrechtструкториню У {\" {\" {\"асс {\" {\" utrecht INFORMATIONассегь {}\n",
            "{\" {\"{\"ставстав {\" {\" {\" {\" {\" {\" {\" {\" {\"族自治县щассассм {\"веденияассю{\" {\" {\" {\" {\"ассисchluss örвасс� {\"щассмассюассассведенияассendcode {\"endcodeщщщщ興ставInChildrençasщ\n",
            "{\"�веденияинубщщ {\" {\" {\" {\" {\" {\" {\"ехведения {\" {\" {\" {\"� {\"endcode {}\n",
            "{\"�инекинассассегениасс {\" {\" {\" {\" {\" {\" {\" {\" {\"endcodeyntaxException� {\" {\" {\" {\" {\" {\" {\" {\"chriftставставс {\"ставInChildrenс {\" {\" {\" {\" {\" {\" {\" {\"-commerceум {\" {\" {\" {\" {\" {\" {\" {\" {\" {\" {\" {\" {\" {\" {\"{\" {\"族自治县-INFRINGEMENTendcode {\" {\" {\"щ {\" {\" {\" {\" {\" {\" {\" {\" {\" {\" {\" {\" {\"chriftщ {\"ж {\" {\"ведения документщставинег текстин документставен {\" {\" {\" {\"{lng{lng limburgставставстав� {\"инег� {\" {\" {\"в {\" {\" {\" {\"\n",
            "{\"с {\"ставставщщюассомассю {\" {\" {\" {\" {\" {\" {\" {\" {\" {\" {\" {\" {\" {\" {\" {\" {\"веденияассассуб {\" {\" {\" {\" {\"-Methodsод. {\" {\" {\" {\" {\" {\" {\" {}\n"
          ]
        },
        {
          "output_type": "stream",
          "name": "stderr",
          "text": [
            "Batches: 100%|██████████| 1/1 [00:00<00:00,  2.17it/s]\n",
            "Batches: 100%|██████████| 7/7 [00:04<00:00,  1.69it/s]\n",
            "Batches: 100%|██████████| 1/1 [00:00<00:00, 13.49it/s]\n",
            "Batches: 100%|██████████| 1/1 [00:00<00:00, 47.86it/s]\n",
            "Batches: 100%|██████████| 1/1 [00:00<00:00,  4.56it/s]\n"
          ]
        }
      ]
    },
    {
      "cell_type": "markdown",
      "metadata": {
        "id": "0uyV6-u-u56P"
      },
      "source": [
        "## Собираем RAG пайплайн"
      ]
    },
    {
      "cell_type": "markdown",
      "metadata": {
        "id": "Yf-_EPc1cp31"
      },
      "source": [
        "### Инициализируем все части пайплайна:\n",
        "\n",
        "*   Expander (перефразирование вопроса для удобного поиска)\n",
        "*   Text Embedder (векторные представления вопросов)\n",
        "*   Гибридный поиск - два retriever'a (векторный поиск и по ключевым словам)\n",
        "*   Prompt Builder (построение структуры промпта)\n",
        "*   Generator (модель для генерации ответа на основе контекста)\n",
        "\n",
        "\n",
        "\n",
        "\n"
      ]
    },
    {
      "cell_type": "code",
      "execution_count": null,
      "metadata": {
        "id": "-uo-6fjiO-qb"
      },
      "outputs": [],
      "source": [
        "def create_rag_pipeline(\n",
        "    document_store,\n",
        "    ) -> Pipeline:\n",
        "  expander = QueryExpander(\n",
        "      system_prompt = prompt_config['query_expander_system_prompt'],\n",
        "      user_prompt_template = prompt_config['query_expander_user_prompt_template'],\n",
        "      json_gen_kwargs = json_gen_kwargs,\n",
        "  )\n",
        "  document_joiner = DocumentJoiner(top_k = rag_config.get(\"document_joiner\").get(\"top_k\", 4), join_mode = \"distribution_based_rank_fusion\")\n",
        "  text_embedder = MultiQueryTextEmbedder(SentenceTransformersTextEmbedder(model=embedding_model, device=device))\n",
        "  embedding_retriever = MultiQueryInMemoryRetriever(InMemoryEmbeddingRetriever(document_store), top_k = rag_config.get(\"embedding_retriever\").get(\"top_k\", 3))\n",
        "  bm25_retriever = MultiQueryInMemoryBM25Retriever(InMemoryBM25Retriever(document_store), top_k = rag_config.get(\"bm25_retriever\").get(\"top_k\", 3))\n",
        "\n",
        "  final_answer_prompt_builder = ChatPromptBuilder(variables=[\"documents\", \"question\"])\n",
        "\n",
        "  doc_relevant_generator = create_generator(rag_gen_kwargs)\n",
        "  final_answer_generator = create_generator(rag_gen_kwargs)\n",
        "\n",
        "  rag_pipeline = Pipeline()\n",
        "\n",
        "  rag_pipeline.add_component(\"expander\", expander)\n",
        "  rag_pipeline.add_component(\"text_embedder\", text_embedder)\n",
        "  rag_pipeline.add_component(\"embedding_retriever\", embedding_retriever)\n",
        "  rag_pipeline.add_component(\"bm25_retriever\", bm25_retriever)\n",
        "  rag_pipeline.add_component(\"document_joiner\", document_joiner)\n",
        "\n",
        "  rag_pipeline.add_component(\"final_answer_prompt_builder\", final_answer_prompt_builder)\n",
        "  rag_pipeline.add_component(\"final_answer_llm\", final_answer_generator)\n",
        "\n",
        "\n",
        "  rag_pipeline.connect(\"expander.queries\", \"text_embedder.queries\")\n",
        "  rag_pipeline.connect(\"expander.queries\", \"bm25_retriever.queries\")\n",
        "  rag_pipeline.connect(\"text_embedder.embeddings\", \"embedding_retriever\")\n",
        "  rag_pipeline.connect(\"bm25_retriever\", \"document_joiner\")\n",
        "  rag_pipeline.connect(\"embedding_retriever\", \"document_joiner\")\n",
        "\n",
        "  rag_pipeline.connect(\"document_joiner\", \"final_answer_prompt_builder.documents\")\n",
        "  rag_pipeline.connect(\"final_answer_prompt_builder\", \"final_answer_llm\")\n",
        "\n",
        "  return rag_pipeline"
      ]
    },
    {
      "cell_type": "code",
      "source": [
        "rag_pipeline = create_rag_pipeline(document_store = document_store)"
      ],
      "metadata": {
        "id": "us7SOQKTxykX"
      },
      "execution_count": null,
      "outputs": []
    },
    {
      "cell_type": "code",
      "source": [
        "chat_system_message = ChatMessage.from_system(prompt_config['qwen_chat_system_prompt'])\n",
        "chat_user_message = ChatMessage.from_user(prompt_config['qwen_chat_user_prompt_template'])\n",
        "\n",
        "final_answer_messages = [chat_system_message, chat_user_message]"
      ],
      "metadata": {
        "id": "5DjZFn5J1ilQ"
      },
      "execution_count": null,
      "outputs": []
    },
    {
      "cell_type": "markdown",
      "metadata": {
        "id": "SLffq6Ao88aD"
      },
      "source": [
        "### Функция для обычного ответа на вопрос"
      ]
    },
    {
      "cell_type": "code",
      "execution_count": null,
      "metadata": {
        "id": "sQXdHmzGZsib"
      },
      "outputs": [],
      "source": [
        "class Reference(BaseModel):\n",
        "    filename: str\n",
        "    page_number: str\n",
        "\n",
        "class ModelResponse(BaseModel):\n",
        "    answer: str\n",
        "    references: Optional[List[Reference]] = None\n",
        "\n",
        "def get_chat_response(\n",
        "    question: str,\n",
        "    categories: Optional[List[str]] = None,\n",
        "    space: Optional[str] = None,\n",
        "    filename: Optional[str] = None,\n",
        ") -> ModelResponse:\n",
        "    # Формирование фильтров для bm25_retriever и embedding_retriever\n",
        "    filters = {\"operator\": \"AND\", \"conditions\": []}\n",
        "    if categories:\n",
        "        filters[\"conditions\"].append({\"field\": \"meta.categories\", \"operator\": \"in\", \"value\": categories})\n",
        "    if space:\n",
        "        filters[\"conditions\"].append({\"field\": \"meta.space\", \"operator\": \"==\", \"value\": space})\n",
        "    if filename:\n",
        "        filters[\"conditions\"].append({\"field\": \"meta.filename\", \"operator\": \"==\", \"value\": filename})\n",
        "    # Запускаем RAG-пайплайн с фильтрами\n",
        "    response = rag_pipeline.run({\n",
        "        \"expander\": {\n",
        "            \"query\": question,\n",
        "        },\n",
        "        \"bm25_retriever\": {\n",
        "            \"filters\": filters,\n",
        "        },\n",
        "        \"embedding_retriever\": {\n",
        "            \"filters\": filters,\n",
        "        },\n",
        "        \"final_answer_prompt_builder\": {\n",
        "            \"question\": question,\n",
        "            \"template\": final_answer_messages,\n",
        "        },\n",
        "    }, include_outputs_from={\"expander\", \"document_joiner\", \"final_answer_prompt_builder\"})\n",
        "\n",
        "    response_text = response['final_answer_llm']['replies'][0].content\n",
        "\n",
        "    references = None\n",
        "    try:\n",
        "        # Находим индекс последнего символа ']'\n",
        "        last_bracket_idx = response_text.rfind(']')\n",
        "        if last_bracket_idx != -1:\n",
        "            # Находим индекс соответствующего символа '[' перед ']'\n",
        "            first_bracket_idx = response_text.rfind('[', 0, last_bracket_idx)\n",
        "            if first_bracket_idx != -1:\n",
        "                json_str = response_text[first_bracket_idx:last_bracket_idx+1]\n",
        "\n",
        "                try:\n",
        "                    # Парсим JSON-строку\n",
        "                    references_list = json.loads(json_str)\n",
        "                    references = [Reference(**item) for item in references_list]\n",
        "                    response_text = response_text[:first_bracket_idx].strip()\n",
        "                except json.JSONDecodeError as e:\n",
        "                    print(f\"Ошибка при парсинге JSON: {e}\")\n",
        "    except Exception as e:\n",
        "        print(f\"Общая ошибка при обработке ответа: {e}\")\n",
        "\n",
        "    gc.collect()\n",
        "    torch.cuda.empty_cache()\n",
        "\n",
        "    return ModelResponse(answer=response_text, references=references)"
      ]
    },
    {
      "cell_type": "code",
      "source": [
        "test_response = get_chat_response(\n",
        "    question = \"Какой процент выручки от рекламы достигала Meta в 2020 году?\"\n",
        "    )\n",
        "pprint(test_response.answer)\n",
        "print(test_response.references)"
      ],
      "metadata": {
        "colab": {
          "base_uri": "https://localhost:8080/"
        },
        "id": "FipeeHUYN3ij",
        "outputId": "71a30005-e19b-4b7a-e1ec-fbda333ade62"
      },
      "execution_count": null,
      "outputs": [
        {
          "output_type": "stream",
          "name": "stderr",
          "text": [
            "Batches: 100%|██████████| 1/1 [00:00<00:00, 53.08it/s]\n",
            "Batches: 100%|██████████| 1/1 [00:00<00:00, 59.92it/s]\n"
          ]
        },
        {
          "output_type": "stream",
          "name": "stdout",
          "text": [
            "('В 2020 году доля выручки от рекламы Meta, которой принадлежат Facebook и '\n",
            " 'Instagram, достигала 98%.')\n",
            "[Reference(filename='1.pdf', page_number='7')]\n"
          ]
        }
      ]
    },
    {
      "cell_type": "markdown",
      "source": [
        "### Функция для JSON'а на Front-End"
      ],
      "metadata": {
        "id": "DhCjcEhyLifx"
      }
    },
    {
      "cell_type": "code",
      "source": [
        "def model_response_to_json(\n",
        "    model_response: ModelResponse,\n",
        "    categories: Optional[List[str]] = None,\n",
        "    space: Optional[str] = None\n",
        ") -> Dict[str, Any]:\n",
        "    sources = []\n",
        "\n",
        "    if model_response.references:\n",
        "        for ref in model_response.references:\n",
        "            # Фильтруем только по page_number и filename\n",
        "            filters = {\n",
        "                \"operator\": \"AND\",\n",
        "                \"conditions\": [\n",
        "                    {\"field\": \"meta.page_number\", \"operator\": \"==\", \"value\": int(ref.page_number)},\n",
        "                    {\"field\": \"meta.filename\", \"operator\": \"==\", \"value\": ref.filename},\n",
        "                ]\n",
        "            }\n",
        "\n",
        "            # Извлечение единственного документа из document_store по фильтрам\n",
        "            documents = document_store.filter_documents(filters=filters)\n",
        "            document = documents[0] if documents else None  # Получаем первый документ или None, если документов нет\n",
        "\n",
        "            if document and document.meta.get(\"filename\") == ref.filename:\n",
        "                # Извлечение необходимых полей\n",
        "                slide_snippet = document.content\n",
        "                filename = document.meta.get(\"filename\")\n",
        "                slide_number = document.meta.get(\"page_number\")\n",
        "\n",
        "                # Извлечение названия презентации из имени файла (без расширения)\n",
        "                file_title = filename.rsplit('.', 1)[0] if filename else \"Unknown\"\n",
        "\n",
        "                # Формирование метаданных с использованием space и categories\n",
        "                metadata = {\n",
        "                    \"title\": f\"{file_title} Слайд №{slide_number}\",\n",
        "                    \"file_title\": file_title,\n",
        "                    \"file_name\": filename,\n",
        "                    \"file_category\": categories if categories else [None],  # Используем categories или [null] в JSON\n",
        "                    \"file_space\": space,       # Используем space или null в JSON\n",
        "                    \"slide_number\": slide_number,\n",
        "                    \"url\": f\"https://storage.yandexcloud.net/hacks-ai-storage/{filename}\",\n",
        "                    \"thumbnail\": f\"https://storage.yandexcloud.net/hacks-ai-storage/thumb_{filename}_{slide_number}.png\"\n",
        "                }\n",
        "\n",
        "                # Формирование источника\n",
        "                source = {\n",
        "                    \"pageContent\": slide_snippet,\n",
        "                    \"metadata\": metadata\n",
        "                }\n",
        "\n",
        "                sources.append(source)\n",
        "            else:\n",
        "                # Обработка случая, когда документ не найден\n",
        "                print(f\"Документ не найден для filename: {ref.filename}, page_number: {ref.page_number}\")\n",
        "\n",
        "    # Формирование итогового JSON\n",
        "    json_output = {\n",
        "        \"message\": model_response.answer,\n",
        "        \"sources\": sources\n",
        "    }\n",
        "\n",
        "    return json_output"
      ],
      "metadata": {
        "id": "TfHogOamfg-N"
      },
      "execution_count": null,
      "outputs": []
    },
    {
      "cell_type": "code",
      "source": [
        "model_response_to_json(test_response)"
      ],
      "metadata": {
        "colab": {
          "base_uri": "https://localhost:8080/"
        },
        "collapsed": true,
        "id": "LERiBJ2sW9ES",
        "outputId": "81de0209-f31d-4f2f-edcf-05f6b15b87f3"
      },
      "execution_count": null,
      "outputs": [
        {
          "output_type": "execute_result",
          "data": {
            "text/plain": [
              "{'message': 'В 2020 году доля выручки от рекламы Meta, которой принадлежат Facebook и Instagram, достигала 98%.',\n",
              " 'sources': [{'pageContent': 'Коммуникационные сервисы: социальные сети и мессенджеры\\nДля сравнения, только 23% респондентов из Японии ориентируются на социальные сети как на первоисточник. В России мессенджеры активно используются для профес-\\nсиональных коммуникаций. 7 По результатам опроса, приблизительно 70% работающих россиян постоянно обсуждают рабочие вопросы в мессенджерах. При этом традиционные способы коммуникаций по электронной почте и в мессенджерах остаются одинаково предпочтительными Стоимость за тысячу показов рекламы в социальных сетях составила 5,33 долл. во втором квартале 2023 года, что на 2 долл. меньше, чем в предыдущем году. Эксперты отмечают, что пассивные виды В качестве основной бизнес-модели социальные сети используют получение выручки от рекламных услуг и внедряемую с недавнего времени подписную модель. Маркетологи выделяют Facebook* как самую популярную социальную сеть для бизнес-задач.9\\nИНВЕСТИЦИИ И МОНЕТИЗАЦИЯ\\nМаркетинговое применение социальных сетей, %\\nдля решения рабочих задач.8 Увеличение роли мессенджеров в области саморазвития отметили 66% опрошенных, в сфере быта — 62%, досуга — 58%, здоровья — 47%. Пользователи Рунета в 2023 году опубликовали более 1,55 млрд постов, репостов и комментариев. Источник: Frankwatching\\nFacebook\\n89\\nInstagram\\n80\\nTikTok\\n26\\nTwitter\\n44\\nLinkedIn\\n64\\nYouTube\\n54\\nрекламы, такие как видео или истории, считаются эффективными для бизнеса,10 тогда как традиционные формы рекламы в социальных сетях в виде текстов получают меньше кликов и рейтинга кликов.\\nBUMBLE TELEGRAM\\nBYTEDANCETENCENT\\nПо мере развития новых форматов интерес инвесторов к социальным сетям также растет. В 2023 году ключевые международные социальные сети получили более 700 млн долл. инвестиций.11 В 2020 году доля выручки от рекламы Meta,◊ которой принадлежат Facebook* и Instagram, * достигала 98%. Помимо традиционного способа получения дохода через рекламную модель, в 2023 году международные социальные сети начали использовать подписную модель монетизации своих сервисов, предлагая пользова-\\nтелям получить официальный статус распространителя и создателя контента их платформы в обмен на ежемесячную плату.12 Появление опций с подпиской расценивается Основные преимущества использования социальных сетей в маркетинговых целях во всем мире по состоянию на январь 2023 г., % Источник: Frankwatching\\nкак ответ на принятые в Европе нормативно-правовые акты, связанные с обращением персональных данных.13 По состоянию на июль 2023 года, Meta◊ Verified являлась самой дорогой из служб подписки (от 12 до 15 долл. в месяц). По оценкам The Economist, выручка от подписок может достичь 1,7 млрд долл. в год, что равноценно чуть более 1% от выручки компании.\\nTwitter Blue стоит от 8 до 11 долл. в месяц и гарантирует, что пользователи получат синюю галочку, смогут редактировать твиты и иметь изображения профиля NFT. Аудитория Snapchat+, которая составляет, по разным оценкам, от 2,5 до 4 млн пользователей по состоянию на второй квартал 2023 года, готова платить за функцию повторного просмотра историй настраиваемыми значками приложений и значком Snapchat+. Доля дохода компании от продажи подписок оценивается в 3%.14\\n86 76 64 56 54\\nУровень вовлечения\\nУвеличение трафика\\nСгенерированные лиды\\nУровень лояльности\\nУвеличение продаж\\n$313,5 млн $210 млн\\n$100 млн$100 млн\\nЗНАКОМСТВА МЕССЕНДЖЕР\\nСОЦИАЛЬНАЯ СЕТЬСОЦИАЛЬНАЯ СЕТЬ\\n12–1311 Teqviser\\x0c',\n",
              "   'metadata': {'title': '1 Слайд №7',\n",
              "    'file_title': '1',\n",
              "    'file_name': '1.pdf',\n",
              "    'file_category': [None],\n",
              "    'file_space': None,\n",
              "    'slide_number': 7,\n",
              "    'url': 'https://storage.yandexcloud.net/hacks-ai-storage/1.pdf',\n",
              "    'thumbnail': 'https://storage.yandexcloud.net/hacks-ai-storage/thumb_1.pdf_7.png'}}]}"
            ]
          },
          "metadata": {},
          "execution_count": 34
        }
      ]
    },
    {
      "cell_type": "code",
      "source": [
        "def get_chat_response_json(input_data: Dict[str, Any]) -> str:\n",
        "    # Извлечение значений из входного JSON-данных\n",
        "    categories = input_data.get(\"categories\", None)\n",
        "    space = input_data.get(\"space\", None)\n",
        "    filename = input_data.get(\"filename\", None)\n",
        "    question = input_data.get(\"question\", \"\")\n",
        "\n",
        "    # Получаем ответ модели с учетом извлеченных параметров\n",
        "    model_response = get_chat_response(\n",
        "        question=question,\n",
        "        categories=categories,\n",
        "        space=space,\n",
        "        filename=filename\n",
        "    )\n",
        "\n",
        "    # Преобразуем ответ модели в JSON с передачей space и categories\n",
        "    json_output = model_response_to_json(model_response, categories=categories, space=space)\n",
        "\n",
        "    return json_output"
      ],
      "metadata": {
        "id": "LKYxf057hYH9"
      },
      "execution_count": null,
      "outputs": []
    },
    {
      "cell_type": "markdown",
      "source": [
        "### Для генерации Related вопросов\n",
        "которые подскажут пользователю возможные подходящие вопросы"
      ],
      "metadata": {
        "id": "vssL4v1oLm85"
      }
    },
    {
      "cell_type": "code",
      "source": [
        "def create_gen_rel_questions_pipeline():\n",
        "  pipeline = Pipeline()\n",
        "\n",
        "  prompt_builder = ChatPromptBuilder()\n",
        "  generator = create_generator() # Можно параметры чтобы поразнообразнее\n",
        "\n",
        "  pipeline.add_component(\"prompt_builder\", prompt_builder)\n",
        "  pipeline.add_component(\"generator\", generator)\n",
        "\n",
        "  pipeline.connect(\"prompt_builder\", \"generator\")\n",
        "\n",
        "  return pipeline"
      ],
      "metadata": {
        "id": "s6ZoSG77Lu8A"
      },
      "execution_count": null,
      "outputs": []
    },
    {
      "cell_type": "code",
      "source": [
        "gen_questions_pipeline = create_gen_rel_questions_pipeline()\n",
        "\n",
        "gen_questions_system_message = ChatMessage.from_system(prompt_config['qwen_gen_related_system_prompt'])"
      ],
      "metadata": {
        "id": "bYhwHRe3MPrj"
      },
      "execution_count": null,
      "outputs": []
    },
    {
      "cell_type": "code",
      "source": [
        "def generate_related_questions(conversational: List[List[Union[str, str]]]) -> List[str]:\n",
        "    # Инициализируем сообщения, добавляя системное сообщение\n",
        "    chat_messages = [gen_questions_system_message]\n",
        "\n",
        "    # Фильтруем и ограничиваем историю переписки до последних 5 сообщений\n",
        "    filtered_conversational = conversational[-5:]\n",
        "\n",
        "    # Формируем сообщения на основе фильтрованных данных\n",
        "    for role, content in filtered_conversational:\n",
        "        if role in {\"human\", \"user\"}:\n",
        "            chat_messages.append(ChatMessage.from_user(content))\n",
        "        else:  # Любая другая роль трактуется как сообщение ассистента\n",
        "            chat_messages.append(ChatMessage.from_assistant(content))\n",
        "\n",
        "    # Запуск пайплайна с подготовленными сообщениями\n",
        "    result = gen_questions_pipeline.run({\"prompt_builder\": {\"template\": chat_messages}})\n",
        "\n",
        "    # Извлечение и парсинг сгенерированного ответа\n",
        "    generated_replies = result[\"generator\"][\"replies\"][0].content\n",
        "    questions = []\n",
        "    try:\n",
        "        # Находим индекс последнего символа ']' и первого '[' перед ним\n",
        "        last_bracket_idx = generated_replies.rfind(']')\n",
        "        if last_bracket_idx != -1:\n",
        "            first_bracket_idx = generated_replies.rfind('[', 0, last_bracket_idx)\n",
        "            if first_bracket_idx != -1:\n",
        "                json_str = generated_replies[first_bracket_idx:last_bracket_idx + 1]\n",
        "\n",
        "                try:\n",
        "                    # Парсим JSON-строку как список вопросов\n",
        "                    questions_list = json.loads(json_str)\n",
        "                    if isinstance(questions_list, list) and all(isinstance(item, str) for item in questions_list):\n",
        "                        questions = questions_list\n",
        "                except json.JSONDecodeError as e:\n",
        "                    print(f\"JSON parsing error: {e}\")\n",
        "    except Exception as e:\n",
        "        print(f\"General error processing response: {e}\")\n",
        "\n",
        "    # Возвращаем распарсенные вопросы или пустой список при ошибке\n",
        "    return questions"
      ],
      "metadata": {
        "id": "LUEfldxnLqfa"
      },
      "execution_count": null,
      "outputs": []
    },
    {
      "cell_type": "code",
      "source": [
        "conversational_example_1 = [\n",
        "    ['human', \"Привет! Можешь объяснить основные рекомендации по этому документу?\"],\n",
        "    ['assist', \"Конечно! Документ описывает правила для сбалансированного питания и здорового образа жизни.\"],\n",
        "    ['human', \"Какие разделы охватывают советы по диете?\"],\n",
        "    ['assist', \"Основные советы по диете даны в разделах 'Основы питания' и 'Рекомендуемые продукты'.\"],\n",
        "    ['human', \"Есть ли указания по планированию приёмов пищи?\"],\n",
        "]\n",
        "\n",
        "conversational_example_2 = [\n",
        "    ['human', \"Здравствуйте! Я хочу понять, как использовать этот документ для изучения программирования.\"],\n",
        "    ['assist', \"Документ предлагает инструкции для начала работы с Python и JavaScript.\"],\n",
        "    ['human', \"Какие главы посоветуете для начинающих?\"],\n",
        "    ['assist', \"В разделе 'Введение в программирование' и 'Основы Python' есть полезные рекомендации для начинающих.\"],\n",
        "    ['human', \"Документ упоминает навыки, требуемые для работы с данными?\"],\n",
        "]\n",
        "\n",
        "conversational_example_3 = [\n",
        "    ['human', \"Hi! Can you help me understand the main goals outlined in this document?\"],\n",
        "    ['assist', \"Sure! The document focuses on key strategies for project management and efficient teamwork.\"],\n",
        "    ['human', \"Which sections cover best practices for managing timelines?\"],\n",
        "    ['assist', \"Best practices for timelines are discussed in the sections 'Time Management' and 'Project Scheduling'.\"],\n",
        "    ['human', \"Are there any specific tools recommended for project tracking?\"],\n",
        "]"
      ],
      "metadata": {
        "id": "h9E_I37yR3tG"
      },
      "execution_count": null,
      "outputs": []
    },
    {
      "cell_type": "code",
      "source": [
        "generate_related_questions(conversational_example_3)"
      ],
      "metadata": {
        "colab": {
          "base_uri": "https://localhost:8080/"
        },
        "id": "Pb40VEaASRsg",
        "outputId": "5fb5fbf0-2750-4eb3-8afe-098a33586ed7"
      },
      "execution_count": null,
      "outputs": [
        {
          "output_type": "execute_result",
          "data": {
            "text/plain": [
              "['Are there any specific tools recommended for project tracking?',\n",
              " 'Could you summarize the key points about team collaboration mentioned in the document?',\n",
              " 'What are the main challenges in project management highlighted in the document?',\n",
              " 'Are there any case studies or examples provided in the document?',\n",
              " 'How does the document suggest handling unexpected delays or issues in a project?']"
            ]
          },
          "metadata": {},
          "execution_count": 40
        }
      ]
    },
    {
      "cell_type": "markdown",
      "source": [
        "### Submission"
      ],
      "metadata": {
        "id": "TFQNy4TJMbCe"
      }
    },
    {
      "cell_type": "code",
      "source": [
        "!ls drive/MyDrive/HacksAI/international24/dataset/Media_Digital/presentations/"
      ],
      "metadata": {
        "colab": {
          "base_uri": "https://localhost:8080/"
        },
        "id": "vzjvic1luXrt",
        "outputId": "16108969-0c28-462d-ac73-3fb98f37a869"
      },
      "execution_count": null,
      "outputs": [
        {
          "output_type": "stream",
          "name": "stdout",
          "text": [
            "0.pdf\t15.pdf\t20.pdf\t26.pdf\t31.pdf\t37.pdf\t42.pdf\t48.pdf\t53.pdf\t59.pdf\t64.pdf\t6.pdf\n",
            "10.pdf\t16.pdf\t21.pdf\t27.pdf\t32.pdf\t38.pdf\t43.pdf\t49.pdf\t54.pdf\t5.pdf\t65.pdf\t70.pdf\n",
            "11.pdf\t17.pdf\t22.pdf\t28.pdf\t33.pdf\t39.pdf\t44.pdf\t4.pdf\t55.pdf\t60.pdf\t66.pdf\t71.pdf\n",
            "12.pdf\t18.pdf\t23.pdf\t29.pdf\t34.pdf\t3.pdf\t45.pdf\t50.pdf\t56.pdf\t61.pdf\t67.pdf\t7.pdf\n",
            "13.pdf\t19.pdf\t24.pdf\t2.pdf\t35.pdf\t40.pdf\t46.pdf\t51.pdf\t57.pdf\t62.pdf\t68.pdf\t8.pdf\n",
            "14.pdf\t1.pdf\t25.pdf\t30.pdf\t36.pdf\t41.pdf\t47.pdf\t52.pdf\t58.pdf\t63.pdf\t69.pdf\t9.pdf\n"
          ]
        }
      ]
    },
    {
      "cell_type": "code",
      "source": [
        "new_file_1 = \"drive/MyDrive/HacksAI/international24/dataset/Media_Digital/presentations/70.pdf\"\n",
        "new_file_2 = \"drive/MyDrive/HacksAI/international24/dataset/Media_Digital/presentations/71.pdf\""
      ],
      "metadata": {
        "id": "ZJHI4ijEuGcF"
      },
      "execution_count": null,
      "outputs": []
    },
    {
      "cell_type": "code",
      "source": [
        "# do_index_single_file(new_file_1)\n",
        "# do_index_single_file(new_file_2)"
      ],
      "metadata": {
        "colab": {
          "base_uri": "https://localhost:8080/"
        },
        "id": "aVI5QFv4uFpK",
        "outputId": "e44968b7-57d8-45bd-9082-b69da44ad643"
      },
      "execution_count": null,
      "outputs": [
        {
          "output_type": "stream",
          "name": "stderr",
          "text": [
            "Batches: 100%|██████████| 2/2 [00:01<00:00,  1.76it/s]\n",
            "Batches: 100%|██████████| 2/2 [00:00<00:00,  2.55it/s]\n"
          ]
        }
      ]
    },
    {
      "cell_type": "code",
      "source": [
        "def generate_submission_csv(input_csv: str, output_csv: str):\n",
        "    \"\"\"\n",
        "    Reads questions from a CSV file, processes each question using get_chat_response,\n",
        "    and writes the results to a CSV file.\n",
        "\n",
        "    Parameters:\n",
        "    - input_csv (str): Path to the input CSV file (questions.csv).\n",
        "    - output_csv (str): Path to the output CSV file (submission.csv).\n",
        "    \"\"\"\n",
        "    # Чтение CSV-файла в DataFrame\n",
        "    try:\n",
        "        df = pd.read_csv(input_csv, dtype={'question': str})\n",
        "    except Exception as e:\n",
        "        print(f\"Ошибка при чтении файла CSV: {e}\")\n",
        "        return\n",
        "\n",
        "    # Проверка наличия столбца questions\n",
        "    if 'question' not in df.columns:\n",
        "        print(df.columns)\n",
        "        print(\"Отсутствует необходимый столбец: questions\")\n",
        "        return\n",
        "\n",
        "    # Переименование столбца и добавление необходимых пустых столбцов\n",
        "    df.rename(columns={'questions': 'question'}, inplace=True)\n",
        "    df['answer'] = \"\"\n",
        "    df['filename'] = \"\"\n",
        "    df['slide_number'] = \"\"\n",
        "\n",
        "    # Итерация по каждой строке и обработка вопроса\n",
        "    for index, row in df.iterrows():\n",
        "        question = row['question']\n",
        "        print(question)\n",
        "        if pd.isna(question) or not isinstance(question, str) or not question.strip().endswith('?'):\n",
        "            # Если вход не является валидным вопросом\n",
        "\n",
        "            df.at[index, 'filename'] = \"\"\n",
        "            df.at[index, 'slide_number'] = \"\"\n",
        "            df.at[index, 'answer'] = \"Я не знаю ответа на ваш вопрос\"\n",
        "            continue\n",
        "\n",
        "        # Получение ответа от модели\n",
        "        model_response = get_chat_response(question)\n",
        "\n",
        "\n",
        "        # Заполнение полей filename и slide_number без дублирования\n",
        "        if model_response.references:\n",
        "            # Извлечение имен файлов и номеров страниц\n",
        "            filenames = [ref.filename for ref in model_response.references]\n",
        "            slide_numbers = [ref.page_number for ref in model_response.references]\n",
        "\n",
        "            filename = os.path.splitext(filenames[0])[0]\n",
        "            slide_number = slide_numbers[0]\n",
        "\n",
        "            # Объединение уникальных значений в строку через запятую\n",
        "            df.at[index, 'filename'] = filename\n",
        "            df.at[index, 'slide_number'] = slide_number\n",
        "        else:\n",
        "            # Если ссылки не найдены\n",
        "            df.at[index, 'filename'] = \"\"\n",
        "            df.at[index, 'slide_number'] = \"\"\n",
        "\n",
        "        df.at[index, 'answer'] = model_response.answer\n",
        "\n",
        "    # Запись обновленного DataFrame в CSV-файл\n",
        "    try:\n",
        "        df.to_csv(output_csv, index=False, encoding='utf-8')\n",
        "        print(f\"Файл успешно сохранен как {output_csv}\")\n",
        "    except Exception as e:\n",
        "        print(f\"Ошибка при записи файла CSV: {e}\")"
      ],
      "metadata": {
        "id": "Q3tza-SrNxg4"
      },
      "execution_count": null,
      "outputs": []
    },
    {
      "cell_type": "code",
      "source": [
        "test_subm = \"drive/MyDrive/HacksAI/international24/test.csv\"\n",
        "\n",
        "generate_submission_csv(\n",
        "    input_csv = test_subm,\n",
        "    output_csv = \"submission.csv\"\n",
        "    )"
      ],
      "metadata": {
        "id": "Vra41_4SOD-4",
        "colab": {
          "base_uri": "https://localhost:8080/"
        },
        "collapsed": true,
        "outputId": "e8458060-fd31-4b3c-bae3-e2436c275e36"
      },
      "execution_count": 63,
      "outputs": [
        {
          "metadata": {
            "tags": null
          },
          "name": "stdout",
          "output_type": "stream",
          "text": [
            "Чем занимается платформа MEDIADESK?\n"
          ]
        },
        {
          "metadata": {
            "tags": null
          },
          "name": "stderr",
          "output_type": "stream",
          "text": [
            "Batches: 100%|██████████| 1/1 [00:00<00:00, 56.71it/s]\n",
            "Batches: 100%|██████████| 1/1 [00:00<00:00, 59.28it/s]\n"
          ]
        },
        {
          "metadata": {
            "tags": null
          },
          "name": "stdout",
          "output_type": "stream",
          "text": [
            "Чем отличаются возможности слабого (NARROW AI), сильного (AI) и супер-ИИ (SUPER AI)?\n"
          ]
        },
        {
          "metadata": {
            "tags": null
          },
          "name": "stderr",
          "output_type": "stream",
          "text": [
            "Batches: 100%|██████████| 1/1 [00:00<00:00, 53.47it/s]\n",
            "Batches: 100%|██████████| 1/1 [00:00<00:00, 61.29it/s]\n"
          ]
        },
        {
          "metadata": {
            "tags": null
          },
          "name": "stdout",
          "output_type": "stream",
          "text": [
            "Сколько процентов рутинных процессов отдаются искусственному интеллекту?\n"
          ]
        },
        {
          "metadata": {
            "tags": null
          },
          "name": "stderr",
          "output_type": "stream",
          "text": [
            "Batches: 100%|██████████| 1/1 [00:00<00:00, 54.81it/s]\n",
            "Batches: 100%|██████████| 1/1 [00:00<00:00, 59.46it/s]\n"
          ]
        },
        {
          "metadata": {
            "tags": null
          },
          "name": "stdout",
          "output_type": "stream",
          "text": [
            "Как усложняться механики кампаний при использовани ИИ?\n"
          ]
        },
        {
          "metadata": {
            "tags": null
          },
          "name": "stderr",
          "output_type": "stream",
          "text": [
            "Batches: 100%|██████████| 1/1 [00:00<00:00, 56.95it/s]\n",
            "Batches: 100%|██████████| 1/1 [00:00<00:00, 55.77it/s]\n"
          ]
        },
        {
          "metadata": {
            "tags": null
          },
          "name": "stdout",
          "output_type": "stream",
          "text": [
            "На кого чаще всего подписаны пользователи социальных сетей?\n"
          ]
        },
        {
          "metadata": {
            "tags": null
          },
          "name": "stderr",
          "output_type": "stream",
          "text": [
            "Batches: 100%|██████████| 1/1 [00:00<00:00, 54.97it/s]\n",
            "Batches: 100%|██████████| 1/1 [00:00<00:00, 57.21it/s]\n"
          ]
        },
        {
          "metadata": {
            "tags": null
          },
          "name": "stdout",
          "output_type": "stream",
          "text": [
            "Назовите 3 маркетинговых тренда, предлагаемых к просмотру\n",
            "Какой общий потенциальный рекламный охват на X(Twitter)?\n"
          ]
        },
        {
          "metadata": {
            "tags": null
          },
          "name": "stderr",
          "output_type": "stream",
          "text": [
            "Batches: 100%|██████████| 1/1 [00:00<00:00, 56.20it/s]\n",
            "Batches: 100%|██████████| 1/1 [00:00<00:00, 60.29it/s]\n"
          ]
        },
        {
          "metadata": {
            "tags": null
          },
          "name": "stdout",
          "output_type": "stream",
          "text": [
            "В какие каналы маркетологи планируют больше инвестировать?\n"
          ]
        },
        {
          "metadata": {
            "tags": null
          },
          "name": "stderr",
          "output_type": "stream",
          "text": [
            "Batches: 100%|██████████| 1/1 [00:00<00:00, 54.52it/s]\n",
            "Batches: 100%|██████████| 1/1 [00:00<00:00, 60.14it/s]\n"
          ]
        },
        {
          "metadata": {
            "tags": null
          },
          "name": "stdout",
          "output_type": "stream",
          "text": [
            "Какой процент представителей НЕ имеет собственные базы данных?\n"
          ]
        },
        {
          "metadata": {
            "tags": null
          },
          "name": "stderr",
          "output_type": "stream",
          "text": [
            "Batches: 100%|██████████| 1/1 [00:00<00:00, 53.20it/s]\n",
            "Batches: 100%|██████████| 1/1 [00:00<00:00, 55.94it/s]\n"
          ]
        },
        {
          "metadata": {
            "tags": null
          },
          "name": "stdout",
          "output_type": "stream",
          "text": [
            "Какой процент представителей НЕ собирает данные?\n"
          ]
        },
        {
          "metadata": {
            "tags": null
          },
          "name": "stderr",
          "output_type": "stream",
          "text": [
            "Batches: 100%|██████████| 1/1 [00:00<00:00, 56.65it/s]\n",
            "Batches: 100%|██████████| 1/1 [00:00<00:00, 60.60it/s]\n"
          ]
        },
        {
          "metadata": {
            "tags": null
          },
          "name": "stdout",
          "output_type": "stream",
          "text": [
            "Что именно останавливает компании от использования AiData?\n"
          ]
        },
        {
          "metadata": {
            "tags": null
          },
          "name": "stderr",
          "output_type": "stream",
          "text": [
            "Batches: 100%|██████████| 1/1 [00:00<00:00, 55.54it/s]\n",
            "Batches: 100%|██████████| 1/1 [00:00<00:00, 58.52it/s]\n"
          ]
        },
        {
          "metadata": {
            "tags": null
          },
          "name": "stdout",
          "output_type": "stream",
          "text": [
            "На чем конкретно основывается работа AiData?\n"
          ]
        },
        {
          "metadata": {
            "tags": null
          },
          "name": "stderr",
          "output_type": "stream",
          "text": [
            "Batches: 100%|██████████| 1/1 [00:00<00:00, 57.24it/s]\n",
            "Batches: 100%|██████████| 1/1 [00:00<00:00, 56.28it/s]\n"
          ]
        },
        {
          "metadata": {
            "tags": null
          },
          "name": "stdout",
          "output_type": "stream",
          "text": [
            "Какие задачи бренды решают с помощью систем  трекинга и верификации трафика?\n"
          ]
        },
        {
          "metadata": {
            "tags": null
          },
          "name": "stderr",
          "output_type": "stream",
          "text": [
            "Batches: 100%|██████████| 1/1 [00:00<00:00, 55.84it/s]\n",
            "Batches: 100%|██████████| 1/1 [00:00<00:00, 60.70it/s]\n"
          ]
        },
        {
          "metadata": {
            "tags": null
          },
          "name": "stdout",
          "output_type": "stream",
          "text": [
            "Какая система трекинга уступила двум другим и в чем?\n"
          ]
        },
        {
          "metadata": {
            "tags": null
          },
          "name": "stderr",
          "output_type": "stream",
          "text": [
            "Batches: 100%|██████████| 1/1 [00:00<00:00, 56.85it/s]\n",
            "Batches: 100%|██████████| 1/1 [00:00<00:00, 56.70it/s]\n"
          ]
        },
        {
          "metadata": {
            "tags": null
          },
          "name": "stdout",
          "output_type": "stream",
          "text": [
            "Какие есть ограничения по возможностям у AdServing?\n"
          ]
        },
        {
          "metadata": {
            "tags": null
          },
          "name": "stderr",
          "output_type": "stream",
          "text": [
            "Batches: 100%|██████████| 1/1 [00:00<00:00, 54.62it/s]\n",
            "Batches: 100%|██████████| 1/1 [00:00<00:00, 57.12it/s]\n"
          ]
        },
        {
          "metadata": {
            "tags": null
          },
          "name": "stdout",
          "output_type": "stream",
          "text": [
            "У какой системы трекинга меньше всего суммарные расхождения по статистике площадок?\n"
          ]
        },
        {
          "metadata": {
            "tags": null
          },
          "name": "stderr",
          "output_type": "stream",
          "text": [
            "Batches: 100%|██████████| 1/1 [00:00<00:00, 56.74it/s]\n",
            "Batches: 100%|██████████| 1/1 [00:00<00:00, 61.58it/s]\n"
          ]
        },
        {
          "metadata": {
            "tags": null
          },
          "name": "stdout",
          "output_type": "stream",
          "text": [
            "Что показывает Пульск click.ru и в чем его главное удобство?\n"
          ]
        },
        {
          "metadata": {
            "tags": null
          },
          "name": "stderr",
          "output_type": "stream",
          "text": [
            "Batches: 100%|██████████| 1/1 [00:00<00:00, 56.39it/s]\n",
            "Batches: 100%|██████████| 1/1 [00:00<00:00, 59.85it/s]\n"
          ]
        },
        {
          "metadata": {
            "tags": null
          },
          "name": "stdout",
          "output_type": "stream",
          "text": [
            "Что надо сделать, чтобы понять, какой бюджет закладывать на продвижение?\n"
          ]
        },
        {
          "metadata": {
            "tags": null
          },
          "name": "stderr",
          "output_type": "stream",
          "text": [
            "Batches: 100%|██████████| 1/1 [00:00<00:00, 55.55it/s]\n",
            "Batches: 100%|██████████| 1/1 [00:00<00:00, 59.50it/s]\n"
          ]
        },
        {
          "metadata": {
            "tags": null
          },
          "name": "stdout",
          "output_type": "stream",
          "text": [
            "Чем еще может помочь click.ru?\n"
          ]
        },
        {
          "metadata": {
            "tags": null
          },
          "name": "stderr",
          "output_type": "stream",
          "text": [
            "Batches: 100%|██████████| 1/1 [00:00<00:00, 53.90it/s]\n",
            "Batches: 100%|██████████| 1/1 [00:00<00:00, 58.07it/s]\n"
          ]
        },
        {
          "metadata": {
            "tags": null
          },
          "name": "stdout",
          "output_type": "stream",
          "text": [
            "С чем связан рост стоимости клика в России и такой низкий CPC на Avito?\n"
          ]
        },
        {
          "metadata": {
            "tags": null
          },
          "name": "stderr",
          "output_type": "stream",
          "text": [
            "Batches: 100%|██████████| 1/1 [00:00<00:00, 44.87it/s]\n",
            "Batches: 100%|██████████| 1/1 [00:00<00:00, 57.41it/s]\n"
          ]
        },
        {
          "metadata": {
            "tags": null
          },
          "name": "stdout",
          "output_type": "stream",
          "text": [
            "Какой оборот розничной торговли за 2023 год, насколько больше 2022?\n"
          ]
        },
        {
          "metadata": {
            "tags": null
          },
          "name": "stderr",
          "output_type": "stream",
          "text": [
            "Batches: 100%|██████████| 1/1 [00:00<00:00, 52.25it/s]\n",
            "Batches: 100%|██████████| 1/1 [00:00<00:00, 56.10it/s]\n"
          ]
        },
        {
          "metadata": {
            "tags": null
          },
          "name": "stdout",
          "output_type": "stream",
          "text": [
            "Перечислите основные тренды на рынке ОФД в 2023?\n"
          ]
        },
        {
          "metadata": {
            "tags": null
          },
          "name": "stderr",
          "output_type": "stream",
          "text": [
            "Batches: 100%|██████████| 1/1 [00:00<00:00, 54.50it/s]\n",
            "Batches: 100%|██████████| 1/1 [00:00<00:00, 61.40it/s]\n"
          ]
        },
        {
          "metadata": {
            "tags": null
          },
          "name": "stdout",
          "output_type": "stream",
          "text": [
            "Какая компания занимает первернство по доле среди всех на рынке ОФД и сколько она имеет?\n"
          ]
        },
        {
          "metadata": {
            "tags": null
          },
          "name": "stderr",
          "output_type": "stream",
          "text": [
            "Batches: 100%|██████████| 1/1 [00:00<00:00, 57.91it/s]\n",
            "Batches: 100%|██████████| 1/1 [00:00<00:00, 58.07it/s]\n"
          ]
        },
        {
          "metadata": {
            "tags": null
          },
          "name": "stdout",
          "output_type": "stream",
          "text": [
            "Готовы ли пользователи платить за платный контент\n",
            "Самое главное преимущество использования социальных сетей в маркетинговых целях?\n"
          ]
        },
        {
          "metadata": {
            "tags": null
          },
          "name": "stderr",
          "output_type": "stream",
          "text": [
            "Batches: 100%|██████████| 1/1 [00:00<00:00, 48.99it/s]\n",
            "Batches: 100%|██████████| 1/1 [00:00<00:00, 60.52it/s]\n"
          ]
        },
        {
          "metadata": {
            "tags": null
          },
          "name": "stdout",
          "output_type": "stream",
          "text": [
            "Правила сообщества касаемо чего ужесточил TikTok?\n"
          ]
        },
        {
          "metadata": {
            "tags": null
          },
          "name": "stderr",
          "output_type": "stream",
          "text": [
            "Batches: 100%|██████████| 1/1 [00:00<00:00, 54.55it/s]\n",
            "Batches: 100%|██████████| 1/1 [00:00<00:00, 59.13it/s]\n"
          ]
        },
        {
          "metadata": {
            "tags": null
          },
          "name": "stdout",
          "output_type": "stream",
          "text": [
            "За что отвечают оба блока модели генерации коротких видео от Сбера?\n"
          ]
        },
        {
          "metadata": {
            "tags": null
          },
          "name": "stderr",
          "output_type": "stream",
          "text": [
            "Batches: 100%|██████████| 1/1 [00:00<00:00, 55.67it/s]\n",
            "Batches: 100%|██████████| 1/1 [00:00<00:00, 58.08it/s]\n"
          ]
        },
        {
          "metadata": {
            "tags": null
          },
          "name": "stdout",
          "output_type": "stream",
          "text": [
            "Что происходит с сайтами, не попавшими в топ-30 ссылающихся на сайт доменов?\n"
          ]
        },
        {
          "metadata": {
            "tags": null
          },
          "name": "stderr",
          "output_type": "stream",
          "text": [
            "Batches: 100%|██████████| 1/1 [00:00<00:00, 56.57it/s]\n",
            "Batches: 100%|██████████| 1/1 [00:00<00:00, 60.78it/s]\n"
          ]
        },
        {
          "metadata": {
            "tags": null
          },
          "name": "stdout",
          "output_type": "stream",
          "text": [
            "Что можно сказать по поводу оси степени совпадения с запросом?\n"
          ]
        },
        {
          "metadata": {
            "tags": null
          },
          "name": "stderr",
          "output_type": "stream",
          "text": [
            "Batches: 100%|██████████| 1/1 [00:00<00:00, 53.92it/s]\n",
            "Batches: 100%|██████████| 1/1 [00:00<00:00, 57.30it/s]\n"
          ]
        },
        {
          "metadata": {
            "tags": null
          },
          "name": "stdout",
          "output_type": "stream",
          "text": [
            "Что такое ранжирование как для информационных запросов, так и для коммерческих?\n"
          ]
        },
        {
          "metadata": {
            "tags": null
          },
          "name": "stderr",
          "output_type": "stream",
          "text": [
            "Batches: 100%|██████████| 1/1 [00:00<00:00, 54.35it/s]\n",
            "Batches: 100%|██████████| 1/1 [00:00<00:00, 57.49it/s]\n"
          ]
        },
        {
          "metadata": {
            "tags": null
          },
          "name": "stdout",
          "output_type": "stream",
          "text": [
            "Что сказано про ключевые слова в файле?\n"
          ]
        },
        {
          "metadata": {
            "tags": null
          },
          "name": "stderr",
          "output_type": "stream",
          "text": [
            "Batches: 100%|██████████| 1/1 [00:00<00:00, 56.71it/s]\n",
            "Batches: 100%|██████████| 1/1 [00:00<00:00, 59.80it/s]\n"
          ]
        },
        {
          "metadata": {
            "tags": null
          },
          "name": "stdout",
          "output_type": "stream",
          "text": [
            "Какая основная аудитория была выявлена после исследования?\n"
          ]
        },
        {
          "metadata": {
            "tags": null
          },
          "name": "stderr",
          "output_type": "stream",
          "text": [
            "Batches: 100%|██████████| 1/1 [00:00<00:00, 54.44it/s]\n",
            "Batches: 100%|██████████| 1/1 [00:00<00:00, 59.41it/s]\n"
          ]
        },
        {
          "metadata": {
            "tags": null
          },
          "name": "stdout",
          "output_type": "stream",
          "text": [
            "Что людям интереснее: реклама или спецпроекты?\n"
          ]
        },
        {
          "metadata": {
            "tags": null
          },
          "name": "stderr",
          "output_type": "stream",
          "text": [
            "Batches: 100%|██████████| 1/1 [00:00<00:00, 56.67it/s]\n",
            "Batches: 100%|██████████| 1/1 [00:00<00:00, 57.67it/s]\n"
          ]
        },
        {
          "metadata": {
            "tags": null
          },
          "name": "stdout",
          "output_type": "stream",
          "text": [
            "Чем особенно часто не готовы делиться участики спецпроектов?\n"
          ]
        },
        {
          "metadata": {
            "tags": null
          },
          "name": "stderr",
          "output_type": "stream",
          "text": [
            "Batches: 100%|██████████| 1/1 [00:00<00:00, 55.31it/s]\n",
            "Batches: 100%|██████████| 1/1 [00:00<00:00, 59.56it/s]\n"
          ]
        },
        {
          "metadata": {
            "tags": null
          },
          "name": "stdout",
          "output_type": "stream",
          "text": [
            "Через что наиболее эффективно продвижение спецпроектов?\n"
          ]
        },
        {
          "metadata": {
            "tags": null
          },
          "name": "stderr",
          "output_type": "stream",
          "text": [
            "Batches: 100%|██████████| 1/1 [00:00<00:00, 56.49it/s]\n",
            "Batches: 100%|██████████| 1/1 [00:00<00:00, 60.88it/s]\n"
          ]
        },
        {
          "metadata": {
            "tags": null
          },
          "name": "stdout",
          "output_type": "stream",
          "text": [
            "Сколько процентов пользователей отменяет подписки на сервисы и подписываются на них вновь, основываясь на наличи желаемого контента?\n"
          ]
        },
        {
          "metadata": {
            "tags": null
          },
          "name": "stderr",
          "output_type": "stream",
          "text": [
            "Batches: 100%|██████████| 1/1 [00:00<00:00, 54.30it/s]\n",
            "Batches: 100%|██████████| 1/1 [00:00<00:00, 58.32it/s]\n"
          ]
        },
        {
          "metadata": {
            "tags": null
          },
          "name": "stdout",
          "output_type": "stream",
          "text": [
            "К чему может привести тенденция объединения медиаконтента в \"пакеты\"?\n"
          ]
        },
        {
          "metadata": {
            "tags": null
          },
          "name": "stderr",
          "output_type": "stream",
          "text": [
            "Batches: 100%|██████████| 1/1 [00:00<00:00, 57.17it/s]\n",
            "Batches: 100%|██████████| 1/1 [00:00<00:00, 61.28it/s]\n"
          ]
        },
        {
          "metadata": {
            "tags": null
          },
          "name": "stdout",
          "output_type": "stream",
          "text": [
            "Сколько процентов опрошенных считают, что контент, созданный пользователями, не менее интересен, чем традиционные медиа?\n"
          ]
        },
        {
          "metadata": {
            "tags": null
          },
          "name": "stderr",
          "output_type": "stream",
          "text": [
            "Batches: 100%|██████████| 1/1 [00:00<00:00, 56.71it/s]\n",
            "Batches: 100%|██████████| 1/1 [00:00<00:00, 61.59it/s]\n"
          ]
        },
        {
          "metadata": {
            "tags": null
          },
          "name": "stdout",
          "output_type": "stream",
          "text": [
            "Сколько людей принимает участие в гейминг-соревнованиях?\n"
          ]
        },
        {
          "metadata": {
            "tags": null
          },
          "name": "stderr",
          "output_type": "stream",
          "text": [
            "Batches: 100%|██████████| 1/1 [00:00<00:00, 57.00it/s]\n",
            "Batches: 100%|██████████| 1/1 [00:00<00:00, 61.01it/s]\n"
          ]
        },
        {
          "metadata": {
            "tags": null
          },
          "name": "stdout",
          "output_type": "stream",
          "text": [
            "Насколько геймеров-фанатов меньше любителей?\n"
          ]
        },
        {
          "metadata": {
            "tags": null
          },
          "name": "stderr",
          "output_type": "stream",
          "text": [
            "Batches: 100%|██████████| 1/1 [00:00<00:00, 56.89it/s]\n",
            "Batches: 100%|██████████| 1/1 [00:00<00:00, 59.32it/s]\n"
          ]
        },
        {
          "metadata": {
            "tags": null
          },
          "name": "stdout",
          "output_type": "stream",
          "text": [
            "Какой ТВ-канал геймеры любят больше всего?\n"
          ]
        },
        {
          "metadata": {
            "tags": null
          },
          "name": "stderr",
          "output_type": "stream",
          "text": [
            "Batches: 100%|██████████| 1/1 [00:00<00:00, 55.91it/s]\n",
            "Batches: 100%|██████████| 1/1 [00:00<00:00, 57.79it/s]\n"
          ]
        },
        {
          "metadata": {
            "tags": null
          },
          "name": "stdout",
          "output_type": "stream",
          "text": [
            "Какие форматы бренд может использовать в гейминге?\n"
          ]
        },
        {
          "metadata": {
            "tags": null
          },
          "name": "stderr",
          "output_type": "stream",
          "text": [
            "Batches: 100%|██████████| 1/1 [00:00<00:00, 54.37it/s]\n",
            "Batches: 100%|██████████| 1/1 [00:00<00:00, 57.69it/s]\n"
          ]
        },
        {
          "metadata": {
            "tags": null
          },
          "name": "stdout",
          "output_type": "stream",
          "text": [
            "Какое было самое скачиваемое приложение по оказанию финансовых услуг в 2023 году?\n"
          ]
        },
        {
          "metadata": {
            "tags": null
          },
          "name": "stderr",
          "output_type": "stream",
          "text": [
            "Batches: 100%|██████████| 1/1 [00:00<00:00, 56.43it/s]\n",
            "Batches: 100%|██████████| 1/1 [00:00<00:00, 61.44it/s]\n"
          ]
        },
        {
          "metadata": {
            "tags": null
          },
          "name": "stdout",
          "output_type": "stream",
          "text": [
            "Какая доля пользователей смартфонов расплачивается за покупки с помощью телефона?\n"
          ]
        },
        {
          "metadata": {
            "tags": null
          },
          "name": "stderr",
          "output_type": "stream",
          "text": [
            "Batches: 100%|██████████| 1/1 [00:00<00:00, 57.22it/s]\n",
            "Batches: 100%|██████████| 1/1 [00:00<00:00, 58.65it/s]\n"
          ]
        },
        {
          "metadata": {
            "tags": null
          },
          "name": "stdout",
          "output_type": "stream",
          "text": [
            "Сколько стоил биткоин в декабре 2023 года?\n"
          ]
        },
        {
          "metadata": {
            "tags": null
          },
          "name": "stderr",
          "output_type": "stream",
          "text": [
            "Batches: 100%|██████████| 1/1 [00:00<00:00, 57.03it/s]\n",
            "Batches: 100%|██████████| 1/1 [00:00<00:00, 61.38it/s]\n"
          ]
        },
        {
          "metadata": {
            "tags": null
          },
          "name": "stdout",
          "output_type": "stream",
          "text": [
            "На сколько увеличилась или уменьшилась выручка 10 самых прибыльных категорий игр в 2023 году?\n"
          ]
        },
        {
          "metadata": {
            "tags": null
          },
          "name": "stderr",
          "output_type": "stream",
          "text": [
            "Batches: 100%|██████████| 1/1 [00:00<00:00, 55.92it/s]\n",
            "Batches: 100%|██████████| 1/1 [00:00<00:00, 59.48it/s]\n"
          ]
        },
        {
          "metadata": {
            "tags": null
          },
          "name": "stdout",
          "output_type": "stream",
          "text": [
            "Кто был партнером игры номер 1 в категории \"Раннер\" в 2023 году?\n"
          ]
        },
        {
          "metadata": {
            "tags": null
          },
          "name": "stderr",
          "output_type": "stream",
          "text": [
            "Batches: 100%|██████████| 1/1 [00:00<00:00, 55.96it/s]\n",
            "Batches: 100%|██████████| 1/1 [00:00<00:00, 61.22it/s]\n"
          ]
        },
        {
          "metadata": {
            "tags": null
          },
          "name": "stdout",
          "output_type": "stream",
          "text": [
            "Где казуальные игры пользуются особенной популярностью?\n"
          ]
        },
        {
          "metadata": {
            "tags": null
          },
          "name": "stderr",
          "output_type": "stream",
          "text": [
            "Batches: 100%|██████████| 1/1 [00:00<00:00, 55.45it/s]\n",
            "Batches: 100%|██████████| 1/1 [00:00<00:00, 61.08it/s]\n"
          ]
        },
        {
          "metadata": {
            "tags": null
          },
          "name": "stdout",
          "output_type": "stream",
          "text": [
            "Что стало более характерно для пользователей мобильных приложений?\n"
          ]
        },
        {
          "metadata": {
            "tags": null
          },
          "name": "stderr",
          "output_type": "stream",
          "text": [
            "Batches: 100%|██████████| 1/1 [00:00<00:00, 57.55it/s]\n",
            "Batches: 100%|██████████| 1/1 [00:00<00:00, 59.40it/s]\n"
          ]
        },
        {
          "metadata": {
            "tags": null
          },
          "name": "stdout",
          "output_type": "stream",
          "text": [
            "В какой стране больше всего скачивают приложений на iOS?\n"
          ]
        },
        {
          "metadata": {
            "tags": null
          },
          "name": "stderr",
          "output_type": "stream",
          "text": [
            "Batches: 100%|██████████| 1/1 [00:00<00:00, 56.56it/s]\n",
            "Batches: 100%|██████████| 1/1 [00:00<00:00, 59.27it/s]\n"
          ]
        },
        {
          "metadata": {
            "tags": null
          },
          "name": "stdout",
          "output_type": "stream",
          "text": [
            "Какой был топ-5 приложений в 2023 году?\n"
          ]
        },
        {
          "metadata": {
            "tags": null
          },
          "name": "stderr",
          "output_type": "stream",
          "text": [
            "Batches: 100%|██████████| 1/1 [00:00<00:00, 57.18it/s]\n",
            "Batches: 100%|██████████| 1/1 [00:00<00:00, 60.28it/s]\n"
          ]
        },
        {
          "metadata": {
            "tags": null
          },
          "name": "stdout",
          "output_type": "stream",
          "text": [
            "Какую рекламу предпочитают пользователи?\n"
          ]
        },
        {
          "metadata": {
            "tags": null
          },
          "name": "stderr",
          "output_type": "stream",
          "text": [
            "Batches: 100%|██████████| 1/1 [00:00<00:00, 53.53it/s]\n",
            "Batches: 100%|██████████| 1/1 [00:00<00:00, 58.08it/s]\n"
          ]
        },
        {
          "metadata": {
            "tags": null
          },
          "name": "stdout",
          "output_type": "stream",
          "text": [
            "Чего ожидают организации от внедрения ИИ в свою работу?\n"
          ]
        },
        {
          "metadata": {
            "tags": null
          },
          "name": "stderr",
          "output_type": "stream",
          "text": [
            "Batches: 100%|██████████| 1/1 [00:00<00:00, 55.82it/s]\n",
            "Batches: 100%|██████████| 1/1 [00:00<00:00, 61.35it/s]\n"
          ]
        },
        {
          "metadata": {
            "tags": null
          },
          "name": "stdout",
          "output_type": "stream",
          "text": [
            "Насколько эффективнее видеореклама, чем рекламные баннеры?\n"
          ]
        },
        {
          "metadata": {
            "tags": null
          },
          "name": "stderr",
          "output_type": "stream",
          "text": [
            "Batches: 100%|██████████| 1/1 [00:00<00:00, 57.21it/s]\n",
            "Batches: 100%|██████████| 1/1 [00:00<00:00, 62.32it/s]\n"
          ]
        },
        {
          "metadata": {
            "tags": null
          },
          "name": "stdout",
          "output_type": "stream",
          "text": [
            "Сколько составляет активная аудитория подкастов в России по оценкам РАЭК?\n"
          ]
        },
        {
          "metadata": {
            "tags": null
          },
          "name": "stderr",
          "output_type": "stream",
          "text": [
            "Batches: 100%|██████████| 1/1 [00:00<00:00, 57.45it/s]\n",
            "Batches: 100%|██████████| 1/1 [00:00<00:00, 60.77it/s]\n"
          ]
        },
        {
          "metadata": {
            "tags": null
          },
          "name": "stdout",
          "output_type": "stream",
          "text": [
            "Какие категории являются популярными в подкастах?\n"
          ]
        },
        {
          "metadata": {
            "tags": null
          },
          "name": "stderr",
          "output_type": "stream",
          "text": [
            "Batches: 100%|██████████| 1/1 [00:00<00:00, 56.72it/s]\n",
            "Batches: 100%|██████████| 1/1 [00:00<00:00, 59.02it/s]\n"
          ]
        },
        {
          "metadata": {
            "tags": null
          },
          "name": "stdout",
          "output_type": "stream",
          "text": [
            "Ккие существуют способы монетизации подкаста?\n"
          ]
        },
        {
          "metadata": {
            "tags": null
          },
          "name": "stderr",
          "output_type": "stream",
          "text": [
            "Batches: 100%|██████████| 1/1 [00:00<00:00, 56.34it/s]\n",
            "Batches: 100%|██████████| 1/1 [00:00<00:00, 60.99it/s]\n"
          ]
        },
        {
          "metadata": {
            "tags": null
          },
          "name": "stdout",
          "output_type": "stream",
          "text": [
            "Назовите общее количество подкастов в России\n",
            "Назовите виды монетизации\n",
            "Сколько потратили бренды на продвижение в подкастах в 2022 году?\n"
          ]
        },
        {
          "metadata": {
            "tags": null
          },
          "name": "stderr",
          "output_type": "stream",
          "text": [
            "Batches: 100%|██████████| 1/1 [00:00<00:00, 57.27it/s]\n",
            "Batches: 100%|██████████| 1/1 [00:00<00:00, 60.41it/s]\n"
          ]
        },
        {
          "metadata": {
            "tags": null
          },
          "name": "stdout",
          "output_type": "stream",
          "text": [
            "Сколько в среднем человек пользовался телефоном каждый день в 2023 году?\n"
          ]
        },
        {
          "metadata": {
            "tags": null
          },
          "name": "stderr",
          "output_type": "stream",
          "text": [
            "Batches: 100%|██████████| 1/1 [00:00<00:00, 57.62it/s]\n",
            "Batches: 100%|██████████| 1/1 [00:00<00:00, 60.17it/s]\n"
          ]
        },
        {
          "metadata": {
            "tags": null
          },
          "name": "stdout",
          "output_type": "stream",
          "text": [
            "В какую игру вероятнее всего будут играть люди из категории 45+?\n"
          ]
        },
        {
          "metadata": {
            "tags": null
          },
          "name": "stderr",
          "output_type": "stream",
          "text": [
            "Batches: 100%|██████████| 1/1 [00:00<00:00, 54.61it/s]\n",
            "Batches: 100%|██████████| 1/1 [00:00<00:00, 58.21it/s]\n"
          ]
        },
        {
          "metadata": {
            "tags": null
          },
          "name": "stdout",
          "output_type": "stream",
          "text": [
            "На сколько выросли расходы на рекламу в мобильных играх в 2024 году по сравнению с 2019?\n"
          ]
        },
        {
          "metadata": {
            "tags": null
          },
          "name": "stderr",
          "output_type": "stream",
          "text": [
            "Batches: 100%|██████████| 1/1 [00:00<00:00, 54.58it/s]\n",
            "Batches: 100%|██████████| 1/1 [00:00<00:00, 61.74it/s]\n"
          ]
        },
        {
          "metadata": {
            "tags": null
          },
          "name": "stdout",
          "output_type": "stream",
          "text": [
            "Какой рост рекламного рынка ожидается к 2027 году?\n"
          ]
        },
        {
          "metadata": {
            "tags": null
          },
          "name": "stderr",
          "output_type": "stream",
          "text": [
            "Batches: 100%|██████████| 1/1 [00:00<00:00, 53.05it/s]\n",
            "Batches: 100%|██████████| 1/1 [00:00<00:00, 60.49it/s]\n"
          ]
        },
        {
          "metadata": {
            "tags": null
          },
          "name": "stdout",
          "output_type": "stream",
          "text": [
            "Какие тенденции на рынке игр ожидаются в 2024 году?\n"
          ]
        },
        {
          "metadata": {
            "tags": null
          },
          "name": "stderr",
          "output_type": "stream",
          "text": [
            "Batches: 100%|██████████| 1/1 [00:00<00:00, 52.67it/s]\n",
            "Batches: 100%|██████████| 1/1 [00:00<00:00, 60.29it/s]\n"
          ]
        },
        {
          "metadata": {
            "tags": null
          },
          "name": "stdout",
          "output_type": "stream",
          "text": [
            "Согласны ли лидеры игровой индустрии с тем, что 2024 год будет \"неурожайным\" для игровых компаний?\n"
          ]
        },
        {
          "metadata": {
            "tags": null
          },
          "name": "stderr",
          "output_type": "stream",
          "text": [
            "Batches: 100%|██████████| 1/1 [00:00<00:00, 45.76it/s]\n",
            "Batches: 100%|██████████| 1/1 [00:00<00:00, 50.04it/s]\n"
          ]
        },
        {
          "metadata": {
            "tags": null
          },
          "name": "stdout",
          "output_type": "stream",
          "text": [
            "В каком году общая выручка игрового рынка снизилась по сравнению с предыдущим?\n"
          ]
        },
        {
          "metadata": {
            "tags": null
          },
          "name": "stderr",
          "output_type": "stream",
          "text": [
            "Batches: 100%|██████████| 1/1 [00:00<00:00, 56.97it/s]\n",
            "Batches: 100%|██████████| 1/1 [00:00<00:00, 59.79it/s]\n"
          ]
        },
        {
          "metadata": {
            "tags": null
          },
          "name": "stdout",
          "output_type": "stream",
          "text": [
            "В каком году геймеры играли игры больше всего?\n"
          ]
        },
        {
          "metadata": {
            "tags": null
          },
          "name": "stderr",
          "output_type": "stream",
          "text": [
            "Batches: 100%|██████████| 1/1 [00:00<00:00, 56.51it/s]\n",
            "Batches: 100%|██████████| 1/1 [00:00<00:00, 60.41it/s]\n"
          ]
        },
        {
          "metadata": {
            "tags": null
          },
          "name": "stdout",
          "output_type": "stream",
          "text": [
            "Какая была самая популярная игра без франшизы в 2023 году?\n"
          ]
        },
        {
          "metadata": {
            "tags": null
          },
          "name": "stderr",
          "output_type": "stream",
          "text": [
            "Batches: 100%|██████████| 1/1 [00:00<00:00, 53.09it/s]\n",
            "Batches: 100%|██████████| 1/1 [00:00<00:00, 58.51it/s]\n"
          ]
        },
        {
          "metadata": {
            "tags": null
          },
          "name": "stdout",
          "output_type": "stream",
          "text": [
            "Какая топ-1 игра по количеству уникальных ежемесячных пользователей и на ПлейСтейшн, и на ПК, и на Иксбокс, и на Свитч в 2023 году?\n"
          ]
        },
        {
          "metadata": {
            "tags": null
          },
          "name": "stderr",
          "output_type": "stream",
          "text": [
            "Batches: 100%|██████████| 1/1 [00:00<00:00, 54.92it/s]\n",
            "Batches: 100%|██████████| 1/1 [00:00<00:00, 47.33it/s]\n"
          ]
        },
        {
          "metadata": {
            "tags": null
          },
          "name": "stdout",
          "output_type": "stream",
          "text": [
            "Сколько процентов составил рост мирового музыкального рынка в 2023 году?\n"
          ]
        },
        {
          "metadata": {
            "tags": null
          },
          "name": "stderr",
          "output_type": "stream",
          "text": [
            "Batches: 100%|██████████| 1/1 [00:00<00:00, 55.33it/s]\n",
            "Batches: 100%|██████████| 1/1 [00:00<00:00, 58.13it/s]\n"
          ]
        },
        {
          "metadata": {
            "tags": null
          },
          "name": "stdout",
          "output_type": "stream",
          "text": [
            "Какой процент всех потребителей по всему миру играет в видеоигры?\n"
          ]
        },
        {
          "metadata": {
            "tags": null
          },
          "name": "stderr",
          "output_type": "stream",
          "text": [
            "Batches: 100%|██████████| 1/1 [00:00<00:00, 56.57it/s]\n",
            "Batches: 100%|██████████| 1/1 [00:00<00:00, 58.39it/s]\n"
          ]
        },
        {
          "metadata": {
            "tags": null
          },
          "name": "stdout",
          "output_type": "stream",
          "text": [
            "Какая главная мотивация играть в игры?\n"
          ]
        },
        {
          "metadata": {
            "tags": null
          },
          "name": "stderr",
          "output_type": "stream",
          "text": [
            "Batches: 100%|██████████| 1/1 [00:00<00:00, 57.93it/s]\n",
            "Batches: 100%|██████████| 1/1 [00:00<00:00, 59.13it/s]\n"
          ]
        },
        {
          "metadata": {
            "tags": null
          },
          "name": "stdout",
          "output_type": "stream",
          "text": [
            "Какой процент пользователей консолей и ПК часто пробует играть в трендовые игры?\n"
          ]
        },
        {
          "metadata": {
            "tags": null
          },
          "name": "stderr",
          "output_type": "stream",
          "text": [
            "Batches: 100%|██████████| 1/1 [00:00<00:00, 52.45it/s]\n",
            "Batches: 100%|██████████| 1/1 [00:00<00:00, 48.04it/s]\n"
          ]
        },
        {
          "metadata": {
            "tags": null
          },
          "name": "stdout",
          "output_type": "stream",
          "text": [
            "Во сколько раз больше пользователей, играющих в телефоны, было больше тех, кто играл в компьютер, в 2024 году?\n"
          ]
        },
        {
          "metadata": {
            "tags": null
          },
          "name": "stderr",
          "output_type": "stream",
          "text": [
            "Batches: 100%|██████████| 1/1 [00:00<00:00, 54.62it/s]\n",
            "Batches: 100%|██████████| 1/1 [00:00<00:00, 60.55it/s]\n"
          ]
        },
        {
          "metadata": {
            "tags": null
          },
          "name": "stdout",
          "output_type": "stream",
          "text": [
            "Какой прирост от года к году покажет 2024 год?\n"
          ]
        },
        {
          "metadata": {
            "tags": null
          },
          "name": "stderr",
          "output_type": "stream",
          "text": [
            "Batches: 100%|██████████| 1/1 [00:00<00:00, 56.49it/s]\n",
            "Batches: 100%|██████████| 1/1 [00:00<00:00, 60.74it/s]\n"
          ]
        },
        {
          "metadata": {
            "tags": null
          },
          "name": "stdout",
          "output_type": "stream",
          "text": [
            "Какие поколения больше всего играют в игры?\n"
          ]
        },
        {
          "metadata": {
            "tags": null
          },
          "name": "stderr",
          "output_type": "stream",
          "text": [
            "Batches: 100%|██████████| 1/1 [00:00<00:00, 54.20it/s]\n",
            "Batches: 100%|██████████| 1/1 [00:00<00:00, 60.92it/s]\n"
          ]
        },
        {
          "metadata": {
            "tags": null
          },
          "name": "stdout",
          "output_type": "stream",
          "text": [
            "Сколько процентов игроков \"Royal Match\" составляют представители категории 35-44 и 45-54?\n"
          ]
        },
        {
          "metadata": {
            "tags": null
          },
          "name": "stderr",
          "output_type": "stream",
          "text": [
            "Batches: 100%|██████████| 1/1 [00:00<00:00, 54.09it/s]\n",
            "Batches: 100%|██████████| 1/1 [00:00<00:00, 59.95it/s]\n"
          ]
        },
        {
          "metadata": {
            "tags": null
          },
          "name": "stdout",
          "output_type": "stream",
          "text": [
            "Какая была самая кассовая мобильная игра в 2024 году?\n"
          ]
        },
        {
          "metadata": {
            "tags": null
          },
          "name": "stderr",
          "output_type": "stream",
          "text": [
            "Batches: 100%|██████████| 1/1 [00:00<00:00, 55.08it/s]\n",
            "Batches: 100%|██████████| 1/1 [00:00<00:00, 60.35it/s]\n"
          ]
        },
        {
          "metadata": {
            "tags": null
          },
          "name": "stdout",
          "output_type": "stream",
          "text": [
            "Какая отличительная черта казуальных игр?\n"
          ]
        },
        {
          "metadata": {
            "tags": null
          },
          "name": "stderr",
          "output_type": "stream",
          "text": [
            "Batches: 100%|██████████| 1/1 [00:00<00:00, 56.84it/s]\n",
            "Batches: 100%|██████████| 1/1 [00:00<00:00, 59.03it/s]\n"
          ]
        },
        {
          "metadata": {
            "tags": null
          },
          "name": "stdout",
          "output_type": "stream",
          "text": [
            "Кто составляет бо́льшую часть разработчиков игр (по демографическому признаку)?\n"
          ]
        },
        {
          "metadata": {
            "tags": null
          },
          "name": "stderr",
          "output_type": "stream",
          "text": [
            "Batches: 100%|██████████| 1/1 [00:00<00:00, 53.80it/s]\n",
            "Batches: 100%|██████████| 1/1 [00:00<00:00, 57.15it/s]\n"
          ]
        },
        {
          "metadata": {
            "tags": null
          },
          "name": "stdout",
          "output_type": "stream",
          "text": [
            "К какой возрастной категории относится бо́льшая часть опрошенных?\n"
          ]
        },
        {
          "metadata": {
            "tags": null
          },
          "name": "stderr",
          "output_type": "stream",
          "text": [
            "Batches: 100%|██████████| 1/1 [00:00<00:00, 35.44it/s]\n",
            "Batches: 100%|██████████| 1/1 [00:00<00:00, 59.69it/s]\n"
          ]
        },
        {
          "metadata": {
            "tags": null
          },
          "name": "stdout",
          "output_type": "stream",
          "text": [
            "На кого работает бо́льшая часть опрошенных?\n"
          ]
        },
        {
          "metadata": {
            "tags": null
          },
          "name": "stderr",
          "output_type": "stream",
          "text": [
            "Batches: 100%|██████████| 1/1 [00:00<00:00, 55.08it/s]\n",
            "Batches: 100%|██████████| 1/1 [00:00<00:00, 55.91it/s]\n"
          ]
        },
        {
          "metadata": {
            "tags": null
          },
          "name": "stdout",
          "output_type": "stream",
          "text": [
            "Какой доход от покупок внутри мобильных приложений ожидается к 2028 году?\n"
          ]
        },
        {
          "metadata": {
            "tags": null
          },
          "name": "stderr",
          "output_type": "stream",
          "text": [
            "Batches: 100%|██████████| 1/1 [00:00<00:00, 55.31it/s]\n",
            "Batches: 100%|██████████| 1/1 [00:00<00:00, 59.34it/s]\n"
          ]
        },
        {
          "metadata": {
            "tags": null
          },
          "name": "stdout",
          "output_type": "stream",
          "text": [
            "Какие самые популярные категории мобильных игр в 2023 году?\n"
          ]
        },
        {
          "metadata": {
            "tags": null
          },
          "name": "stderr",
          "output_type": "stream",
          "text": [
            "Batches: 100%|██████████| 1/1 [00:00<00:00, 58.16it/s]\n",
            "Batches: 100%|██████████| 1/1 [00:00<00:00, 59.56it/s]\n"
          ]
        },
        {
          "metadata": {
            "tags": null
          },
          "name": "stdout",
          "output_type": "stream",
          "text": [
            "Какую долю среди выручки всех мобильных настольных игр составил доход \"MONOPOLY GO!\" в 2023 году?\n"
          ]
        },
        {
          "metadata": {
            "tags": null
          },
          "name": "stderr",
          "output_type": "stream",
          "text": [
            "Batches: 100%|██████████| 1/1 [00:00<00:00, 56.25it/s]\n",
            "Batches: 100%|██████████| 1/1 [00:00<00:00, 59.10it/s]\n"
          ]
        },
        {
          "metadata": {
            "tags": null
          },
          "name": "stdout",
          "output_type": "stream",
          "text": [
            "Сколько процентов пользователей интернета в возрасте от 14 до 44 лет определяют себя как фаната кого- или чего-либо?\n"
          ]
        },
        {
          "metadata": {
            "tags": null
          },
          "name": "stderr",
          "output_type": "stream",
          "text": [
            "Batches: 100%|██████████| 1/1 [00:00<00:00, 55.32it/s]\n",
            "Batches: 100%|██████████| 1/1 [00:00<00:00, 59.46it/s]\n"
          ]
        },
        {
          "metadata": {
            "tags": null
          },
          "name": "stdout",
          "output_type": "stream",
          "text": [
            "Какие компании составляют 42% от всего рынка рекламных агентств в России по выручке?\n"
          ]
        },
        {
          "metadata": {
            "tags": null
          },
          "name": "stderr",
          "output_type": "stream",
          "text": [
            "Batches: 100%|██████████| 1/1 [00:00<00:00, 53.73it/s]\n",
            "Batches: 100%|██████████| 1/1 [00:00<00:00, 57.21it/s]\n"
          ]
        },
        {
          "metadata": {
            "tags": null
          },
          "name": "stdout",
          "output_type": "stream",
          "text": [
            "Что может стать преградой для роста рынка мобильной рекламы?\n"
          ]
        },
        {
          "metadata": {
            "tags": null
          },
          "name": "stderr",
          "output_type": "stream",
          "text": [
            "Batches: 100%|██████████| 1/1 [00:00<00:00, 49.76it/s]\n",
            "Batches: 100%|██████████| 1/1 [00:00<00:00, 57.86it/s]\n"
          ]
        },
        {
          "metadata": {
            "tags": null
          },
          "name": "stdout",
          "output_type": "stream",
          "text": [
            "Какие цели в e-com останутся прежними?\n"
          ]
        },
        {
          "metadata": {
            "tags": null
          },
          "name": "stderr",
          "output_type": "stream",
          "text": [
            "Batches: 100%|██████████| 1/1 [00:00<00:00, 54.24it/s]\n",
            "Batches: 100%|██████████| 1/1 [00:00<00:00, 58.86it/s]\n"
          ]
        },
        {
          "metadata": {
            "tags": null
          },
          "name": "stdout",
          "output_type": "stream",
          "text": [
            "Когда возникла необходимость в отечественных аналогах онлаин-магазинов?\n"
          ]
        },
        {
          "metadata": {
            "tags": null
          },
          "name": "stderr",
          "output_type": "stream",
          "text": [
            "Batches: 100%|██████████| 1/1 [00:00<00:00, 58.10it/s]\n",
            "Batches: 100%|██████████| 1/1 [00:00<00:00, 61.56it/s]\n"
          ]
        },
        {
          "metadata": {
            "tags": null
          },
          "name": "stdout",
          "output_type": "stream",
          "text": [
            "По каким причинам москвичи сокращают время на видеоигры?\n"
          ]
        },
        {
          "metadata": {
            "tags": null
          },
          "name": "stderr",
          "output_type": "stream",
          "text": [
            "Batches: 100%|██████████| 1/1 [00:00<00:00, 54.79it/s]\n",
            "Batches: 100%|██████████| 1/1 [00:00<00:00, 61.02it/s]\n"
          ]
        },
        {
          "metadata": {
            "tags": null
          },
          "name": "stdout",
          "output_type": "stream",
          "text": [
            "Кто из москвичей считает себя геймером?\n"
          ]
        },
        {
          "metadata": {
            "tags": null
          },
          "name": "stderr",
          "output_type": "stream",
          "text": [
            "Batches: 100%|██████████| 1/1 [00:00<00:00, 54.64it/s]\n",
            "Batches: 100%|██████████| 1/1 [00:00<00:00, 59.85it/s]\n"
          ]
        },
        {
          "metadata": {
            "tags": null
          },
          "name": "stdout",
          "output_type": "stream",
          "text": [
            "Сколько часов в день составляет среднее время интернет-потребления на человека?\n"
          ]
        },
        {
          "metadata": {
            "tags": null
          },
          "name": "stderr",
          "output_type": "stream",
          "text": [
            "Batches: 100%|██████████| 1/1 [00:00<00:00, 57.51it/s]\n",
            "Batches: 100%|██████████| 1/1 [00:00<00:00, 58.47it/s]\n"
          ]
        },
        {
          "metadata": {
            "tags": null
          },
          "name": "stdout",
          "output_type": "stream",
          "text": [
            "Где и сколько больше всего находится авторов в соцсетях?\n"
          ]
        },
        {
          "metadata": {
            "tags": null
          },
          "name": "stderr",
          "output_type": "stream",
          "text": [
            "Batches: 100%|██████████| 1/1 [00:00<00:00, 54.24it/s]\n",
            "Batches: 100%|██████████| 1/1 [00:00<00:00, 56.66it/s]\n"
          ]
        },
        {
          "metadata": {
            "tags": null
          },
          "name": "stdout",
          "output_type": "stream",
          "text": [
            "На сколько больше стало авторов на YouTube в 2023 году?\n"
          ]
        },
        {
          "metadata": {
            "tags": null
          },
          "name": "stderr",
          "output_type": "stream",
          "text": [
            "Batches: 100%|██████████| 1/1 [00:00<00:00, 54.72it/s]\n",
            "Batches: 100%|██████████| 1/1 [00:00<00:00, 58.87it/s]\n"
          ]
        },
        {
          "metadata": {
            "tags": null
          },
          "name": "stdout",
          "output_type": "stream",
          "text": [
            "Какой соцсетью чаще всего пользуются мужчины?\n"
          ]
        },
        {
          "metadata": {
            "tags": null
          },
          "name": "stderr",
          "output_type": "stream",
          "text": [
            "Batches: 100%|██████████| 1/1 [00:00<00:00, 57.04it/s]\n",
            "Batches: 100%|██████████| 1/1 [00:00<00:00, 58.07it/s]\n"
          ]
        },
        {
          "metadata": {
            "tags": null
          },
          "name": "stdout",
          "output_type": "stream",
          "text": [
            "Какие задачи решает Telegram Ads?\n"
          ]
        },
        {
          "metadata": {
            "tags": null
          },
          "name": "stderr",
          "output_type": "stream",
          "text": [
            "Batches: 100%|██████████| 1/1 [00:00<00:00, 56.20it/s]\n",
            "Batches: 100%|██████████| 1/1 [00:00<00:00, 58.99it/s]\n"
          ]
        },
        {
          "metadata": {
            "tags": null
          },
          "name": "stdout",
          "output_type": "stream",
          "text": [
            "Какие есть виды посевов?\n"
          ]
        },
        {
          "metadata": {
            "tags": null
          },
          "name": "stderr",
          "output_type": "stream",
          "text": [
            "Batches: 100%|██████████| 1/1 [00:00<00:00, 55.09it/s]\n",
            "Batches: 100%|██████████| 1/1 [00:00<00:00, 55.10it/s]\n"
          ]
        },
        {
          "metadata": {
            "tags": null
          },
          "name": "stdout",
          "output_type": "stream",
          "text": [
            "Какие есть ключевые показатели эффективности?\n"
          ]
        },
        {
          "metadata": {
            "tags": null
          },
          "name": "stderr",
          "output_type": "stream",
          "text": [
            "Batches: 100%|██████████| 1/1 [00:00<00:00, 55.46it/s]\n",
            "Batches: 100%|██████████| 1/1 [00:00<00:00, 55.14it/s]\n"
          ]
        },
        {
          "metadata": {
            "tags": null
          },
          "name": "stdout",
          "output_type": "stream",
          "text": [
            "С какой регулярностью пользователи готовы получать уведомления?\n"
          ]
        },
        {
          "metadata": {
            "tags": null
          },
          "name": "stderr",
          "output_type": "stream",
          "text": [
            "Batches: 100%|██████████| 1/1 [00:00<00:00, 42.97it/s]\n",
            "Batches: 100%|██████████| 1/1 [00:00<00:00, 58.49it/s]\n"
          ]
        },
        {
          "metadata": {
            "tags": null
          },
          "name": "stdout",
          "output_type": "stream",
          "text": [
            "Какие уведомления предпочитают получать пользователи разного возраста?\n"
          ]
        },
        {
          "metadata": {
            "tags": null
          },
          "name": "stderr",
          "output_type": "stream",
          "text": [
            "Batches: 100%|██████████| 1/1 [00:00<00:00, 37.61it/s]\n",
            "Batches: 100%|██████████| 1/1 [00:00<00:00, 54.75it/s]\n"
          ]
        },
        {
          "metadata": {
            "tags": null
          },
          "name": "stdout",
          "output_type": "stream",
          "text": [
            "В чем проблема расположения персонального предложения в списке с текущими продуктами клиента?\n"
          ]
        },
        {
          "metadata": {
            "tags": null
          },
          "name": "stderr",
          "output_type": "stream",
          "text": [
            "Batches: 100%|██████████| 1/1 [00:00<00:00, 55.58it/s]\n",
            "Batches: 100%|██████████| 1/1 [00:00<00:00, 58.55it/s]\n"
          ]
        },
        {
          "metadata": {
            "tags": null
          },
          "name": "stdout",
          "output_type": "stream",
          "text": [
            "Какая основная цель бренд-медиа?\n"
          ]
        },
        {
          "metadata": {
            "tags": null
          },
          "name": "stderr",
          "output_type": "stream",
          "text": [
            "Batches: 100%|██████████| 1/1 [00:00<00:00, 52.26it/s]\n",
            "Batches: 100%|██████████| 1/1 [00:00<00:00, 57.35it/s]\n"
          ]
        },
        {
          "metadata": {
            "tags": null
          },
          "name": "stdout",
          "output_type": "stream",
          "text": [
            "В каких сферах представлено наибольшее количество бренд-медиа?\n"
          ]
        },
        {
          "metadata": {
            "tags": null
          },
          "name": "stderr",
          "output_type": "stream",
          "text": [
            "Batches: 100%|██████████| 1/1 [00:00<00:00, 55.09it/s]\n",
            "Batches: 100%|██████████| 1/1 [00:00<00:00, 51.47it/s]\n"
          ]
        },
        {
          "metadata": {
            "tags": null
          },
          "name": "stdout",
          "output_type": "stream",
          "text": [
            "Какой самый востребованный жанр в бренд-медиа изданиях?\n"
          ]
        },
        {
          "metadata": {
            "tags": null
          },
          "name": "stderr",
          "output_type": "stream",
          "text": [
            "Batches: 100%|██████████| 1/1 [00:00<00:00, 54.41it/s]\n",
            "Batches: 100%|██████████| 1/1 [00:00<00:00, 55.77it/s]\n"
          ]
        },
        {
          "metadata": {
            "tags": null
          },
          "name": "stdout",
          "output_type": "stream",
          "text": [
            "Сколько составил прогнозируемый объем российской интернет-экономики на 2023 год?\n"
          ]
        },
        {
          "metadata": {
            "tags": null
          },
          "name": "stderr",
          "output_type": "stream",
          "text": [
            "Batches: 100%|██████████| 1/1 [00:00<00:00, 54.34it/s]\n",
            "Batches: 100%|██████████| 1/1 [00:00<00:00, 58.82it/s]\n"
          ]
        },
        {
          "metadata": {
            "tags": null
          },
          "name": "stdout",
          "output_type": "stream",
          "text": [
            "Сколько составила выручка МКПАО \"Яндекс\" за 2023 год?\n"
          ]
        },
        {
          "metadata": {
            "tags": null
          },
          "name": "stderr",
          "output_type": "stream",
          "text": [
            "Batches: 100%|██████████| 1/1 [00:00<00:00, 55.33it/s]\n",
            "Batches: 100%|██████████| 1/1 [00:00<00:00, 57.01it/s]\n"
          ]
        },
        {
          "metadata": {
            "tags": null
          },
          "name": "stdout",
          "output_type": "stream",
          "text": [
            "Какие основные сегменты выручки Яндекс за 2 кв. 2024 года?\n"
          ]
        },
        {
          "metadata": {
            "tags": null
          },
          "name": "stderr",
          "output_type": "stream",
          "text": [
            "Batches: 100%|██████████| 1/1 [00:00<00:00, 52.89it/s]\n",
            "Batches: 100%|██████████| 1/1 [00:00<00:00, 58.60it/s]\n"
          ]
        },
        {
          "metadata": {
            "tags": null
          },
          "name": "stdout",
          "output_type": "stream",
          "text": [
            "Сколько составляет рост количества подключенных мобильных приложений партнеров к рекламной сети Яндекса?\n"
          ]
        },
        {
          "metadata": {
            "tags": null
          },
          "name": "stderr",
          "output_type": "stream",
          "text": [
            "Batches: 100%|██████████| 1/1 [00:00<00:00, 56.92it/s]\n",
            "Batches: 100%|██████████| 1/1 [00:00<00:00, 55.87it/s]\n"
          ]
        },
        {
          "metadata": {
            "tags": null
          },
          "name": "stdout",
          "output_type": "stream",
          "text": [
            "Сколько составила выручка ВК от онлайн-рекламы в 2023 году?\n"
          ]
        },
        {
          "metadata": {
            "tags": null
          },
          "name": "stderr",
          "output_type": "stream",
          "text": [
            "Batches: 100%|██████████| 1/1 [00:00<00:00, 55.19it/s]\n",
            "Batches: 100%|██████████| 1/1 [00:00<00:00, 59.60it/s]\n"
          ]
        },
        {
          "metadata": {
            "tags": null
          },
          "name": "stdout",
          "output_type": "stream",
          "text": [
            "Сколько процентов составляет рост дневной аудитории ВК в 4 кв, 2023 годы?\n"
          ]
        },
        {
          "metadata": {
            "tags": null
          },
          "name": "stderr",
          "output_type": "stream",
          "text": [
            "Batches: 100%|██████████| 1/1 [00:00<00:00, 56.26it/s]\n",
            "Batches: 100%|██████████| 1/1 [00:00<00:00, 60.29it/s]\n"
          ]
        },
        {
          "metadata": {
            "tags": null
          },
          "name": "stdout",
          "output_type": "stream",
          "text": [
            "Сколько составил охват социальной кампании «День защиты детей в интернете» в 2023 году?\n"
          ]
        },
        {
          "metadata": {
            "tags": null
          },
          "name": "stderr",
          "output_type": "stream",
          "text": [
            "Batches: 100%|██████████| 1/1 [00:00<00:00, 56.57it/s]\n",
            "Batches: 100%|██████████| 1/1 [00:00<00:00, 60.24it/s]\n"
          ]
        },
        {
          "metadata": {
            "tags": null
          },
          "name": "stdout",
          "output_type": "stream",
          "text": [
            "Что входит в Customer Data Platforms на фармацевтическом рынке?\n"
          ]
        },
        {
          "metadata": {
            "tags": null
          },
          "name": "stderr",
          "output_type": "stream",
          "text": [
            "Batches: 100%|██████████| 1/1 [00:00<00:00, 54.84it/s]\n",
            "Batches: 100%|██████████| 1/1 [00:00<00:00, 54.28it/s]\n"
          ]
        },
        {
          "metadata": {
            "tags": null
          },
          "name": "stdout",
          "output_type": "stream",
          "text": [
            "Какой процент охвата аудитории достигается за счет партнерства?\n"
          ]
        },
        {
          "metadata": {
            "tags": null
          },
          "name": "stderr",
          "output_type": "stream",
          "text": [
            "Batches: 100%|██████████| 1/1 [00:00<00:00, 55.18it/s]\n",
            "Batches: 100%|██████████| 1/1 [00:00<00:00, 57.34it/s]\n"
          ]
        },
        {
          "metadata": {
            "tags": null
          },
          "name": "stdout",
          "output_type": "stream",
          "text": [
            "Какая цель экосистемы Martech Pharma?\n"
          ]
        },
        {
          "metadata": {
            "tags": null
          },
          "name": "stderr",
          "output_type": "stream",
          "text": [
            "Batches: 100%|██████████| 1/1 [00:00<00:00, 54.55it/s]\n",
            "Batches: 100%|██████████| 1/1 [00:00<00:00, 57.19it/s]\n"
          ]
        },
        {
          "metadata": {
            "tags": null
          },
          "name": "stdout",
          "output_type": "stream",
          "text": [
            "Почему крупнейшие онлайн медиаплатформы инвестируют в AI|ML?\n"
          ]
        },
        {
          "metadata": {
            "tags": null
          },
          "name": "stderr",
          "output_type": "stream",
          "text": [
            "Batches: 100%|██████████| 1/1 [00:00<00:00, 56.90it/s]\n",
            "Batches: 100%|██████████| 1/1 [00:00<00:00, 60.33it/s]\n"
          ]
        },
        {
          "metadata": {
            "tags": null
          },
          "name": "stdout",
          "output_type": "stream",
          "text": [
            "Сколько человек во всем мире пользуются Интернетом?\n"
          ]
        },
        {
          "metadata": {
            "tags": null
          },
          "name": "stderr",
          "output_type": "stream",
          "text": [
            "Batches: 100%|██████████| 1/1 [00:00<00:00, 54.01it/s]\n",
            "Batches: 100%|██████████| 1/1 [00:00<00:00, 55.48it/s]\n"
          ]
        },
        {
          "metadata": {
            "tags": null
          },
          "name": "stdout",
          "output_type": "stream",
          "text": [
            "Каков тип самых посещаемых сайтов и используемых приложений?\n"
          ]
        },
        {
          "metadata": {
            "tags": null
          },
          "name": "stderr",
          "output_type": "stream",
          "text": [
            "Batches: 100%|██████████| 1/1 [00:00<00:00, 49.19it/s]\n",
            "Batches: 100%|██████████| 1/1 [00:00<00:00, 56.12it/s]\n"
          ]
        },
        {
          "metadata": {
            "tags": null
          },
          "name": "stdout",
          "output_type": "stream",
          "text": [
            "Что является самым популярным видом еженедельных онлайн-покупок?\n"
          ]
        },
        {
          "metadata": {
            "tags": null
          },
          "name": "stderr",
          "output_type": "stream",
          "text": [
            "Batches: 100%|██████████| 1/1 [00:00<00:00, 55.67it/s]\n",
            "Batches: 100%|██████████| 1/1 [00:00<00:00, 52.84it/s]\n"
          ]
        },
        {
          "metadata": {
            "tags": null
          },
          "name": "stdout",
          "output_type": "stream",
          "text": [
            "Каковы главные тренды 2023 года?\n"
          ]
        },
        {
          "metadata": {
            "tags": null
          },
          "name": "stderr",
          "output_type": "stream",
          "text": [
            "Batches: 100%|██████████| 1/1 [00:00<00:00, 56.69it/s]\n",
            "Batches: 100%|██████████| 1/1 [00:00<00:00, 57.50it/s]\n"
          ]
        },
        {
          "metadata": {
            "tags": null
          },
          "name": "stdout",
          "output_type": "stream",
          "text": [
            "Повлиял ли интерес поколения Z к женскому футболу на другие виды увлечений?\n"
          ]
        },
        {
          "metadata": {
            "tags": null
          },
          "name": "stderr",
          "output_type": "stream",
          "text": [
            "Batches: 100%|██████████| 1/1 [00:00<00:00, 51.29it/s]\n",
            "Batches: 100%|██████████| 1/1 [00:00<00:00, 54.81it/s]\n"
          ]
        },
        {
          "metadata": {
            "tags": null
          },
          "name": "stdout",
          "output_type": "stream",
          "text": [
            "Как поменялось отношение к уникальности в 2023 году?\n"
          ]
        },
        {
          "metadata": {
            "tags": null
          },
          "name": "stderr",
          "output_type": "stream",
          "text": [
            "Batches: 100%|██████████| 1/1 [00:00<00:00, 54.04it/s]\n",
            "Batches: 100%|██████████| 1/1 [00:00<00:00, 60.26it/s]\n"
          ]
        },
        {
          "metadata": {
            "tags": null
          },
          "name": "stdout",
          "output_type": "stream",
          "text": [
            "Какая метрика в Instagram станет важной для брендов в 2024 году? \n"
          ]
        },
        {
          "metadata": {
            "tags": null
          },
          "name": "stderr",
          "output_type": "stream",
          "text": [
            "Batches: 100%|██████████| 1/1 [00:00<00:00, 46.73it/s]\n",
            "Batches: 100%|██████████| 1/1 [00:00<00:00, 60.91it/s]\n"
          ]
        },
        {
          "metadata": {
            "tags": null
          },
          "name": "stdout",
          "output_type": "stream",
          "text": [
            "На сколько процентов выросло использование AI для редактирования фотографий в 2023 году?\n"
          ]
        },
        {
          "metadata": {
            "tags": null
          },
          "name": "stderr",
          "output_type": "stream",
          "text": [
            "Batches: 100%|██████████| 1/1 [00:00<00:00, 42.74it/s]\n",
            "Batches: 100%|██████████| 1/1 [00:00<00:00, 60.31it/s]\n"
          ]
        },
        {
          "metadata": {
            "tags": null
          },
          "name": "stdout",
          "output_type": "stream",
          "text": [
            "Сколько фунтов стерлингов было потрачено Великобританией на digital рекламу в 1 полугодии 2023?\n"
          ]
        },
        {
          "metadata": {
            "tags": null
          },
          "name": "stderr",
          "output_type": "stream",
          "text": [
            "Batches: 100%|██████████| 1/1 [00:00<00:00, 55.69it/s]\n",
            "Batches: 100%|██████████| 1/1 [00:00<00:00, 55.73it/s]\n"
          ]
        },
        {
          "metadata": {
            "tags": null
          },
          "name": "stdout",
          "output_type": "stream",
          "text": [
            "Какова главная причина подписки на аккаунт бренда?\n"
          ]
        },
        {
          "metadata": {
            "tags": null
          },
          "name": "stderr",
          "output_type": "stream",
          "text": [
            "Batches: 100%|██████████| 1/1 [00:00<00:00, 56.83it/s]\n",
            "Batches: 100%|██████████| 1/1 [00:00<00:00, 58.40it/s]\n"
          ]
        },
        {
          "metadata": {
            "tags": null
          },
          "name": "stdout",
          "output_type": "stream",
          "text": [
            "Как, по мнению маркетологов, AI влияет на их работу?\n"
          ]
        },
        {
          "metadata": {
            "tags": null
          },
          "name": "stderr",
          "output_type": "stream",
          "text": [
            "Batches: 100%|██████████| 1/1 [00:00<00:00, 56.39it/s]\n",
            "Batches: 100%|██████████| 1/1 [00:00<00:00, 58.76it/s]\n"
          ]
        },
        {
          "metadata": {
            "tags": null
          },
          "name": "stdout",
          "output_type": "stream",
          "text": [
            "Какой показатель в социальных сетях маркетологи чаще всего отслеживают?\n"
          ]
        },
        {
          "metadata": {
            "tags": null
          },
          "name": "stderr",
          "output_type": "stream",
          "text": [
            "Batches: 100%|██████████| 1/1 [00:00<00:00, 56.12it/s]\n",
            "Batches: 100%|██████████| 1/1 [00:00<00:00, 55.47it/s]\n"
          ]
        },
        {
          "metadata": {
            "tags": null
          },
          "name": "stdout",
          "output_type": "stream",
          "text": [
            "Является ли звук более аффинитивым, чем другие элементы бренда и контента?\n"
          ]
        },
        {
          "metadata": {
            "tags": null
          },
          "name": "stderr",
          "output_type": "stream",
          "text": [
            "Batches: 100%|██████████| 1/1 [00:00<00:00, 56.74it/s]\n",
            "Batches: 100%|██████████| 1/1 [00:00<00:00, 56.18it/s]\n"
          ]
        },
        {
          "metadata": {
            "tags": null
          },
          "name": "stdout",
          "output_type": "stream",
          "text": [
            "Сколько процентов опрошенных перешло на более экологичное поведение под влиянием инфлюенсеров? \n"
          ]
        },
        {
          "metadata": {
            "tags": null
          },
          "name": "stderr",
          "output_type": "stream",
          "text": [
            "Batches: 100%|██████████| 1/1 [00:00<00:00, 50.32it/s]\n",
            "Batches: 100%|██████████| 1/1 [00:00<00:00, 60.03it/s]\n"
          ]
        },
        {
          "metadata": {
            "tags": null
          },
          "name": "stdout",
          "output_type": "stream",
          "text": [
            "Как на показатели бренда влияет внедрение персонажей?\n"
          ]
        },
        {
          "metadata": {
            "tags": null
          },
          "name": "stderr",
          "output_type": "stream",
          "text": [
            "Batches: 100%|██████████| 1/1 [00:00<00:00, 56.53it/s]\n",
            "Batches: 100%|██████████| 1/1 [00:00<00:00, 60.63it/s]\n"
          ]
        },
        {
          "metadata": {
            "tags": null
          },
          "name": "stdout",
          "output_type": "stream",
          "text": [
            "Во сколько оценили рынок инфлюенсеров в 2023 году?\n"
          ]
        },
        {
          "metadata": {
            "tags": null
          },
          "name": "stderr",
          "output_type": "stream",
          "text": [
            "Batches: 100%|██████████| 1/1 [00:00<00:00, 56.37it/s]\n",
            "Batches: 100%|██████████| 1/1 [00:00<00:00, 56.48it/s]\n"
          ]
        },
        {
          "metadata": {
            "tags": null
          },
          "name": "stdout",
          "output_type": "stream",
          "text": [
            "Благодаря чему бренды могут добиться более высоких показателей ROI?\n"
          ]
        },
        {
          "metadata": {
            "tags": null
          },
          "name": "stderr",
          "output_type": "stream",
          "text": [
            "Batches: 100%|██████████| 1/1 [00:00<00:00, 55.13it/s]\n",
            "Batches: 100%|██████████| 1/1 [00:00<00:00, 58.44it/s]\n"
          ]
        },
        {
          "metadata": {
            "tags": null
          },
          "name": "stdout",
          "output_type": "stream",
          "text": [
            "Что означает термин \"инклюзиивность\"?\n"
          ]
        },
        {
          "metadata": {
            "tags": null
          },
          "name": "stderr",
          "output_type": "stream",
          "text": [
            "Batches: 100%|██████████| 1/1 [00:00<00:00, 55.88it/s]\n",
            "Batches: 100%|██████████| 1/1 [00:00<00:00, 56.23it/s]\n"
          ]
        },
        {
          "metadata": {
            "tags": null
          },
          "name": "stdout",
          "output_type": "stream",
          "text": [
            "Как влияет движение \"реалистичности\" на предпочитаемый контент?\n"
          ]
        },
        {
          "metadata": {
            "tags": null
          },
          "name": "stderr",
          "output_type": "stream",
          "text": [
            "Batches: 100%|██████████| 1/1 [00:00<00:00, 47.62it/s]\n",
            "Batches: 100%|██████████| 1/1 [00:00<00:00, 58.52it/s]\n"
          ]
        },
        {
          "metadata": {
            "tags": null
          },
          "name": "stdout",
          "output_type": "stream",
          "text": [
            "Маркетологи будут выступать в роли креативного мозга, а ИИ - в роли...\n",
            "Назовите KPI, указываюющие на успешность контента в соцсетях\n",
            "Самое большое изменение, произошедшее с маркетологами социальных сетей за последний год - это...\n",
            "Самый часто используемый смайлик в общении с покупателями в 2022 году\n",
            "В какой формат в 2023 году планировалось наибольшее количество инвестиций со стороны маркетологов в социальных сетях?\n"
          ]
        },
        {
          "metadata": {
            "tags": null
          },
          "name": "stderr",
          "output_type": "stream",
          "text": [
            "Batches: 100%|██████████| 1/1 [00:00<00:00, 51.65it/s]\n",
            "Batches: 100%|██████████| 1/1 [00:00<00:00, 58.14it/s]\n"
          ]
        },
        {
          "metadata": {
            "tags": null
          },
          "name": "stdout",
          "output_type": "stream",
          "text": [
            "Какой концепции будет придерживаться сообщество TikTok в 2024 году?\n"
          ]
        },
        {
          "metadata": {
            "tags": null
          },
          "name": "stderr",
          "output_type": "stream",
          "text": [
            "Batches: 100%|██████████| 1/1 [00:00<00:00, 51.88it/s]\n",
            "Batches: 100%|██████████| 1/1 [00:00<00:00, 58.98it/s]\n"
          ]
        },
        {
          "metadata": {
            "tags": null
          },
          "name": "stdout",
          "output_type": "stream",
          "text": [
            "Какие тематики контента доминируют в сообществе TikTok?\n"
          ]
        },
        {
          "metadata": {
            "tags": null
          },
          "name": "stderr",
          "output_type": "stream",
          "text": [
            "Batches: 100%|██████████| 1/1 [00:00<00:00, 56.86it/s]\n",
            "Batches: 100%|██████████| 1/1 [00:00<00:00, 57.87it/s]\n"
          ]
        },
        {
          "metadata": {
            "tags": null
          },
          "name": "stdout",
          "output_type": "stream",
          "text": [
            "На сколько процентов увеличивается доверие аудитории к бренду благодаря размещению рекламы в TikTok?\n"
          ]
        },
        {
          "metadata": {
            "tags": null
          },
          "name": "stderr",
          "output_type": "stream",
          "text": [
            "Batches: 100%|██████████| 1/1 [00:00<00:00, 55.78it/s]\n",
            "Batches: 100%|██████████| 1/1 [00:00<00:00, 56.32it/s]\n"
          ]
        },
        {
          "metadata": {
            "tags": null
          },
          "name": "stdout",
          "output_type": "stream",
          "text": [
            "Во что инвестировала VK в 2023 году?\n"
          ]
        },
        {
          "metadata": {
            "tags": null
          },
          "name": "stderr",
          "output_type": "stream",
          "text": [
            "Batches: 100%|██████████| 1/1 [00:00<00:00, 53.22it/s]\n",
            "Batches: 100%|██████████| 1/1 [00:00<00:00, 56.64it/s]\n"
          ]
        },
        {
          "metadata": {
            "tags": null
          },
          "name": "stdout",
          "output_type": "stream",
          "text": [
            "Назовите ключевые обновления и запуски VK Tech 2023 года \n",
            "Сколько составляет объем мирового рынка инфлюенс-маркетинга на 2024 год?\n"
          ]
        },
        {
          "metadata": {
            "tags": null
          },
          "name": "stderr",
          "output_type": "stream",
          "text": [
            "Batches: 100%|██████████| 1/1 [00:00<00:00, 56.96it/s]\n",
            "Batches: 100%|██████████| 1/1 [00:00<00:00, 57.13it/s]\n"
          ]
        },
        {
          "metadata": {
            "tags": null
          },
          "name": "stdout",
          "output_type": "stream",
          "text": [
            "Какая социальная сеть самая популярная для девелоперов?\n"
          ]
        },
        {
          "metadata": {
            "tags": null
          },
          "name": "stderr",
          "output_type": "stream",
          "text": [
            "Batches: 100%|██████████| 1/1 [00:00<00:00, 53.33it/s]\n",
            "Batches: 100%|██████████| 1/1 [00:00<00:00, 60.10it/s]\n"
          ]
        },
        {
          "metadata": {
            "tags": null
          },
          "name": "stdout",
          "output_type": "stream",
          "text": [
            "Почему большинство компаний в недвижимости используют видео как инструмент для маркетинга?\n"
          ]
        },
        {
          "metadata": {
            "tags": null
          },
          "name": "stderr",
          "output_type": "stream",
          "text": [
            "Batches: 100%|██████████| 1/1 [00:00<00:00, 54.66it/s]\n",
            "Batches: 100%|██████████| 1/1 [00:00<00:00, 58.32it/s]\n"
          ]
        },
        {
          "metadata": {
            "tags": null
          },
          "name": "stdout",
          "output_type": "stream",
          "text": [
            "Какова основная задача независимого рейтинга интернет-ресурсов?\n"
          ]
        },
        {
          "metadata": {
            "tags": null
          },
          "name": "stderr",
          "output_type": "stream",
          "text": [
            "Batches: 100%|██████████| 1/1 [00:00<00:00, 55.73it/s]\n",
            "Batches: 100%|██████████| 1/1 [00:00<00:00, 58.60it/s]\n"
          ]
        },
        {
          "metadata": {
            "tags": null
          },
          "name": "stdout",
          "output_type": "stream",
          "text": [
            "Лидеры по припоминанию и использованию среди профессиональных интернет-ресурсов - это...\n",
            "Самое популярное профессиональное мобильное приложение среди фармацевтов - это... \n",
            "Пользователи смотрят ролики в ВК клипах, чтобы...\n",
            "Сколько % пользователей публикуют истории ежедневно?\n"
          ]
        },
        {
          "metadata": {
            "tags": null
          },
          "name": "stderr",
          "output_type": "stream",
          "text": [
            "Batches: 100%|██████████| 1/1 [00:00<00:00, 52.78it/s]\n",
            "Batches: 100%|██████████| 1/1 [00:00<00:00, 47.41it/s]\n"
          ]
        },
        {
          "metadata": {
            "tags": null
          },
          "name": "stdout",
          "output_type": "stream",
          "text": [
            "Где чаще всего ищут интересный контент?\n"
          ]
        },
        {
          "metadata": {
            "tags": null
          },
          "name": "stderr",
          "output_type": "stream",
          "text": [
            "Batches: 100%|██████████| 1/1 [00:00<00:00, 57.40it/s]\n",
            "Batches: 100%|██████████| 1/1 [00:00<00:00, 58.86it/s]\n"
          ]
        },
        {
          "metadata": {
            "tags": null
          },
          "name": "stdout",
          "output_type": "stream",
          "text": [
            "Что такое CPJ?\n"
          ]
        },
        {
          "metadata": {
            "tags": null
          },
          "name": "stderr",
          "output_type": "stream",
          "text": [
            "Batches: 100%|██████████| 1/1 [00:00<00:00, 53.77it/s]\n",
            "Batches: 100%|██████████| 1/1 [00:00<00:00, 60.45it/s]\n"
          ]
        },
        {
          "metadata": {
            "tags": null
          },
          "name": "stdout",
          "output_type": "stream",
          "text": [
            "Какова средняя стоимость за тысячу показов по всем индустриям?\n"
          ]
        },
        {
          "metadata": {
            "tags": null
          },
          "name": "stderr",
          "output_type": "stream",
          "text": [
            "Batches: 100%|██████████| 1/1 [00:00<00:00, 55.70it/s]\n",
            "Batches: 100%|██████████| 1/1 [00:00<00:00, 59.44it/s]\n"
          ]
        },
        {
          "output_type": "stream",
          "name": "stdout",
          "text": [
            "Назовите значение CPJ в категории \"инвестиции\"\n",
            "Назовите общее количество пользователей онлай-платформ в России в 2023 году\n",
            "Сколько % населения России пользуются\n",
            "отечественными социальными сетями/онлайн-платформами?\n"
          ]
        },
        {
          "output_type": "stream",
          "name": "stderr",
          "text": [
            "Batches: 100%|██████████| 1/1 [00:00<00:00, 53.27it/s]\n",
            "Batches: 100%|██████████| 1/1 [00:00<00:00, 54.19it/s]\n"
          ]
        },
        {
          "output_type": "stream",
          "name": "stdout",
          "text": [
            "Назовите наиболее эффективную в плане рекламы отечественную онлайн-платформу\n",
            "Назовите российские аналоги сайта Wikipedia\n",
            "Какая соцсеть набрала наивысший балл в Рейтинге потенциала онлайн-платформ на российском рынке?\n"
          ]
        },
        {
          "output_type": "stream",
          "name": "stderr",
          "text": [
            "Batches: 100%|██████████| 1/1 [00:00<00:00, 53.79it/s]\n",
            "Batches: 100%|██████████| 1/1 [00:00<00:00, 56.12it/s]\n"
          ]
        },
        {
          "output_type": "stream",
          "name": "stdout",
          "text": [
            "Охарактеризуйте основных пользователей социальных сетей в России\n",
            "Назовите наиболее востребованное медиа среди россиян\n",
            "Сколько % горожан 16-55 лет имеют подписку на Кинопоиск?\n"
          ]
        },
        {
          "output_type": "stream",
          "name": "stderr",
          "text": [
            "Batches: 100%|██████████| 1/1 [00:00<00:00, 55.52it/s]\n",
            "Batches: 100%|██████████| 1/1 [00:00<00:00, 58.47it/s]\n"
          ]
        },
        {
          "output_type": "stream",
          "name": "stdout",
          "text": [
            "Самый популярный вид видеоконтента у зрителей онлайн-кинотеатров - это...\n",
            "Какие ключевые регионы? \n"
          ]
        },
        {
          "output_type": "stream",
          "name": "stderr",
          "text": [
            "Batches: 100%|██████████| 1/1 [00:00<00:00, 48.74it/s]\n",
            "Batches: 100%|██████████| 1/1 [00:00<00:00, 49.98it/s]\n"
          ]
        },
        {
          "output_type": "stream",
          "name": "stdout",
          "text": [
            "Сколько человек потребляют аудио онлайн в месяц? \n"
          ]
        },
        {
          "output_type": "stream",
          "name": "stderr",
          "text": [
            "Batches: 100%|██████████| 1/1 [00:00<00:00, 56.94it/s]\n",
            "Batches: 100%|██████████| 1/1 [00:00<00:00, 55.11it/s]\n"
          ]
        },
        {
          "output_type": "stream",
          "name": "stdout",
          "text": [
            "Сколько процентов людей слушают подкасты раз в месяц? \n"
          ]
        },
        {
          "output_type": "stream",
          "name": "stderr",
          "text": [
            "Batches: 100%|██████████| 1/1 [00:00<00:00, 54.38it/s]\n",
            "Batches: 100%|██████████| 1/1 [00:00<00:00, 58.65it/s]\n"
          ]
        },
        {
          "output_type": "stream",
          "name": "stdout",
          "text": [
            "Какой мультфильм входит в топ развлекательных каналов по среднемесячному охвату?\n"
          ]
        },
        {
          "output_type": "stream",
          "name": "stderr",
          "text": [
            "Batches: 100%|██████████| 1/1 [00:00<00:00, 54.73it/s]\n",
            "Batches: 100%|██████████| 1/1 [00:00<00:00, 52.57it/s]\n"
          ]
        },
        {
          "output_type": "stream",
          "name": "stdout",
          "text": [
            "Сколько человек ежемесячно использует интернет?\n"
          ]
        },
        {
          "output_type": "stream",
          "name": "stderr",
          "text": [
            "Batches: 100%|██████████| 1/1 [00:00<00:00, 55.23it/s]\n",
            "Batches: 100%|██████████| 1/1 [00:00<00:00, 55.63it/s]\n"
          ]
        },
        {
          "output_type": "stream",
          "name": "stdout",
          "text": [
            "Какое соцмедиа является самым популярным в возрастной категории 35-44?\n"
          ]
        },
        {
          "output_type": "stream",
          "name": "stderr",
          "text": [
            "Batches: 100%|██████████| 1/1 [00:00<00:00, 57.19it/s]\n",
            "Batches: 100%|██████████| 1/1 [00:00<00:00, 56.54it/s]\n"
          ]
        },
        {
          "output_type": "stream",
          "name": "stdout",
          "text": [
            "Какое место занимает Telegram в топе наиболее посещаемых площадок?\n"
          ]
        },
        {
          "output_type": "stream",
          "name": "stderr",
          "text": [
            "Batches: 100%|██████████| 1/1 [00:00<00:00, 55.19it/s]\n",
            "Batches: 100%|██████████| 1/1 [00:00<00:00, 58.38it/s]\n"
          ]
        },
        {
          "output_type": "stream",
          "name": "stdout",
          "text": [
            "Сколько процентов составляет эксклюзивная суточная аудитория Telegram?\n"
          ]
        },
        {
          "output_type": "stream",
          "name": "stderr",
          "text": [
            "Batches: 100%|██████████| 1/1 [00:00<00:00, 52.20it/s]\n",
            "Batches: 100%|██████████| 1/1 [00:00<00:00, 53.83it/s]\n"
          ]
        },
        {
          "output_type": "stream",
          "name": "stdout",
          "text": [
            "Какой жанр составляет 67% от всех топовых каналов в Telegram?\n"
          ]
        },
        {
          "output_type": "stream",
          "name": "stderr",
          "text": [
            "Batches: 100%|██████████| 1/1 [00:00<00:00, 54.70it/s]\n",
            "Batches: 100%|██████████| 1/1 [00:00<00:00, 52.86it/s]\n"
          ]
        },
        {
          "output_type": "stream",
          "name": "stdout",
          "text": [
            "Сколько стран приступили к разработке CBDCs к концу 2023 года?\n"
          ]
        },
        {
          "output_type": "stream",
          "name": "stderr",
          "text": [
            "Batches: 100%|██████████| 1/1 [00:00<00:00, 56.18it/s]\n",
            "Batches: 100%|██████████| 1/1 [00:00<00:00, 55.94it/s]\n"
          ]
        },
        {
          "output_type": "stream",
          "name": "stdout",
          "text": [
            "Какой крупный тренд характерен сфере технологий 2024-2025 года?\n"
          ]
        },
        {
          "output_type": "stream",
          "name": "stderr",
          "text": [
            "Batches: 100%|██████████| 1/1 [00:00<00:00, 56.38it/s]\n",
            "Batches: 100%|██████████| 1/1 [00:00<00:00, 56.97it/s]\n"
          ]
        },
        {
          "output_type": "stream",
          "name": "stdout",
          "text": [
            "Какой стоимости потенциально может достичь метовселенная к 2030 году?\n"
          ]
        },
        {
          "output_type": "stream",
          "name": "stderr",
          "text": [
            "Batches: 100%|██████████| 1/1 [00:00<00:00, 55.20it/s]\n",
            "Batches: 100%|██████████| 1/1 [00:00<00:00, 54.60it/s]\n"
          ]
        },
        {
          "output_type": "stream",
          "name": "stdout",
          "text": [
            "Сколько процентов представителей поколения Z считают, что стиль аватара более важен, чем их собственный?\n"
          ]
        },
        {
          "output_type": "stream",
          "name": "stderr",
          "text": [
            "Batches: 100%|██████████| 1/1 [00:00<00:00, 55.89it/s]\n",
            "Batches: 100%|██████████| 1/1 [00:00<00:00, 60.71it/s]\n"
          ]
        },
        {
          "output_type": "stream",
          "name": "stdout",
          "text": [
            "Какие основные тренды генеративного ИИ?\n"
          ]
        },
        {
          "output_type": "stream",
          "name": "stderr",
          "text": [
            "Batches: 100%|██████████| 1/1 [00:00<00:00, 53.34it/s]\n",
            "Batches: 100%|██████████| 1/1 [00:00<00:00, 58.95it/s]\n"
          ]
        },
        {
          "output_type": "stream",
          "name": "stdout",
          "text": [
            "Когда за последние 20 лет наблюдался рост рынка digital-рекламы?\n"
          ]
        },
        {
          "output_type": "stream",
          "name": "stderr",
          "text": [
            "Batches: 100%|██████████| 1/1 [00:00<00:00, 57.06it/s]\n",
            "Batches: 100%|██████████| 1/1 [00:00<00:00, 56.47it/s]\n"
          ]
        },
        {
          "output_type": "stream",
          "name": "stdout",
          "text": [
            "Какая самая популярная платформа для видео новостей в Филиппинах?\n"
          ]
        },
        {
          "output_type": "stream",
          "name": "stderr",
          "text": [
            "Batches: 100%|██████████| 1/1 [00:00<00:00, 56.16it/s]\n",
            "Batches: 100%|██████████| 1/1 [00:00<00:00, 57.78it/s]\n"
          ]
        },
        {
          "output_type": "stream",
          "name": "stdout",
          "text": [
            "Какие основные причины того, что контент на видеоплатформах привлекает аудиторию?\n"
          ]
        },
        {
          "output_type": "stream",
          "name": "stderr",
          "text": [
            "Batches: 100%|██████████| 1/1 [00:00<00:00, 57.48it/s]\n",
            "Batches: 100%|██████████| 1/1 [00:00<00:00, 57.34it/s]\n"
          ]
        },
        {
          "output_type": "stream",
          "name": "stdout",
          "text": [
            "Сколько в процентах составляет доля людей по всему миру, обеспокоенных фейковыми новостями в интернете?\n"
          ]
        },
        {
          "output_type": "stream",
          "name": "stderr",
          "text": [
            "Batches: 100%|██████████| 1/1 [00:00<00:00, 57.38it/s]\n",
            "Batches: 100%|██████████| 1/1 [00:00<00:00, 57.25it/s]\n"
          ]
        },
        {
          "output_type": "stream",
          "name": "stdout",
          "text": [
            "Сколько процентов пользователей интернета в возрасте 16 до 24 лет используют социальные сети для изучения бренда?\n"
          ]
        },
        {
          "output_type": "stream",
          "name": "stderr",
          "text": [
            "Batches: 100%|██████████| 1/1 [00:00<00:00, 36.49it/s]\n",
            "Batches: 100%|██████████| 1/1 [00:00<00:00, 37.92it/s]\n"
          ]
        },
        {
          "output_type": "stream",
          "name": "stdout",
          "text": [
            "В каких аспектах рассматривается 3 эпоха интернета?\n"
          ]
        },
        {
          "output_type": "stream",
          "name": "stderr",
          "text": [
            "Batches: 100%|██████████| 1/1 [00:00<00:00, 53.90it/s]\n",
            "Batches: 100%|██████████| 1/1 [00:00<00:00, 58.59it/s]\n"
          ]
        },
        {
          "output_type": "stream",
          "name": "stdout",
          "text": [
            "Какие сервисы наиболее популярны в Великобритании в области соцсетей, поиска и торговли,?\n"
          ]
        },
        {
          "output_type": "stream",
          "name": "stderr",
          "text": [
            "Batches: 100%|██████████| 1/1 [00:00<00:00, 57.33it/s]\n",
            "Batches: 100%|██████████| 1/1 [00:00<00:00, 57.15it/s]\n"
          ]
        },
        {
          "output_type": "stream",
          "name": "stdout",
          "text": [
            "Файл успешно сохранен как submission.csv\n"
          ]
        }
      ]
    },
    {
      "cell_type": "code",
      "source": [
        "test_subm_csv = pd.read_csv(\"submission.csv\")\n",
        "test_subm_csv"
      ],
      "metadata": {
        "collapsed": true,
        "id": "UCLxEC3nqc3y",
        "colab": {
          "base_uri": "https://localhost:8080/",
          "height": 580
        },
        "outputId": "1b93393e-b016-4f34-e393-90bd7dbdeefa"
      },
      "execution_count": 64,
      "outputs": [
        {
          "output_type": "execute_result",
          "data": {
            "text/plain": [
              "                                              question  \\\n",
              "0                  Чем занимается платформа MEDIADESK?   \n",
              "1    Чем отличаются возможности слабого (NARROW AI)...   \n",
              "2    Сколько процентов рутинных процессов отдаются ...   \n",
              "3    Как усложняться механики кампаний при использо...   \n",
              "4    На кого чаще всего подписаны пользователи соци...   \n",
              "..                                                 ...   \n",
              "183  Какие основные причины того, что контент на ви...   \n",
              "184  Сколько в процентах составляет доля людей по в...   \n",
              "185  Сколько процентов пользователей интернета в во...   \n",
              "186  В каких аспектах рассматривается 3 эпоха интер...   \n",
              "187  Какие сервисы наиболее популярны в Великобрита...   \n",
              "\n",
              "                                                answer  filename  slide_number  \n",
              "0                       Я не знаю ответа на ваш вопрос       NaN           NaN  \n",
              "1    Вот как отличаются возможности различных типов...       0.0           4.0  \n",
              "2    80% рутинных процессов отдаются искусственному...       0.0          13.0  \n",
              "3                       Я не знаю ответа на ваш вопрос       NaN           NaN  \n",
              "4    Пользователи социальных сетей чаще всего подпи...      29.0           9.0  \n",
              "..                                                 ...       ...           ...  \n",
              "183  Основные причины, по которым контент на видеоп...      25.0         267.0  \n",
              "184  По данным Reuters Institute for the Study of J...      59.0          17.0  \n",
              "185  Исследования показывают, что около 60% пользов...       4.0          16.0  \n",
              "186                     Я не знаю ответа на ваш вопрос       NaN           NaN  \n",
              "187  В Великобритании наиболее популярные сервисы в...      57.0          27.0  \n",
              "\n",
              "[188 rows x 4 columns]"
            ],
            "text/html": [
              "\n",
              "  <div id=\"df-7b3a332c-acac-4e96-b1d6-21563d6ddc97\" class=\"colab-df-container\">\n",
              "    <div>\n",
              "<style scoped>\n",
              "    .dataframe tbody tr th:only-of-type {\n",
              "        vertical-align: middle;\n",
              "    }\n",
              "\n",
              "    .dataframe tbody tr th {\n",
              "        vertical-align: top;\n",
              "    }\n",
              "\n",
              "    .dataframe thead th {\n",
              "        text-align: right;\n",
              "    }\n",
              "</style>\n",
              "<table border=\"1\" class=\"dataframe\">\n",
              "  <thead>\n",
              "    <tr style=\"text-align: right;\">\n",
              "      <th></th>\n",
              "      <th>question</th>\n",
              "      <th>answer</th>\n",
              "      <th>filename</th>\n",
              "      <th>slide_number</th>\n",
              "    </tr>\n",
              "  </thead>\n",
              "  <tbody>\n",
              "    <tr>\n",
              "      <th>0</th>\n",
              "      <td>Чем занимается платформа MEDIADESK?</td>\n",
              "      <td>Я не знаю ответа на ваш вопрос</td>\n",
              "      <td>NaN</td>\n",
              "      <td>NaN</td>\n",
              "    </tr>\n",
              "    <tr>\n",
              "      <th>1</th>\n",
              "      <td>Чем отличаются возможности слабого (NARROW AI)...</td>\n",
              "      <td>Вот как отличаются возможности различных типов...</td>\n",
              "      <td>0.0</td>\n",
              "      <td>4.0</td>\n",
              "    </tr>\n",
              "    <tr>\n",
              "      <th>2</th>\n",
              "      <td>Сколько процентов рутинных процессов отдаются ...</td>\n",
              "      <td>80% рутинных процессов отдаются искусственному...</td>\n",
              "      <td>0.0</td>\n",
              "      <td>13.0</td>\n",
              "    </tr>\n",
              "    <tr>\n",
              "      <th>3</th>\n",
              "      <td>Как усложняться механики кампаний при использо...</td>\n",
              "      <td>Я не знаю ответа на ваш вопрос</td>\n",
              "      <td>NaN</td>\n",
              "      <td>NaN</td>\n",
              "    </tr>\n",
              "    <tr>\n",
              "      <th>4</th>\n",
              "      <td>На кого чаще всего подписаны пользователи соци...</td>\n",
              "      <td>Пользователи социальных сетей чаще всего подпи...</td>\n",
              "      <td>29.0</td>\n",
              "      <td>9.0</td>\n",
              "    </tr>\n",
              "    <tr>\n",
              "      <th>...</th>\n",
              "      <td>...</td>\n",
              "      <td>...</td>\n",
              "      <td>...</td>\n",
              "      <td>...</td>\n",
              "    </tr>\n",
              "    <tr>\n",
              "      <th>183</th>\n",
              "      <td>Какие основные причины того, что контент на ви...</td>\n",
              "      <td>Основные причины, по которым контент на видеоп...</td>\n",
              "      <td>25.0</td>\n",
              "      <td>267.0</td>\n",
              "    </tr>\n",
              "    <tr>\n",
              "      <th>184</th>\n",
              "      <td>Сколько в процентах составляет доля людей по в...</td>\n",
              "      <td>По данным Reuters Institute for the Study of J...</td>\n",
              "      <td>59.0</td>\n",
              "      <td>17.0</td>\n",
              "    </tr>\n",
              "    <tr>\n",
              "      <th>185</th>\n",
              "      <td>Сколько процентов пользователей интернета в во...</td>\n",
              "      <td>Исследования показывают, что около 60% пользов...</td>\n",
              "      <td>4.0</td>\n",
              "      <td>16.0</td>\n",
              "    </tr>\n",
              "    <tr>\n",
              "      <th>186</th>\n",
              "      <td>В каких аспектах рассматривается 3 эпоха интер...</td>\n",
              "      <td>Я не знаю ответа на ваш вопрос</td>\n",
              "      <td>NaN</td>\n",
              "      <td>NaN</td>\n",
              "    </tr>\n",
              "    <tr>\n",
              "      <th>187</th>\n",
              "      <td>Какие сервисы наиболее популярны в Великобрита...</td>\n",
              "      <td>В Великобритании наиболее популярные сервисы в...</td>\n",
              "      <td>57.0</td>\n",
              "      <td>27.0</td>\n",
              "    </tr>\n",
              "  </tbody>\n",
              "</table>\n",
              "<p>188 rows × 4 columns</p>\n",
              "</div>\n",
              "    <div class=\"colab-df-buttons\">\n",
              "\n",
              "  <div class=\"colab-df-container\">\n",
              "    <button class=\"colab-df-convert\" onclick=\"convertToInteractive('df-7b3a332c-acac-4e96-b1d6-21563d6ddc97')\"\n",
              "            title=\"Convert this dataframe to an interactive table.\"\n",
              "            style=\"display:none;\">\n",
              "\n",
              "  <svg xmlns=\"http://www.w3.org/2000/svg\" height=\"24px\" viewBox=\"0 -960 960 960\">\n",
              "    <path d=\"M120-120v-720h720v720H120Zm60-500h600v-160H180v160Zm220 220h160v-160H400v160Zm0 220h160v-160H400v160ZM180-400h160v-160H180v160Zm440 0h160v-160H620v160ZM180-180h160v-160H180v160Zm440 0h160v-160H620v160Z\"/>\n",
              "  </svg>\n",
              "    </button>\n",
              "\n",
              "  <style>\n",
              "    .colab-df-container {\n",
              "      display:flex;\n",
              "      gap: 12px;\n",
              "    }\n",
              "\n",
              "    .colab-df-convert {\n",
              "      background-color: #E8F0FE;\n",
              "      border: none;\n",
              "      border-radius: 50%;\n",
              "      cursor: pointer;\n",
              "      display: none;\n",
              "      fill: #1967D2;\n",
              "      height: 32px;\n",
              "      padding: 0 0 0 0;\n",
              "      width: 32px;\n",
              "    }\n",
              "\n",
              "    .colab-df-convert:hover {\n",
              "      background-color: #E2EBFA;\n",
              "      box-shadow: 0px 1px 2px rgba(60, 64, 67, 0.3), 0px 1px 3px 1px rgba(60, 64, 67, 0.15);\n",
              "      fill: #174EA6;\n",
              "    }\n",
              "\n",
              "    .colab-df-buttons div {\n",
              "      margin-bottom: 4px;\n",
              "    }\n",
              "\n",
              "    [theme=dark] .colab-df-convert {\n",
              "      background-color: #3B4455;\n",
              "      fill: #D2E3FC;\n",
              "    }\n",
              "\n",
              "    [theme=dark] .colab-df-convert:hover {\n",
              "      background-color: #434B5C;\n",
              "      box-shadow: 0px 1px 3px 1px rgba(0, 0, 0, 0.15);\n",
              "      filter: drop-shadow(0px 1px 2px rgba(0, 0, 0, 0.3));\n",
              "      fill: #FFFFFF;\n",
              "    }\n",
              "  </style>\n",
              "\n",
              "    <script>\n",
              "      const buttonEl =\n",
              "        document.querySelector('#df-7b3a332c-acac-4e96-b1d6-21563d6ddc97 button.colab-df-convert');\n",
              "      buttonEl.style.display =\n",
              "        google.colab.kernel.accessAllowed ? 'block' : 'none';\n",
              "\n",
              "      async function convertToInteractive(key) {\n",
              "        const element = document.querySelector('#df-7b3a332c-acac-4e96-b1d6-21563d6ddc97');\n",
              "        const dataTable =\n",
              "          await google.colab.kernel.invokeFunction('convertToInteractive',\n",
              "                                                    [key], {});\n",
              "        if (!dataTable) return;\n",
              "\n",
              "        const docLinkHtml = 'Like what you see? Visit the ' +\n",
              "          '<a target=\"_blank\" href=https://colab.research.google.com/notebooks/data_table.ipynb>data table notebook</a>'\n",
              "          + ' to learn more about interactive tables.';\n",
              "        element.innerHTML = '';\n",
              "        dataTable['output_type'] = 'display_data';\n",
              "        await google.colab.output.renderOutput(dataTable, element);\n",
              "        const docLink = document.createElement('div');\n",
              "        docLink.innerHTML = docLinkHtml;\n",
              "        element.appendChild(docLink);\n",
              "      }\n",
              "    </script>\n",
              "  </div>\n",
              "\n",
              "\n",
              "<div id=\"df-e33cd67f-c983-475a-8b01-8a243a78da2c\">\n",
              "  <button class=\"colab-df-quickchart\" onclick=\"quickchart('df-e33cd67f-c983-475a-8b01-8a243a78da2c')\"\n",
              "            title=\"Suggest charts\"\n",
              "            style=\"display:none;\">\n",
              "\n",
              "<svg xmlns=\"http://www.w3.org/2000/svg\" height=\"24px\"viewBox=\"0 0 24 24\"\n",
              "     width=\"24px\">\n",
              "    <g>\n",
              "        <path d=\"M19 3H5c-1.1 0-2 .9-2 2v14c0 1.1.9 2 2 2h14c1.1 0 2-.9 2-2V5c0-1.1-.9-2-2-2zM9 17H7v-7h2v7zm4 0h-2V7h2v10zm4 0h-2v-4h2v4z\"/>\n",
              "    </g>\n",
              "</svg>\n",
              "  </button>\n",
              "\n",
              "<style>\n",
              "  .colab-df-quickchart {\n",
              "      --bg-color: #E8F0FE;\n",
              "      --fill-color: #1967D2;\n",
              "      --hover-bg-color: #E2EBFA;\n",
              "      --hover-fill-color: #174EA6;\n",
              "      --disabled-fill-color: #AAA;\n",
              "      --disabled-bg-color: #DDD;\n",
              "  }\n",
              "\n",
              "  [theme=dark] .colab-df-quickchart {\n",
              "      --bg-color: #3B4455;\n",
              "      --fill-color: #D2E3FC;\n",
              "      --hover-bg-color: #434B5C;\n",
              "      --hover-fill-color: #FFFFFF;\n",
              "      --disabled-bg-color: #3B4455;\n",
              "      --disabled-fill-color: #666;\n",
              "  }\n",
              "\n",
              "  .colab-df-quickchart {\n",
              "    background-color: var(--bg-color);\n",
              "    border: none;\n",
              "    border-radius: 50%;\n",
              "    cursor: pointer;\n",
              "    display: none;\n",
              "    fill: var(--fill-color);\n",
              "    height: 32px;\n",
              "    padding: 0;\n",
              "    width: 32px;\n",
              "  }\n",
              "\n",
              "  .colab-df-quickchart:hover {\n",
              "    background-color: var(--hover-bg-color);\n",
              "    box-shadow: 0 1px 2px rgba(60, 64, 67, 0.3), 0 1px 3px 1px rgba(60, 64, 67, 0.15);\n",
              "    fill: var(--button-hover-fill-color);\n",
              "  }\n",
              "\n",
              "  .colab-df-quickchart-complete:disabled,\n",
              "  .colab-df-quickchart-complete:disabled:hover {\n",
              "    background-color: var(--disabled-bg-color);\n",
              "    fill: var(--disabled-fill-color);\n",
              "    box-shadow: none;\n",
              "  }\n",
              "\n",
              "  .colab-df-spinner {\n",
              "    border: 2px solid var(--fill-color);\n",
              "    border-color: transparent;\n",
              "    border-bottom-color: var(--fill-color);\n",
              "    animation:\n",
              "      spin 1s steps(1) infinite;\n",
              "  }\n",
              "\n",
              "  @keyframes spin {\n",
              "    0% {\n",
              "      border-color: transparent;\n",
              "      border-bottom-color: var(--fill-color);\n",
              "      border-left-color: var(--fill-color);\n",
              "    }\n",
              "    20% {\n",
              "      border-color: transparent;\n",
              "      border-left-color: var(--fill-color);\n",
              "      border-top-color: var(--fill-color);\n",
              "    }\n",
              "    30% {\n",
              "      border-color: transparent;\n",
              "      border-left-color: var(--fill-color);\n",
              "      border-top-color: var(--fill-color);\n",
              "      border-right-color: var(--fill-color);\n",
              "    }\n",
              "    40% {\n",
              "      border-color: transparent;\n",
              "      border-right-color: var(--fill-color);\n",
              "      border-top-color: var(--fill-color);\n",
              "    }\n",
              "    60% {\n",
              "      border-color: transparent;\n",
              "      border-right-color: var(--fill-color);\n",
              "    }\n",
              "    80% {\n",
              "      border-color: transparent;\n",
              "      border-right-color: var(--fill-color);\n",
              "      border-bottom-color: var(--fill-color);\n",
              "    }\n",
              "    90% {\n",
              "      border-color: transparent;\n",
              "      border-bottom-color: var(--fill-color);\n",
              "    }\n",
              "  }\n",
              "</style>\n",
              "\n",
              "  <script>\n",
              "    async function quickchart(key) {\n",
              "      const quickchartButtonEl =\n",
              "        document.querySelector('#' + key + ' button');\n",
              "      quickchartButtonEl.disabled = true;  // To prevent multiple clicks.\n",
              "      quickchartButtonEl.classList.add('colab-df-spinner');\n",
              "      try {\n",
              "        const charts = await google.colab.kernel.invokeFunction(\n",
              "            'suggestCharts', [key], {});\n",
              "      } catch (error) {\n",
              "        console.error('Error during call to suggestCharts:', error);\n",
              "      }\n",
              "      quickchartButtonEl.classList.remove('colab-df-spinner');\n",
              "      quickchartButtonEl.classList.add('colab-df-quickchart-complete');\n",
              "    }\n",
              "    (() => {\n",
              "      let quickchartButtonEl =\n",
              "        document.querySelector('#df-e33cd67f-c983-475a-8b01-8a243a78da2c button');\n",
              "      quickchartButtonEl.style.display =\n",
              "        google.colab.kernel.accessAllowed ? 'block' : 'none';\n",
              "    })();\n",
              "  </script>\n",
              "</div>\n",
              "\n",
              "  <div id=\"id_cc749e08-c7b5-42fc-8f82-6313654cdf33\">\n",
              "    <style>\n",
              "      .colab-df-generate {\n",
              "        background-color: #E8F0FE;\n",
              "        border: none;\n",
              "        border-radius: 50%;\n",
              "        cursor: pointer;\n",
              "        display: none;\n",
              "        fill: #1967D2;\n",
              "        height: 32px;\n",
              "        padding: 0 0 0 0;\n",
              "        width: 32px;\n",
              "      }\n",
              "\n",
              "      .colab-df-generate:hover {\n",
              "        background-color: #E2EBFA;\n",
              "        box-shadow: 0px 1px 2px rgba(60, 64, 67, 0.3), 0px 1px 3px 1px rgba(60, 64, 67, 0.15);\n",
              "        fill: #174EA6;\n",
              "      }\n",
              "\n",
              "      [theme=dark] .colab-df-generate {\n",
              "        background-color: #3B4455;\n",
              "        fill: #D2E3FC;\n",
              "      }\n",
              "\n",
              "      [theme=dark] .colab-df-generate:hover {\n",
              "        background-color: #434B5C;\n",
              "        box-shadow: 0px 1px 3px 1px rgba(0, 0, 0, 0.15);\n",
              "        filter: drop-shadow(0px 1px 2px rgba(0, 0, 0, 0.3));\n",
              "        fill: #FFFFFF;\n",
              "      }\n",
              "    </style>\n",
              "    <button class=\"colab-df-generate\" onclick=\"generateWithVariable('test_subm_csv')\"\n",
              "            title=\"Generate code using this dataframe.\"\n",
              "            style=\"display:none;\">\n",
              "\n",
              "  <svg xmlns=\"http://www.w3.org/2000/svg\" height=\"24px\"viewBox=\"0 0 24 24\"\n",
              "       width=\"24px\">\n",
              "    <path d=\"M7,19H8.4L18.45,9,17,7.55,7,17.6ZM5,21V16.75L18.45,3.32a2,2,0,0,1,2.83,0l1.4,1.43a1.91,1.91,0,0,1,.58,1.4,1.91,1.91,0,0,1-.58,1.4L9.25,21ZM18.45,9,17,7.55Zm-12,3A5.31,5.31,0,0,0,4.9,8.1,5.31,5.31,0,0,0,1,6.5,5.31,5.31,0,0,0,4.9,4.9,5.31,5.31,0,0,0,6.5,1,5.31,5.31,0,0,0,8.1,4.9,5.31,5.31,0,0,0,12,6.5,5.46,5.46,0,0,0,6.5,12Z\"/>\n",
              "  </svg>\n",
              "    </button>\n",
              "    <script>\n",
              "      (() => {\n",
              "      const buttonEl =\n",
              "        document.querySelector('#id_cc749e08-c7b5-42fc-8f82-6313654cdf33 button.colab-df-generate');\n",
              "      buttonEl.style.display =\n",
              "        google.colab.kernel.accessAllowed ? 'block' : 'none';\n",
              "\n",
              "      buttonEl.onclick = () => {\n",
              "        google.colab.notebook.generateWithVariable('test_subm_csv');\n",
              "      }\n",
              "      })();\n",
              "    </script>\n",
              "  </div>\n",
              "\n",
              "    </div>\n",
              "  </div>\n"
            ],
            "application/vnd.google.colaboratory.intrinsic+json": {
              "type": "dataframe",
              "variable_name": "test_subm_csv",
              "summary": "{\n  \"name\": \"test_subm_csv\",\n  \"rows\": 188,\n  \"fields\": [\n    {\n      \"column\": \"question\",\n      \"properties\": {\n        \"dtype\": \"string\",\n        \"num_unique_values\": 188,\n        \"samples\": [\n          \"\\u041a\\u0430\\u043a\\u0438\\u0435 \\u043e\\u0441\\u043d\\u043e\\u0432\\u043d\\u044b\\u0435 \\u043f\\u0440\\u0438\\u0447\\u0438\\u043d\\u044b \\u0442\\u043e\\u0433\\u043e, \\u0447\\u0442\\u043e \\u043a\\u043e\\u043d\\u0442\\u0435\\u043d\\u0442 \\u043d\\u0430 \\u0432\\u0438\\u0434\\u0435\\u043e\\u043f\\u043b\\u0430\\u0442\\u0444\\u043e\\u0440\\u043c\\u0430\\u0445 \\u043f\\u0440\\u0438\\u0432\\u043b\\u0435\\u043a\\u0430\\u0435\\u0442 \\u0430\\u0443\\u0434\\u0438\\u0442\\u043e\\u0440\\u0438\\u044e?\",\n          \"\\u041a\\u0430\\u043a\\u0430\\u044f \\u0441\\u043e\\u0446\\u0441\\u0435\\u0442\\u044c \\u043d\\u0430\\u0431\\u0440\\u0430\\u043b\\u0430 \\u043d\\u0430\\u0438\\u0432\\u044b\\u0441\\u0448\\u0438\\u0439 \\u0431\\u0430\\u043b\\u043b \\u0432 \\u0420\\u0435\\u0439\\u0442\\u0438\\u043d\\u0433\\u0435 \\u043f\\u043e\\u0442\\u0435\\u043d\\u0446\\u0438\\u0430\\u043b\\u0430 \\u043e\\u043d\\u043b\\u0430\\u0439\\u043d-\\u043f\\u043b\\u0430\\u0442\\u0444\\u043e\\u0440\\u043c \\u043d\\u0430 \\u0440\\u043e\\u0441\\u0441\\u0438\\u0439\\u0441\\u043a\\u043e\\u043c \\u0440\\u044b\\u043d\\u043a\\u0435?\",\n          \"\\u0427\\u0435\\u043c \\u0435\\u0449\\u0435 \\u043c\\u043e\\u0436\\u0435\\u0442 \\u043f\\u043e\\u043c\\u043e\\u0447\\u044c click.ru?\"\n        ],\n        \"semantic_type\": \"\",\n        \"description\": \"\"\n      }\n    },\n    {\n      \"column\": \"answer\",\n      \"properties\": {\n        \"dtype\": \"string\",\n        \"num_unique_values\": 127,\n        \"samples\": [\n          \"59% \\u043f\\u043e\\u043b\\u044c\\u0437\\u043e\\u0432\\u0430\\u0442\\u0435\\u043b\\u0435\\u0439 \\u043e\\u0442\\u043c\\u0435\\u043d\\u044f\\u0435\\u0442 \\u043f\\u043e\\u0434\\u043f\\u0438\\u0441\\u043a\\u0438 \\u043d\\u0430 \\u0441\\u0435\\u0440\\u0432\\u0438\\u0441\\u044b \\u0438 \\u043f\\u043e\\u0434\\u043f\\u0438\\u0441\\u044b\\u0432\\u0430\\u0435\\u0442\\u0441\\u044f \\u043d\\u0430 \\u043d\\u0438\\u0445 \\u0432\\u043d\\u043e\\u0432\\u044c, \\u043e\\u0441\\u043d\\u043e\\u0432\\u044b\\u0432\\u0430\\u044f\\u0441\\u044c \\u043d\\u0430 \\u043d\\u0430\\u043b\\u0438\\u0447\\u043d\\u043e\\u0441\\u0442\\u0438 \\u0436\\u0435\\u043b\\u0430\\u0435\\u043c\\u043e\\u0433\\u043e \\u043a\\u043e\\u043d\\u0442\\u0435\\u043d\\u0442\\u0430.\",\n          \"\\u0421\\u043e\\u0433\\u043b\\u0430\\u0441\\u043d\\u043e \\u043f\\u0440\\u0435\\u0434\\u043e\\u0441\\u0442\\u0430\\u0432\\u043b\\u0435\\u043d\\u043d\\u043e\\u0439 \\u0438\\u043d\\u0444\\u043e\\u0440\\u043c\\u0430\\u0446\\u0438\\u0438, 41% \\u043b\\u044e\\u0434\\u0435\\u0439 \\u0441\\u043b\\u0443\\u0448\\u0430\\u044e\\u0442 \\u043f\\u043e\\u0434\\u043a\\u0430\\u0441\\u0442\\u044b \\u043d\\u0435\\u0441\\u043a\\u043e\\u043b\\u044c\\u043a\\u043e \\u0440\\u0430\\u0437 \\u0432 \\u043c\\u0435\\u0441\\u044f\\u0446.\",\n          \"\\u0414\\u043e\\u043a\\u0443\\u043c\\u0435\\u043d\\u0442\\u044b \\u043d\\u0435 \\u043f\\u0440\\u0435\\u0434\\u043e\\u0441\\u0442\\u0430\\u0432\\u043b\\u044f\\u044e\\u0442 \\u043a\\u043e\\u043d\\u043a\\u0440\\u0435\\u0442\\u043d\\u043e\\u0433\\u043e \\u043f\\u0440\\u043e\\u0446\\u0435\\u043d\\u0442\\u0430 \\u043e\\u0445\\u0432\\u0430\\u0442\\u0430 \\u0430\\u0443\\u0434\\u0438\\u0442\\u043e\\u0440\\u0438\\u0438, \\u0434\\u043e\\u0441\\u0442\\u0438\\u0433\\u0430\\u0435\\u043c\\u043e\\u0433\\u043e \\u0437\\u0430 \\u0441\\u0447\\u0435\\u0442 \\u043f\\u0430\\u0440\\u0442\\u043d\\u0435\\u0440\\u0441\\u0442\\u0432\\u0430. \\u041e\\u0434\\u043d\\u0430\\u043a\\u043e, \\u0434\\u043e\\u043a\\u0443\\u043c\\u0435\\u043d\\u0442\\u044b \\u0443\\u043a\\u0430\\u0437\\u044b\\u0432\\u0430\\u044e\\u0442 \\u043d\\u0430 \\u0442\\u043e, \\u0447\\u0442\\u043e \\u043f\\u0430\\u0440\\u0442\\u043d\\u0435\\u0440\\u0441\\u0442\\u0432\\u043e \\u043c\\u043e\\u0436\\u0435\\u0442 \\u043e\\u0431\\u0435\\u0441\\u043f\\u0435\\u0447\\u0438\\u0442\\u044c \\u043c\\u0430\\u043a\\u0441\\u0438\\u043c\\u0430\\u043b\\u044c\\u043d\\u044b\\u0439 \\u043e\\u0445\\u0432\\u0430\\u0442 \\u043f\\u0440\\u043e\\u0435\\u043a\\u0442\\u043e\\u0432 \\u0434\\u043e 90% \\u043e\\u0445\\u0432\\u0430\\u0442\\u0430 \\u0446\\u0435\\u043b\\u0435\\u0432\\u043e\\u0439 \\u0430\\u0443\\u0434\\u0438\\u0442\\u043e\\u0440\\u0438\\u0438 \\u0431\\u0435\\u0437 \\u043b\\u0438\\u0448\\u043d\\u0435\\u0433\\u043e \\u0441\\u043e\\u0433\\u043b\\u0430\\u0441\\u043e\\u0432\\u0430\\u043d\\u0438\\u044f.\"\n        ],\n        \"semantic_type\": \"\",\n        \"description\": \"\"\n      }\n    },\n    {\n      \"column\": \"filename\",\n      \"properties\": {\n        \"dtype\": \"number\",\n        \"std\": 22.090099702014957,\n        \"min\": 0.0,\n        \"max\": 71.0,\n        \"num_unique_values\": 53,\n        \"samples\": [\n          34.0,\n          54.0,\n          57.0\n        ],\n        \"semantic_type\": \"\",\n        \"description\": \"\"\n      }\n    },\n    {\n      \"column\": \"slide_number\",\n      \"properties\": {\n        \"dtype\": \"number\",\n        \"std\": 82.32045591006107,\n        \"min\": 2.0,\n        \"max\": 538.0,\n        \"num_unique_values\": 54,\n        \"samples\": [\n          33.0,\n          538.0,\n          28.0\n        ],\n        \"semantic_type\": \"\",\n        \"description\": \"\"\n      }\n    }\n  ]\n}"
            }
          },
          "metadata": {},
          "execution_count": 64
        }
      ]
    },
    {
      "cell_type": "markdown",
      "source": [
        "### Evaluate\n",
        "#### сохраним здесь ответы и контексты модели, затем в другом (evaluate) ноутбуке посчитаем различные метрики"
      ],
      "metadata": {
        "id": "2rKOIboF874S"
      }
    },
    {
      "cell_type": "code",
      "source": [
        "def get_eval_response(\n",
        "    question: str,\n",
        "    ):\n",
        "    response = rag_pipeline.run({\n",
        "        \"expander\": {\n",
        "            \"query\": question,\n",
        "            },\n",
        "        \"final_answer_prompt_builder\": {\n",
        "            \"question\": question,\n",
        "            \"template\": final_answer_messages,\n",
        "        },\n",
        "    }, include_outputs_from={\"expander\", \"document_joiner\", \"final_answer_prompt_builder\"})\n",
        "\n",
        "    response_text = response['final_answer_llm']['replies'][0].content\n",
        "\n",
        "    references = None\n",
        "    try:\n",
        "        # Находим индекс последнего символа ']'\n",
        "        last_bracket_idx = response_text.rfind(']')\n",
        "        if last_bracket_idx != -1:\n",
        "            # Находим индекс соответствующего символа '[' перед ']'\n",
        "            first_bracket_idx = response_text.rfind('[', 0, last_bracket_idx)\n",
        "            if first_bracket_idx != -1:\n",
        "                json_str = response_text[first_bracket_idx:last_bracket_idx+1]\n",
        "\n",
        "                try:\n",
        "                    # Парсим JSON-строку\n",
        "                    references_list = json.loads(json_str)\n",
        "                    references = [Reference(**item) for item in references_list]\n",
        "                    response_text = response_text[:first_bracket_idx].strip()\n",
        "                except json.JSONDecodeError as e:\n",
        "                    print(f\"Ошибка при парсинге JSON: {e}\")\n",
        "    except Exception as e:\n",
        "        print(f\"Общая ошибка при обработке ответа: {e}\")\n",
        "\n",
        "    gc.collect()\n",
        "    torch.cuda.empty_cache()\n",
        "    try:\n",
        "      r_slide_number = references[0].page_number if references else None\n",
        "      r_filename = references[0].filename if references else None\n",
        "    except Exception as e:\n",
        "      r_slide_number = None\n",
        "      r_filename = None\n",
        "\n",
        "    contexts = []\n",
        "    for doc in response['document_joiner']['documents']:\n",
        "      contexts.append(doc.content)\n",
        "\n",
        "    res_dict = {\n",
        "        \"response\": response_text,\n",
        "        \"r_filename\": r_filename,\n",
        "        \"r_slide_number\": r_slide_number,\n",
        "        \"contexts\": contexts,\n",
        "    }\n",
        "\n",
        "    return res_dict"
      ],
      "metadata": {
        "id": "-ORSvNQ189T0"
      },
      "execution_count": null,
      "outputs": []
    },
    {
      "cell_type": "code",
      "source": [
        "def add_rag_responses_to_csv(\n",
        "    input_csv=\"ground_truth_data.csv\",\n",
        "    output_csv=\"gt_evaluation.csv\",\n",
        "    get_response_function=None,\n",
        "    save_dir=\"\",\n",
        "    sub_dir_name=None  # Новый параметр для имени поддиректории\n",
        "):\n",
        "    \"\"\"\n",
        "    Читает CSV-файл с документами и вопросами, получает ответы с помощью RAG пайплайна,\n",
        "    добавляет их в DataFrame и сохраняет результат в новый CSV-файл в указанной поддиректории с добавлением datetime.\n",
        "\n",
        "    Параметры:\n",
        "    - input_csv (str): Путь к входному файлу ground_truth_data.csv.\n",
        "    - output_csv (str): Имя выходного файла с добавленными ответами.\n",
        "    - get_response_function (callable): Функция для получения ответа из RAG пайплайна.\n",
        "    - save_dir (str): Директория для сохранения выходного файла.\n",
        "    - sub_dir_name (str, optional): Имя поддиректории внутри save_dir для сохранения файла. По умолчанию None.\n",
        "    \"\"\"\n",
        "\n",
        "    if get_response_function is None:\n",
        "        raise ValueError(\"Функция get_response_function должна быть передана и не должна быть None.\")\n",
        "\n",
        "    # Полный путь к входному файлу\n",
        "    input_path = os.path.join(save_dir, input_csv) if save_dir else input_csv\n",
        "\n",
        "    # Чтение CSV-файла\n",
        "    try:\n",
        "        df = pd.read_csv(input_path)\n",
        "        print(f\"Файл {input_path} успешно прочитан.\")\n",
        "    except FileNotFoundError:\n",
        "        print(f\"Файл {input_path} не найден.\")\n",
        "        return\n",
        "    except Exception as e:\n",
        "        print(f\"Ошибка при чтении файла {input_path}: {e}\")\n",
        "        return\n",
        "\n",
        "    # Проверка наличия необходимых колонок\n",
        "    required_columns = [\"questions\", \"ground_truth_documents\", \"filename\", \"slide_number\", \"ground_truth\"]\n",
        "    missing_columns = [col for col in required_columns if col not in df.columns]\n",
        "    if missing_columns:\n",
        "        print(f\"Входной файл не содержит следующие необходимые колонки: {missing_columns}\")\n",
        "        return\n",
        "\n",
        "    responses = []\n",
        "    r_filenames = []\n",
        "    r_slide_numbers = []\n",
        "    contexts_list = []\n",
        "\n",
        "    # Итерация по строкам с прогрессбаром\n",
        "    for index, row in tqdm(df.iterrows(), total=df.shape[0], desc=\"Обработка строк\"):\n",
        "        question = row[\"questions\"]\n",
        "\n",
        "        if pd.isna(question) or question.strip() == \"\":\n",
        "            print(f\"Строка {index}: Вопрос пуст. Пропуск.\")\n",
        "            responses.append(\"\")\n",
        "            r_filenames.append(\"\")\n",
        "            r_slide_numbers.append(\"\")\n",
        "            contexts_list.append(\"\")\n",
        "            continue\n",
        "\n",
        "        # Получение ответа через RAG пайплайн\n",
        "        try:\n",
        "            response_dict = get_response_function(question)\n",
        "            responses.append(response_dict.get(\"response\", \"\"))\n",
        "            r_filenames.append(response_dict.get(\"r_filename\", \"\"))\n",
        "            r_slide_numbers.append(response_dict.get(\"r_slide_number\", \"\"))\n",
        "\n",
        "            contexts = response_dict.get(\"contexts\", [])\n",
        "            contexts_list.append(contexts)\n",
        "        except Exception as e:\n",
        "            print(f\"Строка {index}: Ошибка при получении ответа: {e}\")\n",
        "            responses.append(\"\")\n",
        "            r_filenames.append(\"\")\n",
        "            r_slide_numbers.append(\"\")\n",
        "            contexts_list.append([\"\"])\n",
        "\n",
        "    # Добавление новых колонок в DataFrame\n",
        "    df[\"responses\"] = responses\n",
        "    df[\"r_filename\"] = r_filenames\n",
        "    df[\"r_slide_number\"] = r_slide_numbers\n",
        "    df[\"contexts\"] = contexts_list\n",
        "\n",
        "    # Определение поддиректории и создание её при необходимости\n",
        "    if sub_dir_name:\n",
        "        current_datetime = datetime.now().strftime(\"%Y%m%d_%H%M%S\")\n",
        "        sub_dir_path = os.path.join(save_dir, f\"{sub_dir_name}_{current_datetime}\") if save_dir else sub_dir_name\n",
        "        os.makedirs(sub_dir_path, exist_ok=True)\n",
        "    else:\n",
        "        sub_dir_path = save_dir  # Если поддиректория не задана, использовать save_dir\n",
        "\n",
        "\n",
        "    # Разделение имени файла и расширения\n",
        "    filename, ext = os.path.splitext(output_csv)\n",
        "\n",
        "    # Создание нового имени файла с добавлением datetime\n",
        "    output_filename_with_datetime = output_csv\n",
        "\n",
        "    # Полный путь к выходному файлу\n",
        "    output_path = os.path.join(sub_dir_path, output_filename_with_datetime) if sub_dir_path else output_filename_with_datetime\n",
        "\n",
        "    # Сохранение DataFrame в CSV\n",
        "    try:\n",
        "        df.to_csv(output_path, index=False, encoding='utf-8')\n",
        "        print(f\"Результаты успешно сохранены в {output_path}\")\n",
        "    except Exception as e:\n",
        "        print(f\"Ошибка при записи файла CSV: {e}\")\n",
        "\n",
        "    return df"
      ],
      "metadata": {
        "id": "jc22MGOMBUd7"
      },
      "execution_count": null,
      "outputs": []
    },
    {
      "cell_type": "code",
      "source": [
        "eval_main_dir = \"drive/MyDrive/HacksAI/international24/Evaluate\"\n",
        "\n",
        "updated_df = add_rag_responses_to_csv(\n",
        "    input_csv=\"ground_truth_data.csv\",\n",
        "    output_csv=\"gt_evaluation.csv\",\n",
        "    get_response_function=get_eval_response,\n",
        "    save_dir=eval_main_dir,\n",
        "    sub_dir_name=\"baseline_qwen_2__4\",\n",
        ")"
      ],
      "metadata": {
        "colab": {
          "base_uri": "https://localhost:8080/"
        },
        "collapsed": true,
        "id": "w6AH671mGFiA",
        "outputId": "4bf25f54-20c2-4ca0-a08d-b73b72a826ff"
      },
      "execution_count": null,
      "outputs": [
        {
          "output_type": "stream",
          "name": "stdout",
          "text": [
            "Файл drive/MyDrive/HacksAI/international24/Evaluate/ground_truth_data.csv успешно прочитан.\n"
          ]
        },
        {
          "output_type": "stream",
          "name": "stderr",
          "text": [
            "Обработка строк:   0%|          | 0/50 [00:00<?, ?it/s]\n",
            "Batches: 100%|██████████| 1/1 [00:00<00:00, 56.71it/s]\n",
            "\n",
            "Batches: 100%|██████████| 1/1 [00:00<00:00, 60.05it/s]\n",
            "Обработка строк:   2%|▏         | 1/50 [00:01<01:36,  1.97s/it]\n",
            "Batches: 100%|██████████| 1/1 [00:00<00:00, 56.03it/s]\n",
            "\n",
            "Batches: 100%|██████████| 1/1 [00:00<00:00, 55.76it/s]\n",
            "Обработка строк:   4%|▍         | 2/50 [00:04<01:49,  2.29s/it]\n",
            "Batches: 100%|██████████| 1/1 [00:00<00:00, 51.65it/s]\n",
            "\n",
            "Batches: 100%|██████████| 1/1 [00:00<00:00, 58.98it/s]\n",
            "Обработка строк:   6%|▌         | 3/50 [00:07<01:58,  2.51s/it]\n",
            "Batches: 100%|██████████| 1/1 [00:00<00:00, 54.09it/s]\n",
            "\n",
            "Batches: 100%|██████████| 1/1 [00:00<00:00, 56.45it/s]\n",
            "Обработка строк:   8%|▊         | 4/50 [00:10<02:17,  2.98s/it]\n",
            "Batches: 100%|██████████| 1/1 [00:00<00:00, 55.35it/s]\n",
            "\n",
            "Batches: 100%|██████████| 1/1 [00:00<00:00, 57.33it/s]\n",
            "Обработка строк:  10%|█         | 5/50 [00:14<02:27,  3.29s/it]\n",
            "Batches: 100%|██████████| 1/1 [00:00<00:00, 55.39it/s]\n",
            "\n",
            "Batches: 100%|██████████| 1/1 [00:00<00:00, 59.74it/s]\n",
            "Обработка строк:  12%|█▏        | 6/50 [00:17<02:17,  3.13s/it]\n",
            "Batches: 100%|██████████| 1/1 [00:00<00:00, 53.03it/s]\n",
            "\n",
            "Batches: 100%|██████████| 1/1 [00:00<00:00, 56.56it/s]\n",
            "Обработка строк:  14%|█▍        | 7/50 [00:20<02:14,  3.13s/it]\n",
            "Batches: 100%|██████████| 1/1 [00:00<00:00, 54.45it/s]\n",
            "\n",
            "Batches: 100%|██████████| 1/1 [00:00<00:00, 57.54it/s]\n",
            "Обработка строк:  16%|█▌        | 8/50 [00:24<02:22,  3.40s/it]\n",
            "Batches: 100%|██████████| 1/1 [00:00<00:00, 52.63it/s]\n",
            "\n",
            "Batches: 100%|██████████| 1/1 [00:00<00:00, 53.09it/s]\n",
            "Обработка строк:  18%|█▊        | 9/50 [00:27<02:08,  3.14s/it]\n",
            "Batches: 100%|██████████| 1/1 [00:00<00:00, 54.79it/s]\n",
            "\n",
            "Batches: 100%|██████████| 1/1 [00:00<00:00, 55.61it/s]\n",
            "Обработка строк:  20%|██        | 10/50 [00:29<01:53,  2.84s/it]\n",
            "Batches: 100%|██████████| 1/1 [00:00<00:00, 55.68it/s]\n",
            "\n",
            "Batches: 100%|██████████| 1/1 [00:00<00:00, 60.02it/s]\n",
            "Обработка строк:  22%|██▏       | 11/50 [00:32<01:49,  2.80s/it]\n",
            "Batches: 100%|██████████| 1/1 [00:00<00:00, 53.18it/s]\n",
            "\n",
            "Batches: 100%|██████████| 1/1 [00:00<00:00, 59.02it/s]\n",
            "Обработка строк:  24%|██▍       | 12/50 [00:36<02:00,  3.18s/it]\n",
            "Batches: 100%|██████████| 1/1 [00:00<00:00, 51.59it/s]\n",
            "\n",
            "Batches: 100%|██████████| 1/1 [00:00<00:00, 58.45it/s]\n",
            "Обработка строк:  26%|██▌       | 13/50 [00:40<02:09,  3.49s/it]\n",
            "Batches: 100%|██████████| 1/1 [00:00<00:00, 53.53it/s]\n",
            "\n",
            "Batches: 100%|██████████| 1/1 [00:00<00:00, 60.82it/s]\n",
            "Обработка строк:  28%|██▊       | 14/50 [00:45<02:25,  4.03s/it]\n",
            "Batches: 100%|██████████| 1/1 [00:00<00:00, 57.02it/s]\n",
            "\n",
            "Batches: 100%|██████████| 1/1 [00:00<00:00, 59.26it/s]\n",
            "Обработка строк:  30%|███       | 15/50 [00:48<02:08,  3.67s/it]\n",
            "Batches: 100%|██████████| 1/1 [00:00<00:00, 51.28it/s]\n",
            "\n",
            "Batches: 100%|██████████| 1/1 [00:00<00:00, 56.71it/s]\n",
            "Обработка строк:  32%|███▏      | 16/50 [00:51<01:54,  3.37s/it]\n",
            "Batches: 100%|██████████| 1/1 [00:00<00:00, 52.47it/s]\n",
            "\n",
            "Batches: 100%|██████████| 1/1 [00:00<00:00, 56.68it/s]\n",
            "Обработка строк:  34%|███▍      | 17/50 [00:55<02:00,  3.65s/it]\n",
            "Batches: 100%|██████████| 1/1 [00:00<00:00, 55.46it/s]\n",
            "\n",
            "Batches: 100%|██████████| 1/1 [00:00<00:00, 59.33it/s]\n",
            "Обработка строк:  36%|███▌      | 18/50 [00:58<01:53,  3.56s/it]\n",
            "Batches: 100%|██████████| 1/1 [00:00<00:00, 56.63it/s]\n",
            "\n",
            "Batches: 100%|██████████| 1/1 [00:00<00:00, 58.67it/s]\n",
            "Обработка строк:  38%|███▊      | 19/50 [01:02<01:52,  3.64s/it]\n",
            "Batches: 100%|██████████| 1/1 [00:00<00:00, 53.55it/s]\n",
            "\n",
            "Batches: 100%|██████████| 1/1 [00:00<00:00, 57.14it/s]\n",
            "Обработка строк:  40%|████      | 20/50 [01:07<01:55,  3.84s/it]\n",
            "Batches: 100%|██████████| 1/1 [00:00<00:00, 54.66it/s]\n",
            "\n",
            "Batches: 100%|██████████| 1/1 [00:00<00:00, 60.32it/s]\n",
            "Обработка строк:  42%|████▏     | 21/50 [01:12<02:05,  4.33s/it]\n",
            "Batches: 100%|██████████| 1/1 [00:00<00:00, 53.56it/s]\n",
            "\n",
            "Batches: 100%|██████████| 1/1 [00:00<00:00, 56.26it/s]\n",
            "Обработка строк:  44%|████▍     | 22/50 [01:16<01:57,  4.20s/it]\n",
            "Batches: 100%|██████████| 1/1 [00:00<00:00, 51.08it/s]\n",
            "\n",
            "Batches: 100%|██████████| 1/1 [00:00<00:00, 58.09it/s]\n",
            "Обработка строк:  46%|████▌     | 23/50 [01:18<01:35,  3.55s/it]\n",
            "Batches: 100%|██████████| 1/1 [00:00<00:00, 53.46it/s]\n",
            "\n",
            "Batches: 100%|██████████| 1/1 [00:00<00:00, 57.49it/s]\n",
            "Обработка строк:  48%|████▊     | 24/50 [01:21<01:28,  3.39s/it]\n",
            "Batches: 100%|██████████| 1/1 [00:00<00:00, 52.72it/s]\n",
            "\n",
            "Batches: 100%|██████████| 1/1 [00:00<00:00, 56.93it/s]\n",
            "Обработка строк:  50%|█████     | 25/50 [01:26<01:40,  4.02s/it]\n",
            "Batches: 100%|██████████| 1/1 [00:00<00:00, 51.34it/s]\n",
            "\n",
            "Batches: 100%|██████████| 1/1 [00:00<00:00, 52.78it/s]\n",
            "Обработка строк:  52%|█████▏    | 26/50 [01:34<01:59,  4.99s/it]\n",
            "Batches: 100%|██████████| 1/1 [00:00<00:00, 53.58it/s]\n",
            "\n",
            "Batches: 100%|██████████| 1/1 [00:00<00:00, 59.55it/s]\n",
            "Обработка строк:  54%|█████▍    | 27/50 [01:37<01:44,  4.56s/it]\n",
            "Batches: 100%|██████████| 1/1 [00:00<00:00, 53.76it/s]\n",
            "\n",
            "Batches: 100%|██████████| 1/1 [00:00<00:00, 59.45it/s]\n",
            "Обработка строк:  56%|█████▌    | 28/50 [01:40<01:30,  4.11s/it]\n",
            "Batches: 100%|██████████| 1/1 [00:00<00:00, 36.08it/s]\n",
            "\n",
            "Batches: 100%|██████████| 1/1 [00:00<00:00, 39.38it/s]\n",
            "Обработка строк:  58%|█████▊    | 29/50 [01:43<01:17,  3.67s/it]\n",
            "Batches: 100%|██████████| 1/1 [00:00<00:00, 52.42it/s]\n",
            "\n",
            "Batches: 100%|██████████| 1/1 [00:00<00:00, 59.73it/s]\n",
            "Обработка строк:  60%|██████    | 30/50 [01:46<01:09,  3.47s/it]\n",
            "Batches: 100%|██████████| 1/1 [00:00<00:00, 53.81it/s]\n",
            "\n",
            "Batches: 100%|██████████| 1/1 [00:00<00:00, 61.04it/s]\n",
            "Обработка строк:  62%|██████▏   | 31/50 [01:49<01:00,  3.20s/it]\n",
            "Batches: 100%|██████████| 1/1 [00:00<00:00, 54.56it/s]\n",
            "\n",
            "Batches: 100%|██████████| 1/1 [00:00<00:00, 54.11it/s]\n",
            "Обработка строк:  64%|██████▍   | 32/50 [01:53<01:04,  3.57s/it]\n",
            "Batches: 100%|██████████| 1/1 [00:00<00:00, 50.02it/s]\n",
            "\n",
            "Batches: 100%|██████████| 1/1 [00:00<00:00, 55.74it/s]\n",
            "Обработка строк:  66%|██████▌   | 33/50 [01:55<00:55,  3.24s/it]\n",
            "Batches: 100%|██████████| 1/1 [00:00<00:00, 53.36it/s]\n",
            "\n",
            "Batches: 100%|██████████| 1/1 [00:00<00:00, 57.01it/s]\n",
            "Обработка строк:  68%|██████▊   | 34/50 [01:57<00:45,  2.85s/it]\n",
            "Batches: 100%|██████████| 1/1 [00:00<00:00, 52.98it/s]\n",
            "\n",
            "Batches: 100%|██████████| 1/1 [00:00<00:00, 55.51it/s]\n",
            "Обработка строк:  70%|███████   | 35/50 [02:00<00:40,  2.68s/it]\n",
            "Batches: 100%|██████████| 1/1 [00:00<00:00, 53.67it/s]\n",
            "\n",
            "Batches: 100%|██████████| 1/1 [00:00<00:00, 58.26it/s]\n",
            "Обработка строк:  72%|███████▏  | 36/50 [02:03<00:39,  2.81s/it]\n",
            "Batches: 100%|██████████| 1/1 [00:00<00:00, 53.16it/s]\n",
            "\n",
            "Batches: 100%|██████████| 1/1 [00:00<00:00, 57.35it/s]\n",
            "Обработка строк:  74%|███████▍  | 37/50 [02:05<00:36,  2.78s/it]\n",
            "Batches: 100%|██████████| 1/1 [00:00<00:00, 53.25it/s]\n",
            "\n",
            "Batches: 100%|██████████| 1/1 [00:00<00:00, 54.02it/s]\n",
            "Обработка строк:  76%|███████▌  | 38/50 [02:08<00:32,  2.69s/it]\n",
            "Batches: 100%|██████████| 1/1 [00:00<00:00, 51.85it/s]\n",
            "\n",
            "Batches: 100%|██████████| 1/1 [00:00<00:00, 55.65it/s]\n",
            "Обработка строк:  78%|███████▊  | 39/50 [02:11<00:30,  2.80s/it]\n",
            "Batches: 100%|██████████| 1/1 [00:00<00:00, 53.43it/s]\n",
            "\n",
            "Batches: 100%|██████████| 1/1 [00:00<00:00, 57.29it/s]\n",
            "Обработка строк:  80%|████████  | 40/50 [02:14<00:28,  2.86s/it]\n",
            "Batches: 100%|██████████| 1/1 [00:00<00:00, 52.68it/s]\n",
            "\n",
            "Batches: 100%|██████████| 1/1 [00:00<00:00, 56.59it/s]\n",
            "Обработка строк:  82%|████████▏ | 41/50 [02:17<00:25,  2.86s/it]\n",
            "Batches: 100%|██████████| 1/1 [00:00<00:00, 55.11it/s]\n",
            "\n",
            "Batches: 100%|██████████| 1/1 [00:00<00:00, 40.73it/s]\n",
            "Обработка строк:  84%|████████▍ | 42/50 [02:21<00:25,  3.20s/it]\n",
            "Batches: 100%|██████████| 1/1 [00:00<00:00, 56.25it/s]\n",
            "\n",
            "Batches: 100%|██████████| 1/1 [00:00<00:00, 54.49it/s]\n",
            "Обработка строк:  86%|████████▌ | 43/50 [02:24<00:21,  3.11s/it]\n",
            "Batches: 100%|██████████| 1/1 [00:00<00:00, 52.14it/s]\n",
            "\n",
            "Batches: 100%|██████████| 1/1 [00:00<00:00, 57.11it/s]\n",
            "Обработка строк:  88%|████████▊ | 44/50 [02:26<00:17,  2.97s/it]\n",
            "Batches: 100%|██████████| 1/1 [00:00<00:00, 54.95it/s]\n",
            "\n",
            "Batches: 100%|██████████| 1/1 [00:00<00:00, 55.38it/s]\n",
            "Обработка строк:  90%|█████████ | 45/50 [02:28<00:13,  2.71s/it]\n",
            "Batches: 100%|██████████| 1/1 [00:00<00:00, 53.84it/s]\n",
            "\n",
            "Batches: 100%|██████████| 1/1 [00:00<00:00, 55.60it/s]\n",
            "Обработка строк:  92%|█████████▏| 46/50 [02:31<00:11,  2.79s/it]\n",
            "Batches: 100%|██████████| 1/1 [00:00<00:00, 51.86it/s]\n",
            "\n",
            "Batches: 100%|██████████| 1/1 [00:00<00:00, 53.41it/s]\n",
            "Обработка строк:  94%|█████████▍| 47/50 [02:36<00:09,  3.17s/it]\n",
            "Batches: 100%|██████████| 1/1 [00:00<00:00, 51.59it/s]\n",
            "\n",
            "Batches: 100%|██████████| 1/1 [00:00<00:00, 55.42it/s]\n",
            "Обработка строк:  96%|█████████▌| 48/50 [02:38<00:05,  2.98s/it]\n",
            "Batches: 100%|██████████| 1/1 [00:00<00:00, 53.90it/s]\n",
            "\n",
            "Batches: 100%|██████████| 1/1 [00:00<00:00, 55.43it/s]\n",
            "Обработка строк:  98%|█████████▊| 49/50 [02:43<00:03,  3.58s/it]\n",
            "Batches: 100%|██████████| 1/1 [00:00<00:00, 45.56it/s]\n",
            "\n",
            "Batches: 100%|██████████| 1/1 [00:00<00:00, 59.83it/s]\n",
            "Обработка строк: 100%|██████████| 50/50 [02:45<00:00,  3.32s/it]"
          ]
        },
        {
          "output_type": "stream",
          "name": "stdout",
          "text": [
            "Результаты успешно сохранены в drive/MyDrive/HacksAI/international24/Evaluate/baseline_qwen_2__4_20241110_011911/gt_evaluation.csv\n"
          ]
        },
        {
          "output_type": "stream",
          "name": "stderr",
          "text": [
            "\n"
          ]
        }
      ]
    },
    {
      "cell_type": "code",
      "source": [
        "updated_df"
      ],
      "metadata": {
        "colab": {
          "base_uri": "https://localhost:8080/",
          "height": 1000
        },
        "collapsed": true,
        "id": "lMv6nkp4fXZl",
        "outputId": "5306269e-cc93-45c8-8450-d98c481cc5a5"
      },
      "execution_count": null,
      "outputs": [
        {
          "output_type": "execute_result",
          "data": {
            "text/plain": [
              "                                            questions  \\\n",
              "0   Сколько интернет-пользователей было в мире по ...   \n",
              "1   Какой процент выручки от рекламы достигала Met...   \n",
              "2   Какое число пользователей подписных сервисов п...   \n",
              "3   Какова мировая выручка в индустрии видеоигр ви...   \n",
              "4   What contributed to the growth of PC and conso...   \n",
              "5   Какой процентный спад в среднем квартальном вр...   \n",
              "6   Какой объем мирового рынка инфлюенс-маркетинга...   \n",
              "7   Какова главная цель использования ИИ и машинно...   \n",
              "8   Какой процент пользователей TikTok составляет ...   \n",
              "9   Как изменилось количество загрузок в мобильном...   \n",
              "10  Каков процент загрузок мобильных игр, приходящ...   \n",
              "11  Какой прогноз по ежегодному росту (CAGR) глоба...   \n",
              "12  Каковы прогнозируемые темпы роста доходов музы...   \n",
              "13  What trends have been observed in music stream...   \n",
              "14  Когда Deezer начал свое второе повышение цен н...   \n",
              "15  What was the total gaming consumer spend in 20...   \n",
              "16  What was the total consumer spend in mobile ga...   \n",
              "17  Какой регион занимает наибольшую долю рынка мо...   \n",
              "18  Какие дополнительные способы продвижения пробо...   \n",
              "19  Какие изменения произошли в способах размещени...   \n",
              "20  Каковы основные факторы, способствующие росту ...   \n",
              "21  What are the top sector themes for 2024 accord...   \n",
              "22  Каков ожидаемый рост глобальной онлайн-рекламы...   \n",
              "23  Какое ожидаемое изменение в процентном соотнош...   \n",
              "24  Какые ключевые области, согласно тексту, играю...   \n",
              "25  Какое значение короткие видео (SFV) имеют для ...   \n",
              "26  Как изменился рынок мобильных агентств в 2023 ...   \n",
              "27  Какой процент мобильных агентств показал рост ...   \n",
              "28  What do over 90% of marketers believe about th...   \n",
              "29  What percentage of social media marketers beli...   \n",
              "30  Какой инструмент стал самым быстрорастущим при...   \n",
              "31  What has been the impact of the Cost-of-Living...   \n",
              "32  What percentage of brands will increase spendi...   \n",
              "33  Какую роль играют звуковые инфлюенсеры в продв...   \n",
              "34  What significant financial milestone did stude...   \n",
              "35  What percentage of people believe that live sh...   \n",
              "36  What significant initiative did Ogilvy launch ...   \n",
              "37  What percentage of marketers plan to use AI to...   \n",
              "38  Какое ожидаемое снижение поставок игровых порт...   \n",
              "39  Какие три формата рекламы были относительно по...   \n",
              "40  Какой доход собрали не первые сторонние создат...   \n",
              "41  Какое влияние имеет пользовательский контент (...   \n",
              "42  Сколько времени в среднем взрослые пользовател...   \n",
              "43  Какой процент взрослых в Великобритании исполь...   \n",
              "44  Какой процент детей в возрасте от 8 до 17 лет ...   \n",
              "45  Какой процент онлайн-взрослых в Великобритании...   \n",
              "46  Что показывает исследование Ofcom 2022 о попул...   \n",
              "47  What was the estimated global influencer marke...   \n",
              "48  Что такое Paid UGC и каковы его основные харак...   \n",
              "49  What was the global in-app purchase revenue fr...   \n",
              "\n",
              "                               ground_truth_documents filename  slide_number  \\\n",
              "0   В 2023 году количество интернет-пользователей ...    1.pdf             2   \n",
              "1   В 2020 году доля выручки от рекламы Meta,◊ кот...    1.pdf             7   \n",
              "2   Ожидается, что к 2025 году число пользователей...    1.pdf            14   \n",
              "3   Крупнейшим сегментом рынка потребительских сер...    1.pdf            25   \n",
              "4   With downloaded/boxed PC growth as a primary c...    3.pdf             8   \n",
              "5   As lockdowns ended across the world, players t...    3.pdf            16   \n",
              "6   Объем мирового рынка инфлюенс-маркетинга на 20...    4.pdf             4   \n",
              "7   63% респондентов исследования планируют исполь...    4.pdf             8   \n",
              "8   Исследования показывают, что около 60% пользов...    4.pdf            16   \n",
              "9   The mobile gaming market in 2023 saw a 10% dec...   69.pdf             5   \n",
              "10  In 2023, mobile game downloads were led by Hyp...   69.pdf            14   \n",
              "11  Raise global music industry forecasts on stron...   42.pdf             4   \n",
              "12  We forecast global music industry revenues to ...   42.pdf             7   \n",
              "13  Over the past 18 months, all major streaming p...   42.pdf            18   \n",
              "14  We have already seen early evidence of streami...   42.pdf            21   \n",
              "15  Mobile Gaming in 2023: A Mixed Landscape of De...   23.pdf             2   \n",
              "16  Consumer Spend in Mobile Gaming Fell 2% in 202...   23.pdf            12   \n",
              "17  United States Tops the Mobile Game Market by A...   23.pdf            15   \n",
              "18  По данным опроса TGStat3 , 42% рекламодателей ...   27.pdf             3   \n",
              "19  ПРОДВИЖЕНИЕ В TELEGRAM: ТРЕНДЫ 2023 Закупка по...   27.pdf             4   \n",
              "20  Improving macro, AI & SFV to drive sector grow...   33.pdf             1   \n",
              "21  Top sector themes for 2024 In addition to a st...   33.pdf             1   \n",
              "22  Internet Media 2024 Year Ahead 2023 was a year...   33.pdf             2   \n",
              "23  US Online Advertising Trends Advertising dolla...   33.pdf             5   \n",
              "24  2) Growing role of AI/ML capabilities in ad ec...   33.pdf            13   \n",
              "25  4) Big year for SFV monetization ramp In 2023 ...   33.pdf            17   \n",
              "26  В 2023 году диджитал рынок продолжал адаптиров...   39.pdf             2   \n",
              "27  За 2023 год всего лишь треть мобильных агентст...   39.pdf             4   \n",
              "28  Today, social media is the go-to place for peo...   50.pdf             2   \n",
              "29  Social search is becoming more popular than se...   50.pdf            19   \n",
              "30  Artificial intelligence (AI) has been a topic ...   50.pdf            35   \n",
              "31  Recently, social advertising has had a glow up...   51.pdf             7   \n",
              "32  We can all agree that influencers and creators...   51.pdf             8   \n",
              "33  82% of 18–64-year-olds want a brand to have a ...   54.pdf            11   \n",
              "34  AMATEUR ATHLETES ARE GOING PRO ON SOCIAL MEDIA...   54.pdf            16   \n",
              "35  31% of people believe that live shopping allow...   54.pdf            20   \n",
              "36  It’s been a big year for AI in influence. Earl...   54.pdf            27   \n",
              "37  An upcoming feature even allows users to creat...   54.pdf            28   \n",
              "38  Handheld game console shipments may decline th...   55.pdf            12   \n",
              "39  Video ads remained the most common format expe...   55.pdf            21   \n",
              "40  Speaking of “native ads”… They made inroads on...   55.pdf            23   \n",
              "41  User -generated content doubles player engagem...   55.pdf            25   \n",
              "42  Online use in the UK UK adult internet users s...   57.pdf             3   \n",
              "43  Half of UK online adults visited Google Search...   57.pdf             4   \n",
              "44  More than a fifth of children aged 8-17 have a...   57.pdf             7   \n",
              "45  Over one in ten UK online adults visited a dat...   57.pdf            45   \n",
              "46  Roblox is the top-reaching games app among onl...   57.pdf            56   \n",
              "47  2024 TRENDS If you have downloaded this eBook,...   61.pdf             4   \n",
              "48  Paid UGC is a dynamic marketing assets which i...   61.pdf             5   \n",
              "49  Annual Global In-App Purchase Revenue in Mobil...   62.pdf             5   \n",
              "\n",
              "                                         ground_truth  \\\n",
              "0   ['По итогам 2023 года 5,3 млрд человек или 65,...   \n",
              "1   ['В 2020 году доля выручки от рекламы Meta дос...   \n",
              "2   ['Ожидается, что к 2025 году число пользовател...   \n",
              "3   ['Мировая выручка в индустрии видеоигр виртуал...   \n",
              "4   ['With downloaded/boxed PC growth as a primary...   \n",
              "5   ['Наблюдается спад в среднем квартальном време...   \n",
              "6   ['Объем мирового рынка инфлюенс-маркетинга на ...   \n",
              "7   ['Главная цель использования технологий — это ...   \n",
              "8   ['Около 60% пользователей TikTok — это люди в ...   \n",
              "9   ['Мобильный игровой рынок в 2023 году увидел 1...   \n",
              "10  ['Гиперказуальные игры составили 37% загрузок ...   \n",
              "11  ['Мы обновили прогнозы глобальной музыкальной ...   \n",
              "12  ['Мы прогнозируем, что доходы музыковой индуст...   \n",
              "13  ['All major streaming platforms have announced...   \n",
              "14  ['Диезер начал свое второе повышение цен в сен...   \n",
              "15  ['In 2023, gaming consumer spend declined by 2...   \n",
              "16  ['Consumer spend in mobile gaming fell 2% in 2...   \n",
              "17  ['Asia Pacific (APAC) оставался крупнейшим рег...   \n",
              "18  ['42% рекламодателей уже пробовали дополнитель...   \n",
              "19  ['В 2023 году активно развивается оплата за пр...   \n",
              "20  ['Основные факторы, способствующие росту секто...   \n",
              "21  ['Top 2024 themes include: Ramping SFV monetiz...   \n",
              "22  ['Ожидаемый рост глобальной онлайн-рекламы в 2...   \n",
              "23  ['Ожидается, что время, проведенное на цифровы...   \n",
              "24  ['Четыре ключевые области включают оптимизацию...   \n",
              "25  ['В 2023 году короткие видео (SFV) стали основ...   \n",
              "26  ['За прошлый год рынок мобильных агентств выро...   \n",
              "27  ['Всего лишь треть мобильных агентств показали...   \n",
              "28  ['Over 90% of marketers are confident that the...   \n",
              "29  ['87% of social media marketers think consumer...   \n",
              "30  ['ChatGPT стал самым быстрорастущим приложение...   \n",
              "31  ['The Cost-of-Living crisis played a big part ...   \n",
              "32  ['Next year, 89% of brands will increase spend...   \n",
              "33  ['Звуковые инфлюенсеры могут добавлять новое и...   \n",
              "34  ['In 2022, student athletes made nearly $1.2 b...   \n",
              "35  ['31% of people believe that live shopping all...   \n",
              "36  ['Ogilvy launched an industry-first AI Account...   \n",
              "37  ['63% of marketers plan to use AI tools in the...   \n",
              "38  ['Ожидается, что поставки совместных Nintendo ...   \n",
              "39  ['Три относительно популярных формата рекламы ...   \n",
              "40  [\"Согласно'annonce Epic, не первые сторонние с...   \n",
              "41  ['Игроки, использующие игры с пользовательским...   \n",
              "42  ['Взрослые пользователи интернета в Великобрит...   \n",
              "43  ['Полвзрослых (51%) Великобритании использовал...   \n",
              "44  ['Согласно исследованиям Ofcom, 22% детей в во...   \n",
              "45  ['В мае 2023 года более одного из десяти (11%)...   \n",
              "46  ['Исследование Ofcom 2022 показывает, что Robl...   \n",
              "47  ['In 2023, the market was estimated at a recor...   \n",
              "48  [\"Paid UGC - это динамические маркетинговые ак...   \n",
              "49  ['In 2023, global IAP revenue from mobile game...   \n",
              "\n",
              "                                            responses r_filename  \\\n",
              "0                      Я не знаю ответа на ваш вопрос       None   \n",
              "1   В 2020 году доля выручки от рекламы Meta, кото...      1.pdf   \n",
              "2   К 2025 году число пользователей подписных серв...      1.pdf   \n",
              "3   Мировая выручка в индустрии видеоигр виртуальн...      1.pdf   \n",
              "4   PC and console game revenues grew by +2.6% las...      3.pdf   \n",
              "5   Среднее квартальное время игры на ПК, Xbox и P...      3.pdf   \n",
              "6   Объем мирового рынка инфлюенс-маркетинга на 20...      4.pdf   \n",
              "7   Согласно исследованию, главная цель использова...      4.pdf   \n",
              "8   Исследования показывают, что около 60% пользов...      4.pdf   \n",
              "9   В 2023 году мобильные загрузки игр показали сл...     69.pdf   \n",
              "10  В 2023 году гиперказуальные игры составляли 37...     69.pdf   \n",
              "11  Глобальный музыкальный рынок (записанная музык...     42.pdf   \n",
              "12  Прогнозируемый темп роста доходов глобальной м...     42.pdf   \n",
              "13  Over the past 18 months, major streaming platf...     42.pdf   \n",
              "14  Deezer начал свое второе повышение цен на инди...     42.pdf   \n",
              "15  The total consumer spend on mobile games in 20...     67.pdf   \n",
              "16  Consumer spending on mobile games decreased by...     67.pdf   \n",
              "17  Азия-Тихоокеанский регион (APAC) занимает саму...     23.pdf   \n",
              "18  По данным опроса TGStat3, 42% рекламодателей у...     27.pdf   \n",
              "19  В 2023 году произошли следующие изменения в сп...     24.pdf   \n",
              "20  Основные факторы, способствующие росту сектора...     33.pdf   \n",
              "21  According to the document, the top sector them...     33.pdf   \n",
              "22                     Я не знаю ответа на ваш вопрос       None   \n",
              "23  В 2024 году ожидается увеличение времени, пров...     33.pdf   \n",
              "24  Согласно тексту, ключевые области, которые игр...     33.pdf   \n",
              "25  Короткие видео (SFV) играют важную роль в рост...     33.pdf   \n",
              "26  В 2023 году рынок мобильных агентств значитель...     39.pdf   \n",
              "27  Только треть мобильных агентств показала рост ...     39.pdf   \n",
              "28  Over 90% of marketers are confident that their...     50.pdf   \n",
              "29  According to the document, 87% of social media...     50.pdf   \n",
              "30  ЧатGPT стал самым быстрорастущим приложением в...     50.pdf   \n",
              "31  The Cost-of-Living crisis has significantly in...     59.pdf   \n",
              "32  According to the provided information, 89% of ...     51.pdf   \n",
              "33  Звуковые инфлюенсеры играют важную роль в прод...     54.pdf   \n",
              "34  In 2022, student athletes made nearly $1.2 bil...     54.pdf   \n",
              "35  According to the provided context, 31% of peop...     54.pdf   \n",
              "36  Ogilvy launched an industry-first AI Accountab...     54.pdf   \n",
              "37  According to the provided information, 63% of ...     54.pdf   \n",
              "38  Поставки игровых портативных консолей (handhel...     55.pdf   \n",
              "39  Согласно опросу U.S. в Q3 2023, три относитель...     55.pdf   \n",
              "40  Несколько сторонних создателей UEFN (Unreal Ed...     55.pdf   \n",
              "41  Участие пользовательского контента (UGC) в моб...     55.pdf   \n",
              "42  В мае 2023 года взрослые пользователи интернет...     57.pdf   \n",
              "43  В мае 2023 года половина (51%) взрослых пользо...     57.pdf   \n",
              "44                     Я не знаю ответа на ваш вопрос       None   \n",
              "45  В мае 2023 года более одного из десяти (11%) о...     57.pdf   \n",
              "46  Исследование Ofcom 2022 показало, что Roblox я...     57.pdf   \n",
              "47  The estimated global influencer marketing mark...     61.pdf   \n",
              "48  Paid UGC (Paid User Generated Content) предста...     61.pdf   \n",
              "49  The global in-app purchase revenue from mobile...     62.pdf   \n",
              "\n",
              "   r_slide_number                                           contexts  \n",
              "0            None  [Conclusion\\nKEY LEARNINGS\\nThe world of influ...  \n",
              "1               7  [Коммуникационные сервисы: социальные сети и м...  \n",
              "2              14  [26\\nВИДЕОСЕРВИСЫ: ОНЛАЙН- КИНОТЕАТРЫ\\n4\\nК он...  \n",
              "3              25  [Технологии виртуальной и дополненной реальнос...  \n",
              "4               8  [43%57% Our revenues encompass consumer spendi...  \n",
              "5              16  [-11%-4%-1%-4%-6%-1%+3%+1%-6%1%0%\\nQ1 21Q2 21Q...  \n",
              "6               4  [4\\nОбъем мирового рынка инфлюенс- маркетинга ...  \n",
              "7               8  [8 63% респондентов исследования планируют исп...  \n",
              "8              16  [16\\nГ лава 2 > Инфлюенс- маркетинг в сфере не...  \n",
              "9              14  [The State of Gaming 2024\\nAn analysis of the ...  \n",
              "10             14  [Игровые сервисы\\nИсточник: Similarweb\\nИсточн...  \n",
              "11              7  [Consumer spend in mobile apps saw a year-\\nov...  \n",
              "12              7  [January 2024\\nIndustry insights powered by Ne...  \n",
              "13             18  [Источник: внутренние данные компании\\n13\\n• З...  \n",
              "14             21  [strategy ﬁrm HundredX shows that the Net Purc...  \n",
              "15             22  [РАСХОДЫ НА ВИДЕОИГРЫ\\n39\\n61\\nПриходилось дел...  \n",
              "16             22  [VK Знакомства — дейтинг-сервис с умными алгор...  \n",
              "17             15  [Top Markets by Mobile Game Consumer Spend per...  \n",
              "18              3  [В 2023 году Telegram стал одной из самых охва...  \n",
              "19            393  [517\\n49.1%\\n53.7%\\n60.3%\\n66.1% 67.9% 70.0%\\n...  \n",
              "20             37  [Internet/e -Commerce | 11 December 2023 37 St...  \n",
              "21              1  [68\\nЧасть 2: Информация и темы Упражнение: Ст...  \n",
              "22           None  [24 Internet/e -Commerce | 11 December 2023 Ex...  \n",
              "23              5  [Internet/e -Commerce | 11 December 2023 5 US ...  \n",
              "24             13  [4 Internet/e -Commerce | 11 December 2023 In ...  \n",
              "25             17  [Internet/e -Commerce | 11 December 2023 17 Th...  \n",
              "26              2  [Р ейтинг мобильных аг ент с тв по выр учк е\\n...  \n",
              "27              4  [Чис тая прибыль\\nЗа 2 0 23 г о д вс ег о лишь...  \n",
              "28              2  [41\\nGlobal Social Media Trends Report\\nSocial...  \n",
              "29             19  [19\\nGlobal Social Media Trends Report\\nSOCIAL...  \n",
              "30             35  [35\\nGlobal Social Media Trends Report\\nArtifi...  \n",
              "31            132  [Altay, S., Nielsen, R. K., Fletcher , R. 2023...  \n",
              "32              8  [5\\nГ лава 1 > Общие тенденции в инфлюенс-марк...  \n",
              "33             10  [ИНДУСТРИАЛЬНЫЕ СТАНДАРТЫ АУДИО БРЕНДИНГ\n",
              ", 6\\n...  \n",
              "34             16  [3\\nAMATEUR ATHLETES ARE GOING PRO ON SOCIAL M...  \n",
              "35             20  [4\\nFROM SECOND SCREEN TO MAIN SCREEN\\nLIvESTR...  \n",
              "36             27  [6\\nUNL OCKING THE POTENTIAL OF AI IN INFLUENC...  \n",
              "37             28  [6\\nand innovation paves the way for a credibl...  \n",
              "38              6  [2.4. Потребности геймеров и ожидания от предл...  \n",
              "39             21  [© Sensor Tower Inc. -All Rights Reserved\\n21\\...  \n",
              "40             23  [49 кампании 950 тыс. рублей из них 420-480 ты...  \n",
              "41             25  [© Sensor Tower Inc. -All Rights Reserved\\n25\\...  \n",
              "42             12  [12 145 children who were measured for four we...  \n",
              "43              4  [4 Spotlights: online sectors Search Half of U...  \n",
              "44           None  [ПРЕДПОЧИТАЕМЫЕ ФОРМАТЫ ВИДЕОИГР\\n68\\n27\\n5\\nЯ...  \n",
              "45             45  [45 Over one in ten UK online adults visited a...  \n",
              "46             56  [ТОП-10 НАИБОЛЕЕ ПОПУЛЯРНЫХ ВИДЕОИГР СРЕДИ ДЕТ...  \n",
              "47              4  [2024 TRENDS\\nIf you have downloaded this eBoo...  \n",
              "48              5  [#1 PAID UGC\\nPaid UGC is a dynamic marketing ...  \n",
              "49              5  [© 2024 Sensor Tower Inc. - All Rights Reserve...  "
            ],
            "text/html": [
              "\n",
              "  <div id=\"df-a074a011-86de-4d2e-94ae-866f72ca840c\" class=\"colab-df-container\">\n",
              "    <div>\n",
              "<style scoped>\n",
              "    .dataframe tbody tr th:only-of-type {\n",
              "        vertical-align: middle;\n",
              "    }\n",
              "\n",
              "    .dataframe tbody tr th {\n",
              "        vertical-align: top;\n",
              "    }\n",
              "\n",
              "    .dataframe thead th {\n",
              "        text-align: right;\n",
              "    }\n",
              "</style>\n",
              "<table border=\"1\" class=\"dataframe\">\n",
              "  <thead>\n",
              "    <tr style=\"text-align: right;\">\n",
              "      <th></th>\n",
              "      <th>questions</th>\n",
              "      <th>ground_truth_documents</th>\n",
              "      <th>filename</th>\n",
              "      <th>slide_number</th>\n",
              "      <th>ground_truth</th>\n",
              "      <th>responses</th>\n",
              "      <th>r_filename</th>\n",
              "      <th>r_slide_number</th>\n",
              "      <th>contexts</th>\n",
              "    </tr>\n",
              "  </thead>\n",
              "  <tbody>\n",
              "    <tr>\n",
              "      <th>0</th>\n",
              "      <td>Сколько интернет-пользователей было в мире по ...</td>\n",
              "      <td>В 2023 году количество интернет-пользователей ...</td>\n",
              "      <td>1.pdf</td>\n",
              "      <td>2</td>\n",
              "      <td>['По итогам 2023 года 5,3 млрд человек или 65,...</td>\n",
              "      <td>Я не знаю ответа на ваш вопрос</td>\n",
              "      <td>None</td>\n",
              "      <td>None</td>\n",
              "      <td>[Conclusion\\nKEY LEARNINGS\\nThe world of influ...</td>\n",
              "    </tr>\n",
              "    <tr>\n",
              "      <th>1</th>\n",
              "      <td>Какой процент выручки от рекламы достигала Met...</td>\n",
              "      <td>В 2020 году доля выручки от рекламы Meta,◊ кот...</td>\n",
              "      <td>1.pdf</td>\n",
              "      <td>7</td>\n",
              "      <td>['В 2020 году доля выручки от рекламы Meta дос...</td>\n",
              "      <td>В 2020 году доля выручки от рекламы Meta, кото...</td>\n",
              "      <td>1.pdf</td>\n",
              "      <td>7</td>\n",
              "      <td>[Коммуникационные сервисы: социальные сети и м...</td>\n",
              "    </tr>\n",
              "    <tr>\n",
              "      <th>2</th>\n",
              "      <td>Какое число пользователей подписных сервисов п...</td>\n",
              "      <td>Ожидается, что к 2025 году число пользователей...</td>\n",
              "      <td>1.pdf</td>\n",
              "      <td>14</td>\n",
              "      <td>['Ожидается, что к 2025 году число пользовател...</td>\n",
              "      <td>К 2025 году число пользователей подписных серв...</td>\n",
              "      <td>1.pdf</td>\n",
              "      <td>14</td>\n",
              "      <td>[26\\nВИДЕОСЕРВИСЫ: ОНЛАЙН- КИНОТЕАТРЫ\\n4\\nК он...</td>\n",
              "    </tr>\n",
              "    <tr>\n",
              "      <th>3</th>\n",
              "      <td>Какова мировая выручка в индустрии видеоигр ви...</td>\n",
              "      <td>Крупнейшим сегментом рынка потребительских сер...</td>\n",
              "      <td>1.pdf</td>\n",
              "      <td>25</td>\n",
              "      <td>['Мировая выручка в индустрии видеоигр виртуал...</td>\n",
              "      <td>Мировая выручка в индустрии видеоигр виртуальн...</td>\n",
              "      <td>1.pdf</td>\n",
              "      <td>25</td>\n",
              "      <td>[Технологии виртуальной и дополненной реальнос...</td>\n",
              "    </tr>\n",
              "    <tr>\n",
              "      <th>4</th>\n",
              "      <td>What contributed to the growth of PC and conso...</td>\n",
              "      <td>With downloaded/boxed PC growth as a primary c...</td>\n",
              "      <td>3.pdf</td>\n",
              "      <td>8</td>\n",
              "      <td>['With downloaded/boxed PC growth as a primary...</td>\n",
              "      <td>PC and console game revenues grew by +2.6% las...</td>\n",
              "      <td>3.pdf</td>\n",
              "      <td>8</td>\n",
              "      <td>[43%57% Our revenues encompass consumer spendi...</td>\n",
              "    </tr>\n",
              "    <tr>\n",
              "      <th>5</th>\n",
              "      <td>Какой процентный спад в среднем квартальном вр...</td>\n",
              "      <td>As lockdowns ended across the world, players t...</td>\n",
              "      <td>3.pdf</td>\n",
              "      <td>16</td>\n",
              "      <td>['Наблюдается спад в среднем квартальном време...</td>\n",
              "      <td>Среднее квартальное время игры на ПК, Xbox и P...</td>\n",
              "      <td>3.pdf</td>\n",
              "      <td>16</td>\n",
              "      <td>[-11%-4%-1%-4%-6%-1%+3%+1%-6%1%0%\\nQ1 21Q2 21Q...</td>\n",
              "    </tr>\n",
              "    <tr>\n",
              "      <th>6</th>\n",
              "      <td>Какой объем мирового рынка инфлюенс-маркетинга...</td>\n",
              "      <td>Объем мирового рынка инфлюенс-маркетинга на 20...</td>\n",
              "      <td>4.pdf</td>\n",
              "      <td>4</td>\n",
              "      <td>['Объем мирового рынка инфлюенс-маркетинга на ...</td>\n",
              "      <td>Объем мирового рынка инфлюенс-маркетинга на 20...</td>\n",
              "      <td>4.pdf</td>\n",
              "      <td>4</td>\n",
              "      <td>[4\\nОбъем мирового рынка инфлюенс- маркетинга ...</td>\n",
              "    </tr>\n",
              "    <tr>\n",
              "      <th>7</th>\n",
              "      <td>Какова главная цель использования ИИ и машинно...</td>\n",
              "      <td>63% респондентов исследования планируют исполь...</td>\n",
              "      <td>4.pdf</td>\n",
              "      <td>8</td>\n",
              "      <td>['Главная цель использования технологий — это ...</td>\n",
              "      <td>Согласно исследованию, главная цель использова...</td>\n",
              "      <td>4.pdf</td>\n",
              "      <td>8</td>\n",
              "      <td>[8 63% респондентов исследования планируют исп...</td>\n",
              "    </tr>\n",
              "    <tr>\n",
              "      <th>8</th>\n",
              "      <td>Какой процент пользователей TikTok составляет ...</td>\n",
              "      <td>Исследования показывают, что около 60% пользов...</td>\n",
              "      <td>4.pdf</td>\n",
              "      <td>16</td>\n",
              "      <td>['Около 60% пользователей TikTok — это люди в ...</td>\n",
              "      <td>Исследования показывают, что около 60% пользов...</td>\n",
              "      <td>4.pdf</td>\n",
              "      <td>16</td>\n",
              "      <td>[16\\nГ лава 2 &gt; Инфлюенс- маркетинг в сфере не...</td>\n",
              "    </tr>\n",
              "    <tr>\n",
              "      <th>9</th>\n",
              "      <td>Как изменилось количество загрузок в мобильном...</td>\n",
              "      <td>The mobile gaming market in 2023 saw a 10% dec...</td>\n",
              "      <td>69.pdf</td>\n",
              "      <td>5</td>\n",
              "      <td>['Мобильный игровой рынок в 2023 году увидел 1...</td>\n",
              "      <td>В 2023 году мобильные загрузки игр показали сл...</td>\n",
              "      <td>69.pdf</td>\n",
              "      <td>14</td>\n",
              "      <td>[The State of Gaming 2024\\nAn analysis of the ...</td>\n",
              "    </tr>\n",
              "    <tr>\n",
              "      <th>10</th>\n",
              "      <td>Каков процент загрузок мобильных игр, приходящ...</td>\n",
              "      <td>In 2023, mobile game downloads were led by Hyp...</td>\n",
              "      <td>69.pdf</td>\n",
              "      <td>14</td>\n",
              "      <td>['Гиперказуальные игры составили 37% загрузок ...</td>\n",
              "      <td>В 2023 году гиперказуальные игры составляли 37...</td>\n",
              "      <td>69.pdf</td>\n",
              "      <td>14</td>\n",
              "      <td>[Игровые сервисы\\nИсточник: Similarweb\\nИсточн...</td>\n",
              "    </tr>\n",
              "    <tr>\n",
              "      <th>11</th>\n",
              "      <td>Какой прогноз по ежегодному росту (CAGR) глоба...</td>\n",
              "      <td>Raise global music industry forecasts on stron...</td>\n",
              "      <td>42.pdf</td>\n",
              "      <td>4</td>\n",
              "      <td>['Мы обновили прогнозы глобальной музыкальной ...</td>\n",
              "      <td>Глобальный музыкальный рынок (записанная музык...</td>\n",
              "      <td>42.pdf</td>\n",
              "      <td>7</td>\n",
              "      <td>[Consumer spend in mobile apps saw a year-\\nov...</td>\n",
              "    </tr>\n",
              "    <tr>\n",
              "      <th>12</th>\n",
              "      <td>Каковы прогнозируемые темпы роста доходов музы...</td>\n",
              "      <td>We forecast global music industry revenues to ...</td>\n",
              "      <td>42.pdf</td>\n",
              "      <td>7</td>\n",
              "      <td>['Мы прогнозируем, что доходы музыковой индуст...</td>\n",
              "      <td>Прогнозируемый темп роста доходов глобальной м...</td>\n",
              "      <td>42.pdf</td>\n",
              "      <td>7</td>\n",
              "      <td>[January 2024\\nIndustry insights powered by Ne...</td>\n",
              "    </tr>\n",
              "    <tr>\n",
              "      <th>13</th>\n",
              "      <td>What trends have been observed in music stream...</td>\n",
              "      <td>Over the past 18 months, all major streaming p...</td>\n",
              "      <td>42.pdf</td>\n",
              "      <td>18</td>\n",
              "      <td>['All major streaming platforms have announced...</td>\n",
              "      <td>Over the past 18 months, major streaming platf...</td>\n",
              "      <td>42.pdf</td>\n",
              "      <td>18</td>\n",
              "      <td>[Источник: внутренние данные компании\\n13\\n• З...</td>\n",
              "    </tr>\n",
              "    <tr>\n",
              "      <th>14</th>\n",
              "      <td>Когда Deezer начал свое второе повышение цен н...</td>\n",
              "      <td>We have already seen early evidence of streami...</td>\n",
              "      <td>42.pdf</td>\n",
              "      <td>21</td>\n",
              "      <td>['Диезер начал свое второе повышение цен в сен...</td>\n",
              "      <td>Deezer начал свое второе повышение цен на инди...</td>\n",
              "      <td>42.pdf</td>\n",
              "      <td>21</td>\n",
              "      <td>[strategy ﬁrm HundredX shows that the Net Purc...</td>\n",
              "    </tr>\n",
              "    <tr>\n",
              "      <th>15</th>\n",
              "      <td>What was the total gaming consumer spend in 20...</td>\n",
              "      <td>Mobile Gaming in 2023: A Mixed Landscape of De...</td>\n",
              "      <td>23.pdf</td>\n",
              "      <td>2</td>\n",
              "      <td>['In 2023, gaming consumer spend declined by 2...</td>\n",
              "      <td>The total consumer spend on mobile games in 20...</td>\n",
              "      <td>67.pdf</td>\n",
              "      <td>22</td>\n",
              "      <td>[РАСХОДЫ НА ВИДЕОИГРЫ\\n39\\n61\\nПриходилось дел...</td>\n",
              "    </tr>\n",
              "    <tr>\n",
              "      <th>16</th>\n",
              "      <td>What was the total consumer spend in mobile ga...</td>\n",
              "      <td>Consumer Spend in Mobile Gaming Fell 2% in 202...</td>\n",
              "      <td>23.pdf</td>\n",
              "      <td>12</td>\n",
              "      <td>['Consumer spend in mobile gaming fell 2% in 2...</td>\n",
              "      <td>Consumer spending on mobile games decreased by...</td>\n",
              "      <td>67.pdf</td>\n",
              "      <td>22</td>\n",
              "      <td>[VK Знакомства — дейтинг-сервис с умными алгор...</td>\n",
              "    </tr>\n",
              "    <tr>\n",
              "      <th>17</th>\n",
              "      <td>Какой регион занимает наибольшую долю рынка мо...</td>\n",
              "      <td>United States Tops the Mobile Game Market by A...</td>\n",
              "      <td>23.pdf</td>\n",
              "      <td>15</td>\n",
              "      <td>['Asia Pacific (APAC) оставался крупнейшим рег...</td>\n",
              "      <td>Азия-Тихоокеанский регион (APAC) занимает саму...</td>\n",
              "      <td>23.pdf</td>\n",
              "      <td>15</td>\n",
              "      <td>[Top Markets by Mobile Game Consumer Spend per...</td>\n",
              "    </tr>\n",
              "    <tr>\n",
              "      <th>18</th>\n",
              "      <td>Какие дополнительные способы продвижения пробо...</td>\n",
              "      <td>По данным опроса TGStat3 , 42% рекламодателей ...</td>\n",
              "      <td>27.pdf</td>\n",
              "      <td>3</td>\n",
              "      <td>['42% рекламодателей уже пробовали дополнитель...</td>\n",
              "      <td>По данным опроса TGStat3, 42% рекламодателей у...</td>\n",
              "      <td>27.pdf</td>\n",
              "      <td>3</td>\n",
              "      <td>[В 2023 году Telegram стал одной из самых охва...</td>\n",
              "    </tr>\n",
              "    <tr>\n",
              "      <th>19</th>\n",
              "      <td>Какие изменения произошли в способах размещени...</td>\n",
              "      <td>ПРОДВИЖЕНИЕ В TELEGRAM: ТРЕНДЫ 2023 Закупка по...</td>\n",
              "      <td>27.pdf</td>\n",
              "      <td>4</td>\n",
              "      <td>['В 2023 году активно развивается оплата за пр...</td>\n",
              "      <td>В 2023 году произошли следующие изменения в сп...</td>\n",
              "      <td>24.pdf</td>\n",
              "      <td>393</td>\n",
              "      <td>[517\\n49.1%\\n53.7%\\n60.3%\\n66.1% 67.9% 70.0%\\n...</td>\n",
              "    </tr>\n",
              "    <tr>\n",
              "      <th>20</th>\n",
              "      <td>Каковы основные факторы, способствующие росту ...</td>\n",
              "      <td>Improving macro, AI &amp; SFV to drive sector grow...</td>\n",
              "      <td>33.pdf</td>\n",
              "      <td>1</td>\n",
              "      <td>['Основные факторы, способствующие росту секто...</td>\n",
              "      <td>Основные факторы, способствующие росту сектора...</td>\n",
              "      <td>33.pdf</td>\n",
              "      <td>37</td>\n",
              "      <td>[Internet/e -Commerce | 11 December 2023 37 St...</td>\n",
              "    </tr>\n",
              "    <tr>\n",
              "      <th>21</th>\n",
              "      <td>What are the top sector themes for 2024 accord...</td>\n",
              "      <td>Top sector themes for 2024 In addition to a st...</td>\n",
              "      <td>33.pdf</td>\n",
              "      <td>1</td>\n",
              "      <td>['Top 2024 themes include: Ramping SFV monetiz...</td>\n",
              "      <td>According to the document, the top sector them...</td>\n",
              "      <td>33.pdf</td>\n",
              "      <td>1</td>\n",
              "      <td>[68\\nЧасть 2: Информация и темы Упражнение: Ст...</td>\n",
              "    </tr>\n",
              "    <tr>\n",
              "      <th>22</th>\n",
              "      <td>Каков ожидаемый рост глобальной онлайн-рекламы...</td>\n",
              "      <td>Internet Media 2024 Year Ahead 2023 was a year...</td>\n",
              "      <td>33.pdf</td>\n",
              "      <td>2</td>\n",
              "      <td>['Ожидаемый рост глобальной онлайн-рекламы в 2...</td>\n",
              "      <td>Я не знаю ответа на ваш вопрос</td>\n",
              "      <td>None</td>\n",
              "      <td>None</td>\n",
              "      <td>[24 Internet/e -Commerce | 11 December 2023 Ex...</td>\n",
              "    </tr>\n",
              "    <tr>\n",
              "      <th>23</th>\n",
              "      <td>Какое ожидаемое изменение в процентном соотнош...</td>\n",
              "      <td>US Online Advertising Trends Advertising dolla...</td>\n",
              "      <td>33.pdf</td>\n",
              "      <td>5</td>\n",
              "      <td>['Ожидается, что время, проведенное на цифровы...</td>\n",
              "      <td>В 2024 году ожидается увеличение времени, пров...</td>\n",
              "      <td>33.pdf</td>\n",
              "      <td>5</td>\n",
              "      <td>[Internet/e -Commerce | 11 December 2023 5 US ...</td>\n",
              "    </tr>\n",
              "    <tr>\n",
              "      <th>24</th>\n",
              "      <td>Какые ключевые области, согласно тексту, играю...</td>\n",
              "      <td>2) Growing role of AI/ML capabilities in ad ec...</td>\n",
              "      <td>33.pdf</td>\n",
              "      <td>13</td>\n",
              "      <td>['Четыре ключевые области включают оптимизацию...</td>\n",
              "      <td>Согласно тексту, ключевые области, которые игр...</td>\n",
              "      <td>33.pdf</td>\n",
              "      <td>13</td>\n",
              "      <td>[4 Internet/e -Commerce | 11 December 2023 In ...</td>\n",
              "    </tr>\n",
              "    <tr>\n",
              "      <th>25</th>\n",
              "      <td>Какое значение короткие видео (SFV) имеют для ...</td>\n",
              "      <td>4) Big year for SFV monetization ramp In 2023 ...</td>\n",
              "      <td>33.pdf</td>\n",
              "      <td>17</td>\n",
              "      <td>['В 2023 году короткие видео (SFV) стали основ...</td>\n",
              "      <td>Короткие видео (SFV) играют важную роль в рост...</td>\n",
              "      <td>33.pdf</td>\n",
              "      <td>17</td>\n",
              "      <td>[Internet/e -Commerce | 11 December 2023 17 Th...</td>\n",
              "    </tr>\n",
              "    <tr>\n",
              "      <th>26</th>\n",
              "      <td>Как изменился рынок мобильных агентств в 2023 ...</td>\n",
              "      <td>В 2023 году диджитал рынок продолжал адаптиров...</td>\n",
              "      <td>39.pdf</td>\n",
              "      <td>2</td>\n",
              "      <td>['За прошлый год рынок мобильных агентств выро...</td>\n",
              "      <td>В 2023 году рынок мобильных агентств значитель...</td>\n",
              "      <td>39.pdf</td>\n",
              "      <td>2</td>\n",
              "      <td>[Р ейтинг мобильных аг ент с тв по выр учк е\\n...</td>\n",
              "    </tr>\n",
              "    <tr>\n",
              "      <th>27</th>\n",
              "      <td>Какой процент мобильных агентств показал рост ...</td>\n",
              "      <td>За 2023 год всего лишь треть мобильных агентст...</td>\n",
              "      <td>39.pdf</td>\n",
              "      <td>4</td>\n",
              "      <td>['Всего лишь треть мобильных агентств показали...</td>\n",
              "      <td>Только треть мобильных агентств показала рост ...</td>\n",
              "      <td>39.pdf</td>\n",
              "      <td>4</td>\n",
              "      <td>[Чис тая прибыль\\nЗа 2 0 23 г о д вс ег о лишь...</td>\n",
              "    </tr>\n",
              "    <tr>\n",
              "      <th>28</th>\n",
              "      <td>What do over 90% of marketers believe about th...</td>\n",
              "      <td>Today, social media is the go-to place for peo...</td>\n",
              "      <td>50.pdf</td>\n",
              "      <td>2</td>\n",
              "      <td>['Over 90% of marketers are confident that the...</td>\n",
              "      <td>Over 90% of marketers are confident that their...</td>\n",
              "      <td>50.pdf</td>\n",
              "      <td>2</td>\n",
              "      <td>[41\\nGlobal Social Media Trends Report\\nSocial...</td>\n",
              "    </tr>\n",
              "    <tr>\n",
              "      <th>29</th>\n",
              "      <td>What percentage of social media marketers beli...</td>\n",
              "      <td>Social search is becoming more popular than se...</td>\n",
              "      <td>50.pdf</td>\n",
              "      <td>19</td>\n",
              "      <td>['87% of social media marketers think consumer...</td>\n",
              "      <td>According to the document, 87% of social media...</td>\n",
              "      <td>50.pdf</td>\n",
              "      <td>19</td>\n",
              "      <td>[19\\nGlobal Social Media Trends Report\\nSOCIAL...</td>\n",
              "    </tr>\n",
              "    <tr>\n",
              "      <th>30</th>\n",
              "      <td>Какой инструмент стал самым быстрорастущим при...</td>\n",
              "      <td>Artificial intelligence (AI) has been a topic ...</td>\n",
              "      <td>50.pdf</td>\n",
              "      <td>35</td>\n",
              "      <td>['ChatGPT стал самым быстрорастущим приложение...</td>\n",
              "      <td>ЧатGPT стал самым быстрорастущим приложением в...</td>\n",
              "      <td>50.pdf</td>\n",
              "      <td>35</td>\n",
              "      <td>[35\\nGlobal Social Media Trends Report\\nArtifi...</td>\n",
              "    </tr>\n",
              "    <tr>\n",
              "      <th>31</th>\n",
              "      <td>What has been the impact of the Cost-of-Living...</td>\n",
              "      <td>Recently, social advertising has had a glow up...</td>\n",
              "      <td>51.pdf</td>\n",
              "      <td>7</td>\n",
              "      <td>['The Cost-of-Living crisis played a big part ...</td>\n",
              "      <td>The Cost-of-Living crisis has significantly in...</td>\n",
              "      <td>59.pdf</td>\n",
              "      <td>132</td>\n",
              "      <td>[Altay, S., Nielsen, R. K., Fletcher , R. 2023...</td>\n",
              "    </tr>\n",
              "    <tr>\n",
              "      <th>32</th>\n",
              "      <td>What percentage of brands will increase spendi...</td>\n",
              "      <td>We can all agree that influencers and creators...</td>\n",
              "      <td>51.pdf</td>\n",
              "      <td>8</td>\n",
              "      <td>['Next year, 89% of brands will increase spend...</td>\n",
              "      <td>According to the provided information, 89% of ...</td>\n",
              "      <td>51.pdf</td>\n",
              "      <td>8</td>\n",
              "      <td>[5\\nГ лава 1 &gt; Общие тенденции в инфлюенс-марк...</td>\n",
              "    </tr>\n",
              "    <tr>\n",
              "      <th>33</th>\n",
              "      <td>Какую роль играют звуковые инфлюенсеры в продв...</td>\n",
              "      <td>82% of 18–64-year-olds want a brand to have a ...</td>\n",
              "      <td>54.pdf</td>\n",
              "      <td>11</td>\n",
              "      <td>['Звуковые инфлюенсеры могут добавлять новое и...</td>\n",
              "      <td>Звуковые инфлюенсеры играют важную роль в прод...</td>\n",
              "      <td>54.pdf</td>\n",
              "      <td>10</td>\n",
              "      <td>[ИНДУСТРИАЛЬНЫЕ СТАНДАРТЫ АУДИО БРЕНДИНГ\f, 6\\n...</td>\n",
              "    </tr>\n",
              "    <tr>\n",
              "      <th>34</th>\n",
              "      <td>What significant financial milestone did stude...</td>\n",
              "      <td>AMATEUR ATHLETES ARE GOING PRO ON SOCIAL MEDIA...</td>\n",
              "      <td>54.pdf</td>\n",
              "      <td>16</td>\n",
              "      <td>['In 2022, student athletes made nearly $1.2 b...</td>\n",
              "      <td>In 2022, student athletes made nearly $1.2 bil...</td>\n",
              "      <td>54.pdf</td>\n",
              "      <td>16</td>\n",
              "      <td>[3\\nAMATEUR ATHLETES ARE GOING PRO ON SOCIAL M...</td>\n",
              "    </tr>\n",
              "    <tr>\n",
              "      <th>35</th>\n",
              "      <td>What percentage of people believe that live sh...</td>\n",
              "      <td>31% of people believe that live shopping allow...</td>\n",
              "      <td>54.pdf</td>\n",
              "      <td>20</td>\n",
              "      <td>['31% of people believe that live shopping all...</td>\n",
              "      <td>According to the provided context, 31% of peop...</td>\n",
              "      <td>54.pdf</td>\n",
              "      <td>20</td>\n",
              "      <td>[4\\nFROM SECOND SCREEN TO MAIN SCREEN\\nLIvESTR...</td>\n",
              "    </tr>\n",
              "    <tr>\n",
              "      <th>36</th>\n",
              "      <td>What significant initiative did Ogilvy launch ...</td>\n",
              "      <td>It’s been a big year for AI in influence. Earl...</td>\n",
              "      <td>54.pdf</td>\n",
              "      <td>27</td>\n",
              "      <td>['Ogilvy launched an industry-first AI Account...</td>\n",
              "      <td>Ogilvy launched an industry-first AI Accountab...</td>\n",
              "      <td>54.pdf</td>\n",
              "      <td>27</td>\n",
              "      <td>[6\\nUNL OCKING THE POTENTIAL OF AI IN INFLUENC...</td>\n",
              "    </tr>\n",
              "    <tr>\n",
              "      <th>37</th>\n",
              "      <td>What percentage of marketers plan to use AI to...</td>\n",
              "      <td>An upcoming feature even allows users to creat...</td>\n",
              "      <td>54.pdf</td>\n",
              "      <td>28</td>\n",
              "      <td>['63% of marketers plan to use AI tools in the...</td>\n",
              "      <td>According to the provided information, 63% of ...</td>\n",
              "      <td>54.pdf</td>\n",
              "      <td>28</td>\n",
              "      <td>[6\\nand innovation paves the way for a credibl...</td>\n",
              "    </tr>\n",
              "    <tr>\n",
              "      <th>38</th>\n",
              "      <td>Какое ожидаемое снижение поставок игровых порт...</td>\n",
              "      <td>Handheld game console shipments may decline th...</td>\n",
              "      <td>55.pdf</td>\n",
              "      <td>12</td>\n",
              "      <td>['Ожидается, что поставки совместных Nintendo ...</td>\n",
              "      <td>Поставки игровых портативных консолей (handhel...</td>\n",
              "      <td>55.pdf</td>\n",
              "      <td>6</td>\n",
              "      <td>[2.4. Потребности геймеров и ожидания от предл...</td>\n",
              "    </tr>\n",
              "    <tr>\n",
              "      <th>39</th>\n",
              "      <td>Какие три формата рекламы были относительно по...</td>\n",
              "      <td>Video ads remained the most common format expe...</td>\n",
              "      <td>55.pdf</td>\n",
              "      <td>21</td>\n",
              "      <td>['Три относительно популярных формата рекламы ...</td>\n",
              "      <td>Согласно опросу U.S. в Q3 2023, три относитель...</td>\n",
              "      <td>55.pdf</td>\n",
              "      <td>21</td>\n",
              "      <td>[© Sensor Tower Inc. -All Rights Reserved\\n21\\...</td>\n",
              "    </tr>\n",
              "    <tr>\n",
              "      <th>40</th>\n",
              "      <td>Какой доход собрали не первые сторонние создат...</td>\n",
              "      <td>Speaking of “native ads”… They made inroads on...</td>\n",
              "      <td>55.pdf</td>\n",
              "      <td>23</td>\n",
              "      <td>[\"Согласно'annonce Epic, не первые сторонние с...</td>\n",
              "      <td>Несколько сторонних создателей UEFN (Unreal Ed...</td>\n",
              "      <td>55.pdf</td>\n",
              "      <td>23</td>\n",
              "      <td>[49 кампании 950 тыс. рублей из них 420-480 ты...</td>\n",
              "    </tr>\n",
              "    <tr>\n",
              "      <th>41</th>\n",
              "      <td>Какое влияние имеет пользовательский контент (...</td>\n",
              "      <td>User -generated content doubles player engagem...</td>\n",
              "      <td>55.pdf</td>\n",
              "      <td>25</td>\n",
              "      <td>['Игроки, использующие игры с пользовательским...</td>\n",
              "      <td>Участие пользовательского контента (UGC) в моб...</td>\n",
              "      <td>55.pdf</td>\n",
              "      <td>25</td>\n",
              "      <td>[© Sensor Tower Inc. -All Rights Reserved\\n25\\...</td>\n",
              "    </tr>\n",
              "    <tr>\n",
              "      <th>42</th>\n",
              "      <td>Сколько времени в среднем взрослые пользовател...</td>\n",
              "      <td>Online use in the UK UK adult internet users s...</td>\n",
              "      <td>57.pdf</td>\n",
              "      <td>3</td>\n",
              "      <td>['Взрослые пользователи интернета в Великобрит...</td>\n",
              "      <td>В мае 2023 года взрослые пользователи интернет...</td>\n",
              "      <td>57.pdf</td>\n",
              "      <td>12</td>\n",
              "      <td>[12 145 children who were measured for four we...</td>\n",
              "    </tr>\n",
              "    <tr>\n",
              "      <th>43</th>\n",
              "      <td>Какой процент взрослых в Великобритании исполь...</td>\n",
              "      <td>Half of UK online adults visited Google Search...</td>\n",
              "      <td>57.pdf</td>\n",
              "      <td>4</td>\n",
              "      <td>['Полвзрослых (51%) Великобритании использовал...</td>\n",
              "      <td>В мае 2023 года половина (51%) взрослых пользо...</td>\n",
              "      <td>57.pdf</td>\n",
              "      <td>4</td>\n",
              "      <td>[4 Spotlights: online sectors Search Half of U...</td>\n",
              "    </tr>\n",
              "    <tr>\n",
              "      <th>44</th>\n",
              "      <td>Какой процент детей в возрасте от 8 до 17 лет ...</td>\n",
              "      <td>More than a fifth of children aged 8-17 have a...</td>\n",
              "      <td>57.pdf</td>\n",
              "      <td>7</td>\n",
              "      <td>['Согласно исследованиям Ofcom, 22% детей в во...</td>\n",
              "      <td>Я не знаю ответа на ваш вопрос</td>\n",
              "      <td>None</td>\n",
              "      <td>None</td>\n",
              "      <td>[ПРЕДПОЧИТАЕМЫЕ ФОРМАТЫ ВИДЕОИГР\\n68\\n27\\n5\\nЯ...</td>\n",
              "    </tr>\n",
              "    <tr>\n",
              "      <th>45</th>\n",
              "      <td>Какой процент онлайн-взрослых в Великобритании...</td>\n",
              "      <td>Over one in ten UK online adults visited a dat...</td>\n",
              "      <td>57.pdf</td>\n",
              "      <td>45</td>\n",
              "      <td>['В мае 2023 года более одного из десяти (11%)...</td>\n",
              "      <td>В мае 2023 года более одного из десяти (11%) о...</td>\n",
              "      <td>57.pdf</td>\n",
              "      <td>45</td>\n",
              "      <td>[45 Over one in ten UK online adults visited a...</td>\n",
              "    </tr>\n",
              "    <tr>\n",
              "      <th>46</th>\n",
              "      <td>Что показывает исследование Ofcom 2022 о попул...</td>\n",
              "      <td>Roblox is the top-reaching games app among onl...</td>\n",
              "      <td>57.pdf</td>\n",
              "      <td>56</td>\n",
              "      <td>['Исследование Ofcom 2022 показывает, что Robl...</td>\n",
              "      <td>Исследование Ofcom 2022 показало, что Roblox я...</td>\n",
              "      <td>57.pdf</td>\n",
              "      <td>56</td>\n",
              "      <td>[ТОП-10 НАИБОЛЕЕ ПОПУЛЯРНЫХ ВИДЕОИГР СРЕДИ ДЕТ...</td>\n",
              "    </tr>\n",
              "    <tr>\n",
              "      <th>47</th>\n",
              "      <td>What was the estimated global influencer marke...</td>\n",
              "      <td>2024 TRENDS If you have downloaded this eBook,...</td>\n",
              "      <td>61.pdf</td>\n",
              "      <td>4</td>\n",
              "      <td>['In 2023, the market was estimated at a recor...</td>\n",
              "      <td>The estimated global influencer marketing mark...</td>\n",
              "      <td>61.pdf</td>\n",
              "      <td>4</td>\n",
              "      <td>[2024 TRENDS\\nIf you have downloaded this eBoo...</td>\n",
              "    </tr>\n",
              "    <tr>\n",
              "      <th>48</th>\n",
              "      <td>Что такое Paid UGC и каковы его основные харак...</td>\n",
              "      <td>Paid UGC is a dynamic marketing assets which i...</td>\n",
              "      <td>61.pdf</td>\n",
              "      <td>5</td>\n",
              "      <td>[\"Paid UGC - это динамические маркетинговые ак...</td>\n",
              "      <td>Paid UGC (Paid User Generated Content) предста...</td>\n",
              "      <td>61.pdf</td>\n",
              "      <td>5</td>\n",
              "      <td>[#1 PAID UGC\\nPaid UGC is a dynamic marketing ...</td>\n",
              "    </tr>\n",
              "    <tr>\n",
              "      <th>49</th>\n",
              "      <td>What was the global in-app purchase revenue fr...</td>\n",
              "      <td>Annual Global In-App Purchase Revenue in Mobil...</td>\n",
              "      <td>62.pdf</td>\n",
              "      <td>5</td>\n",
              "      <td>['In 2023, global IAP revenue from mobile game...</td>\n",
              "      <td>The global in-app purchase revenue from mobile...</td>\n",
              "      <td>62.pdf</td>\n",
              "      <td>5</td>\n",
              "      <td>[© 2024 Sensor Tower Inc. - All Rights Reserve...</td>\n",
              "    </tr>\n",
              "  </tbody>\n",
              "</table>\n",
              "</div>\n",
              "    <div class=\"colab-df-buttons\">\n",
              "\n",
              "  <div class=\"colab-df-container\">\n",
              "    <button class=\"colab-df-convert\" onclick=\"convertToInteractive('df-a074a011-86de-4d2e-94ae-866f72ca840c')\"\n",
              "            title=\"Convert this dataframe to an interactive table.\"\n",
              "            style=\"display:none;\">\n",
              "\n",
              "  <svg xmlns=\"http://www.w3.org/2000/svg\" height=\"24px\" viewBox=\"0 -960 960 960\">\n",
              "    <path d=\"M120-120v-720h720v720H120Zm60-500h600v-160H180v160Zm220 220h160v-160H400v160Zm0 220h160v-160H400v160ZM180-400h160v-160H180v160Zm440 0h160v-160H620v160ZM180-180h160v-160H180v160Zm440 0h160v-160H620v160Z\"/>\n",
              "  </svg>\n",
              "    </button>\n",
              "\n",
              "  <style>\n",
              "    .colab-df-container {\n",
              "      display:flex;\n",
              "      gap: 12px;\n",
              "    }\n",
              "\n",
              "    .colab-df-convert {\n",
              "      background-color: #E8F0FE;\n",
              "      border: none;\n",
              "      border-radius: 50%;\n",
              "      cursor: pointer;\n",
              "      display: none;\n",
              "      fill: #1967D2;\n",
              "      height: 32px;\n",
              "      padding: 0 0 0 0;\n",
              "      width: 32px;\n",
              "    }\n",
              "\n",
              "    .colab-df-convert:hover {\n",
              "      background-color: #E2EBFA;\n",
              "      box-shadow: 0px 1px 2px rgba(60, 64, 67, 0.3), 0px 1px 3px 1px rgba(60, 64, 67, 0.15);\n",
              "      fill: #174EA6;\n",
              "    }\n",
              "\n",
              "    .colab-df-buttons div {\n",
              "      margin-bottom: 4px;\n",
              "    }\n",
              "\n",
              "    [theme=dark] .colab-df-convert {\n",
              "      background-color: #3B4455;\n",
              "      fill: #D2E3FC;\n",
              "    }\n",
              "\n",
              "    [theme=dark] .colab-df-convert:hover {\n",
              "      background-color: #434B5C;\n",
              "      box-shadow: 0px 1px 3px 1px rgba(0, 0, 0, 0.15);\n",
              "      filter: drop-shadow(0px 1px 2px rgba(0, 0, 0, 0.3));\n",
              "      fill: #FFFFFF;\n",
              "    }\n",
              "  </style>\n",
              "\n",
              "    <script>\n",
              "      const buttonEl =\n",
              "        document.querySelector('#df-a074a011-86de-4d2e-94ae-866f72ca840c button.colab-df-convert');\n",
              "      buttonEl.style.display =\n",
              "        google.colab.kernel.accessAllowed ? 'block' : 'none';\n",
              "\n",
              "      async function convertToInteractive(key) {\n",
              "        const element = document.querySelector('#df-a074a011-86de-4d2e-94ae-866f72ca840c');\n",
              "        const dataTable =\n",
              "          await google.colab.kernel.invokeFunction('convertToInteractive',\n",
              "                                                    [key], {});\n",
              "        if (!dataTable) return;\n",
              "\n",
              "        const docLinkHtml = 'Like what you see? Visit the ' +\n",
              "          '<a target=\"_blank\" href=https://colab.research.google.com/notebooks/data_table.ipynb>data table notebook</a>'\n",
              "          + ' to learn more about interactive tables.';\n",
              "        element.innerHTML = '';\n",
              "        dataTable['output_type'] = 'display_data';\n",
              "        await google.colab.output.renderOutput(dataTable, element);\n",
              "        const docLink = document.createElement('div');\n",
              "        docLink.innerHTML = docLinkHtml;\n",
              "        element.appendChild(docLink);\n",
              "      }\n",
              "    </script>\n",
              "  </div>\n",
              "\n",
              "\n",
              "<div id=\"df-e6fd683e-39b7-4ad8-83d3-d1a6ac65aa8e\">\n",
              "  <button class=\"colab-df-quickchart\" onclick=\"quickchart('df-e6fd683e-39b7-4ad8-83d3-d1a6ac65aa8e')\"\n",
              "            title=\"Suggest charts\"\n",
              "            style=\"display:none;\">\n",
              "\n",
              "<svg xmlns=\"http://www.w3.org/2000/svg\" height=\"24px\"viewBox=\"0 0 24 24\"\n",
              "     width=\"24px\">\n",
              "    <g>\n",
              "        <path d=\"M19 3H5c-1.1 0-2 .9-2 2v14c0 1.1.9 2 2 2h14c1.1 0 2-.9 2-2V5c0-1.1-.9-2-2-2zM9 17H7v-7h2v7zm4 0h-2V7h2v10zm4 0h-2v-4h2v4z\"/>\n",
              "    </g>\n",
              "</svg>\n",
              "  </button>\n",
              "\n",
              "<style>\n",
              "  .colab-df-quickchart {\n",
              "      --bg-color: #E8F0FE;\n",
              "      --fill-color: #1967D2;\n",
              "      --hover-bg-color: #E2EBFA;\n",
              "      --hover-fill-color: #174EA6;\n",
              "      --disabled-fill-color: #AAA;\n",
              "      --disabled-bg-color: #DDD;\n",
              "  }\n",
              "\n",
              "  [theme=dark] .colab-df-quickchart {\n",
              "      --bg-color: #3B4455;\n",
              "      --fill-color: #D2E3FC;\n",
              "      --hover-bg-color: #434B5C;\n",
              "      --hover-fill-color: #FFFFFF;\n",
              "      --disabled-bg-color: #3B4455;\n",
              "      --disabled-fill-color: #666;\n",
              "  }\n",
              "\n",
              "  .colab-df-quickchart {\n",
              "    background-color: var(--bg-color);\n",
              "    border: none;\n",
              "    border-radius: 50%;\n",
              "    cursor: pointer;\n",
              "    display: none;\n",
              "    fill: var(--fill-color);\n",
              "    height: 32px;\n",
              "    padding: 0;\n",
              "    width: 32px;\n",
              "  }\n",
              "\n",
              "  .colab-df-quickchart:hover {\n",
              "    background-color: var(--hover-bg-color);\n",
              "    box-shadow: 0 1px 2px rgba(60, 64, 67, 0.3), 0 1px 3px 1px rgba(60, 64, 67, 0.15);\n",
              "    fill: var(--button-hover-fill-color);\n",
              "  }\n",
              "\n",
              "  .colab-df-quickchart-complete:disabled,\n",
              "  .colab-df-quickchart-complete:disabled:hover {\n",
              "    background-color: var(--disabled-bg-color);\n",
              "    fill: var(--disabled-fill-color);\n",
              "    box-shadow: none;\n",
              "  }\n",
              "\n",
              "  .colab-df-spinner {\n",
              "    border: 2px solid var(--fill-color);\n",
              "    border-color: transparent;\n",
              "    border-bottom-color: var(--fill-color);\n",
              "    animation:\n",
              "      spin 1s steps(1) infinite;\n",
              "  }\n",
              "\n",
              "  @keyframes spin {\n",
              "    0% {\n",
              "      border-color: transparent;\n",
              "      border-bottom-color: var(--fill-color);\n",
              "      border-left-color: var(--fill-color);\n",
              "    }\n",
              "    20% {\n",
              "      border-color: transparent;\n",
              "      border-left-color: var(--fill-color);\n",
              "      border-top-color: var(--fill-color);\n",
              "    }\n",
              "    30% {\n",
              "      border-color: transparent;\n",
              "      border-left-color: var(--fill-color);\n",
              "      border-top-color: var(--fill-color);\n",
              "      border-right-color: var(--fill-color);\n",
              "    }\n",
              "    40% {\n",
              "      border-color: transparent;\n",
              "      border-right-color: var(--fill-color);\n",
              "      border-top-color: var(--fill-color);\n",
              "    }\n",
              "    60% {\n",
              "      border-color: transparent;\n",
              "      border-right-color: var(--fill-color);\n",
              "    }\n",
              "    80% {\n",
              "      border-color: transparent;\n",
              "      border-right-color: var(--fill-color);\n",
              "      border-bottom-color: var(--fill-color);\n",
              "    }\n",
              "    90% {\n",
              "      border-color: transparent;\n",
              "      border-bottom-color: var(--fill-color);\n",
              "    }\n",
              "  }\n",
              "</style>\n",
              "\n",
              "  <script>\n",
              "    async function quickchart(key) {\n",
              "      const quickchartButtonEl =\n",
              "        document.querySelector('#' + key + ' button');\n",
              "      quickchartButtonEl.disabled = true;  // To prevent multiple clicks.\n",
              "      quickchartButtonEl.classList.add('colab-df-spinner');\n",
              "      try {\n",
              "        const charts = await google.colab.kernel.invokeFunction(\n",
              "            'suggestCharts', [key], {});\n",
              "      } catch (error) {\n",
              "        console.error('Error during call to suggestCharts:', error);\n",
              "      }\n",
              "      quickchartButtonEl.classList.remove('colab-df-spinner');\n",
              "      quickchartButtonEl.classList.add('colab-df-quickchart-complete');\n",
              "    }\n",
              "    (() => {\n",
              "      let quickchartButtonEl =\n",
              "        document.querySelector('#df-e6fd683e-39b7-4ad8-83d3-d1a6ac65aa8e button');\n",
              "      quickchartButtonEl.style.display =\n",
              "        google.colab.kernel.accessAllowed ? 'block' : 'none';\n",
              "    })();\n",
              "  </script>\n",
              "</div>\n",
              "\n",
              "  <div id=\"id_8aab86dc-3c0d-46fa-9e1d-8604d5206bc6\">\n",
              "    <style>\n",
              "      .colab-df-generate {\n",
              "        background-color: #E8F0FE;\n",
              "        border: none;\n",
              "        border-radius: 50%;\n",
              "        cursor: pointer;\n",
              "        display: none;\n",
              "        fill: #1967D2;\n",
              "        height: 32px;\n",
              "        padding: 0 0 0 0;\n",
              "        width: 32px;\n",
              "      }\n",
              "\n",
              "      .colab-df-generate:hover {\n",
              "        background-color: #E2EBFA;\n",
              "        box-shadow: 0px 1px 2px rgba(60, 64, 67, 0.3), 0px 1px 3px 1px rgba(60, 64, 67, 0.15);\n",
              "        fill: #174EA6;\n",
              "      }\n",
              "\n",
              "      [theme=dark] .colab-df-generate {\n",
              "        background-color: #3B4455;\n",
              "        fill: #D2E3FC;\n",
              "      }\n",
              "\n",
              "      [theme=dark] .colab-df-generate:hover {\n",
              "        background-color: #434B5C;\n",
              "        box-shadow: 0px 1px 3px 1px rgba(0, 0, 0, 0.15);\n",
              "        filter: drop-shadow(0px 1px 2px rgba(0, 0, 0, 0.3));\n",
              "        fill: #FFFFFF;\n",
              "      }\n",
              "    </style>\n",
              "    <button class=\"colab-df-generate\" onclick=\"generateWithVariable('updated_df')\"\n",
              "            title=\"Generate code using this dataframe.\"\n",
              "            style=\"display:none;\">\n",
              "\n",
              "  <svg xmlns=\"http://www.w3.org/2000/svg\" height=\"24px\"viewBox=\"0 0 24 24\"\n",
              "       width=\"24px\">\n",
              "    <path d=\"M7,19H8.4L18.45,9,17,7.55,7,17.6ZM5,21V16.75L18.45,3.32a2,2,0,0,1,2.83,0l1.4,1.43a1.91,1.91,0,0,1,.58,1.4,1.91,1.91,0,0,1-.58,1.4L9.25,21ZM18.45,9,17,7.55Zm-12,3A5.31,5.31,0,0,0,4.9,8.1,5.31,5.31,0,0,0,1,6.5,5.31,5.31,0,0,0,4.9,4.9,5.31,5.31,0,0,0,6.5,1,5.31,5.31,0,0,0,8.1,4.9,5.31,5.31,0,0,0,12,6.5,5.46,5.46,0,0,0,6.5,12Z\"/>\n",
              "  </svg>\n",
              "    </button>\n",
              "    <script>\n",
              "      (() => {\n",
              "      const buttonEl =\n",
              "        document.querySelector('#id_8aab86dc-3c0d-46fa-9e1d-8604d5206bc6 button.colab-df-generate');\n",
              "      buttonEl.style.display =\n",
              "        google.colab.kernel.accessAllowed ? 'block' : 'none';\n",
              "\n",
              "      buttonEl.onclick = () => {\n",
              "        google.colab.notebook.generateWithVariable('updated_df');\n",
              "      }\n",
              "      })();\n",
              "    </script>\n",
              "  </div>\n",
              "\n",
              "    </div>\n",
              "  </div>\n"
            ],
            "application/vnd.google.colaboratory.intrinsic+json": {
              "type": "dataframe",
              "variable_name": "updated_df",
              "summary": "{\n  \"name\": \"updated_df\",\n  \"rows\": 50,\n  \"fields\": [\n    {\n      \"column\": \"questions\",\n      \"properties\": {\n        \"dtype\": \"string\",\n        \"num_unique_values\": 50,\n        \"samples\": [\n          \"What trends have been observed in music streaming subscription prices and subscriber growth over the past 18 months?\",\n          \"\\u041a\\u0430\\u043a\\u0438\\u0435 \\u0442\\u0440\\u0438 \\u0444\\u043e\\u0440\\u043c\\u0430\\u0442\\u0430 \\u0440\\u0435\\u043a\\u043b\\u0430\\u043c\\u044b \\u0431\\u044b\\u043b\\u0438 \\u043e\\u0442\\u043d\\u043e\\u0441\\u0438\\u0442\\u0435\\u043b\\u044c\\u043d\\u043e \\u043f\\u043e\\u043f\\u0443\\u043b\\u044f\\u0440\\u043d\\u044b\\u043c\\u0438 \\u0441\\u043e\\u0433\\u043b\\u0430\\u0441\\u043d\\u043e \\u043e\\u043f\\u0440\\u043e\\u0441\\u0443 U.S. \\u0432 Q3 2023?\",\n          \"\\u041a\\u0430\\u043a\\u043e\\u0439 \\u0438\\u043d\\u0441\\u0442\\u0440\\u0443\\u043c\\u0435\\u043d\\u0442 \\u0441\\u0442\\u0430\\u043b \\u0441\\u0430\\u043c\\u044b\\u043c \\u0431\\u044b\\u0441\\u0442\\u0440\\u043e\\u0440\\u0430\\u0441\\u0442\\u0443\\u0449\\u0438\\u043c \\u043f\\u0440\\u0438\\u043b\\u043e\\u0436\\u0435\\u043d\\u0438\\u0435\\u043c \\u0432\\u0441\\u0435\\u0445 \\u0432\\u0440\\u0435\\u043c\\u0435\\u043d \\u0432 2022 \\u0433\\u043e\\u0434\\u0443?\"\n        ],\n        \"semantic_type\": \"\",\n        \"description\": \"\"\n      }\n    },\n    {\n      \"column\": \"ground_truth_documents\",\n      \"properties\": {\n        \"dtype\": \"string\",\n        \"num_unique_values\": 50,\n        \"samples\": [\n          \"Over the past 18 months, all major streaming platforms have announced their first ever comprehensive price increases across standard and family plans following a decade of stagnant prices. These price increases appear to have had little or no impact on subscriber growth and churn rates despite a context of elevated inflation and consumer spending pressure, which in our view constitutes clear evidence that music streaming subscriptions remain a compelling value proposition for consumers. Indeed, the number of audio streams continued to rise in 2023 (+23% yoy globally) whilst the implied ARPU per stream declined further (-10% yoy globally). We believe that the industry can sustain improved pricing in the future, either through a recurring cadence of headline price increases or more tactical, product-led price increases, as well as developing innovative DTC offerings that can cater to superfans. As premium plan pricing continues to improve, we believe that the audio ad-supported streaming offering will also need to evolve to improve the monetisation of ad-supported users (for instance through higher ad loads and CPMs, or through introducing an advertising light tier for a small charge) and/ or support higher conversion rates towards the premium plan (through placing greater content or feature restrictions on the freemium service), which we address in the later section: Ad-supported streaming market maturing; lower monetisation upside from emerging platforms.\",\n          \"Video ads remained the most common format experienced, native ads were lowest Q3 2023 N=3,580 Sources: IDC\\u2019s Q3 2019 \\u2013 Q3 2023 US Gamer Surveys. Unity data leveraged Unity Levelplay and Unity Analytics data (data analyzed >200 games using Unity Ads, IAP, and analytics solutions). U.S. mobile gamer net sentiment towards five Ad formats, Q3 2023, and 3Q 2019 to Q3 2023 Averages \\u2022 According to the same U.S. survey, the three relatively popular ad formats were the least commonly used. We recommend leaning into these three formats. \\u2022 IDC didn\\u2019t ask about native ads prior to 3Q 2023, so that format is missing in the righthand set of columns. \\u2022 The \\u201c2024 Unity Gaming Report,\\u201d which was released in March, found that worldwide IAA ARPDAU rose from $0.03 in 2022 to $0.038 in 2023 and worldwide IAP ARPDAU slid from $0.018 to $0.015. These results varied significantly by genre, however: the yearover-year shift toward IAA was far more pronounced in the Simulation, Puzzle, and \\u201cOther casual\\u201d genres, for example, than in the Shooter, RPG, and Hypercasual genres. \\u2022 We suspect more studios leaned into the IAA business model in 2024 and that their success was partly a function of how well they aligned genre, formats, placements, and creatives.\",\n          \"Artificial intelligence (AI) has been a topic of conversation for several years, and now it\\u2019s more popular than ever before, especially for marketing teams. And in 2022, AI became more accessible to the masses. ChatGPT, Dall-E, and other tools like Canva\\u2019s Magic Write quickly joined the marketing toolkit, and ChatGPT became the fastestgrowing app of all time when it reached 100M users only two months after launching. Proficiency with AI tools has already become a job requirement \\u2014 the share of AI jobs has grown by almost 50% since 2018. Brandwatch consumer research found that the most popular recent conversations surrounding AI and marketing on social media are about AI-powered image generators, like Stable Diffusion and Dall-E 2, and AI-powered content writing tools like ChatGPT. People are also anxious for more free AI-powered products, and learning exactly which prompts yield the best results from AI tools.\"\n        ],\n        \"semantic_type\": \"\",\n        \"description\": \"\"\n      }\n    },\n    {\n      \"column\": \"filename\",\n      \"properties\": {\n        \"dtype\": \"category\",\n        \"num_unique_values\": 16,\n        \"samples\": [\n          \"1.pdf\",\n          \"3.pdf\",\n          \"23.pdf\"\n        ],\n        \"semantic_type\": \"\",\n        \"description\": \"\"\n      }\n    },\n    {\n      \"column\": \"slide_number\",\n      \"properties\": {\n        \"dtype\": \"number\",\n        \"std\": 11,\n        \"min\": 1,\n        \"max\": 56,\n        \"num_unique_values\": 25,\n        \"samples\": [\n          18,\n          19,\n          2\n        ],\n        \"semantic_type\": \"\",\n        \"description\": \"\"\n      }\n    },\n    {\n      \"column\": \"ground_truth\",\n      \"properties\": {\n        \"dtype\": \"string\",\n        \"num_unique_values\": 50,\n        \"samples\": [\n          \"['All major streaming platforms have announced their first ever comprehensive price increases across standard and family plans, but these price increases appear to have had little or no impact on subscriber growth and churn rates.']\",\n          \"['\\u0422\\u0440\\u0438 \\u043e\\u0442\\u043d\\u043e\\u0441\\u0438\\u0442\\u0435\\u043b\\u044c\\u043d\\u043e \\u043f\\u043e\\u043f\\u0443\\u043b\\u044f\\u0440\\u043d\\u044b\\u0445 \\u0444\\u043e\\u0440\\u043c\\u0430\\u0442\\u0430 \\u0440\\u0435\\u043a\\u043b\\u0430\\u043c\\u044b \\u0431\\u044b\\u043b\\u0438 \\u043d\\u0430\\u0438\\u043c\\u0435\\u043d\\u0435\\u0435 \\u0438\\u0441\\u043f\\u043e\\u043b\\u044c\\u0437\\u043e\\u0432\\u0430\\u043d\\u044b.']\",\n          \"['ChatGPT \\u0441\\u0442\\u0430\\u043b \\u0441\\u0430\\u043c\\u044b\\u043c \\u0431\\u044b\\u0441\\u0442\\u0440\\u043e\\u0440\\u0430\\u0441\\u0442\\u0443\\u0449\\u0438\\u043c \\u043f\\u0440\\u0438\\u043b\\u043e\\u0436\\u0435\\u043d\\u0438\\u0435\\u043c \\u0432\\u0441\\u0435\\u0445 \\u0432\\u0440\\u0435\\u043c\\u0435\\u043d, \\u043a\\u043e\\u0433\\u0434\\u0430 \\u0434\\u043e\\u0441\\u0442\\u0438\\u0433 100 \\u043c\\u0438\\u043b\\u043b\\u0438\\u043e\\u043d\\u043e\\u0432 \\u043f\\u043e\\u043b\\u044c\\u0437\\u043e\\u0432\\u0430\\u0442\\u0435\\u043b\\u0435\\u0439 \\u0432\\u0441\\u0435\\u0433\\u043e \\u0447\\u0435\\u0440\\u0435\\u0437 \\u0434\\u0432\\u0430 \\u043c\\u0435\\u0441\\u044f\\u0446\\u0430 \\u043f\\u043e\\u0441\\u043b\\u0435 \\u0437\\u0430\\u043f\\u0443\\u0441\\u043a\\u0430.']\"\n        ],\n        \"semantic_type\": \"\",\n        \"description\": \"\"\n      }\n    },\n    {\n      \"column\": \"responses\",\n      \"properties\": {\n        \"dtype\": \"string\",\n        \"num_unique_values\": 48,\n        \"samples\": [\n          \"Over 90% of marketers are confident that their social media marketing activities in 2023 will bring in a positive return on investment (ROI).\",\n          \"\\u0423\\u0447\\u0430\\u0441\\u0442\\u0438\\u0435 \\u043f\\u043e\\u043b\\u044c\\u0437\\u043e\\u0432\\u0430\\u0442\\u0435\\u043b\\u044c\\u0441\\u043a\\u043e\\u0433\\u043e \\u043a\\u043e\\u043d\\u0442\\u0435\\u043d\\u0442\\u0430 (UGC) \\u0432 \\u043c\\u043e\\u0431\\u0438\\u043b\\u044c\\u043d\\u044b\\u0445 \\u0438\\u0433\\u0440\\u0430\\u0445 \\u0437\\u043d\\u0430\\u0447\\u0438\\u0442\\u0435\\u043b\\u044c\\u043d\\u043e \\u043f\\u043e\\u0432\\u044b\\u0448\\u0430\\u0435\\u0442 \\u0432\\u043e\\u0432\\u043b\\u0435\\u0447\\u0435\\u043d\\u043d\\u043e\\u0441\\u0442\\u044c \\u0438\\u0433\\u0440\\u043e\\u043a\\u043e\\u0432. \\u0418\\u0441\\u0441\\u043b\\u0435\\u0434\\u043e\\u0432\\u0430\\u043d\\u0438\\u0435 \\u043f\\u043e\\u043a\\u0430\\u0437\\u0430\\u043b\\u043e, \\u0447\\u0442\\u043e \\u043f\\u043e\\u043b\\u044c\\u0437\\u043e\\u0432\\u0430\\u0442\\u0435\\u043b\\u0438 \\u0438\\u0433\\u0440 \\u0441 \\u043f\\u043e\\u0434\\u0434\\u0435\\u0440\\u0436\\u043a\\u043e\\u0439 UGC \\u0442\\u0440\\u0430\\u0442\\u044f\\u0442 \\u0432 \\u0441\\u0440\\u0435\\u0434\\u043d\\u0435\\u043c \\u043e\\u043a\\u043e\\u043b\\u043e 50 \\u043c\\u0438\\u043d\\u0443\\u0442 \\u0432 \\u0434\\u0435\\u043d\\u044c \\u043d\\u0430 \\u0438\\u0433\\u0440\\u044b, \\u0432 \\u0442\\u043e \\u0432\\u0440\\u0435\\u043c\\u044f \\u043a\\u0430\\u043a \\u043f\\u043e\\u043b\\u044c\\u0437\\u043e\\u0432\\u0430\\u0442\\u0435\\u043b\\u0438 \\u0438\\u0433\\u0440 \\u0431\\u0435\\u0437 UGC \\u0442\\u0440\\u0430\\u0442\\u044f\\u0442 \\u0442\\u043e\\u043b\\u044c\\u043a\\u043e 24 \\u043c\\u0438\\u043d\\u0443\\u0442\\u044b \\u0432 \\u0434\\u0435\\u043d\\u044c. \\u042d\\u0442\\u043e \\u043e\\u0437\\u043d\\u0430\\u0447\\u0430\\u0435\\u0442, \\u0447\\u0442\\u043e \\u0438\\u0433\\u0440\\u043e\\u043a\\u0438, \\u0443\\u0447\\u0430\\u0441\\u0442\\u0432\\u0443\\u044e\\u0449\\u0438\\u0435 \\u0432 \\u0441\\u043e\\u0437\\u0434\\u0430\\u043d\\u0438\\u0438 UGC, \\u043f\\u0440\\u043e\\u0432\\u043e\\u0434\\u044f\\u0442 \\u043f\\u0440\\u0438\\u043c\\u0435\\u0440\\u043d\\u043e \\u0432 \\u0434\\u0432\\u0430 \\u0440\\u0430\\u0437\\u0430 \\u0431\\u043e\\u043b\\u044c\\u0448\\u0435 \\u0432\\u0440\\u0435\\u043c\\u0435\\u043d\\u0438 \\u043d\\u0430 \\u0438\\u0433\\u0440\\u0430\\u0445 \\u043f\\u043e \\u0441\\u0440\\u0430\\u0432\\u043d\\u0435\\u043d\\u0438\\u044e \\u0441 \\u0438\\u0433\\u0440\\u043e\\u043a\\u0430\\u043c\\u0438, \\u043d\\u0435 \\u0438\\u0441\\u043f\\u043e\\u043b\\u044c\\u0437\\u0443\\u044e\\u0449\\u0438\\u043c\\u0438 UGC. \\u042d\\u0442\\u0438 \\u0440\\u0435\\u0437\\u0443\\u043b\\u044c\\u0442\\u0430\\u0442\\u044b \\u043f\\u043e\\u0434\\u0447\\u0435\\u0440\\u043a\\u0438\\u0432\\u0430\\u044e\\u0442 \\u0437\\u043d\\u0430\\u0447\\u0438\\u043c\\u0443\\u044e \\u0440\\u043e\\u043b\\u044c UGC \\u0432 \\u0443\\u043b\\u0443\\u0447\\u0448\\u0435\\u043d\\u0438\\u0438 \\u0432\\u043e\\u0432\\u043b\\u0435\\u0447\\u0435\\u043d\\u043d\\u043e\\u0441\\u0442\\u0438 \\u0438\\u0433\\u0440\\u043e\\u043a\\u043e\\u0432 \\u0438 \\u043f\\u0440\\u043e\\u0434\\u043b\\u0435\\u043d\\u0438\\u0438 \\u0438\\u0433\\u0440\\u043e\\u0432\\u044b\\u0445 \\u0441\\u0435\\u0441\\u0441\\u0438\\u0439.\",\n          \"\\u0422\\u043e\\u043b\\u044c\\u043a\\u043e \\u0442\\u0440\\u0435\\u0442\\u044c \\u043c\\u043e\\u0431\\u0438\\u043b\\u044c\\u043d\\u044b\\u0445 \\u0430\\u0433\\u0435\\u043d\\u0442\\u0441\\u0442\\u0432 \\u043f\\u043e\\u043a\\u0430\\u0437\\u0430\\u043b\\u0430 \\u0440\\u043e\\u0441\\u0442 \\u043f\\u043e \\u0447\\u0438\\u0441\\u0442\\u043e\\u0439 \\u043f\\u0440\\u0438\\u0431\\u044b\\u043b\\u0438 \\u0432 2023 \\u0433\\u043e\\u0434\\u0443.\"\n        ],\n        \"semantic_type\": \"\",\n        \"description\": \"\"\n      }\n    },\n    {\n      \"column\": \"r_filename\",\n      \"properties\": {\n        \"dtype\": \"category\",\n        \"num_unique_values\": 19,\n        \"samples\": [\n          \"1.pdf\",\n          \"67.pdf\",\n          \"50.pdf\"\n        ],\n        \"semantic_type\": \"\",\n        \"description\": \"\"\n      }\n    },\n    {\n      \"column\": \"r_slide_number\",\n      \"properties\": {\n        \"dtype\": \"string\",\n        \"num_unique_values\": 30,\n        \"samples\": [\n          \"12\",\n          \"13\",\n          \"27\"\n        ],\n        \"semantic_type\": \"\",\n        \"description\": \"\"\n      }\n    },\n    {\n      \"column\": \"contexts\",\n      \"properties\": {\n        \"dtype\": \"object\",\n        \"semantic_type\": \"\",\n        \"description\": \"\"\n      }\n    }\n  ]\n}"
            }
          },
          "metadata": {},
          "execution_count": 226
        }
      ]
    },
    {
      "cell_type": "markdown",
      "source": [
        "### Поллинг"
      ],
      "metadata": {
        "id": "K-dUcvjcvZpr"
      }
    },
    {
      "cell_type": "code",
      "source": [
        "# API CONFIG\n",
        "API_CONFIG_PATH = os.getenv(\"API_CONFIG_PATH\")\n",
        "with open(API_CONFIG_PATH, \"r\", encoding='utf-8') as config_file:\n",
        "  api_config = yaml.safe_load(config_file)\n",
        "\n",
        "# Извлечение URL и эндпоинтов из конфигурации\n",
        "BASE_URL = api_config[\"api\"][\"base_url\"]\n",
        "POLL_ENDPOINT = f\"{BASE_URL}{api_config['api']['endpoints']['poll']}\"\n",
        "COMPLETE_ENDPOINT = f\"{BASE_URL}{api_config['api']['endpoints']['complete']}\""
      ],
      "metadata": {
        "id": "h3JHb91gU3dc"
      },
      "execution_count": null,
      "outputs": []
    },
    {
      "cell_type": "code",
      "source": [
        "# Функция для опроса POLL_ENDPOINT\n",
        "def poll():\n",
        "    response = requests.get(POLL_ENDPOINT)\n",
        "    response.raise_for_status()  # Проверка на успешный статус ответа\n",
        "    return response.json()  # Возвращает JSON-ответ от сервера\n",
        "\n",
        "# Функция для отправки результата на COMPLETE_ENDPOINT\n",
        "def complete(request_id, message = \"\", sources = [], suggestions = []):\n",
        "    complete_response = requests.post(\n",
        "        COMPLETE_ENDPOINT,\n",
        "        json={\n",
        "            \"requestId\": request_id,\n",
        "            \"message\": message,\n",
        "            \"sources\": sources,\n",
        "            \"suggestions\": suggestions,\n",
        "\n",
        "        }\n",
        "    )\n",
        "    complete_response.raise_for_status()  # Проверка на успешный статус ответа\n",
        "    return complete_response.json()\n",
        "\n",
        "# Заглушка для функции check_s3_poll\n",
        "def check_s3_poll():\n",
        "    # Эта функция будет добавлена в будущем\n",
        "    print(\"Проверка S3... (заглушка)\")\n",
        "    time.sleep(1)  # Задержка для эмуляции работы функции\n",
        "\n",
        "# Основная функция для обработки генерации ответа\n",
        "def generator_poll():\n",
        "    # Опрос POLL_ENDPOINT\n",
        "    response_data = poll()\n",
        "\n",
        "    # Извлечение необходимых данных из ответа\n",
        "    request_id = response_data.get(\"requestId\")\n",
        "    question = response_data.get(\"query\")\n",
        "\n",
        "    # Если получены необходимые данные\n",
        "    if request_id:\n",
        "        if not question:  # Если question пустой (пустая строка)\n",
        "            conversational = response_data.get(\"history\", [])\n",
        "            related_questions = generate_related_questions(conversational)\n",
        "            complete(\n",
        "                request_id=request_id,\n",
        "                suggestions = related_questions,\n",
        "            )\n",
        "        else:\n",
        "          categories = response_data.get(\"categories\", None)\n",
        "          space = response_data.get(\"space\", None)\n",
        "          filename = response_data.get(\"filename\", None)\n",
        "          input_data = {\n",
        "              \"question\": question,\n",
        "              \"categories\": categories, #\n",
        "              \"space\": space, #\n",
        "              \"filename\": filename, #\n",
        "          }\n",
        "          model_response = get_chat_response_json(input_data)\n",
        "\n",
        "          complete(\n",
        "              message = model_response.get(\"message\", \"\"),\n",
        "              request_id=request_id,\n",
        "              sources = model_response.get(\"sources\", []),\n",
        "          )\n",
        "\n",
        "\n",
        "# Бесконечный цикл для выполнения generator_poll и check_s3_poll\n",
        "while True:\n",
        "    try:\n",
        "        # Выполнение generator_poll\n",
        "        generator_poll()\n",
        "\n",
        "        # Выполнение check_s3_poll\n",
        "        check_s3_poll()\n",
        "\n",
        "        # Задержка перед следующей итерацией\n",
        "        time.sleep(5)\n",
        "\n",
        "    except Exception as e:\n",
        "        print(f\"Ошибка при опросе: {e}\")\n",
        "        user_input = input(\"Нажмите любую клавишу, чтобы продолжить, или введите 'q' для выхода: \")\n",
        "\n",
        "        # Если введено 'q', выходим из цикла\n",
        "        if user_input.lower() == 'q':\n",
        "            print(\"Завершение работы.\")\n",
        "            break  # Выход из бесконечного цикла"
      ],
      "metadata": {
        "colab": {
          "base_uri": "https://localhost:8080/"
        },
        "id": "7fQomDP5vbmO",
        "outputId": "6a2c7707-836e-437e-c29c-959000f3dd8d"
      },
      "execution_count": null,
      "outputs": [
        {
          "name": "stdout",
          "output_type": "stream",
          "text": [
            "Ошибка при опросе: 404 Client Error: Not Found for url: http://158.160.68.33:3001/api/search/poll\n",
            "Нажмите любую клавишу, чтобы продолжить, или введите 'q' для выхода: \n",
            "Ошибка при опросе: 404 Client Error: Not Found for url: http://158.160.68.33:3001/api/search/poll\n",
            "Нажмите любую клавишу, чтобы продолжить, или введите 'q' для выхода: \n",
            "Ошибка при опросе: 404 Client Error: Not Found for url: http://158.160.68.33:3001/api/search/poll\n",
            "Нажмите любую клавишу, чтобы продолжить, или введите 'q' для выхода: \n",
            "Ошибка при опросе: 404 Client Error: Not Found for url: http://158.160.68.33:3001/api/search/poll\n",
            "Нажмите любую клавишу, чтобы продолжить, или введите 'q' для выхода: \n"
          ]
        },
        {
          "output_type": "stream",
          "name": "stderr",
          "text": [
            "Batches: 100%|██████████| 1/1 [00:00<00:00, 47.47it/s]\n"
          ]
        },
        {
          "output_type": "stream",
          "name": "stdout",
          "text": [
            "Проверка S3... (заглушка)\n",
            "Ошибка при опросе: 404 Client Error: Not Found for url: http://158.160.68.33:3001/api/search/poll\n",
            "Нажмите любую клавишу, чтобы продолжить, или введите 'q' для выхода: q\n",
            "Завершение работы.\n"
          ]
        }
      ]
    }
  ],
  "metadata": {
    "accelerator": "GPU",
    "colab": {
      "gpuType": "A100",
      "machine_shape": "hm",
      "provenance": [],
      "toc_visible": true
    },
    "kernelspec": {
      "display_name": "Python 3",
      "name": "python3"
    },
    "language_info": {
      "name": "python",
      "version": "3.9.6"
    },
    "vscode": {
      "interpreter": {
        "hash": "31f2aee4e71d21fbe5cf8b01ff0e069b9275f58929596ceb00d14d90e3e16cd6"
      }
    }
  },
  "nbformat": 4,
  "nbformat_minor": 0
}